{
  "nbformat": 4,
  "nbformat_minor": 0,
  "metadata": {
    "colab": {
      "name": "ZOMATO RESTAURANT CLUSTERING AND SENTIMENT ANALYSIS.ipynb",
      "provenance": [],
      "collapsed_sections": [],
      "include_colab_link": true
    },
    "kernelspec": {
      "name": "python3",
      "display_name": "Python 3"
    },
    "language_info": {
      "name": "python"
    }
  },
  "cells": [
    {
      "cell_type": "markdown",
      "metadata": {
        "id": "view-in-github",
        "colab_type": "text"
      },
      "source": [
        "<a href=\"https://colab.research.google.com/github/Nandeesh-U/ZOMATO-RESTAURANT-CLUSTERING-AND-SENTIMENT-ANALYSIS/blob/main/ZOMATO_RESTAURANT_CLUSTERING_AND_SENTIMENT_ANALYSIS.ipynb\" target=\"_parent\"><img src=\"https://colab.research.google.com/assets/colab-badge.svg\" alt=\"Open In Colab\"/></a>"
      ]
    },
    {
      "cell_type": "markdown",
      "metadata": {
        "id": "LGcl5Bv9ed6u"
      },
      "source": [
        "# **Problem Statement**"
      ]
    },
    {
      "cell_type": "markdown",
      "metadata": {
        "id": "Dtb2te3Omis9"
      },
      "source": [
        "Zomato is an Indian restaurant aggregator and food delivery start-up founded by Deepinder Goyal and Pankaj Chaddah in 2008. Zomato provides information, menus and user-reviews of restaurants, and also has food delivery options from partner restaurants in select cities.\n",
        "\n",
        "India is quite famous for its diverse multi cuisine available in a large number of restaurants and hotel resorts, which is reminiscent of unity in diversity. Restaurant business in India is always evolving. More Indians are warming up to the idea of eating restaurant food whether by dining outside or getting food delivered. The growing number of restaurants in every state of India has been a motivation to inspect the data to get some insights, interesting facts and figures about the Indian food industry in each city. So, this project focuses on analysing the Zomato restaurant data for each city in India.\n",
        "\n",
        "The project focuses on three broad objectives:\n",
        "* Analyze the sentiments of the reviews given by the customers in the data and make some useful conclusions in the form of Visualizations.\n",
        "\n",
        "* **For the Company:** Cluster the zomato restaurants into different segments. Use the clustering to solve some business cases for the company to grow up and work on the fields they are currently lagging in.\n",
        "\n",
        "* **For the customer:** The Analysis should solve some of the business cases that can directly help the customers finding the best restaurant in their locality. - Provide a methodology to find the best restaurants in Gachibowli(may be in various clusters given by the clustering analysis). You may use cuisine and costing info in cost vs. benefit analysis.\n",
        "Also the metadata of reviewers can be used for identifying the critics in the industry."
      ]
    },
    {
      "cell_type": "markdown",
      "metadata": {
        "id": "AzGDqdC4fZ-b"
      },
      "source": [
        "# **Attribute Information**\n",
        "\n",
        "There are two datasets available for us.\n",
        "1. Zomato Restaurant names and metadata\n",
        "2. Zomato Restaurant reviews"
      ]
    },
    {
      "cell_type": "markdown",
      "metadata": {
        "id": "1rDsYX7KtvFb"
      },
      "source": [
        "## **Zomato Restaurant names and Metadata**\n",
        "\n",
        "1. Name : Name of Restaurants\n",
        "\n",
        "2. Links : URL Links of Restaurants\n",
        "\n",
        "3. Cost : Per person estimated Cost of dining\n",
        "\n",
        "4. Collection : Tagging of Restaurants w.r.t. Zomato categories\n",
        "\n",
        "5. Cuisines : Cuisines served by Restaurants\n",
        "\n",
        "6. Timings : Restaurant Timings"
      ]
    },
    {
      "cell_type": "markdown",
      "metadata": {
        "id": "Pq7CVNxQuT8i"
      },
      "source": [
        "## **Zomato Restaurant reviews**\n",
        "Merge this dataset with Names and Matadata and then use for sentiment analysis part\n",
        "\n",
        "1. Restaurant : Name of the Restaurant\n",
        "\n",
        "2. Reviewer : Name of the Reviewer\n",
        "\n",
        "3. Review : Review Text\n",
        "\n",
        "4. Rating : Rating Provided by Reviewer\n",
        "\n",
        "5. MetaData : Reviewer Metadata - No. of Reviews and followers\n",
        "\n",
        "6. Time: Date and Time of Review\n",
        "\n",
        "7. Pictures : No. of pictures posted with review"
      ]
    },
    {
      "cell_type": "code",
      "source": [
        "# Installation of new libraries\n",
        "!pip install textblob\n",
        "\n",
        "# Installing a new library called squarify to draw tree maps\n",
        "# Un-comment the below sentence if squarify is not installed\n",
        "!pip install squarify\n",
        "\n",
        "! pip install folium"
      ],
      "metadata": {
        "colab": {
          "base_uri": "https://localhost:8080/"
        },
        "id": "icBUQCDqA6AL",
        "outputId": "fa83f318-ed6d-499e-d312-bb1a8555df49"
      },
      "execution_count": null,
      "outputs": [
        {
          "output_type": "stream",
          "name": "stdout",
          "text": [
            "Requirement already satisfied: textblob in /usr/local/lib/python3.7/dist-packages (0.15.3)\n",
            "Requirement already satisfied: nltk>=3.1 in /usr/local/lib/python3.7/dist-packages (from textblob) (3.2.5)\n",
            "Requirement already satisfied: six in /usr/local/lib/python3.7/dist-packages (from nltk>=3.1->textblob) (1.15.0)\n",
            "Requirement already satisfied: squarify in /usr/local/lib/python3.7/dist-packages (0.4.3)\n",
            "Requirement already satisfied: folium in /usr/local/lib/python3.7/dist-packages (0.8.3)\n",
            "Requirement already satisfied: jinja2 in /usr/local/lib/python3.7/dist-packages (from folium) (2.11.3)\n",
            "Requirement already satisfied: six in /usr/local/lib/python3.7/dist-packages (from folium) (1.15.0)\n",
            "Requirement already satisfied: requests in /usr/local/lib/python3.7/dist-packages (from folium) (2.23.0)\n",
            "Requirement already satisfied: numpy in /usr/local/lib/python3.7/dist-packages (from folium) (1.21.6)\n",
            "Requirement already satisfied: branca>=0.3.0 in /usr/local/lib/python3.7/dist-packages (from folium) (0.4.2)\n",
            "Requirement already satisfied: MarkupSafe>=0.23 in /usr/local/lib/python3.7/dist-packages (from jinja2->folium) (2.0.1)\n",
            "Requirement already satisfied: chardet<4,>=3.0.2 in /usr/local/lib/python3.7/dist-packages (from requests->folium) (3.0.4)\n",
            "Requirement already satisfied: idna<3,>=2.5 in /usr/local/lib/python3.7/dist-packages (from requests->folium) (2.10)\n",
            "Requirement already satisfied: certifi>=2017.4.17 in /usr/local/lib/python3.7/dist-packages (from requests->folium) (2021.10.8)\n",
            "Requirement already satisfied: urllib3!=1.25.0,!=1.25.1,<1.26,>=1.21.1 in /usr/local/lib/python3.7/dist-packages (from requests->folium) (1.24.3)\n"
          ]
        }
      ]
    },
    {
      "cell_type": "code",
      "source": [
        "# Importing the libraries\n",
        "from urllib.request import urlopen\n",
        "import re\n",
        "import numpy as np\n",
        "import pandas as pd\n",
        "import requests\n",
        "from bs4 import BeautifulSoup\n",
        "import ast\n",
        "import scipy\n",
        "import math\n",
        "import random\n",
        "import sklearn\n",
        "from nltk.corpus import stopwords\n",
        "from sklearn.model_selection import train_test_split\n",
        "from sklearn.feature_extraction.text import TfidfVectorizer\n",
        "from sklearn.preprocessing import normalize\n",
        "from sklearn.metrics.pairwise import cosine_similarity\n",
        "from scipy.sparse.linalg import svds\n",
        "import matplotlib.pyplot as plt\n",
        "import seaborn as sns\n",
        "from keras.preprocessing.text import Tokenizer\n",
        "import warnings\n",
        "warnings.filterwarnings('ignore')\n",
        "import plotly.express as px\n",
        "\n",
        "import folium\n",
        "from branca.element import Figure\n",
        "\n",
        "# Natural Language Tool Kit\n",
        "import nltk\n",
        "nltk.download('stopwords')\n",
        "# to remove stopword\n",
        "from nltk.corpus import stopwords\n",
        "# for Stemming purpose\n",
        "from nltk.stem.porter import PorterStemmer \n",
        "# for Calculate Sentiment Polarity\n",
        "from textblob import TextBlob"
      ],
      "metadata": {
        "id": "2Wh9IySSdgd-",
        "colab": {
          "base_uri": "https://localhost:8080/"
        },
        "outputId": "328b7f51-7f6b-4407-9ab6-d29ed2c36058"
      },
      "execution_count": null,
      "outputs": [
        {
          "output_type": "stream",
          "name": "stdout",
          "text": [
            "[nltk_data] Downloading package stopwords to /root/nltk_data...\n",
            "[nltk_data]   Package stopwords is already up-to-date!\n"
          ]
        }
      ]
    },
    {
      "cell_type": "code",
      "source": [
        "# Mounting the Google Drive folders to google colab notebook\n",
        "from google.colab import drive\n",
        "drive.mount('/content/drive')"
      ],
      "metadata": {
        "colab": {
          "base_uri": "https://localhost:8080/"
        },
        "id": "WteLf6cNw-DU",
        "outputId": "f4523564-3f8c-4183-ebb2-a6ab677d72a8"
      },
      "execution_count": null,
      "outputs": [
        {
          "output_type": "stream",
          "name": "stdout",
          "text": [
            "Drive already mounted at /content/drive; to attempt to forcibly remount, call drive.mount(\"/content/drive\", force_remount=True).\n"
          ]
        }
      ]
    },
    {
      "cell_type": "code",
      "source": [
        "# Reading the data into a csv\n",
        "names_df = pd.read_csv('/content/drive/MyDrive/Data Squad zomato/Zomato Restaurant names and Metadata.csv')\n",
        "\n",
        "review_df = pd.read_csv('/content/drive/MyDrive/Data Squad zomato/Zomato Restaurant reviews.csv')"
      ],
      "metadata": {
        "id": "mQWrRK26xIY4"
      },
      "execution_count": null,
      "outputs": []
    },
    {
      "cell_type": "code",
      "source": [
        ""
      ],
      "metadata": {
        "id": "TbTnW16HiLvy"
      },
      "execution_count": null,
      "outputs": []
    },
    {
      "cell_type": "markdown",
      "source": [
        "### **Glossary:**\n",
        "1. Data cleaning of restaurants data\n",
        "2. Data cleaning of reviews data\n",
        "3. Univariate analysis\n",
        "  * Univariate analysis of Restaurants data\n",
        "  * Univariate analysis of reviews data"
      ],
      "metadata": {
        "id": "ZFDAY7jwiZez"
      }
    },
    {
      "cell_type": "markdown",
      "source": [
        "# **1) Data Cleaning of Restaurants Data**"
      ],
      "metadata": {
        "id": "1XuyMG0niMia"
      }
    },
    {
      "cell_type": "markdown",
      "source": [
        "## Web scraping for extracting additional data from the weblinks given in the restaurants data sets#\n",
        "We will use the hyperlinks provided in the **Zomato restaurant names and metadata.csv** file to scrape some extra variables from the websites that may be useful for our ananlysis."
      ],
      "metadata": {
        "id": "JcgPgExnACbz"
      }
    },
    {
      "cell_type": "code",
      "source": [
        "# Defining a function to scrape the content in the website and return the html script of the page(Scraping already done, so no need to run again.)\n",
        "'''\n",
        "def send_request(url):\n",
        "    response = requests.get(\n",
        "        url='https://app.scrapingbee.com/api/v1/',\n",
        "        params={\n",
        "            'api_key': 'S2X6U0NGJAYG3SLEFPB80L2STD47D3Q7JC8P81J77EYXDS82UE6CBYAZP4AX9O69O0KHHY84U4QCKYTE',\n",
        "            'url': url,  \n",
        "        },\n",
        "        \n",
        "    )\n",
        "    #print('Response HTTP Status Code: ', response.status_code)\n",
        "    #print('Response HTTP Response Body: ', response.content)\n",
        "    return response\n",
        "'''"
      ],
      "metadata": {
        "id": "5I2686lhdtzu",
        "colab": {
          "base_uri": "https://localhost:8080/",
          "height": 70
        },
        "outputId": "e133c316-8c05-4988-c21a-33e002829673"
      },
      "execution_count": null,
      "outputs": [
        {
          "output_type": "execute_result",
          "data": {
            "text/plain": [
              "\"\\ndef send_request(url):\\n    response = requests.get(\\n        url='https://app.scrapingbee.com/api/v1/',\\n        params={\\n            'api_key': 'S2X6U0NGJAYG3SLEFPB80L2STD47D3Q7JC8P81J77EYXDS82UE6CBYAZP4AX9O69O0KHHY84U4QCKYTE',\\n            'url': url,  \\n        },\\n        \\n    )\\n    #print('Response HTTP Status Code: ', response.status_code)\\n    #print('Response HTTP Response Body: ', response.content)\\n    return response\\n\""
            ],
            "application/vnd.google.colaboratory.intrinsic+json": {
              "type": "string"
            }
          },
          "metadata": {},
          "execution_count": 124
        }
      ]
    },
    {
      "cell_type": "code",
      "source": [
        "# Creating a new column to store the html string of each url\n",
        "'''\n",
        "names_df['content'] = np.nan\n",
        "'''"
      ],
      "metadata": {
        "id": "6yhXhCxJxvXz",
        "colab": {
          "base_uri": "https://localhost:8080/",
          "height": 35
        },
        "outputId": "575d067a-7d9a-42db-c926-f553990f614b"
      },
      "execution_count": null,
      "outputs": [
        {
          "output_type": "execute_result",
          "data": {
            "text/plain": [
              "\"\\nnames_df['content'] = np.nan\\n\""
            ],
            "application/vnd.google.colaboratory.intrinsic+json": {
              "type": "string"
            }
          },
          "metadata": {},
          "execution_count": 125
        }
      ]
    },
    {
      "cell_type": "code",
      "source": [
        "# Scraping through each url and storing the html string in the content column of the data frame\n",
        "'''\n",
        "for i,url in enumerate(names_df['Links']):\n",
        "  response = send_request(url)\n",
        "  content = response.content\n",
        "  names_df.loc[i,'content'] = str(content)\n",
        "'''"
      ],
      "metadata": {
        "id": "IiRxxqrNygpl",
        "colab": {
          "base_uri": "https://localhost:8080/",
          "height": 53
        },
        "outputId": "17bfc0d4-f536-4094-9371-b4ade68b2b54"
      },
      "execution_count": null,
      "outputs": [
        {
          "output_type": "execute_result",
          "data": {
            "text/plain": [
              "\"\\nfor i,url in enumerate(names_df['Links']):\\n  response = send_request(url)\\n  content = response.content\\n  names_df.loc[i,'content'] = str(content)\\n\""
            ],
            "application/vnd.google.colaboratory.intrinsic+json": {
              "type": "string"
            }
          },
          "metadata": {},
          "execution_count": 126
        }
      ]
    },
    {
      "cell_type": "code",
      "source": [
        "# Writing the dataframe to a csv to ensure no data loss in working\n",
        "'''\n",
        "names_df.to_csv('/content/drive/MyDrive/Data Squad zomato/Nandeesh/names_df_v2')\n",
        "'''"
      ],
      "metadata": {
        "id": "HOrfh0k_6FzZ",
        "colab": {
          "base_uri": "https://localhost:8080/",
          "height": 35
        },
        "outputId": "f28e53a8-c2a4-42d4-abbf-a1e7ca2afcda"
      },
      "execution_count": null,
      "outputs": [
        {
          "output_type": "execute_result",
          "data": {
            "text/plain": [
              "\"\\nnames_df.to_csv('/content/drive/MyDrive/Data Squad zomato/Nandeesh/names_df_v2')\\n\""
            ],
            "application/vnd.google.colaboratory.intrinsic+json": {
              "type": "string"
            }
          },
          "metadata": {},
          "execution_count": 127
        }
      ]
    },
    {
      "cell_type": "code",
      "source": [
        "# reading the dataframe from the csv file again to import the scraped data from the already prepared csv file\n",
        "names_df = pd.read_csv('/content/drive/MyDrive/Data Squad zomato/Nandeesh/names_df_v2.csv')"
      ],
      "metadata": {
        "id": "dAUf-KGB9cmT"
      },
      "execution_count": null,
      "outputs": []
    },
    {
      "cell_type": "code",
      "source": [
        "# checking for null entries\n",
        "sum(names_df['content'].isnull())\n",
        "# No null entries. so all the urls were scraped"
      ],
      "metadata": {
        "colab": {
          "base_uri": "https://localhost:8080/"
        },
        "id": "pcmyjGuU7WJg",
        "outputId": "17abf161-d336-43dd-d628-656188d499d4"
      },
      "execution_count": null,
      "outputs": [
        {
          "output_type": "execute_result",
          "data": {
            "text/plain": [
              "0"
            ]
          },
          "metadata": {},
          "execution_count": 129
        }
      ]
    },
    {
      "cell_type": "markdown",
      "source": [
        "We will extract the following additional variables from the urls provided to us using regular expressions on the html data scraped using the scraping bee library:\n",
        "1. Latitude of the restaurant location\n",
        "2. Longitude of the restaurant location\n",
        "3. List of additional services offered by the restaurant\n",
        "4. A binary variable to indicate if the restaurant has featured in the list of popular places in Hyderabad\n",
        "5. The list of things a given restaurant is famous for.(as expressed by the customers)"
      ],
      "metadata": {
        "id": "01C8xBveO_dq"
      }
    },
    {
      "cell_type": "code",
      "source": [
        "for i, content in enumerate(names_df['content']):\n",
        "  # updating the string to a soup string to make parsing easier\n",
        "  soup = str(BeautifulSoup(names_df.loc[i,'content'],\"html.parser\"))\n",
        "\n",
        "  # Parsing the latitude and longitude\n",
        "  tmp = list(re.finditer('https://maps.zomato.com/',soup))\n",
        "  if len(tmp) == 0:\n",
        "    names_df.loc[i,'latitude'] = np.nan\n",
        "    names_df.loc[i,'longitude'] = np.nan\n",
        "  else:\n",
        "    loc = tmp[0].span()[0]\n",
        "    geo_loc = re.findall('=.+&map',soup[loc:loc+200])[0][1:-4]\n",
        "    names_df.loc[i,'latitude'] = geo_loc.split(',')[0]\n",
        "    names_df.loc[i,'longitude'] = geo_loc.split(',')[1]\n",
        "\n",
        "  # Parsing the List of additional services( as a dictionary item in the dataframe column)\n",
        "  tmp_loc = re.search(\"More Info\",str(soup))\n",
        "  if tmp_loc==None:\n",
        "    names_df.loc[i,'additional_services'] = np.nan\n",
        "  else:\n",
        "    more_loc = tmp_loc.span()[0]\n",
        "    tmp = soup[more_loc:]\n",
        "    inds = list(re.finditer('color=\"#4F4F4F\"',tmp))\n",
        "    services = list()\n",
        "    for ind in inds:\n",
        "      loc = ind.span()[0]\n",
        "      services.append(re.findall('>.+</p',tmp[loc:loc+50])[0][1:-3])\n",
        "    names_df.loc[i,'additional_services'] = str(services)\n",
        "    \n",
        "  # Identifying if the restaurant has featured in any of the best lists of the city - binary variable = 1 if featured, 0 otherwise\n",
        "  names_df.loc[i,'Has_Featured'] = int(len(list(re.finditer('Featured In',soup)))>0)\n",
        "\n",
        "  # Identifying what people associate this restaurant for\n",
        "  inds = list(re.finditer(\"People Say This Place Is Known For\",str(soup)))\n",
        "  if len(inds) == 0:\n",
        "    names_df.loc[i,'known_for'] = np.nan\n",
        "  else:\n",
        "    ind = inds[0].span()[0]\n",
        "    tmp = soup[ind:ind+500]\n",
        "    names_df.loc[i,'known_for']=re.findall('color=\"#4F4F4F\">.+</p><h3',tmp)[0][16:-7]"
      ],
      "metadata": {
        "id": "26rfa5GPC5VH"
      },
      "execution_count": null,
      "outputs": []
    },
    {
      "cell_type": "code",
      "source": [
        "# dropping the content column\n",
        "names_df.drop('content',axis = 1,inplace = True)"
      ],
      "metadata": {
        "id": "ysQ5KZH3auAl"
      },
      "execution_count": null,
      "outputs": []
    },
    {
      "cell_type": "code",
      "source": [
        "names_df.head()"
      ],
      "metadata": {
        "colab": {
          "base_uri": "https://localhost:8080/",
          "height": 808
        },
        "id": "yJbJNEUOQixV",
        "outputId": "1ed3bbd5-43e9-4ebf-9f6d-2d2d67a94b6f"
      },
      "execution_count": null,
      "outputs": [
        {
          "output_type": "execute_result",
          "data": {
            "text/plain": [
              "   Unnamed: 0  Unnamed: 0.1                            Name  \\\n",
              "0           0             0                 Beyond Flavours   \n",
              "1           1             1                        Paradise   \n",
              "2           2             2                        Flechazo   \n",
              "3           3             3  Shah Ghouse Hotel & Restaurant   \n",
              "4           4             4      Over The Moon Brew Company   \n",
              "\n",
              "                                               Links   Cost  \\\n",
              "0  https://www.zomato.com/hyderabad/beyond-flavou...    800   \n",
              "1  https://www.zomato.com/hyderabad/paradise-gach...    800   \n",
              "2  https://www.zomato.com/hyderabad/flechazo-gach...  1,300   \n",
              "3  https://www.zomato.com/hyderabad/shah-ghouse-h...    800   \n",
              "4  https://www.zomato.com/hyderabad/over-the-moon...  1,200   \n",
              "\n",
              "                                         Collections  \\\n",
              "0  Food Hygiene Rated Restaurants in Hyderabad, C...   \n",
              "1                                Hyderabad's Hottest   \n",
              "2                 Great Buffets, Hyderabad's Hottest   \n",
              "3                             Late Night Restaurants   \n",
              "4  Best Bars & Pubs, Food Hygiene Rated Restauran...   \n",
              "\n",
              "                                            Cuisines  \\\n",
              "0  Chinese, Continental, Kebab, European, South I...   \n",
              "1                     Biryani, North Indian, Chinese   \n",
              "2       Asian, Mediterranean, North Indian, Desserts   \n",
              "3  Biryani, North Indian, Chinese, Seafood, Bever...   \n",
              "4  Asian, Continental, North Indian, Chinese, Med...   \n",
              "\n",
              "                                             Timings       latitude  \\\n",
              "0      12noon to 3:30pm, 6:30pm to 11:30pm (Mon-Sun)  17.4288789799   \n",
              "1                                     11 AM to 11 PM  17.4423818301   \n",
              "2              11:30 AM to 4:30 PM, 6:30 PM to 11 PM  17.4352545759   \n",
              "3                                    12 Noon to 2 AM  17.4267217841   \n",
              "4  12noon to 11pm (Mon, Tue, Wed, Thu, Sun), 12no...  17.4401549529   \n",
              "\n",
              "       longitude                                additional_services  \\\n",
              "0  78.3739606768  ['Home Delivery', 'Takeaway Available', 'Seati...   \n",
              "1  78.3565796167  ['Home Delivery', 'Takeaway Available', 'Valet...   \n",
              "2  78.3680872992  ['Home Delivery', 'Takeaway Available', 'Free ...   \n",
              "3  78.3764155582  ['Home Delivery', 'Takeaway Available', 'Indoo...   \n",
              "4  78.3619356528  ['Home Delivery', 'Full Bar Available', 'Free ...   \n",
              "\n",
              "   Has_Featured                                          known_for  \n",
              "0           0.0  Ambience and Service, Courteous Staffs, Cozy, ...  \n",
              "1           1.0  Good Food Service, Good for Large Groups, Happ...  \n",
              "2           1.0  Value of Money Food, Good for Large Groups, Co...  \n",
              "3           1.0  Delivered on Time, Big Restaurant, Food was Go...  \n",
              "4           1.0  Music and Feel, Good Food and Good Service, Am...  "
            ],
            "text/html": [
              "\n",
              "  <div id=\"df-cd7444d0-9edb-4373-ab1a-55e8bbd9866b\">\n",
              "    <div class=\"colab-df-container\">\n",
              "      <div>\n",
              "<style scoped>\n",
              "    .dataframe tbody tr th:only-of-type {\n",
              "        vertical-align: middle;\n",
              "    }\n",
              "\n",
              "    .dataframe tbody tr th {\n",
              "        vertical-align: top;\n",
              "    }\n",
              "\n",
              "    .dataframe thead th {\n",
              "        text-align: right;\n",
              "    }\n",
              "</style>\n",
              "<table border=\"1\" class=\"dataframe\">\n",
              "  <thead>\n",
              "    <tr style=\"text-align: right;\">\n",
              "      <th></th>\n",
              "      <th>Unnamed: 0</th>\n",
              "      <th>Unnamed: 0.1</th>\n",
              "      <th>Name</th>\n",
              "      <th>Links</th>\n",
              "      <th>Cost</th>\n",
              "      <th>Collections</th>\n",
              "      <th>Cuisines</th>\n",
              "      <th>Timings</th>\n",
              "      <th>latitude</th>\n",
              "      <th>longitude</th>\n",
              "      <th>additional_services</th>\n",
              "      <th>Has_Featured</th>\n",
              "      <th>known_for</th>\n",
              "    </tr>\n",
              "  </thead>\n",
              "  <tbody>\n",
              "    <tr>\n",
              "      <th>0</th>\n",
              "      <td>0</td>\n",
              "      <td>0</td>\n",
              "      <td>Beyond Flavours</td>\n",
              "      <td>https://www.zomato.com/hyderabad/beyond-flavou...</td>\n",
              "      <td>800</td>\n",
              "      <td>Food Hygiene Rated Restaurants in Hyderabad, C...</td>\n",
              "      <td>Chinese, Continental, Kebab, European, South I...</td>\n",
              "      <td>12noon to 3:30pm, 6:30pm to 11:30pm (Mon-Sun)</td>\n",
              "      <td>17.4288789799</td>\n",
              "      <td>78.3739606768</td>\n",
              "      <td>['Home Delivery', 'Takeaway Available', 'Seati...</td>\n",
              "      <td>0.0</td>\n",
              "      <td>Ambience and Service, Courteous Staffs, Cozy, ...</td>\n",
              "    </tr>\n",
              "    <tr>\n",
              "      <th>1</th>\n",
              "      <td>1</td>\n",
              "      <td>1</td>\n",
              "      <td>Paradise</td>\n",
              "      <td>https://www.zomato.com/hyderabad/paradise-gach...</td>\n",
              "      <td>800</td>\n",
              "      <td>Hyderabad's Hottest</td>\n",
              "      <td>Biryani, North Indian, Chinese</td>\n",
              "      <td>11 AM to 11 PM</td>\n",
              "      <td>17.4423818301</td>\n",
              "      <td>78.3565796167</td>\n",
              "      <td>['Home Delivery', 'Takeaway Available', 'Valet...</td>\n",
              "      <td>1.0</td>\n",
              "      <td>Good Food Service, Good for Large Groups, Happ...</td>\n",
              "    </tr>\n",
              "    <tr>\n",
              "      <th>2</th>\n",
              "      <td>2</td>\n",
              "      <td>2</td>\n",
              "      <td>Flechazo</td>\n",
              "      <td>https://www.zomato.com/hyderabad/flechazo-gach...</td>\n",
              "      <td>1,300</td>\n",
              "      <td>Great Buffets, Hyderabad's Hottest</td>\n",
              "      <td>Asian, Mediterranean, North Indian, Desserts</td>\n",
              "      <td>11:30 AM to 4:30 PM, 6:30 PM to 11 PM</td>\n",
              "      <td>17.4352545759</td>\n",
              "      <td>78.3680872992</td>\n",
              "      <td>['Home Delivery', 'Takeaway Available', 'Free ...</td>\n",
              "      <td>1.0</td>\n",
              "      <td>Value of Money Food, Good for Large Groups, Co...</td>\n",
              "    </tr>\n",
              "    <tr>\n",
              "      <th>3</th>\n",
              "      <td>3</td>\n",
              "      <td>3</td>\n",
              "      <td>Shah Ghouse Hotel &amp; Restaurant</td>\n",
              "      <td>https://www.zomato.com/hyderabad/shah-ghouse-h...</td>\n",
              "      <td>800</td>\n",
              "      <td>Late Night Restaurants</td>\n",
              "      <td>Biryani, North Indian, Chinese, Seafood, Bever...</td>\n",
              "      <td>12 Noon to 2 AM</td>\n",
              "      <td>17.4267217841</td>\n",
              "      <td>78.3764155582</td>\n",
              "      <td>['Home Delivery', 'Takeaway Available', 'Indoo...</td>\n",
              "      <td>1.0</td>\n",
              "      <td>Delivered on Time, Big Restaurant, Food was Go...</td>\n",
              "    </tr>\n",
              "    <tr>\n",
              "      <th>4</th>\n",
              "      <td>4</td>\n",
              "      <td>4</td>\n",
              "      <td>Over The Moon Brew Company</td>\n",
              "      <td>https://www.zomato.com/hyderabad/over-the-moon...</td>\n",
              "      <td>1,200</td>\n",
              "      <td>Best Bars &amp; Pubs, Food Hygiene Rated Restauran...</td>\n",
              "      <td>Asian, Continental, North Indian, Chinese, Med...</td>\n",
              "      <td>12noon to 11pm (Mon, Tue, Wed, Thu, Sun), 12no...</td>\n",
              "      <td>17.4401549529</td>\n",
              "      <td>78.3619356528</td>\n",
              "      <td>['Home Delivery', 'Full Bar Available', 'Free ...</td>\n",
              "      <td>1.0</td>\n",
              "      <td>Music and Feel, Good Food and Good Service, Am...</td>\n",
              "    </tr>\n",
              "  </tbody>\n",
              "</table>\n",
              "</div>\n",
              "      <button class=\"colab-df-convert\" onclick=\"convertToInteractive('df-cd7444d0-9edb-4373-ab1a-55e8bbd9866b')\"\n",
              "              title=\"Convert this dataframe to an interactive table.\"\n",
              "              style=\"display:none;\">\n",
              "        \n",
              "  <svg xmlns=\"http://www.w3.org/2000/svg\" height=\"24px\"viewBox=\"0 0 24 24\"\n",
              "       width=\"24px\">\n",
              "    <path d=\"M0 0h24v24H0V0z\" fill=\"none\"/>\n",
              "    <path d=\"M18.56 5.44l.94 2.06.94-2.06 2.06-.94-2.06-.94-.94-2.06-.94 2.06-2.06.94zm-11 1L8.5 8.5l.94-2.06 2.06-.94-2.06-.94L8.5 2.5l-.94 2.06-2.06.94zm10 10l.94 2.06.94-2.06 2.06-.94-2.06-.94-.94-2.06-.94 2.06-2.06.94z\"/><path d=\"M17.41 7.96l-1.37-1.37c-.4-.4-.92-.59-1.43-.59-.52 0-1.04.2-1.43.59L10.3 9.45l-7.72 7.72c-.78.78-.78 2.05 0 2.83L4 21.41c.39.39.9.59 1.41.59.51 0 1.02-.2 1.41-.59l7.78-7.78 2.81-2.81c.8-.78.8-2.07 0-2.86zM5.41 20L4 18.59l7.72-7.72 1.47 1.35L5.41 20z\"/>\n",
              "  </svg>\n",
              "      </button>\n",
              "      \n",
              "  <style>\n",
              "    .colab-df-container {\n",
              "      display:flex;\n",
              "      flex-wrap:wrap;\n",
              "      gap: 12px;\n",
              "    }\n",
              "\n",
              "    .colab-df-convert {\n",
              "      background-color: #E8F0FE;\n",
              "      border: none;\n",
              "      border-radius: 50%;\n",
              "      cursor: pointer;\n",
              "      display: none;\n",
              "      fill: #1967D2;\n",
              "      height: 32px;\n",
              "      padding: 0 0 0 0;\n",
              "      width: 32px;\n",
              "    }\n",
              "\n",
              "    .colab-df-convert:hover {\n",
              "      background-color: #E2EBFA;\n",
              "      box-shadow: 0px 1px 2px rgba(60, 64, 67, 0.3), 0px 1px 3px 1px rgba(60, 64, 67, 0.15);\n",
              "      fill: #174EA6;\n",
              "    }\n",
              "\n",
              "    [theme=dark] .colab-df-convert {\n",
              "      background-color: #3B4455;\n",
              "      fill: #D2E3FC;\n",
              "    }\n",
              "\n",
              "    [theme=dark] .colab-df-convert:hover {\n",
              "      background-color: #434B5C;\n",
              "      box-shadow: 0px 1px 3px 1px rgba(0, 0, 0, 0.15);\n",
              "      filter: drop-shadow(0px 1px 2px rgba(0, 0, 0, 0.3));\n",
              "      fill: #FFFFFF;\n",
              "    }\n",
              "  </style>\n",
              "\n",
              "      <script>\n",
              "        const buttonEl =\n",
              "          document.querySelector('#df-cd7444d0-9edb-4373-ab1a-55e8bbd9866b button.colab-df-convert');\n",
              "        buttonEl.style.display =\n",
              "          google.colab.kernel.accessAllowed ? 'block' : 'none';\n",
              "\n",
              "        async function convertToInteractive(key) {\n",
              "          const element = document.querySelector('#df-cd7444d0-9edb-4373-ab1a-55e8bbd9866b');\n",
              "          const dataTable =\n",
              "            await google.colab.kernel.invokeFunction('convertToInteractive',\n",
              "                                                     [key], {});\n",
              "          if (!dataTable) return;\n",
              "\n",
              "          const docLinkHtml = 'Like what you see? Visit the ' +\n",
              "            '<a target=\"_blank\" href=https://colab.research.google.com/notebooks/data_table.ipynb>data table notebook</a>'\n",
              "            + ' to learn more about interactive tables.';\n",
              "          element.innerHTML = '';\n",
              "          dataTable['output_type'] = 'display_data';\n",
              "          await google.colab.output.renderOutput(dataTable, element);\n",
              "          const docLink = document.createElement('div');\n",
              "          docLink.innerHTML = docLinkHtml;\n",
              "          element.appendChild(docLink);\n",
              "        }\n",
              "      </script>\n",
              "    </div>\n",
              "  </div>\n",
              "  "
            ]
          },
          "metadata": {},
          "execution_count": 132
        }
      ]
    },
    {
      "cell_type": "markdown",
      "source": [
        "Let us look deeper into the additional services extracted above."
      ],
      "metadata": {
        "id": "7RrOscUHQzUz"
      }
    },
    {
      "cell_type": "code",
      "source": [
        "names_df['additional_services'] = names_df['additional_services'].replace(np.nan,'[]')"
      ],
      "metadata": {
        "id": "aiwhArXq4tLx"
      },
      "execution_count": null,
      "outputs": []
    },
    {
      "cell_type": "code",
      "source": [
        "# Creating a master list to find out how many and what catergories of additional services are available in total\n",
        "master_list_add_servs = list()\n",
        "for i, add_list in enumerate(names_df['additional_services']):\n",
        "  master_list_add_servs.extend(ast.literal_eval(names_df.loc[i,'additional_services']))\n",
        "master_list_add_servs = list(set(master_list_add_servs))"
      ],
      "metadata": {
        "id": "_UwQh86mcGF7"
      },
      "execution_count": null,
      "outputs": []
    },
    {
      "cell_type": "code",
      "source": [
        "len(master_list_add_servs)"
      ],
      "metadata": {
        "colab": {
          "base_uri": "https://localhost:8080/"
        },
        "id": "Tu4l2nKuRzOm",
        "outputId": "05df21db-8f7a-41eb-98f6-5a0d2e1dffa9"
      },
      "execution_count": null,
      "outputs": [
        {
          "output_type": "execute_result",
          "data": {
            "text/plain": [
              "51"
            ]
          },
          "metadata": {},
          "execution_count": 139
        }
      ]
    },
    {
      "cell_type": "code",
      "source": [
        "# So there are 9 unique additional services in total"
      ],
      "metadata": {
        "id": "0JNj-CkvQ8iw"
      },
      "execution_count": null,
      "outputs": []
    },
    {
      "cell_type": "code",
      "source": [
        "master_list_add_servs"
      ],
      "metadata": {
        "colab": {
          "base_uri": "https://localhost:8080/"
        },
        "id": "hE_w21eKSefj",
        "outputId": "8b8f19fe-7ed2-4786-b8e8-20959ef687f9"
      },
      "execution_count": null,
      "outputs": [
        {
          "output_type": "execute_result",
          "data": {
            "text/plain": [
              "['Outdoor Seating',\n",
              " 'Kid Friendly',\n",
              " 'Gaming Area',\n",
              " 'Smoking Area',\n",
              " 'Work Friendly',\n",
              " 'Wifi',\n",
              " 'Shared Seating Area',\n",
              " 'Breakfast',\n",
              " 'Dance Floor',\n",
              " 'Delivery Only',\n",
              " 'Dress Code Applicable',\n",
              " 'Valet Parking Available',\n",
              " 'Live Entertainment',\n",
              " 'Indoor Seating',\n",
              " 'Takeout Available',\n",
              " 'Full Bar Available',\n",
              " 'Serves Cocktails',\n",
              " 'Live Sports Screening',\n",
              " 'Serves Alcohol',\n",
              " 'Available for Functions',\n",
              " 'Rooftop',\n",
              " 'Happy Hours',\n",
              " 'Free Parking',\n",
              " 'Wheelchair Accessible',\n",
              " 'Standing Tables',\n",
              " 'Mall Parking',\n",
              " 'Romantic Dining',\n",
              " 'Brunch',\n",
              " 'Vegetarian Only',\n",
              " 'Family Friendly',\n",
              " 'Live Music',\n",
              " 'Private Dining Area Available',\n",
              " 'Home Delivery',\n",
              " 'Disabled Friendly',\n",
              " 'Pet Friendly',\n",
              " 'High Chair Available',\n",
              " 'Free Wifi',\n",
              " 'No Seating Available',\n",
              " 'Restricted Entry',\n",
              " 'Table Reservation Not Required',\n",
              " 'Nightlife',\n",
              " 'Takeaway Available',\n",
              " 'Luxury Dining',\n",
              " 'Group Meal',\n",
              " 'Buffet',\n",
              " 'Table reservation required',\n",
              " 'Craft Beer',\n",
              " 'Desserts and Bakes',\n",
              " 'Seating Available',\n",
              " 'Table booking recommended',\n",
              " 'No Alcohol Available']"
            ]
          },
          "metadata": {},
          "execution_count": 141
        }
      ]
    },
    {
      "cell_type": "markdown",
      "source": [
        "'Outdoor Seating',\n",
        " 'Kid Friendly',\n",
        " 'Gaming Area',\n",
        " 'Smoking Area',\n",
        " 'Work Friendly',\n",
        " 'Wifi',\n",
        " 'Shared Seating Area',\n",
        " 'Breakfast',\n",
        " 'Dance Floor',\n",
        " 'Delivery Only',\n",
        " 'Dress Code Applicable',\n",
        " 'Valet Parking Available',\n",
        " 'Live Entertainment',\n",
        " 'Indoor Seating',\n",
        " 'Takeout Available',\n",
        " 'Full Bar Available',\n",
        " 'Serves Cocktails',\n",
        " 'Live Sports Screening',\n",
        " 'Serves Alcohol',\n",
        " 'Available for Functions',\n",
        " 'Rooftop',\n",
        " 'Happy Hours',\n",
        " 'Free Parking',\n",
        " 'Wheelchair Accessible',\n",
        " 'Standing Tables',\n",
        " 'Mall Parking',\n",
        " 'Romantic Dining',\n",
        " 'Brunch',\n",
        " 'Vegetarian Only',\n",
        " 'Family Friendly',\n",
        " 'Live Music',\n",
        " 'Private Dining Area Available',\n",
        " 'Home Delivery',\n",
        " 'Disabled Friendly',\n",
        " 'Pet Friendly',\n",
        " 'High Chair Available',\n",
        " 'Free Wifi',\n",
        " 'No Seating Available',\n",
        " 'Restricted Entry',\n",
        " 'Table Reservation Not Required',\n",
        " 'Nightlife',\n",
        " 'Takeaway Available',\n",
        " 'Luxury Dining',\n",
        " 'Group Meal',\n",
        " 'Buffet',\n",
        " 'Table reservation required',\n",
        " 'Craft Beer',\n",
        " 'Desserts and Bakes',\n",
        " 'Seating Available',\n",
        " 'Table booking recommended',\n",
        " 'No Alcohol Available'"
      ],
      "metadata": {
        "id": "DLjlzAhL5GOi"
      }
    },
    {
      "cell_type": "code",
      "source": [
        "# Replacing nan values with an empty list\n",
        "names_df['additional_services'] = names_df['additional_services'].replace(np.nan,'[]')"
      ],
      "metadata": {
        "id": "kauZKpxgWSyd"
      },
      "execution_count": null,
      "outputs": []
    },
    {
      "cell_type": "code",
      "source": [
        "# Creating a column for each of the 9 additional services through one hot encoding\n",
        "encode_list = list()\n",
        "for adds_list in names_df['additional_services']:\n",
        "  tmp = ast.literal_eval(adds_list)\n",
        "  tmp_dict = dict()\n",
        "  for service in master_list_add_servs:\n",
        "    if service in tmp:\n",
        "      tmp_dict.update({service:1})\n",
        "    else:\n",
        "      tmp_dict.update({service:0})\n",
        "  encode_list.append(tmp_dict)\n",
        "\n",
        "# Converting the list of dictionaries to a dataframe\n",
        "add_services_df = pd.DataFrame(encode_list)"
      ],
      "metadata": {
        "id": "dLJkRT_NSnER"
      },
      "execution_count": null,
      "outputs": []
    },
    {
      "cell_type": "code",
      "source": [
        "# Appending the new columns to the names_df dataframe\n",
        "names_df = pd.concat([names_df,add_services_df],axis = 1)\n",
        "names_df.drop('additional_services',axis = 1,inplace = True)"
      ],
      "metadata": {
        "id": "aO0-6I9dUJSI"
      },
      "execution_count": null,
      "outputs": []
    },
    {
      "cell_type": "markdown",
      "source": [
        "Let us explore the 'known_for' column."
      ],
      "metadata": {
        "id": "3oZAhIkdRHcN"
      }
    },
    {
      "cell_type": "code",
      "source": [
        "# Cleaning the 'People say this is known for' column\n",
        "names_df['known_for'] = names_df['known_for'].replace(np.nan,'')\n",
        "\n",
        "# Some observations in this column has extra unnecessary text that starts with 'class='. Identifying them and removing\n",
        "bool_series = names_df['known_for'].str.contains('class=')\n",
        "for i in names_df.loc[bool_series].index:\n",
        "  tmp = names_df.iloc[i]['known_for']\n",
        "  names_df.at[i,'known_for'] = tmp[:tmp.find('<')]"
      ],
      "metadata": {
        "id": "a6fIhtfVauzM"
      },
      "execution_count": null,
      "outputs": []
    },
    {
      "cell_type": "code",
      "source": [
        ""
      ],
      "metadata": {
        "id": "B9ZpGdEpR5xl"
      },
      "execution_count": null,
      "outputs": []
    },
    {
      "cell_type": "markdown",
      "source": [
        "The observations inside the timings column are given in very inconsistent format. Let us explore the column to extract key information."
      ],
      "metadata": {
        "id": "LnaAnFkUC7us"
      }
    },
    {
      "cell_type": "code",
      "source": [
        "names_df['Timings'].values[:5]"
      ],
      "metadata": {
        "colab": {
          "base_uri": "https://localhost:8080/"
        },
        "id": "UB1A5f-WJ0W9",
        "outputId": "34b7da82-de87-4dc9-ae33-4503b10fd455"
      },
      "execution_count": null,
      "outputs": [
        {
          "output_type": "execute_result",
          "data": {
            "text/plain": [
              "array(['12noon to 3:30pm, 6:30pm to 11:30pm (Mon-Sun)', '11 AM to 11 PM',\n",
              "       '11:30 AM to 4:30 PM, 6:30 PM to 11 PM', '12 Noon to 2 AM',\n",
              "       '12noon to 11pm (Mon, Tue, Wed, Thu, Sun), 12noon to 12midnight (Fri-Sat)'],\n",
              "      dtype=object)"
            ]
          },
          "metadata": {},
          "execution_count": 23
        }
      ]
    },
    {
      "cell_type": "code",
      "source": [
        "# Replacing the missing values with empty strings\n",
        "names_df['Timings']=names_df['Timings'].replace(np.nan,'')\n",
        "\n",
        "# Converting the strings in the column to lowercase\n",
        "names_df['Timings'] = names_df['Timings'].str.lower()"
      ],
      "metadata": {
        "id": "OICii-UzKHY1"
      },
      "execution_count": null,
      "outputs": []
    },
    {
      "cell_type": "code",
      "source": [
        "def multiple_str_replaces(org_str,maps):\n",
        "  '''\n",
        "  This function takes a dictionary of mapping with keys as the charecters to be replaced in a string and\n",
        "  the values as the characters to be replaced with\n",
        "  '''\n",
        "  for l,r in maps.items():\n",
        "    org_str = org_str.replace(l,r)\n",
        "  return org_str"
      ],
      "metadata": {
        "id": "hjDhROnXKKrc"
      },
      "execution_count": null,
      "outputs": []
    },
    {
      "cell_type": "code",
      "source": [
        "# Defining the list of things we want to format by replacements.\n",
        "mappings = {'noon':'pm','midnight':'am','),':');'}\n",
        "\n",
        "# Applying the above changes to all the entries in the column\n",
        "names_df['Timings'] = names_df['Timings'].apply(lambda x: multiple_str_replaces(x,maps = mappings))"
      ],
      "metadata": {
        "id": "L1KVNMwVKYSC"
      },
      "execution_count": null,
      "outputs": []
    },
    {
      "cell_type": "code",
      "source": [
        "def drop_closed_days(in_str):\n",
        "  '''\n",
        "  This function deletes the days when the restaurant is closed Ex: the text tue closed, thu closed will be deleted\n",
        "  '''\n",
        "  regex = re.compile('[a-z]{3} closed|closed \\([a-z]{3}\\)')\n",
        "  result = re.findall(regex,in_str)\n",
        "  for text in result:\n",
        "    in_str = in_str.replace('; '+text,'')\n",
        "  return in_str"
      ],
      "metadata": {
        "id": "U4CGSlh_Klt8"
      },
      "execution_count": null,
      "outputs": []
    },
    {
      "cell_type": "code",
      "source": [
        "# Applying the above function\n",
        "names_df['Timings'] = names_df['Timings'].apply(lambda x: drop_closed_days(x))"
      ],
      "metadata": {
        "id": "zwRwhVmIKu4a"
      },
      "execution_count": null,
      "outputs": []
    },
    {
      "cell_type": "code",
      "source": [
        "def expand_days(in_str):\n",
        "  '''\n",
        "  This function takes a from-to of week days string and replaces it with all the days in between.\n",
        "  For Ex: 'tue-sat' will be replaced by 'tue,wed,thu,fri,sat'\n",
        "  '''\n",
        "  days = ['mon','tue','wed','thu','fri','sat','sun']\n",
        "  in_days = in_str.split('-')\n",
        "  \n",
        "  result = ''\n",
        "\n",
        "  for i,day in enumerate((days*2)[(days*2).index(in_days[0]):]):\n",
        "    if day == in_days[1]:\n",
        "      result = result+', '+day\n",
        "      break\n",
        "    elif i==0:\n",
        "      result = result+day\n",
        "    else:\n",
        "      result = result+', '+day\n",
        "  return result"
      ],
      "metadata": {
        "id": "2bMKyv3fK9e3"
      },
      "execution_count": null,
      "outputs": []
    },
    {
      "cell_type": "code",
      "source": [
        "def open_days(in_str):\n",
        "  '''\n",
        "  This function returns the list of days on which a restaurant is open given a string of 'timings' column as argument\n",
        "  '''\n",
        "  regex = re.compile(\".*?\\((.*?)\\)\")\n",
        "  result = re.findall(regex, in_str)\n",
        "  for i,text in enumerate(result):\n",
        "    if '-' in text:\n",
        "      result[i] = expand_days(result[i])\n",
        "    else:\n",
        "      pass\n",
        "  result = ', '.join(result)\n",
        "  if result == '':\n",
        "    result = ''\n",
        "  else:\n",
        "    result = str(list(set(result.split(', '))))\n",
        "  return result"
      ],
      "metadata": {
        "id": "_UcGrTV9LIj3"
      },
      "execution_count": null,
      "outputs": []
    },
    {
      "cell_type": "code",
      "source": [
        "# Manually updating an occurence which is in a different format\n",
        "names_df.at[95,'Timings'] = '1 pm to 2 am (mon), (wed-sun)'\n",
        "\n",
        "# Applying the above function all the occurences in the timings column\n",
        "names_df['Open_days'] = names_df['Timings'].apply(lambda x: open_days(x))\n",
        "\n",
        "# Assuming that the restaurants whose open days are not listed are open on all days\n",
        "names_df['Open_days']=names_df['Open_days'].replace('',str(['mon','tue','wed','thu','fri','sat','sun']))"
      ],
      "metadata": {
        "id": "gHkbRPZNTx67"
      },
      "execution_count": null,
      "outputs": []
    },
    {
      "cell_type": "code",
      "source": [
        "names_df['Open_days'].values[:10]"
      ],
      "metadata": {
        "colab": {
          "base_uri": "https://localhost:8080/"
        },
        "id": "RNa4afNZLeT5",
        "outputId": "f28ff882-ad97-45f9-f0a9-88d405675976"
      },
      "execution_count": null,
      "outputs": [
        {
          "output_type": "execute_result",
          "data": {
            "text/plain": [
              "array([\"['sun', 'sat', 'mon', 'tue', 'fri', 'thu', 'wed']\",\n",
              "       \"['mon', 'tue', 'wed', 'thu', 'fri', 'sat', 'sun']\",\n",
              "       \"['mon', 'tue', 'wed', 'thu', 'fri', 'sat', 'sun']\",\n",
              "       \"['mon', 'tue', 'wed', 'thu', 'fri', 'sat', 'sun']\",\n",
              "       \"['sun', 'sat', 'mon', 'tue', 'fri', 'thu', 'wed']\",\n",
              "       \"['sun', 'sat', 'mon', 'tue', 'fri', 'thu', 'wed']\",\n",
              "       \"['mon', 'tue', 'wed', 'thu', 'fri', 'sat', 'sun']\",\n",
              "       \"['mon', 'tue', 'wed', 'thu', 'fri', 'sat', 'sun']\",\n",
              "       \"['mon', 'tue', 'wed', 'thu', 'fri', 'sat', 'sun']\",\n",
              "       \"['sun', 'sat', 'mon', 'tue', 'fri', 'thu', 'wed']\"], dtype=object)"
            ]
          },
          "metadata": {},
          "execution_count": 32
        }
      ]
    },
    {
      "cell_type": "code",
      "source": [
        "# Writing the updated dataframe to a csv file\n",
        "names_df.to_csv('/content/drive/MyDrive/Data Squad zomato/Nandeesh/names_df_v3.csv')"
      ],
      "metadata": {
        "id": "nDZkUXtDbK3J"
      },
      "execution_count": null,
      "outputs": []
    },
    {
      "cell_type": "code",
      "source": [
        "#Dropping the redundant columns\n",
        "names_df.drop(['Links','Unnamed: 0','Unnamed: 0.1'],axis = 1, inplace = True)"
      ],
      "metadata": {
        "id": "69RNusMJlDaT"
      },
      "execution_count": null,
      "outputs": []
    },
    {
      "cell_type": "markdown",
      "source": [
        "# Cuisine data cleaning"
      ],
      "metadata": {
        "id": "WpctFDGM-KH9"
      }
    },
    {
      "cell_type": "code",
      "source": [
        "# spliting the cusines and storing in list \n",
        "cuisine_list=names_df.Cuisines.str.split(', ')\n",
        "cuisine_list"
      ],
      "metadata": {
        "colab": {
          "base_uri": "https://localhost:8080/"
        },
        "id": "8y3nMxGl-J3u",
        "outputId": "585ac9a6-be9c-4a1c-a4ec-9dafcc2b6f54"
      },
      "execution_count": null,
      "outputs": [
        {
          "output_type": "execute_result",
          "data": {
            "text/plain": [
              "0      [Chinese, Continental, Kebab, European, South ...\n",
              "1                       [Biryani, North Indian, Chinese]\n",
              "2         [Asian, Mediterranean, North Indian, Desserts]\n",
              "3      [Biryani, North Indian, Chinese, Seafood, Beve...\n",
              "4      [Asian, Continental, North Indian, Chinese, Me...\n",
              "                             ...                        \n",
              "100                                   [Fast Food, Salad]\n",
              "101                                     [Bakery, Mithai]\n",
              "102                     [North Indian, Biryani, Chinese]\n",
              "103                                          [Fast Food]\n",
              "104                    [Thai, Asian, Chinese, Malaysian]\n",
              "Name: Cuisines, Length: 105, dtype: object"
            ]
          },
          "metadata": {},
          "execution_count": 142
        }
      ]
    },
    {
      "cell_type": "code",
      "source": [
        "# storing all the cusines in a dict \n",
        "cuis_dict = {}\n",
        "for names in cuisine_list:\n",
        "    for name in names:\n",
        "        if (name in cuis_dict):\n",
        "            cuis_dict[name]+=1\n",
        "        else:  \n",
        "            cuis_dict[name]=1"
      ],
      "metadata": {
        "id": "E2O1FNdt-RBH"
      },
      "execution_count": null,
      "outputs": []
    },
    {
      "cell_type": "code",
      "source": [
        "# converting the dict to a data frame \n",
        "cuisine_df=pd.DataFrame.from_dict([cuis_dict]).transpose().reset_index().rename(columns={'index':'Cuisine',0:'Number of Restaurants'})"
      ],
      "metadata": {
        "id": "4vYisIt8-Z5p"
      },
      "execution_count": null,
      "outputs": []
    },
    {
      "cell_type": "code",
      "source": [
        "cuisine_df.head()"
      ],
      "metadata": {
        "colab": {
          "base_uri": "https://localhost:8080/",
          "height": 206
        },
        "id": "teNFjUs2-cfT",
        "outputId": "1c9de25f-a044-4c08-b12d-988216f2f3a5"
      },
      "execution_count": null,
      "outputs": [
        {
          "output_type": "execute_result",
          "data": {
            "text/plain": [
              "        Cuisine  Number of Restaurants\n",
              "0       Chinese                     43\n",
              "1   Continental                     21\n",
              "2         Kebab                      6\n",
              "3      European                      4\n",
              "4  South Indian                      9"
            ],
            "text/html": [
              "\n",
              "  <div id=\"df-321b6c5e-a4a7-48a4-92fb-79426119101c\">\n",
              "    <div class=\"colab-df-container\">\n",
              "      <div>\n",
              "<style scoped>\n",
              "    .dataframe tbody tr th:only-of-type {\n",
              "        vertical-align: middle;\n",
              "    }\n",
              "\n",
              "    .dataframe tbody tr th {\n",
              "        vertical-align: top;\n",
              "    }\n",
              "\n",
              "    .dataframe thead th {\n",
              "        text-align: right;\n",
              "    }\n",
              "</style>\n",
              "<table border=\"1\" class=\"dataframe\">\n",
              "  <thead>\n",
              "    <tr style=\"text-align: right;\">\n",
              "      <th></th>\n",
              "      <th>Cuisine</th>\n",
              "      <th>Number of Restaurants</th>\n",
              "    </tr>\n",
              "  </thead>\n",
              "  <tbody>\n",
              "    <tr>\n",
              "      <th>0</th>\n",
              "      <td>Chinese</td>\n",
              "      <td>43</td>\n",
              "    </tr>\n",
              "    <tr>\n",
              "      <th>1</th>\n",
              "      <td>Continental</td>\n",
              "      <td>21</td>\n",
              "    </tr>\n",
              "    <tr>\n",
              "      <th>2</th>\n",
              "      <td>Kebab</td>\n",
              "      <td>6</td>\n",
              "    </tr>\n",
              "    <tr>\n",
              "      <th>3</th>\n",
              "      <td>European</td>\n",
              "      <td>4</td>\n",
              "    </tr>\n",
              "    <tr>\n",
              "      <th>4</th>\n",
              "      <td>South Indian</td>\n",
              "      <td>9</td>\n",
              "    </tr>\n",
              "  </tbody>\n",
              "</table>\n",
              "</div>\n",
              "      <button class=\"colab-df-convert\" onclick=\"convertToInteractive('df-321b6c5e-a4a7-48a4-92fb-79426119101c')\"\n",
              "              title=\"Convert this dataframe to an interactive table.\"\n",
              "              style=\"display:none;\">\n",
              "        \n",
              "  <svg xmlns=\"http://www.w3.org/2000/svg\" height=\"24px\"viewBox=\"0 0 24 24\"\n",
              "       width=\"24px\">\n",
              "    <path d=\"M0 0h24v24H0V0z\" fill=\"none\"/>\n",
              "    <path d=\"M18.56 5.44l.94 2.06.94-2.06 2.06-.94-2.06-.94-.94-2.06-.94 2.06-2.06.94zm-11 1L8.5 8.5l.94-2.06 2.06-.94-2.06-.94L8.5 2.5l-.94 2.06-2.06.94zm10 10l.94 2.06.94-2.06 2.06-.94-2.06-.94-.94-2.06-.94 2.06-2.06.94z\"/><path d=\"M17.41 7.96l-1.37-1.37c-.4-.4-.92-.59-1.43-.59-.52 0-1.04.2-1.43.59L10.3 9.45l-7.72 7.72c-.78.78-.78 2.05 0 2.83L4 21.41c.39.39.9.59 1.41.59.51 0 1.02-.2 1.41-.59l7.78-7.78 2.81-2.81c.8-.78.8-2.07 0-2.86zM5.41 20L4 18.59l7.72-7.72 1.47 1.35L5.41 20z\"/>\n",
              "  </svg>\n",
              "      </button>\n",
              "      \n",
              "  <style>\n",
              "    .colab-df-container {\n",
              "      display:flex;\n",
              "      flex-wrap:wrap;\n",
              "      gap: 12px;\n",
              "    }\n",
              "\n",
              "    .colab-df-convert {\n",
              "      background-color: #E8F0FE;\n",
              "      border: none;\n",
              "      border-radius: 50%;\n",
              "      cursor: pointer;\n",
              "      display: none;\n",
              "      fill: #1967D2;\n",
              "      height: 32px;\n",
              "      padding: 0 0 0 0;\n",
              "      width: 32px;\n",
              "    }\n",
              "\n",
              "    .colab-df-convert:hover {\n",
              "      background-color: #E2EBFA;\n",
              "      box-shadow: 0px 1px 2px rgba(60, 64, 67, 0.3), 0px 1px 3px 1px rgba(60, 64, 67, 0.15);\n",
              "      fill: #174EA6;\n",
              "    }\n",
              "\n",
              "    [theme=dark] .colab-df-convert {\n",
              "      background-color: #3B4455;\n",
              "      fill: #D2E3FC;\n",
              "    }\n",
              "\n",
              "    [theme=dark] .colab-df-convert:hover {\n",
              "      background-color: #434B5C;\n",
              "      box-shadow: 0px 1px 3px 1px rgba(0, 0, 0, 0.15);\n",
              "      filter: drop-shadow(0px 1px 2px rgba(0, 0, 0, 0.3));\n",
              "      fill: #FFFFFF;\n",
              "    }\n",
              "  </style>\n",
              "\n",
              "      <script>\n",
              "        const buttonEl =\n",
              "          document.querySelector('#df-321b6c5e-a4a7-48a4-92fb-79426119101c button.colab-df-convert');\n",
              "        buttonEl.style.display =\n",
              "          google.colab.kernel.accessAllowed ? 'block' : 'none';\n",
              "\n",
              "        async function convertToInteractive(key) {\n",
              "          const element = document.querySelector('#df-321b6c5e-a4a7-48a4-92fb-79426119101c');\n",
              "          const dataTable =\n",
              "            await google.colab.kernel.invokeFunction('convertToInteractive',\n",
              "                                                     [key], {});\n",
              "          if (!dataTable) return;\n",
              "\n",
              "          const docLinkHtml = 'Like what you see? Visit the ' +\n",
              "            '<a target=\"_blank\" href=https://colab.research.google.com/notebooks/data_table.ipynb>data table notebook</a>'\n",
              "            + ' to learn more about interactive tables.';\n",
              "          element.innerHTML = '';\n",
              "          dataTable['output_type'] = 'display_data';\n",
              "          await google.colab.output.renderOutput(dataTable, element);\n",
              "          const docLink = document.createElement('div');\n",
              "          docLink.innerHTML = docLinkHtml;\n",
              "          element.appendChild(docLink);\n",
              "        }\n",
              "      </script>\n",
              "    </div>\n",
              "  </div>\n",
              "  "
            ]
          },
          "metadata": {},
          "execution_count": 145
        }
      ]
    },
    {
      "cell_type": "code",
      "source": [
        "cuisine_df.to_csv('/content/drive/MyDrive/Data Squad zomato/tmp.csv')"
      ],
      "metadata": {
        "id": "wnumIbil-jXI"
      },
      "execution_count": null,
      "outputs": []
    },
    {
      "cell_type": "code",
      "source": [
        "cuisine_df['Cuisine'].values"
      ],
      "metadata": {
        "colab": {
          "base_uri": "https://localhost:8080/"
        },
        "id": "NvqJOCeS-dUv",
        "outputId": "8f127241-0e8e-480d-b2a1-b65d8ef4f423"
      },
      "execution_count": null,
      "outputs": [
        {
          "output_type": "execute_result",
          "data": {
            "text/plain": [
              "array(['Chinese', 'Continental', 'Kebab', 'European', 'South Indian',\n",
              "       'North Indian', 'Biryani', 'Asian', 'Mediterranean', 'Desserts',\n",
              "       'Seafood', 'Beverages', 'Goan', 'Healthy Food', 'Lebanese',\n",
              "       'American', 'Ice Cream', 'Street Food', 'Fast Food', 'BBQ',\n",
              "       'Italian', 'Finger Food', 'Burger', 'Japanese', 'Salad', 'Sushi',\n",
              "       'Mexican', 'Mughlai', 'Andhra', 'Bakery', 'Juices', 'Arabian',\n",
              "       'Hyderabadi', 'Cafe', 'Spanish', 'Wraps', 'Thai', 'Indonesian',\n",
              "       'Modern Indian', 'Momos', 'Pizza', 'North Eastern', 'Mithai',\n",
              "       'Malaysian'], dtype=object)"
            ]
          },
          "metadata": {},
          "execution_count": 147
        }
      ]
    },
    {
      "cell_type": "markdown",
      "source": [
        "# **2) Data Cleaning of Reviews data**"
      ],
      "metadata": {
        "id": "5zMTXJLajBYA"
      }
    },
    {
      "cell_type": "code",
      "source": [
        "review_df.shape"
      ],
      "metadata": {
        "colab": {
          "base_uri": "https://localhost:8080/"
        },
        "id": "NqPwbnDijOix",
        "outputId": "890d93d0-3d79-48dd-cc91-2b6350ce5c21"
      },
      "execution_count": null,
      "outputs": [
        {
          "output_type": "execute_result",
          "data": {
            "text/plain": [
              "(10000, 7)"
            ]
          },
          "metadata": {},
          "execution_count": 78
        }
      ]
    },
    {
      "cell_type": "code",
      "source": [
        "review_df.head()"
      ],
      "metadata": {
        "colab": {
          "base_uri": "https://localhost:8080/",
          "height": 206
        },
        "id": "fcwF72cdjS8_",
        "outputId": "fafb9556-23bd-4350-f44a-f1d555924bed"
      },
      "execution_count": null,
      "outputs": [
        {
          "output_type": "execute_result",
          "data": {
            "text/plain": [
              "        Restaurant              Reviewer  \\\n",
              "0  Beyond Flavours     Rusha Chakraborty   \n",
              "1  Beyond Flavours  Anusha Tirumalaneedi   \n",
              "2  Beyond Flavours       Ashok Shekhawat   \n",
              "3  Beyond Flavours        Swapnil Sarkar   \n",
              "4  Beyond Flavours                Dileep   \n",
              "\n",
              "                                              Review Rating  \\\n",
              "0  The ambience was good, food was quite good . h...      5   \n",
              "1  Ambience is too good for a pleasant evening. S...      5   \n",
              "2  A must try.. great food great ambience. Thnx f...      5   \n",
              "3  Soumen das and Arun was a great guy. Only beca...      5   \n",
              "4  Food is good.we ordered Kodi drumsticks and ba...      5   \n",
              "\n",
              "                  Metadata             Time  Pictures  \n",
              "0   1 Review , 2 Followers  5/25/2019 15:54         0  \n",
              "1  3 Reviews , 2 Followers  5/25/2019 14:20         0  \n",
              "2  2 Reviews , 3 Followers  5/24/2019 22:54         0  \n",
              "3    1 Review , 1 Follower  5/24/2019 22:11         0  \n",
              "4  3 Reviews , 2 Followers  5/24/2019 21:37         0  "
            ],
            "text/html": [
              "\n",
              "  <div id=\"df-0ed84ef6-42c4-4ebe-a425-bfe4a6a02ef7\">\n",
              "    <div class=\"colab-df-container\">\n",
              "      <div>\n",
              "<style scoped>\n",
              "    .dataframe tbody tr th:only-of-type {\n",
              "        vertical-align: middle;\n",
              "    }\n",
              "\n",
              "    .dataframe tbody tr th {\n",
              "        vertical-align: top;\n",
              "    }\n",
              "\n",
              "    .dataframe thead th {\n",
              "        text-align: right;\n",
              "    }\n",
              "</style>\n",
              "<table border=\"1\" class=\"dataframe\">\n",
              "  <thead>\n",
              "    <tr style=\"text-align: right;\">\n",
              "      <th></th>\n",
              "      <th>Restaurant</th>\n",
              "      <th>Reviewer</th>\n",
              "      <th>Review</th>\n",
              "      <th>Rating</th>\n",
              "      <th>Metadata</th>\n",
              "      <th>Time</th>\n",
              "      <th>Pictures</th>\n",
              "    </tr>\n",
              "  </thead>\n",
              "  <tbody>\n",
              "    <tr>\n",
              "      <th>0</th>\n",
              "      <td>Beyond Flavours</td>\n",
              "      <td>Rusha Chakraborty</td>\n",
              "      <td>The ambience was good, food was quite good . h...</td>\n",
              "      <td>5</td>\n",
              "      <td>1 Review , 2 Followers</td>\n",
              "      <td>5/25/2019 15:54</td>\n",
              "      <td>0</td>\n",
              "    </tr>\n",
              "    <tr>\n",
              "      <th>1</th>\n",
              "      <td>Beyond Flavours</td>\n",
              "      <td>Anusha Tirumalaneedi</td>\n",
              "      <td>Ambience is too good for a pleasant evening. S...</td>\n",
              "      <td>5</td>\n",
              "      <td>3 Reviews , 2 Followers</td>\n",
              "      <td>5/25/2019 14:20</td>\n",
              "      <td>0</td>\n",
              "    </tr>\n",
              "    <tr>\n",
              "      <th>2</th>\n",
              "      <td>Beyond Flavours</td>\n",
              "      <td>Ashok Shekhawat</td>\n",
              "      <td>A must try.. great food great ambience. Thnx f...</td>\n",
              "      <td>5</td>\n",
              "      <td>2 Reviews , 3 Followers</td>\n",
              "      <td>5/24/2019 22:54</td>\n",
              "      <td>0</td>\n",
              "    </tr>\n",
              "    <tr>\n",
              "      <th>3</th>\n",
              "      <td>Beyond Flavours</td>\n",
              "      <td>Swapnil Sarkar</td>\n",
              "      <td>Soumen das and Arun was a great guy. Only beca...</td>\n",
              "      <td>5</td>\n",
              "      <td>1 Review , 1 Follower</td>\n",
              "      <td>5/24/2019 22:11</td>\n",
              "      <td>0</td>\n",
              "    </tr>\n",
              "    <tr>\n",
              "      <th>4</th>\n",
              "      <td>Beyond Flavours</td>\n",
              "      <td>Dileep</td>\n",
              "      <td>Food is good.we ordered Kodi drumsticks and ba...</td>\n",
              "      <td>5</td>\n",
              "      <td>3 Reviews , 2 Followers</td>\n",
              "      <td>5/24/2019 21:37</td>\n",
              "      <td>0</td>\n",
              "    </tr>\n",
              "  </tbody>\n",
              "</table>\n",
              "</div>\n",
              "      <button class=\"colab-df-convert\" onclick=\"convertToInteractive('df-0ed84ef6-42c4-4ebe-a425-bfe4a6a02ef7')\"\n",
              "              title=\"Convert this dataframe to an interactive table.\"\n",
              "              style=\"display:none;\">\n",
              "        \n",
              "  <svg xmlns=\"http://www.w3.org/2000/svg\" height=\"24px\"viewBox=\"0 0 24 24\"\n",
              "       width=\"24px\">\n",
              "    <path d=\"M0 0h24v24H0V0z\" fill=\"none\"/>\n",
              "    <path d=\"M18.56 5.44l.94 2.06.94-2.06 2.06-.94-2.06-.94-.94-2.06-.94 2.06-2.06.94zm-11 1L8.5 8.5l.94-2.06 2.06-.94-2.06-.94L8.5 2.5l-.94 2.06-2.06.94zm10 10l.94 2.06.94-2.06 2.06-.94-2.06-.94-.94-2.06-.94 2.06-2.06.94z\"/><path d=\"M17.41 7.96l-1.37-1.37c-.4-.4-.92-.59-1.43-.59-.52 0-1.04.2-1.43.59L10.3 9.45l-7.72 7.72c-.78.78-.78 2.05 0 2.83L4 21.41c.39.39.9.59 1.41.59.51 0 1.02-.2 1.41-.59l7.78-7.78 2.81-2.81c.8-.78.8-2.07 0-2.86zM5.41 20L4 18.59l7.72-7.72 1.47 1.35L5.41 20z\"/>\n",
              "  </svg>\n",
              "      </button>\n",
              "      \n",
              "  <style>\n",
              "    .colab-df-container {\n",
              "      display:flex;\n",
              "      flex-wrap:wrap;\n",
              "      gap: 12px;\n",
              "    }\n",
              "\n",
              "    .colab-df-convert {\n",
              "      background-color: #E8F0FE;\n",
              "      border: none;\n",
              "      border-radius: 50%;\n",
              "      cursor: pointer;\n",
              "      display: none;\n",
              "      fill: #1967D2;\n",
              "      height: 32px;\n",
              "      padding: 0 0 0 0;\n",
              "      width: 32px;\n",
              "    }\n",
              "\n",
              "    .colab-df-convert:hover {\n",
              "      background-color: #E2EBFA;\n",
              "      box-shadow: 0px 1px 2px rgba(60, 64, 67, 0.3), 0px 1px 3px 1px rgba(60, 64, 67, 0.15);\n",
              "      fill: #174EA6;\n",
              "    }\n",
              "\n",
              "    [theme=dark] .colab-df-convert {\n",
              "      background-color: #3B4455;\n",
              "      fill: #D2E3FC;\n",
              "    }\n",
              "\n",
              "    [theme=dark] .colab-df-convert:hover {\n",
              "      background-color: #434B5C;\n",
              "      box-shadow: 0px 1px 3px 1px rgba(0, 0, 0, 0.15);\n",
              "      filter: drop-shadow(0px 1px 2px rgba(0, 0, 0, 0.3));\n",
              "      fill: #FFFFFF;\n",
              "    }\n",
              "  </style>\n",
              "\n",
              "      <script>\n",
              "        const buttonEl =\n",
              "          document.querySelector('#df-0ed84ef6-42c4-4ebe-a425-bfe4a6a02ef7 button.colab-df-convert');\n",
              "        buttonEl.style.display =\n",
              "          google.colab.kernel.accessAllowed ? 'block' : 'none';\n",
              "\n",
              "        async function convertToInteractive(key) {\n",
              "          const element = document.querySelector('#df-0ed84ef6-42c4-4ebe-a425-bfe4a6a02ef7');\n",
              "          const dataTable =\n",
              "            await google.colab.kernel.invokeFunction('convertToInteractive',\n",
              "                                                     [key], {});\n",
              "          if (!dataTable) return;\n",
              "\n",
              "          const docLinkHtml = 'Like what you see? Visit the ' +\n",
              "            '<a target=\"_blank\" href=https://colab.research.google.com/notebooks/data_table.ipynb>data table notebook</a>'\n",
              "            + ' to learn more about interactive tables.';\n",
              "          element.innerHTML = '';\n",
              "          dataTable['output_type'] = 'display_data';\n",
              "          await google.colab.output.renderOutput(dataTable, element);\n",
              "          const docLink = document.createElement('div');\n",
              "          docLink.innerHTML = docLinkHtml;\n",
              "          element.appendChild(docLink);\n",
              "        }\n",
              "      </script>\n",
              "    </div>\n",
              "  </div>\n",
              "  "
            ]
          },
          "metadata": {},
          "execution_count": 79
        }
      ]
    },
    {
      "cell_type": "code",
      "source": [
        "review_df.info()"
      ],
      "metadata": {
        "colab": {
          "base_uri": "https://localhost:8080/"
        },
        "id": "xG98P9cfkJyV",
        "outputId": "8c907419-06b8-46d8-a7d1-81a08c31ccab"
      },
      "execution_count": null,
      "outputs": [
        {
          "output_type": "stream",
          "name": "stdout",
          "text": [
            "<class 'pandas.core.frame.DataFrame'>\n",
            "RangeIndex: 10000 entries, 0 to 9999\n",
            "Data columns (total 7 columns):\n",
            " #   Column      Non-Null Count  Dtype \n",
            "---  ------      --------------  ----- \n",
            " 0   Restaurant  10000 non-null  object\n",
            " 1   Reviewer    9962 non-null   object\n",
            " 2   Review      9955 non-null   object\n",
            " 3   Rating      9962 non-null   object\n",
            " 4   Metadata    9962 non-null   object\n",
            " 5   Time        9962 non-null   object\n",
            " 6   Pictures    10000 non-null  int64 \n",
            "dtypes: int64(1), object(6)\n",
            "memory usage: 547.0+ KB\n"
          ]
        }
      ]
    },
    {
      "cell_type": "markdown",
      "source": [
        "The number of missing values is very less. Let us just drop them."
      ],
      "metadata": {
        "id": "53v794oOkVuF"
      }
    },
    {
      "cell_type": "code",
      "source": [
        "review_df.dropna(inplace = True)"
      ],
      "metadata": {
        "id": "vmD_ASVskfwU"
      },
      "execution_count": null,
      "outputs": []
    },
    {
      "cell_type": "code",
      "source": [
        "review_df.info()"
      ],
      "metadata": {
        "colab": {
          "base_uri": "https://localhost:8080/"
        },
        "id": "5jYN7O2SkkzT",
        "outputId": "dcfcab04-cd67-4369-9c77-982534222b15"
      },
      "execution_count": null,
      "outputs": [
        {
          "output_type": "stream",
          "name": "stdout",
          "text": [
            "<class 'pandas.core.frame.DataFrame'>\n",
            "Int64Index: 9955 entries, 0 to 9999\n",
            "Data columns (total 7 columns):\n",
            " #   Column      Non-Null Count  Dtype \n",
            "---  ------      --------------  ----- \n",
            " 0   Restaurant  9955 non-null   object\n",
            " 1   Reviewer    9955 non-null   object\n",
            " 2   Review      9955 non-null   object\n",
            " 3   Rating      9955 non-null   object\n",
            " 4   Metadata    9955 non-null   object\n",
            " 5   Time        9955 non-null   object\n",
            " 6   Pictures    9955 non-null   int64 \n",
            "dtypes: int64(1), object(6)\n",
            "memory usage: 622.2+ KB\n"
          ]
        }
      ]
    },
    {
      "cell_type": "markdown",
      "source": [
        "Let us convert the rating column to numeric format."
      ],
      "metadata": {
        "id": "WeK2iegHk4kr"
      }
    },
    {
      "cell_type": "code",
      "source": [
        "review_df['Rating'].unique()"
      ],
      "metadata": {
        "colab": {
          "base_uri": "https://localhost:8080/"
        },
        "id": "OH8s36CclNW6",
        "outputId": "067e0fee-cf74-4d3e-fed0-4cbf648738c1"
      },
      "execution_count": null,
      "outputs": [
        {
          "output_type": "execute_result",
          "data": {
            "text/plain": [
              "array(['5', '4', '1', '3', '2', '3.5', '4.5', '2.5', '1.5', 'Like'],\n",
              "      dtype=object)"
            ]
          },
          "metadata": {},
          "execution_count": 85
        }
      ]
    },
    {
      "cell_type": "markdown",
      "source": [
        "Some of the ratings are given as 'Like'. Let us find out how many of them are listed like that"
      ],
      "metadata": {
        "id": "Hq9E2UNElUKk"
      }
    },
    {
      "cell_type": "code",
      "source": [
        "review_df[review_df.Rating=='Like'].shape[0]"
      ],
      "metadata": {
        "colab": {
          "base_uri": "https://localhost:8080/"
        },
        "id": "7ul8UaCzlTCR",
        "outputId": "35e85533-96bd-4991-8cf1-d40a08487d59"
      },
      "execution_count": null,
      "outputs": [
        {
          "output_type": "execute_result",
          "data": {
            "text/plain": [
              "1"
            ]
          },
          "metadata": {},
          "execution_count": 87
        }
      ]
    },
    {
      "cell_type": "markdown",
      "source": [
        "Just one occurence, so we can just replace it by a score of 5."
      ],
      "metadata": {
        "id": "3edxqcLKllzG"
      }
    },
    {
      "cell_type": "code",
      "source": [
        "# So Lets repalce the \"Like\" into Rating \"5\"\n",
        "review_df.Rating = review_df.Rating.replace('Like', '5')"
      ],
      "metadata": {
        "id": "lD6HtvorllE4"
      },
      "execution_count": null,
      "outputs": []
    },
    {
      "cell_type": "code",
      "source": [
        "# converting the ratings column to a float\n",
        "review_df['Rating'] = review_df['Rating'].astype(float)"
      ],
      "metadata": {
        "id": "isJskpWNk_yT"
      },
      "execution_count": null,
      "outputs": []
    },
    {
      "cell_type": "markdown",
      "source": [
        "Let us split the metadata column into reviews and followers"
      ],
      "metadata": {
        "id": "i-zRkCoojc3x"
      }
    },
    {
      "cell_type": "code",
      "source": [
        "def extract_no(in_str):\n",
        "  '''\n",
        "  This function takes an observation in the metadata column and returns the number of reviews and\n",
        "  no of followers as a list\n",
        "  '''\n",
        "  in_str = in_str.lower()\n",
        "  split_list = in_str.split(',')\n",
        "  result = [0,0]\n",
        "  for i in split_list:\n",
        "    if 'review' in i:\n",
        "      result[0] = int(re.search('\\d+',i).group())\n",
        "    elif 'follower' in i:\n",
        "      result[1] = int(re.search('\\d+',i).group())\n",
        "  return result"
      ],
      "metadata": {
        "id": "pmNGcZccnhAV"
      },
      "execution_count": null,
      "outputs": []
    },
    {
      "cell_type": "code",
      "source": [
        "# Creating two additional columns\n",
        "review_df['No_of_review'] = review_df['Metadata'].apply(lambda x: extract_no(x)[0])\n",
        "review_df['No_of_Follower'] = review_df['Metadata'].apply(lambda x: extract_no(x)[1])\n",
        "\n",
        "# Dropping the Metadata column\n",
        "review_df.drop('Metadata',axis=1,inplace=True)"
      ],
      "metadata": {
        "id": "w6aQyBw_mRZb"
      },
      "execution_count": null,
      "outputs": []
    },
    {
      "cell_type": "markdown",
      "source": [
        "# **3) Univariate Analysis**"
      ],
      "metadata": {
        "id": "6n-qX1qMlD8t"
      }
    },
    {
      "cell_type": "markdown",
      "source": [
        "## Univariate analysis of the Restaurants data"
      ],
      "metadata": {
        "id": "FHY_vURNlHcq"
      }
    },
    {
      "cell_type": "code",
      "source": [
        "names_df.shape"
      ],
      "metadata": {
        "colab": {
          "base_uri": "https://localhost:8080/"
        },
        "id": "h0Y8tquXny2F",
        "outputId": "65beab82-04b0-4d51-bdc1-6d17444ea3cc"
      },
      "execution_count": null,
      "outputs": [
        {
          "output_type": "execute_result",
          "data": {
            "text/plain": [
              "(105, 19)"
            ]
          },
          "metadata": {},
          "execution_count": 35
        }
      ]
    },
    {
      "cell_type": "code",
      "source": [
        "names_df.head()"
      ],
      "metadata": {
        "colab": {
          "base_uri": "https://localhost:8080/",
          "height": 825
        },
        "id": "TaSL5k-1lGsB",
        "outputId": "a60ee543-04a7-4875-a251-1899b790986b"
      },
      "execution_count": null,
      "outputs": [
        {
          "output_type": "execute_result",
          "data": {
            "text/plain": [
              "                             Name   Cost  \\\n",
              "0                 Beyond Flavours    800   \n",
              "1                        Paradise    800   \n",
              "2                        Flechazo  1,300   \n",
              "3  Shah Ghouse Hotel & Restaurant    800   \n",
              "4      Over The Moon Brew Company  1,200   \n",
              "\n",
              "                                         Collections  \\\n",
              "0  Food Hygiene Rated Restaurants in Hyderabad, C...   \n",
              "1                                Hyderabad's Hottest   \n",
              "2                 Great Buffets, Hyderabad's Hottest   \n",
              "3                             Late Night Restaurants   \n",
              "4  Best Bars & Pubs, Food Hygiene Rated Restauran...   \n",
              "\n",
              "                                            Cuisines  \\\n",
              "0  Chinese, Continental, Kebab, European, South I...   \n",
              "1                     Biryani, North Indian, Chinese   \n",
              "2       Asian, Mediterranean, North Indian, Desserts   \n",
              "3  Biryani, North Indian, Chinese, Seafood, Bever...   \n",
              "4  Asian, Continental, North Indian, Chinese, Med...   \n",
              "\n",
              "                                             Timings       latitude  \\\n",
              "0        12pm to 3:30pm, 6:30pm to 11:30pm (mon-sun)  17.4288789799   \n",
              "1                                     11 am to 11 pm  17.4423818301   \n",
              "2              11:30 am to 4:30 pm, 6:30 pm to 11 pm  17.4352545759   \n",
              "3                                      12 pm to 2 am  17.4267217841   \n",
              "4  12pm to 11pm (mon, tue, wed, thu, sun); 12pm t...  17.4401549529   \n",
              "\n",
              "       longitude  Has_Featured  \\\n",
              "0  78.3739606768           0.0   \n",
              "1  78.3565796167           1.0   \n",
              "2  78.3680872992           1.0   \n",
              "3  78.3764155582           1.0   \n",
              "4  78.3619356528           1.0   \n",
              "\n",
              "                                           known_for  Romantic Dining  \\\n",
              "0  Ambience and Service, Courteous Staffs, Cozy, ...                1   \n",
              "1  Good Food Service, Good for Large Groups, Happ...                0   \n",
              "2  Value of Money Food, Good for Large Groups, Co...                0   \n",
              "3  Delivered on Time, Big Restaurant, Food was Go...                0   \n",
              "4  Music and Feel, Good Food and Good Service, Am...                1   \n",
              "\n",
              "   Takeaway Available  Valet Parking Available  Indoor Seating  Buffet  Wifi  \\\n",
              "0                   1                        1               1       1     1   \n",
              "1                   1                        1               1       0     0   \n",
              "2                   1                        0               1       1     1   \n",
              "3                   1                        0               1       0     0   \n",
              "4                   0                        0               1       0     0   \n",
              "\n",
              "   Seating Available  Table booking recommended  Home Delivery  \\\n",
              "0                  1                          1              1   \n",
              "1                  0                          0              1   \n",
              "2                  0                          1              1   \n",
              "3                  0                          0              1   \n",
              "4                  0                          0              1   \n",
              "\n",
              "                                           Open_days  \n",
              "0  ['sun', 'sat', 'mon', 'tue', 'fri', 'thu', 'wed']  \n",
              "1  ['mon', 'tue', 'wed', 'thu', 'fri', 'sat', 'sun']  \n",
              "2  ['mon', 'tue', 'wed', 'thu', 'fri', 'sat', 'sun']  \n",
              "3  ['mon', 'tue', 'wed', 'thu', 'fri', 'sat', 'sun']  \n",
              "4  ['sun', 'sat', 'mon', 'tue', 'fri', 'thu', 'wed']  "
            ],
            "text/html": [
              "\n",
              "  <div id=\"df-651f0c4c-0c62-4649-9bdb-b98499adcb89\">\n",
              "    <div class=\"colab-df-container\">\n",
              "      <div>\n",
              "<style scoped>\n",
              "    .dataframe tbody tr th:only-of-type {\n",
              "        vertical-align: middle;\n",
              "    }\n",
              "\n",
              "    .dataframe tbody tr th {\n",
              "        vertical-align: top;\n",
              "    }\n",
              "\n",
              "    .dataframe thead th {\n",
              "        text-align: right;\n",
              "    }\n",
              "</style>\n",
              "<table border=\"1\" class=\"dataframe\">\n",
              "  <thead>\n",
              "    <tr style=\"text-align: right;\">\n",
              "      <th></th>\n",
              "      <th>Name</th>\n",
              "      <th>Cost</th>\n",
              "      <th>Collections</th>\n",
              "      <th>Cuisines</th>\n",
              "      <th>Timings</th>\n",
              "      <th>latitude</th>\n",
              "      <th>longitude</th>\n",
              "      <th>Has_Featured</th>\n",
              "      <th>known_for</th>\n",
              "      <th>Romantic Dining</th>\n",
              "      <th>Takeaway Available</th>\n",
              "      <th>Valet Parking Available</th>\n",
              "      <th>Indoor Seating</th>\n",
              "      <th>Buffet</th>\n",
              "      <th>Wifi</th>\n",
              "      <th>Seating Available</th>\n",
              "      <th>Table booking recommended</th>\n",
              "      <th>Home Delivery</th>\n",
              "      <th>Open_days</th>\n",
              "    </tr>\n",
              "  </thead>\n",
              "  <tbody>\n",
              "    <tr>\n",
              "      <th>0</th>\n",
              "      <td>Beyond Flavours</td>\n",
              "      <td>800</td>\n",
              "      <td>Food Hygiene Rated Restaurants in Hyderabad, C...</td>\n",
              "      <td>Chinese, Continental, Kebab, European, South I...</td>\n",
              "      <td>12pm to 3:30pm, 6:30pm to 11:30pm (mon-sun)</td>\n",
              "      <td>17.4288789799</td>\n",
              "      <td>78.3739606768</td>\n",
              "      <td>0.0</td>\n",
              "      <td>Ambience and Service, Courteous Staffs, Cozy, ...</td>\n",
              "      <td>1</td>\n",
              "      <td>1</td>\n",
              "      <td>1</td>\n",
              "      <td>1</td>\n",
              "      <td>1</td>\n",
              "      <td>1</td>\n",
              "      <td>1</td>\n",
              "      <td>1</td>\n",
              "      <td>1</td>\n",
              "      <td>['sun', 'sat', 'mon', 'tue', 'fri', 'thu', 'wed']</td>\n",
              "    </tr>\n",
              "    <tr>\n",
              "      <th>1</th>\n",
              "      <td>Paradise</td>\n",
              "      <td>800</td>\n",
              "      <td>Hyderabad's Hottest</td>\n",
              "      <td>Biryani, North Indian, Chinese</td>\n",
              "      <td>11 am to 11 pm</td>\n",
              "      <td>17.4423818301</td>\n",
              "      <td>78.3565796167</td>\n",
              "      <td>1.0</td>\n",
              "      <td>Good Food Service, Good for Large Groups, Happ...</td>\n",
              "      <td>0</td>\n",
              "      <td>1</td>\n",
              "      <td>1</td>\n",
              "      <td>1</td>\n",
              "      <td>0</td>\n",
              "      <td>0</td>\n",
              "      <td>0</td>\n",
              "      <td>0</td>\n",
              "      <td>1</td>\n",
              "      <td>['mon', 'tue', 'wed', 'thu', 'fri', 'sat', 'sun']</td>\n",
              "    </tr>\n",
              "    <tr>\n",
              "      <th>2</th>\n",
              "      <td>Flechazo</td>\n",
              "      <td>1,300</td>\n",
              "      <td>Great Buffets, Hyderabad's Hottest</td>\n",
              "      <td>Asian, Mediterranean, North Indian, Desserts</td>\n",
              "      <td>11:30 am to 4:30 pm, 6:30 pm to 11 pm</td>\n",
              "      <td>17.4352545759</td>\n",
              "      <td>78.3680872992</td>\n",
              "      <td>1.0</td>\n",
              "      <td>Value of Money Food, Good for Large Groups, Co...</td>\n",
              "      <td>0</td>\n",
              "      <td>1</td>\n",
              "      <td>0</td>\n",
              "      <td>1</td>\n",
              "      <td>1</td>\n",
              "      <td>1</td>\n",
              "      <td>0</td>\n",
              "      <td>1</td>\n",
              "      <td>1</td>\n",
              "      <td>['mon', 'tue', 'wed', 'thu', 'fri', 'sat', 'sun']</td>\n",
              "    </tr>\n",
              "    <tr>\n",
              "      <th>3</th>\n",
              "      <td>Shah Ghouse Hotel &amp; Restaurant</td>\n",
              "      <td>800</td>\n",
              "      <td>Late Night Restaurants</td>\n",
              "      <td>Biryani, North Indian, Chinese, Seafood, Bever...</td>\n",
              "      <td>12 pm to 2 am</td>\n",
              "      <td>17.4267217841</td>\n",
              "      <td>78.3764155582</td>\n",
              "      <td>1.0</td>\n",
              "      <td>Delivered on Time, Big Restaurant, Food was Go...</td>\n",
              "      <td>0</td>\n",
              "      <td>1</td>\n",
              "      <td>0</td>\n",
              "      <td>1</td>\n",
              "      <td>0</td>\n",
              "      <td>0</td>\n",
              "      <td>0</td>\n",
              "      <td>0</td>\n",
              "      <td>1</td>\n",
              "      <td>['mon', 'tue', 'wed', 'thu', 'fri', 'sat', 'sun']</td>\n",
              "    </tr>\n",
              "    <tr>\n",
              "      <th>4</th>\n",
              "      <td>Over The Moon Brew Company</td>\n",
              "      <td>1,200</td>\n",
              "      <td>Best Bars &amp; Pubs, Food Hygiene Rated Restauran...</td>\n",
              "      <td>Asian, Continental, North Indian, Chinese, Med...</td>\n",
              "      <td>12pm to 11pm (mon, tue, wed, thu, sun); 12pm t...</td>\n",
              "      <td>17.4401549529</td>\n",
              "      <td>78.3619356528</td>\n",
              "      <td>1.0</td>\n",
              "      <td>Music and Feel, Good Food and Good Service, Am...</td>\n",
              "      <td>1</td>\n",
              "      <td>0</td>\n",
              "      <td>0</td>\n",
              "      <td>1</td>\n",
              "      <td>0</td>\n",
              "      <td>0</td>\n",
              "      <td>0</td>\n",
              "      <td>0</td>\n",
              "      <td>1</td>\n",
              "      <td>['sun', 'sat', 'mon', 'tue', 'fri', 'thu', 'wed']</td>\n",
              "    </tr>\n",
              "  </tbody>\n",
              "</table>\n",
              "</div>\n",
              "      <button class=\"colab-df-convert\" onclick=\"convertToInteractive('df-651f0c4c-0c62-4649-9bdb-b98499adcb89')\"\n",
              "              title=\"Convert this dataframe to an interactive table.\"\n",
              "              style=\"display:none;\">\n",
              "        \n",
              "  <svg xmlns=\"http://www.w3.org/2000/svg\" height=\"24px\"viewBox=\"0 0 24 24\"\n",
              "       width=\"24px\">\n",
              "    <path d=\"M0 0h24v24H0V0z\" fill=\"none\"/>\n",
              "    <path d=\"M18.56 5.44l.94 2.06.94-2.06 2.06-.94-2.06-.94-.94-2.06-.94 2.06-2.06.94zm-11 1L8.5 8.5l.94-2.06 2.06-.94-2.06-.94L8.5 2.5l-.94 2.06-2.06.94zm10 10l.94 2.06.94-2.06 2.06-.94-2.06-.94-.94-2.06-.94 2.06-2.06.94z\"/><path d=\"M17.41 7.96l-1.37-1.37c-.4-.4-.92-.59-1.43-.59-.52 0-1.04.2-1.43.59L10.3 9.45l-7.72 7.72c-.78.78-.78 2.05 0 2.83L4 21.41c.39.39.9.59 1.41.59.51 0 1.02-.2 1.41-.59l7.78-7.78 2.81-2.81c.8-.78.8-2.07 0-2.86zM5.41 20L4 18.59l7.72-7.72 1.47 1.35L5.41 20z\"/>\n",
              "  </svg>\n",
              "      </button>\n",
              "      \n",
              "  <style>\n",
              "    .colab-df-container {\n",
              "      display:flex;\n",
              "      flex-wrap:wrap;\n",
              "      gap: 12px;\n",
              "    }\n",
              "\n",
              "    .colab-df-convert {\n",
              "      background-color: #E8F0FE;\n",
              "      border: none;\n",
              "      border-radius: 50%;\n",
              "      cursor: pointer;\n",
              "      display: none;\n",
              "      fill: #1967D2;\n",
              "      height: 32px;\n",
              "      padding: 0 0 0 0;\n",
              "      width: 32px;\n",
              "    }\n",
              "\n",
              "    .colab-df-convert:hover {\n",
              "      background-color: #E2EBFA;\n",
              "      box-shadow: 0px 1px 2px rgba(60, 64, 67, 0.3), 0px 1px 3px 1px rgba(60, 64, 67, 0.15);\n",
              "      fill: #174EA6;\n",
              "    }\n",
              "\n",
              "    [theme=dark] .colab-df-convert {\n",
              "      background-color: #3B4455;\n",
              "      fill: #D2E3FC;\n",
              "    }\n",
              "\n",
              "    [theme=dark] .colab-df-convert:hover {\n",
              "      background-color: #434B5C;\n",
              "      box-shadow: 0px 1px 3px 1px rgba(0, 0, 0, 0.15);\n",
              "      filter: drop-shadow(0px 1px 2px rgba(0, 0, 0, 0.3));\n",
              "      fill: #FFFFFF;\n",
              "    }\n",
              "  </style>\n",
              "\n",
              "      <script>\n",
              "        const buttonEl =\n",
              "          document.querySelector('#df-651f0c4c-0c62-4649-9bdb-b98499adcb89 button.colab-df-convert');\n",
              "        buttonEl.style.display =\n",
              "          google.colab.kernel.accessAllowed ? 'block' : 'none';\n",
              "\n",
              "        async function convertToInteractive(key) {\n",
              "          const element = document.querySelector('#df-651f0c4c-0c62-4649-9bdb-b98499adcb89');\n",
              "          const dataTable =\n",
              "            await google.colab.kernel.invokeFunction('convertToInteractive',\n",
              "                                                     [key], {});\n",
              "          if (!dataTable) return;\n",
              "\n",
              "          const docLinkHtml = 'Like what you see? Visit the ' +\n",
              "            '<a target=\"_blank\" href=https://colab.research.google.com/notebooks/data_table.ipynb>data table notebook</a>'\n",
              "            + ' to learn more about interactive tables.';\n",
              "          element.innerHTML = '';\n",
              "          dataTable['output_type'] = 'display_data';\n",
              "          await google.colab.output.renderOutput(dataTable, element);\n",
              "          const docLink = document.createElement('div');\n",
              "          docLink.innerHTML = docLinkHtml;\n",
              "          element.appendChild(docLink);\n",
              "        }\n",
              "      </script>\n",
              "    </div>\n",
              "  </div>\n",
              "  "
            ]
          },
          "metadata": {},
          "execution_count": 36
        }
      ]
    },
    {
      "cell_type": "code",
      "source": [
        "names_df.info()"
      ],
      "metadata": {
        "colab": {
          "base_uri": "https://localhost:8080/"
        },
        "id": "cBgiJqkllbeY",
        "outputId": "8d1310d9-ef40-4098-a1fe-c775177d00f0"
      },
      "execution_count": null,
      "outputs": [
        {
          "output_type": "stream",
          "name": "stdout",
          "text": [
            "<class 'pandas.core.frame.DataFrame'>\n",
            "RangeIndex: 105 entries, 0 to 104\n",
            "Data columns (total 19 columns):\n",
            " #   Column                     Non-Null Count  Dtype  \n",
            "---  ------                     --------------  -----  \n",
            " 0   Name                       105 non-null    object \n",
            " 1   Cost                       105 non-null    object \n",
            " 2   Collections                51 non-null     object \n",
            " 3   Cuisines                   105 non-null    object \n",
            " 4   Timings                    105 non-null    object \n",
            " 5   latitude                   104 non-null    object \n",
            " 6   longitude                  104 non-null    object \n",
            " 7   Has_Featured               105 non-null    float64\n",
            " 8   known_for                  105 non-null    object \n",
            " 9   Romantic Dining            105 non-null    int64  \n",
            " 10  Takeaway Available         105 non-null    int64  \n",
            " 11  Valet Parking Available    105 non-null    int64  \n",
            " 12  Indoor Seating             105 non-null    int64  \n",
            " 13  Buffet                     105 non-null    int64  \n",
            " 14  Wifi                       105 non-null    int64  \n",
            " 15  Seating Available          105 non-null    int64  \n",
            " 16  Table booking recommended  105 non-null    int64  \n",
            " 17  Home Delivery              105 non-null    int64  \n",
            " 18  Open_days                  105 non-null    object \n",
            "dtypes: float64(1), int64(9), object(9)\n",
            "memory usage: 15.7+ KB\n"
          ]
        }
      ]
    },
    {
      "cell_type": "markdown",
      "source": [
        "### 1) Cost"
      ],
      "metadata": {
        "id": "k4CIXPQ6nmzH"
      }
    },
    {
      "cell_type": "code",
      "source": [
        "# changing the data type of the cost function\n",
        "names_df['Cost'] = names_df['Cost'].str.replace(\",\",\"\").astype('int64')"
      ],
      "metadata": {
        "id": "bjllaQ4bmK2K"
      },
      "execution_count": null,
      "outputs": []
    },
    {
      "cell_type": "code",
      "source": [
        "## Let us look at the distribution of the per person costs of the restaurants\n",
        "sns.distplot(a=names_df['Cost'], bins=20,kde=True,hist = True)"
      ],
      "metadata": {
        "colab": {
          "base_uri": "https://localhost:8080/",
          "height": 299
        },
        "id": "5yvxuko8n5Sf",
        "outputId": "03099897-3033-4be3-c4c7-305210bb68e6"
      },
      "execution_count": null,
      "outputs": [
        {
          "output_type": "execute_result",
          "data": {
            "text/plain": [
              "<matplotlib.axes._subplots.AxesSubplot at 0x7fb3a445e210>"
            ]
          },
          "metadata": {},
          "execution_count": 39
        },
        {
          "output_type": "display_data",
          "data": {
            "text/plain": [
              "<Figure size 432x288 with 1 Axes>"
            ],
            "image/png": "[encoded data removed]"
          },
          "metadata": {
            "needs_background": "light"
          }
        }
      ]
    },
    {
      "cell_type": "code",
      "source": [
        "# Boxplot of the cost variable\n",
        "sns.boxplot(x=names_df['Cost'])"
      ],
      "metadata": {
        "colab": {
          "base_uri": "https://localhost:8080/",
          "height": 297
        },
        "id": "dtNy9PARorGD",
        "outputId": "765ba8bc-03eb-4ec0-e2b5-4719d9dcce7c"
      },
      "execution_count": null,
      "outputs": [
        {
          "output_type": "execute_result",
          "data": {
            "text/plain": [
              "<matplotlib.axes._subplots.AxesSubplot at 0x7fb3a5521e10>"
            ]
          },
          "metadata": {},
          "execution_count": 40
        },
        {
          "output_type": "display_data",
          "data": {
            "text/plain": [
              "<Figure size 432x288 with 1 Axes>"
            ],
            "image/png": "[encoded data removed]"
          },
          "metadata": {
            "needs_background": "light"
          }
        }
      ]
    },
    {
      "cell_type": "markdown",
      "source": [
        "The distribution of cost is positively skewed with a median of around 700 Rs. per person. The restaurants are mostly in the range of 100-2000 Rs. per person."
      ],
      "metadata": {
        "id": "oZZ8bdxtpayH"
      }
    },
    {
      "cell_type": "markdown",
      "source": [
        "### 2) Collections\n",
        "\n",
        "This column has too many missing values(>50%) and it is mainly text based and we have extracted similar and more reliable information from the website in the 'known_for' column. So we can drop this column"
      ],
      "metadata": {
        "id": "9PtkxU5CtXzx"
      }
    },
    {
      "cell_type": "code",
      "source": [
        "names_df.drop('Collections',axis = 1, inplace=True)"
      ],
      "metadata": {
        "id": "wH3PzVzxtkrd"
      },
      "execution_count": null,
      "outputs": []
    },
    {
      "cell_type": "markdown",
      "source": [
        "### 3) Cuisines"
      ],
      "metadata": {
        "id": "bMwuBDmxuRu7"
      }
    },
    {
      "cell_type": "markdown",
      "source": [
        "#need work here"
      ],
      "metadata": {
        "id": "5qGkr8dBwK3c"
      }
    },
    {
      "cell_type": "code",
      "source": [
        "cuisine_counts = names_df['Cuisines'].value_counts().reset_index()"
      ],
      "metadata": {
        "id": "padup98fv3An"
      },
      "execution_count": null,
      "outputs": []
    },
    {
      "cell_type": "code",
      "source": [
        "cuisine_counts"
      ],
      "metadata": {
        "colab": {
          "base_uri": "https://localhost:8080/",
          "height": 423
        },
        "id": "kWYfXAbLwAxG",
        "outputId": "accb432e-e0c5-4cfb-c037-53e4f38db46e"
      },
      "execution_count": null,
      "outputs": [
        {
          "output_type": "execute_result",
          "data": {
            "text/plain": [
              "                                                index  Cuisines\n",
              "0                               North Indian, Chinese         4\n",
              "1                                        North Indian         3\n",
              "2                                 Ice Cream, Desserts         2\n",
              "3                      Biryani, North Indian, Chinese         2\n",
              "4                 South Indian, North Indian, Chinese         2\n",
              "..                                                ...       ...\n",
              "87  Biryani, South Indian, North Indian, Chinese, ...         1\n",
              "88         Italian, North Indian, South Indian, Asian         1\n",
              "89                            North Indian, Fast Food         1\n",
              "90                     Arabian, North Indian, Chinese         1\n",
              "91                    Thai, Asian, Chinese, Malaysian         1\n",
              "\n",
              "[92 rows x 2 columns]"
            ],
            "text/html": [
              "\n",
              "  <div id=\"df-53de7f3f-64a2-4a65-9060-562e1a53b556\">\n",
              "    <div class=\"colab-df-container\">\n",
              "      <div>\n",
              "<style scoped>\n",
              "    .dataframe tbody tr th:only-of-type {\n",
              "        vertical-align: middle;\n",
              "    }\n",
              "\n",
              "    .dataframe tbody tr th {\n",
              "        vertical-align: top;\n",
              "    }\n",
              "\n",
              "    .dataframe thead th {\n",
              "        text-align: right;\n",
              "    }\n",
              "</style>\n",
              "<table border=\"1\" class=\"dataframe\">\n",
              "  <thead>\n",
              "    <tr style=\"text-align: right;\">\n",
              "      <th></th>\n",
              "      <th>index</th>\n",
              "      <th>Cuisines</th>\n",
              "    </tr>\n",
              "  </thead>\n",
              "  <tbody>\n",
              "    <tr>\n",
              "      <th>0</th>\n",
              "      <td>North Indian, Chinese</td>\n",
              "      <td>4</td>\n",
              "    </tr>\n",
              "    <tr>\n",
              "      <th>1</th>\n",
              "      <td>North Indian</td>\n",
              "      <td>3</td>\n",
              "    </tr>\n",
              "    <tr>\n",
              "      <th>2</th>\n",
              "      <td>Ice Cream, Desserts</td>\n",
              "      <td>2</td>\n",
              "    </tr>\n",
              "    <tr>\n",
              "      <th>3</th>\n",
              "      <td>Biryani, North Indian, Chinese</td>\n",
              "      <td>2</td>\n",
              "    </tr>\n",
              "    <tr>\n",
              "      <th>4</th>\n",
              "      <td>South Indian, North Indian, Chinese</td>\n",
              "      <td>2</td>\n",
              "    </tr>\n",
              "    <tr>\n",
              "      <th>...</th>\n",
              "      <td>...</td>\n",
              "      <td>...</td>\n",
              "    </tr>\n",
              "    <tr>\n",
              "      <th>87</th>\n",
              "      <td>Biryani, South Indian, North Indian, Chinese, ...</td>\n",
              "      <td>1</td>\n",
              "    </tr>\n",
              "    <tr>\n",
              "      <th>88</th>\n",
              "      <td>Italian, North Indian, South Indian, Asian</td>\n",
              "      <td>1</td>\n",
              "    </tr>\n",
              "    <tr>\n",
              "      <th>89</th>\n",
              "      <td>North Indian, Fast Food</td>\n",
              "      <td>1</td>\n",
              "    </tr>\n",
              "    <tr>\n",
              "      <th>90</th>\n",
              "      <td>Arabian, North Indian, Chinese</td>\n",
              "      <td>1</td>\n",
              "    </tr>\n",
              "    <tr>\n",
              "      <th>91</th>\n",
              "      <td>Thai, Asian, Chinese, Malaysian</td>\n",
              "      <td>1</td>\n",
              "    </tr>\n",
              "  </tbody>\n",
              "</table>\n",
              "<p>92 rows × 2 columns</p>\n",
              "</div>\n",
              "      <button class=\"colab-df-convert\" onclick=\"convertToInteractive('df-53de7f3f-64a2-4a65-9060-562e1a53b556')\"\n",
              "              title=\"Convert this dataframe to an interactive table.\"\n",
              "              style=\"display:none;\">\n",
              "        \n",
              "  <svg xmlns=\"http://www.w3.org/2000/svg\" height=\"24px\"viewBox=\"0 0 24 24\"\n",
              "       width=\"24px\">\n",
              "    <path d=\"M0 0h24v24H0V0z\" fill=\"none\"/>\n",
              "    <path d=\"M18.56 5.44l.94 2.06.94-2.06 2.06-.94-2.06-.94-.94-2.06-.94 2.06-2.06.94zm-11 1L8.5 8.5l.94-2.06 2.06-.94-2.06-.94L8.5 2.5l-.94 2.06-2.06.94zm10 10l.94 2.06.94-2.06 2.06-.94-2.06-.94-.94-2.06-.94 2.06-2.06.94z\"/><path d=\"M17.41 7.96l-1.37-1.37c-.4-.4-.92-.59-1.43-.59-.52 0-1.04.2-1.43.59L10.3 9.45l-7.72 7.72c-.78.78-.78 2.05 0 2.83L4 21.41c.39.39.9.59 1.41.59.51 0 1.02-.2 1.41-.59l7.78-7.78 2.81-2.81c.8-.78.8-2.07 0-2.86zM5.41 20L4 18.59l7.72-7.72 1.47 1.35L5.41 20z\"/>\n",
              "  </svg>\n",
              "      </button>\n",
              "      \n",
              "  <style>\n",
              "    .colab-df-container {\n",
              "      display:flex;\n",
              "      flex-wrap:wrap;\n",
              "      gap: 12px;\n",
              "    }\n",
              "\n",
              "    .colab-df-convert {\n",
              "      background-color: #E8F0FE;\n",
              "      border: none;\n",
              "      border-radius: 50%;\n",
              "      cursor: pointer;\n",
              "      display: none;\n",
              "      fill: #1967D2;\n",
              "      height: 32px;\n",
              "      padding: 0 0 0 0;\n",
              "      width: 32px;\n",
              "    }\n",
              "\n",
              "    .colab-df-convert:hover {\n",
              "      background-color: #E2EBFA;\n",
              "      box-shadow: 0px 1px 2px rgba(60, 64, 67, 0.3), 0px 1px 3px 1px rgba(60, 64, 67, 0.15);\n",
              "      fill: #174EA6;\n",
              "    }\n",
              "\n",
              "    [theme=dark] .colab-df-convert {\n",
              "      background-color: #3B4455;\n",
              "      fill: #D2E3FC;\n",
              "    }\n",
              "\n",
              "    [theme=dark] .colab-df-convert:hover {\n",
              "      background-color: #434B5C;\n",
              "      box-shadow: 0px 1px 3px 1px rgba(0, 0, 0, 0.15);\n",
              "      filter: drop-shadow(0px 1px 2px rgba(0, 0, 0, 0.3));\n",
              "      fill: #FFFFFF;\n",
              "    }\n",
              "  </style>\n",
              "\n",
              "      <script>\n",
              "        const buttonEl =\n",
              "          document.querySelector('#df-53de7f3f-64a2-4a65-9060-562e1a53b556 button.colab-df-convert');\n",
              "        buttonEl.style.display =\n",
              "          google.colab.kernel.accessAllowed ? 'block' : 'none';\n",
              "\n",
              "        async function convertToInteractive(key) {\n",
              "          const element = document.querySelector('#df-53de7f3f-64a2-4a65-9060-562e1a53b556');\n",
              "          const dataTable =\n",
              "            await google.colab.kernel.invokeFunction('convertToInteractive',\n",
              "                                                     [key], {});\n",
              "          if (!dataTable) return;\n",
              "\n",
              "          const docLinkHtml = 'Like what you see? Visit the ' +\n",
              "            '<a target=\"_blank\" href=https://colab.research.google.com/notebooks/data_table.ipynb>data table notebook</a>'\n",
              "            + ' to learn more about interactive tables.';\n",
              "          element.innerHTML = '';\n",
              "          dataTable['output_type'] = 'display_data';\n",
              "          await google.colab.output.renderOutput(dataTable, element);\n",
              "          const docLink = document.createElement('div');\n",
              "          docLink.innerHTML = docLinkHtml;\n",
              "          element.appendChild(docLink);\n",
              "        }\n",
              "      </script>\n",
              "    </div>\n",
              "  </div>\n",
              "  "
            ]
          },
          "metadata": {},
          "execution_count": 43
        }
      ]
    },
    {
      "cell_type": "code",
      "source": [
        "cat_more_100 = more_than_100['Category'].value_counts().reset_index().rename(columns= {'index':'Category','Category':'Count'})\n",
        "cat_more_100.index=cat_more_100['Category']\n",
        "squarify.plot(sizes=cat_more_100['Count'], label=cat_more_100['Category'], alpha=0.6)"
      ],
      "metadata": {
        "id": "XGiBk0mhuRHU",
        "colab": {
          "base_uri": "https://localhost:8080/",
          "height": 201
        },
        "outputId": "a075cca0-5820-4b7e-a4d1-757ae4f8b1b4"
      },
      "execution_count": null,
      "outputs": [
        {
          "output_type": "error",
          "ename": "NameError",
          "evalue": "ignored",
          "traceback": [
            "\u001b[0;31m---------------------------------------------------------------------------\u001b[0m",
            "\u001b[0;31mNameError\u001b[0m                                 Traceback (most recent call last)",
            "\u001b[0;32m<ipython-input-44-5df277159927>\u001b[0m in \u001b[0;36m<module>\u001b[0;34m()\u001b[0m\n\u001b[0;32m----> 1\u001b[0;31m \u001b[0mcat_more_100\u001b[0m \u001b[0;34m=\u001b[0m \u001b[0mmore_than_100\u001b[0m\u001b[0;34m[\u001b[0m\u001b[0;34m'Category'\u001b[0m\u001b[0;34m]\u001b[0m\u001b[0;34m.\u001b[0m\u001b[0mvalue_counts\u001b[0m\u001b[0;34m(\u001b[0m\u001b[0;34m)\u001b[0m\u001b[0;34m.\u001b[0m\u001b[0mreset_index\u001b[0m\u001b[0;34m(\u001b[0m\u001b[0;34m)\u001b[0m\u001b[0;34m.\u001b[0m\u001b[0mrename\u001b[0m\u001b[0;34m(\u001b[0m\u001b[0mcolumns\u001b[0m\u001b[0;34m=\u001b[0m \u001b[0;34m{\u001b[0m\u001b[0;34m'index'\u001b[0m\u001b[0;34m:\u001b[0m\u001b[0;34m'Category'\u001b[0m\u001b[0;34m,\u001b[0m\u001b[0;34m'Category'\u001b[0m\u001b[0;34m:\u001b[0m\u001b[0;34m'Count'\u001b[0m\u001b[0;34m}\u001b[0m\u001b[0;34m)\u001b[0m\u001b[0;34m\u001b[0m\u001b[0;34m\u001b[0m\u001b[0m\n\u001b[0m\u001b[1;32m      2\u001b[0m \u001b[0mcat_more_100\u001b[0m\u001b[0;34m.\u001b[0m\u001b[0mindex\u001b[0m\u001b[0;34m=\u001b[0m\u001b[0mcat_more_100\u001b[0m\u001b[0;34m[\u001b[0m\u001b[0;34m'Category'\u001b[0m\u001b[0;34m]\u001b[0m\u001b[0;34m\u001b[0m\u001b[0;34m\u001b[0m\u001b[0m\n\u001b[1;32m      3\u001b[0m \u001b[0msquarify\u001b[0m\u001b[0;34m.\u001b[0m\u001b[0mplot\u001b[0m\u001b[0;34m(\u001b[0m\u001b[0msizes\u001b[0m\u001b[0;34m=\u001b[0m\u001b[0mcat_more_100\u001b[0m\u001b[0;34m[\u001b[0m\u001b[0;34m'Count'\u001b[0m\u001b[0;34m]\u001b[0m\u001b[0;34m,\u001b[0m \u001b[0mlabel\u001b[0m\u001b[0;34m=\u001b[0m\u001b[0mcat_more_100\u001b[0m\u001b[0;34m[\u001b[0m\u001b[0;34m'Category'\u001b[0m\u001b[0;34m]\u001b[0m\u001b[0;34m,\u001b[0m \u001b[0malpha\u001b[0m\u001b[0;34m=\u001b[0m\u001b[0;36m0.6\u001b[0m\u001b[0;34m)\u001b[0m\u001b[0;34m\u001b[0m\u001b[0;34m\u001b[0m\u001b[0m\n",
            "\u001b[0;31mNameError\u001b[0m: name 'more_than_100' is not defined"
          ]
        }
      ]
    },
    {
      "cell_type": "markdown",
      "source": [
        "### 4) Latitude and Longitude\n",
        "Let us visualize the locations of the restaurants using maps"
      ],
      "metadata": {
        "id": "gv8CMaIpweuc"
      }
    },
    {
      "cell_type": "code",
      "source": [
        "# We know from the above table(from names_df.info()) that there is one missing item in the latitude and longitudes. Let us just drop it\n",
        "names_df.dropna(subset = ['latitude','longitude'],inplace = True)"
      ],
      "metadata": {
        "id": "6YqfDD7pykAK"
      },
      "execution_count": null,
      "outputs": []
    },
    {
      "cell_type": "code",
      "source": [
        "names_df.shape"
      ],
      "metadata": {
        "colab": {
          "base_uri": "https://localhost:8080/"
        },
        "id": "zdn2z3X1wNeN",
        "outputId": "fcf6869a-5044-4f2a-ff0f-b15d6abcd6c6"
      },
      "execution_count": null,
      "outputs": [
        {
          "output_type": "execute_result",
          "data": {
            "text/plain": [
              "(104, 18)"
            ]
          },
          "metadata": {},
          "execution_count": 46
        }
      ]
    },
    {
      "cell_type": "code",
      "source": [
        "# latitudes and longitudes are currently in the string format. We need to convert them into a numeric format\n",
        "names_df['latitude'] = names_df['latitude'].astype(float)\n",
        "names_df['longitude'] = names_df['longitude'].astype(float)"
      ],
      "metadata": {
        "id": "96xyu8Vj1KFx"
      },
      "execution_count": null,
      "outputs": []
    },
    {
      "cell_type": "code",
      "source": [
        "# Creating the folium map variable\n",
        "mapit = folium.Map(width=750,height=450,\n",
        "                   location=[names_df.iloc[3]['latitude'],names_df.iloc[5]['longitude']],\n",
        "                   zoom_start=13,min_zoom=12,max_zoom=20)\n",
        "\n",
        "mapit.save('map.html')"
      ],
      "metadata": {
        "id": "554MvG0ntXdy"
      },
      "execution_count": null,
      "outputs": []
    },
    {
      "cell_type": "code",
      "source": [
        "# Adding the markers of restaurant locations\n",
        "for i in names_df.index:\n",
        "  folium.Marker(location=[names_df.latitude[i], names_df.longitude[i]]).add_to(mapit)"
      ],
      "metadata": {
        "id": "vfpXsiOUpXuS"
      },
      "execution_count": null,
      "outputs": []
    },
    {
      "cell_type": "code",
      "source": [
        "mapit"
      ],
      "metadata": {
        "colab": {
          "base_uri": "https://localhost:8080/",
          "height": 712
        },
        "id": "Ao_sfoozqxNq",
        "outputId": "5b53d803-8979-4e09-e46d-f0f1e8f383c1"
      },
      "execution_count": null,
      "outputs": [
        {
          "output_type": "execute_result",
          "data": {
            "text/plain": [
              "<folium.folium.Map at 0x7fb3a3c8ea10>"
            ],
            "text/html": [
              "<div style=\"width:100%;\"><div style=\"position:relative;width:100%;height:0;padding-bottom:60%;\"><span style=\"color:#565656\">Make this Notebook Trusted to load map: File -> Trust Notebook</span><iframe src=\"about:blank\" style=\"position:absolute;width:100%;height:100%;left:0;top:0;border:none !important;\" data-html=%3C%21DOCTYPE%20html%3E%0A%3Chead%3E%20%20%20%20%0A%20%20%20%20%3Cmeta%20http-equiv%3D%22content-type%22%20content%3D%22text/html%3B%20charset%3DUTF-8%22%20/%3E%0A%20%20%20%20%3Cscript%3EL_PREFER_CANVAS%3Dfalse%3B%20L_NO_TOUCH%3Dfalse%3B%20L_DISABLE_3D%3Dfalse%3B%3C/script%3E%0A%20%20%20%20%3Cscript%20src%3D%22https%3A//cdn.jsdelivr.net/npm/leaflet%401.4.0/dist/leaflet.js%22%3E%3C/script%3E%0A%20%20%20%20%3Cscript%20src%3D%22https%3A//code.jquery.com/jquery-1.12.4.min.js%22%3E%3C/script%3E%0A%20%20%20%20%3Cscript%20src%3D%22https%3A//maxcdn.bootstrapcdn.com/bootstrap/3.2.0/js/bootstrap.min.js%22%3E%3C/script%3E%0A%20%20%20%20%3Cscript%20src%3D%22https%3A//cdnjs.cloudflare.com/ajax/libs/Leaflet.awesome-markers/2.0.2/leaflet.awesome-markers.js%22%3E%3C/script%3E%0A%20%20%20%20%3Clink%20rel%3D%22stylesheet%22%20href%3D%22https%3A//cdn.jsdelivr.net/npm/leaflet%401.4.0/dist/leaflet.css%22/%3E%0A%20%20%20%20%3Clink%20rel%3D%22stylesheet%22%20href%3D%22https%3A//maxcdn.bootstrapcdn.com/bootstrap/3.2.0/css/bootstrap.min.css%22/%3E%0A%20%20%20%20%3Clink%20rel%3D%22stylesheet%22%20href%3D%22https%3A//maxcdn.bootstrapcdn.com/bootstrap/3.2.0/css/bootstrap-theme.min.css%22/%3E%0A%20%20%20%20%3Clink%20rel%3D%22stylesheet%22%20href%3D%22https%3A//maxcdn.bootstrapcdn.com/font-awesome/4.6.3/css/font-awesome.min.css%22/%3E%0A%20%20%20%20%3Clink%20rel%3D%22stylesheet%22%20href%3D%22https%3A//cdnjs.cloudflare.com/ajax/libs/Leaflet.awesome-markers/2.0.2/leaflet.awesome-markers.css%22/%3E%0A%20%20%20%20%3Clink%20rel%3D%22stylesheet%22%20href%3D%22https%3A//rawcdn.githack.com/python-visualization/folium/master/folium/templates/leaflet.awesome.rotate.css%22/%3E%0A%20%20%20%20%3Cstyle%3Ehtml%2C%20body%20%7Bwidth%3A%20100%25%3Bheight%3A%20100%25%3Bmargin%3A%200%3Bpadding%3A%200%3B%7D%3C/style%3E%0A%20%20%20%20%3Cstyle%3E%23map%20%7Bposition%3Aabsolute%3Btop%3A0%3Bbottom%3A0%3Bright%3A0%3Bleft%3A0%3B%7D%3C/style%3E%0A%20%20%20%20%0A%20%20%20%20%3Cmeta%20name%3D%22viewport%22%20content%3D%22width%3Ddevice-width%2C%0A%20%20%20%20%20%20%20%20initial-scale%3D1.0%2C%20maximum-scale%3D1.0%2C%20user-scalable%3Dno%22%20/%3E%0A%20%20%20%20%3Cstyle%3E%23map_7c0b2efc5e7d49fa989d831b28c228ff%20%7B%0A%20%20%20%20%20%20%20%20position%3A%20relative%3B%0A%20%20%20%20%20%20%20%20width%3A%20750.0px%3B%0A%20%20%20%20%20%20%20%20height%3A%20450.0px%3B%0A%20%20%20%20%20%20%20%20left%3A%200.0%25%3B%0A%20%20%20%20%20%20%20%20top%3A%200.0%25%3B%0A%20%20%20%20%20%20%20%20%7D%0A%20%20%20%20%3C/style%3E%0A%3C/head%3E%0A%3Cbody%3E%20%20%20%20%0A%20%20%20%20%0A%20%20%20%20%3Cdiv%20class%3D%22folium-map%22%20id%3D%22map_7c0b2efc5e7d49fa989d831b28c228ff%22%20%3E%3C/div%3E%0A%3C/body%3E%0A%3Cscript%3E%20%20%20%20%0A%20%20%20%20%0A%20%20%20%20%0A%20%20%20%20%20%20%20%20var%20bounds%20%3D%20null%3B%0A%20%20%20%20%0A%0A%20%20%20%20var%20map_7c0b2efc5e7d49fa989d831b28c228ff%20%3D%20L.map%28%0A%20%20%20%20%20%20%20%20%27map_7c0b2efc5e7d49fa989d831b28c228ff%27%2C%20%7B%0A%20%20%20%20%20%20%20%20center%3A%20%5B17.4267217841%2C%2078.3320722729%5D%2C%0A%20%20%20%20%20%20%20%20zoom%3A%2013%2C%0A%20%20%20%20%20%20%20%20maxBounds%3A%20bounds%2C%0A%20%20%20%20%20%20%20%20layers%3A%20%5B%5D%2C%0A%20%20%20%20%20%20%20%20worldCopyJump%3A%20false%2C%0A%20%20%20%20%20%20%20%20crs%3A%20L.CRS.EPSG3857%2C%0A%20%20%20%20%20%20%20%20zoomControl%3A%20true%2C%0A%20%20%20%20%20%20%20%20%7D%29%3B%0A%0A%0A%20%20%20%20%0A%20%20%20%20var%20tile_layer_99e7cb32be064f9189b07eaafc93b369%20%3D%20L.tileLayer%28%0A%20%20%20%20%20%20%20%20%27https%3A//%7Bs%7D.tile.openstreetmap.org/%7Bz%7D/%7Bx%7D/%7By%7D.png%27%2C%0A%20%20%20%20%20%20%20%20%7B%0A%20%20%20%20%20%20%20%20%22attribution%22%3A%20null%2C%0A%20%20%20%20%20%20%20%20%22detectRetina%22%3A%20false%2C%0A%20%20%20%20%20%20%20%20%22maxNativeZoom%22%3A%2020%2C%0A%20%20%20%20%20%20%20%20%22maxZoom%22%3A%2020%2C%0A%20%20%20%20%20%20%20%20%22minZoom%22%3A%2012%2C%0A%20%20%20%20%20%20%20%20%22noWrap%22%3A%20false%2C%0A%20%20%20%20%20%20%20%20%22opacity%22%3A%201%2C%0A%20%20%20%20%20%20%20%20%22subdomains%22%3A%20%22abc%22%2C%0A%20%20%20%20%20%20%20%20%22tms%22%3A%20false%0A%7D%29.addTo%28map_7c0b2efc5e7d49fa989d831b28c228ff%29%3B%0A%20%20%20%20%0A%20%20%20%20%20%20%20%20var%20marker_9ccbab51e6794a5c8e313202ba61074e%20%3D%20L.marker%28%0A%20%20%20%20%20%20%20%20%20%20%20%20%5B17.4288789799%2C%2078.3739606768%5D%2C%0A%20%20%20%20%20%20%20%20%20%20%20%20%7B%0A%20%20%20%20%20%20%20%20%20%20%20%20%20%20%20%20icon%3A%20new%20L.Icon.Default%28%29%2C%0A%20%20%20%20%20%20%20%20%20%20%20%20%20%20%20%20%7D%0A%20%20%20%20%20%20%20%20%20%20%20%20%29.addTo%28map_7c0b2efc5e7d49fa989d831b28c228ff%29%3B%0A%20%20%20%20%20%20%20%20%0A%20%20%20%20%0A%20%20%20%20%20%20%20%20var%20marker_98492f5935cf41528940bce623e71226%20%3D%20L.marker%28%0A%20%20%20%20%20%20%20%20%20%20%20%20%5B17.4423818301%2C%2078.3565796167%5D%2C%0A%20%20%20%20%20%20%20%20%20%20%20%20%7B%0A%20%20%20%20%20%20%20%20%20%20%20%20%20%20%20%20icon%3A%20new%20L.Icon.Default%28%29%2C%0A%20%20%20%20%20%20%20%20%20%20%20%20%20%20%20%20%7D%0A%20%20%20%20%20%20%20%20%20%20%20%20%29.addTo%28map_7c0b2efc5e7d49fa989d831b28c228ff%29%3B%0A%20%20%20%20%20%20%20%20%0A%20%20%20%20%0A%20%20%20%20%20%20%20%20var%20marker_2ed5342db02f4f93bd194cbd2151639a%20%3D%20L.marker%28%0A%20%20%20%20%20%20%20%20%20%20%20%20%5B17.4352545759%2C%2078.3680872992%5D%2C%0A%20%20%20%20%20%20%20%20%20%20%20%20%7B%0A%20%20%20%20%20%20%20%20%20%20%20%20%20%20%20%20icon%3A%20new%20L.Icon.Default%28%29%2C%0A%20%20%20%20%20%20%20%20%20%20%20%20%20%20%20%20%7D%0A%20%20%20%20%20%20%20%20%20%20%20%20%29.addTo%28map_7c0b2efc5e7d49fa989d831b28c228ff%29%3B%0A%20%20%20%20%20%20%20%20%0A%20%20%20%20%0A%20%20%20%20%20%20%20%20var%20marker_93ec709b9a2b4eb98428a354d493109c%20%3D%20L.marker%28%0A%20%20%20%20%20%20%20%20%20%20%20%20%5B17.4267217841%2C%2078.3764155582%5D%2C%0A%20%20%20%20%20%20%20%20%20%20%20%20%7B%0A%20%20%20%20%20%20%20%20%20%20%20%20%20%20%20%20icon%3A%20new%20L.Icon.Default%28%29%2C%0A%20%20%20%20%20%20%20%20%20%20%20%20%20%20%20%20%7D%0A%20%20%20%20%20%20%20%20%20%20%20%20%29.addTo%28map_7c0b2efc5e7d49fa989d831b28c228ff%29%3B%0A%20%20%20%20%20%20%20%20%0A%20%20%20%20%0A%20%20%20%20%20%20%20%20var%20marker_864564cd168d4485970dbf19cf52e809%20%3D%20L.marker%28%0A%20%20%20%20%20%20%20%20%20%20%20%20%5B17.4401549529%2C%2078.3619356528%5D%2C%0A%20%20%20%20%20%20%20%20%20%20%20%20%7B%0A%20%20%20%20%20%20%20%20%20%20%20%20%20%20%20%20icon%3A%20new%20L.Icon.Default%28%29%2C%0A%20%20%20%20%20%20%20%20%20%20%20%20%20%20%20%20%7D%0A%20%20%20%20%20%20%20%20%20%20%20%20%29.addTo%28map_7c0b2efc5e7d49fa989d831b28c228ff%29%3B%0A%20%20%20%20%20%20%20%20%0A%20%20%20%20%0A%20%20%20%20%20%20%20%20var%20marker_8c3e58f06cbe443c90c0ff53cab9e54f%20%3D%20L.marker%28%0A%20%20%20%20%20%20%20%20%20%20%20%20%5B17.410998651%2C%2078.3320722729%5D%2C%0A%20%20%20%20%20%20%20%20%20%20%20%20%7B%0A%20%20%20%20%20%20%20%20%20%20%20%20%20%20%20%20icon%3A%20new%20L.Icon.Default%28%29%2C%0A%20%20%20%20%20%20%20%20%20%20%20%20%20%20%20%20%7D%0A%20%20%20%20%20%20%20%20%20%20%20%20%29.addTo%28map_7c0b2efc5e7d49fa989d831b28c228ff%29%3B%0A%20%20%20%20%20%20%20%20%0A%20%20%20%20%0A%20%20%20%20%20%20%20%20var%20marker_6bc67ad4432b4dc481c50983e6c0aa22%20%3D%20L.marker%28%0A%20%20%20%20%20%20%20%20%20%20%20%20%5B17.4572630175%2C%2078.3658543602%5D%2C%0A%20%20%20%20%20%20%20%20%20%20%20%20%7B%0A%20%20%20%20%20%20%20%20%20%20%20%20%20%20%20%20icon%3A%20new%20L.Icon.Default%28%29%2C%0A%20%20%20%20%20%20%20%20%20%20%20%20%20%20%20%20%7D%0A%20%20%20%20%20%20%20%20%20%20%20%20%29.addTo%28map_7c0b2efc5e7d49fa989d831b28c228ff%29%3B%0A%20%20%20%20%20%20%20%20%0A%20%20%20%20%0A%20%20%20%20%20%20%20%20var%20marker_c680cf8739334466a20154b52808b0b6%20%3D%20L.marker%28%0A%20%20%20%20%20%20%20%20%20%20%20%20%5B17.4267374586%2C%2078.3764175698%5D%2C%0A%20%20%20%20%20%20%20%20%20%20%20%20%7B%0A%20%20%20%20%20%20%20%20%20%20%20%20%20%20%20%20icon%3A%20new%20L.Icon.Default%28%29%2C%0A%20%20%20%20%20%20%20%20%20%20%20%20%20%20%20%20%7D%0A%20%20%20%20%20%20%20%20%20%20%20%20%29.addTo%28map_7c0b2efc5e7d49fa989d831b28c228ff%29%3B%0A%20%20%20%20%20%20%20%20%0A%20%20%20%20%0A%20%20%20%20%20%20%20%20var%20marker_d5e01419151e421f998a93be24f1a479%20%3D%20L.marker%28%0A%20%20%20%20%20%20%20%20%20%20%20%20%5B17.4522041386%2C%2078.3624955639%5D%2C%0A%20%20%20%20%20%20%20%20%20%20%20%20%7B%0A%20%20%20%20%20%20%20%20%20%20%20%20%20%20%20%20icon%3A%20new%20L.Icon.Default%28%29%2C%0A%20%20%20%20%20%20%20%20%20%20%20%20%20%20%20%20%7D%0A%20%20%20%20%20%20%20%20%20%20%20%20%29.addTo%28map_7c0b2efc5e7d49fa989d831b28c228ff%29%3B%0A%20%20%20%20%20%20%20%20%0A%20%20%20%20%0A%20%20%20%20%20%20%20%20var%20marker_4f32908a4ba142f58fb3530540d851a4%20%3D%20L.marker%28%0A%20%20%20%20%20%20%20%20%20%20%20%20%5B17.442967%2C%2078.355377%5D%2C%0A%20%20%20%20%20%20%20%20%20%20%20%20%7B%0A%20%20%20%20%20%20%20%20%20%20%20%20%20%20%20%20icon%3A%20new%20L.Icon.Default%28%29%2C%0A%20%20%20%20%20%20%20%20%20%20%20%20%20%20%20%20%7D%0A%20%20%20%20%20%20%20%20%20%20%20%20%29.addTo%28map_7c0b2efc5e7d49fa989d831b28c228ff%29%3B%0A%20%20%20%20%20%20%20%20%0A%20%20%20%20%0A%20%20%20%20%20%20%20%20var%20marker_1a4ebf8c96284cdf8cf37d0c8a18d30a%20%3D%20L.marker%28%0A%20%20%20%20%20%20%20%20%20%20%20%20%5B17.4415303615%2C%2078.358400166%5D%2C%0A%20%20%20%20%20%20%20%20%20%20%20%20%7B%0A%20%20%20%20%20%20%20%20%20%20%20%20%20%20%20%20icon%3A%20new%20L.Icon.Default%28%29%2C%0A%20%20%20%20%20%20%20%20%20%20%20%20%20%20%20%20%7D%0A%20%20%20%20%20%20%20%20%20%20%20%20%29.addTo%28map_7c0b2efc5e7d49fa989d831b28c228ff%29%3B%0A%20%20%20%20%20%20%20%20%0A%20%20%20%20%0A%20%20%20%20%20%20%20%20var%20marker_9d392db326bb49a5bb654bd577fd0bf3%20%3D%20L.marker%28%0A%20%20%20%20%20%20%20%20%20%20%20%20%5B17.4243110982%2C%2078.3441160619%5D%2C%0A%20%20%20%20%20%20%20%20%20%20%20%20%7B%0A%20%20%20%20%20%20%20%20%20%20%20%20%20%20%20%20icon%3A%20new%20L.Icon.Default%28%29%2C%0A%20%20%20%20%20%20%20%20%20%20%20%20%20%20%20%20%7D%0A%20%20%20%20%20%20%20%20%20%20%20%20%29.addTo%28map_7c0b2efc5e7d49fa989d831b28c228ff%29%3B%0A%20%20%20%20%20%20%20%20%0A%20%20%20%20%0A%20%20%20%20%20%20%20%20var%20marker_7d616fcced9f4617b71d01a7479a3eff%20%3D%20L.marker%28%0A%20%20%20%20%20%20%20%20%20%20%20%20%5B17.4524309068%2C%2078.3630239591%5D%2C%0A%20%20%20%20%20%20%20%20%20%20%20%20%7B%0A%20%20%20%20%20%20%20%20%20%20%20%20%20%20%20%20icon%3A%20new%20L.Icon.Default%28%29%2C%0A%20%20%20%20%20%20%20%20%20%20%20%20%20%20%20%20%7D%0A%20%20%20%20%20%20%20%20%20%20%20%20%29.addTo%28map_7c0b2efc5e7d49fa989d831b28c228ff%29%3B%0A%20%20%20%20%20%20%20%20%0A%20%20%20%20%0A%20%20%20%20%20%20%20%20var%20marker_6be83a26ed7f4fdd857ae65a077bcafe%20%3D%20L.marker%28%0A%20%20%20%20%20%20%20%20%20%20%20%20%5B17.4525860302%2C%2078.3632640168%5D%2C%0A%20%20%20%20%20%20%20%20%20%20%20%20%7B%0A%20%20%20%20%20%20%20%20%20%20%20%20%20%20%20%20icon%3A%20new%20L.Icon.Default%28%29%2C%0A%20%20%20%20%20%20%20%20%20%20%20%20%20%20%20%20%7D%0A%20%20%20%20%20%20%20%20%20%20%20%20%29.addTo%28map_7c0b2efc5e7d49fa989d831b28c228ff%29%3B%0A%20%20%20%20%20%20%20%20%0A%20%20%20%20%0A%20%20%20%20%20%20%20%20var%20marker_4eeb2bbddb4c4957852c1109fa99f4d1%20%3D%20L.marker%28%0A%20%20%20%20%20%20%20%20%20%20%20%20%5B17.4431080508%2C%2078.3572474379%5D%2C%0A%20%20%20%20%20%20%20%20%20%20%20%20%7B%0A%20%20%20%20%20%20%20%20%20%20%20%20%20%20%20%20icon%3A%20new%20L.Icon.Default%28%29%2C%0A%20%20%20%20%20%20%20%20%20%20%20%20%20%20%20%20%7D%0A%20%20%20%20%20%20%20%20%20%20%20%20%29.addTo%28map_7c0b2efc5e7d49fa989d831b28c228ff%29%3B%0A%20%20%20%20%20%20%20%20%0A%20%20%20%20%0A%20%20%20%20%20%20%20%20var%20marker_081fed2231474c5b9e8601362711eff0%20%3D%20L.marker%28%0A%20%20%20%20%20%20%20%20%20%20%20%20%5B17.4427291975%2C%2078.3572632447%5D%2C%0A%20%20%20%20%20%20%20%20%20%20%20%20%7B%0A%20%20%20%20%20%20%20%20%20%20%20%20%20%20%20%20icon%3A%20new%20L.Icon.Default%28%29%2C%0A%20%20%20%20%20%20%20%20%20%20%20%20%20%20%20%20%7D%0A%20%20%20%20%20%20%20%20%20%20%20%20%29.addTo%28map_7c0b2efc5e7d49fa989d831b28c228ff%29%3B%0A%20%20%20%20%20%20%20%20%0A%20%20%20%20%0A%20%20%20%20%20%20%20%20var%20marker_1abf7df607ef418685ed5737701f6fa8%20%3D%20L.marker%28%0A%20%20%20%20%20%20%20%20%20%20%20%20%5B17.4525067094%2C%2078.3631208539%5D%2C%0A%20%20%20%20%20%20%20%20%20%20%20%20%7B%0A%20%20%20%20%20%20%20%20%20%20%20%20%20%20%20%20icon%3A%20new%20L.Icon.Default%28%29%2C%0A%20%20%20%20%20%20%20%20%20%20%20%20%20%20%20%20%7D%0A%20%20%20%20%20%20%20%20%20%20%20%20%29.addTo%28map_7c0b2efc5e7d49fa989d831b28c228ff%29%3B%0A%20%20%20%20%20%20%20%20%0A%20%20%20%20%0A%20%20%20%20%20%20%20%20var%20marker_d1ec1e9cc43b4babb6dc422c85e4afb3%20%3D%20L.marker%28%0A%20%20%20%20%20%20%20%20%20%20%20%20%5B17.4398126985%2C%2078.3637166396%5D%2C%0A%20%20%20%20%20%20%20%20%20%20%20%20%7B%0A%20%20%20%20%20%20%20%20%20%20%20%20%20%20%20%20icon%3A%20new%20L.Icon.Default%28%29%2C%0A%20%20%20%20%20%20%20%20%20%20%20%20%20%20%20%20%7D%0A%20%20%20%20%20%20%20%20%20%20%20%20%29.addTo%28map_7c0b2efc5e7d49fa989d831b28c228ff%29%3B%0A%20%20%20%20%20%20%20%20%0A%20%20%20%20%0A%20%20%20%20%20%20%20%20var%20marker_5870fa4dcebd4257840d6906419412ef%20%3D%20L.marker%28%0A%20%20%20%20%20%20%20%20%20%20%20%20%5B17.4525914675%2C%2078.3632268012%5D%2C%0A%20%20%20%20%20%20%20%20%20%20%20%20%7B%0A%20%20%20%20%20%20%20%20%20%20%20%20%20%20%20%20icon%3A%20new%20L.Icon.Default%28%29%2C%0A%20%20%20%20%20%20%20%20%20%20%20%20%20%20%20%20%7D%0A%20%20%20%20%20%20%20%20%20%20%20%20%29.addTo%28map_7c0b2efc5e7d49fa989d831b28c228ff%29%3B%0A%20%20%20%20%20%20%20%20%0A%20%20%20%20%0A%20%20%20%20%20%20%20%20var%20marker_bff3503c49d04263b0509f86cabbc589%20%3D%20L.marker%28%0A%20%20%20%20%20%20%20%20%20%20%20%20%5B17.4261629403%2C%2078.3771337196%5D%2C%0A%20%20%20%20%20%20%20%20%20%20%20%20%7B%0A%20%20%20%20%20%20%20%20%20%20%20%20%20%20%20%20icon%3A%20new%20L.Icon.Default%28%29%2C%0A%20%20%20%20%20%20%20%20%20%20%20%20%20%20%20%20%7D%0A%20%20%20%20%20%20%20%20%20%20%20%20%29.addTo%28map_7c0b2efc5e7d49fa989d831b28c228ff%29%3B%0A%20%20%20%20%20%20%20%20%0A%20%20%20%20%0A%20%20%20%20%20%20%20%20var%20marker_a0d6fc0c2e68428ea71cb02e27c165da%20%3D%20L.marker%28%0A%20%20%20%20%20%20%20%20%20%20%20%20%5B17.4375320521%2C%2078.3655660227%5D%2C%0A%20%20%20%20%20%20%20%20%20%20%20%20%7B%0A%20%20%20%20%20%20%20%20%20%20%20%20%20%20%20%20icon%3A%20new%20L.Icon.Default%28%29%2C%0A%20%20%20%20%20%20%20%20%20%20%20%20%20%20%20%20%7D%0A%20%20%20%20%20%20%20%20%20%20%20%20%29.addTo%28map_7c0b2efc5e7d49fa989d831b28c228ff%29%3B%0A%20%20%20%20%20%20%20%20%0A%20%20%20%20%0A%20%20%20%20%20%20%20%20var%20marker_f2efe8dd2c67411b80565621aacb0ca5%20%3D%20L.marker%28%0A%20%20%20%20%20%20%20%20%20%20%20%20%5B17.4234947335%2C%2078.3477665484%5D%2C%0A%20%20%20%20%20%20%20%20%20%20%20%20%7B%0A%20%20%20%20%20%20%20%20%20%20%20%20%20%20%20%20icon%3A%20new%20L.Icon.Default%28%29%2C%0A%20%20%20%20%20%20%20%20%20%20%20%20%20%20%20%20%7D%0A%20%20%20%20%20%20%20%20%20%20%20%20%29.addTo%28map_7c0b2efc5e7d49fa989d831b28c228ff%29%3B%0A%20%20%20%20%20%20%20%20%0A%20%20%20%20%0A%20%20%20%20%20%20%20%20var%20marker_27e805e138934ada97c4d8593b51e652%20%3D%20L.marker%28%0A%20%20%20%20%20%20%20%20%20%20%20%20%5B17.4348774461%2C%2078.3688148484%5D%2C%0A%20%20%20%20%20%20%20%20%20%20%20%20%7B%0A%20%20%20%20%20%20%20%20%20%20%20%20%20%20%20%20icon%3A%20new%20L.Icon.Default%28%29%2C%0A%20%20%20%20%20%20%20%20%20%20%20%20%20%20%20%20%7D%0A%20%20%20%20%20%20%20%20%20%20%20%20%29.addTo%28map_7c0b2efc5e7d49fa989d831b28c228ff%29%3B%0A%20%20%20%20%20%20%20%20%0A%20%20%20%20%0A%20%20%20%20%20%20%20%20var%20marker_92d342f247b148f6b4dc4a7232d9af75%20%3D%20L.marker%28%0A%20%20%20%20%20%20%20%20%20%20%20%20%5B17.4488623933%2C%2078.355352506%5D%2C%0A%20%20%20%20%20%20%20%20%20%20%20%20%7B%0A%20%20%20%20%20%20%20%20%20%20%20%20%20%20%20%20icon%3A%20new%20L.Icon.Default%28%29%2C%0A%20%20%20%20%20%20%20%20%20%20%20%20%20%20%20%20%7D%0A%20%20%20%20%20%20%20%20%20%20%20%20%29.addTo%28map_7c0b2efc5e7d49fa989d831b28c228ff%29%3B%0A%20%20%20%20%20%20%20%20%0A%20%20%20%20%0A%20%20%20%20%20%20%20%20var%20marker_dd7b8257cad24966abe3ee0c673bc91d%20%3D%20L.marker%28%0A%20%20%20%20%20%20%20%20%20%20%20%20%5B17.4429962797%2C%2078.3547922596%5D%2C%0A%20%20%20%20%20%20%20%20%20%20%20%20%7B%0A%20%20%20%20%20%20%20%20%20%20%20%20%20%20%20%20icon%3A%20new%20L.Icon.Default%28%29%2C%0A%20%20%20%20%20%20%20%20%20%20%20%20%20%20%20%20%7D%0A%20%20%20%20%20%20%20%20%20%20%20%20%29.addTo%28map_7c0b2efc5e7d49fa989d831b28c228ff%29%3B%0A%20%20%20%20%20%20%20%20%0A%20%20%20%20%0A%20%20%20%20%20%20%20%20var%20marker_0ff968b0059d419e9ceb9edb5e672b67%20%3D%20L.marker%28%0A%20%20%20%20%20%20%20%20%20%20%20%20%5B17.442771099%2C%2078.3554088324%5D%2C%0A%20%20%20%20%20%20%20%20%20%20%20%20%7B%0A%20%20%20%20%20%20%20%20%20%20%20%20%20%20%20%20icon%3A%20new%20L.Icon.Default%28%29%2C%0A%20%20%20%20%20%20%20%20%20%20%20%20%20%20%20%20%7D%0A%20%20%20%20%20%20%20%20%20%20%20%20%29.addTo%28map_7c0b2efc5e7d49fa989d831b28c228ff%29%3B%0A%20%20%20%20%20%20%20%20%0A%20%20%20%20%0A%20%20%20%20%20%20%20%20var%20marker_d211adc1f9d74ccab16a4fdf8a6161df%20%3D%20L.marker%28%0A%20%20%20%20%20%20%20%20%20%20%20%20%5B17.4427122449%2C%2078.3572565392%5D%2C%0A%20%20%20%20%20%20%20%20%20%20%20%20%7B%0A%20%20%20%20%20%20%20%20%20%20%20%20%20%20%20%20icon%3A%20new%20L.Icon.Default%28%29%2C%0A%20%20%20%20%20%20%20%20%20%20%20%20%20%20%20%20%7D%0A%20%20%20%20%20%20%20%20%20%20%20%20%29.addTo%28map_7c0b2efc5e7d49fa989d831b28c228ff%29%3B%0A%20%20%20%20%20%20%20%20%0A%20%20%20%20%0A%20%20%20%20%20%20%20%20var%20marker_4e721beda1f9472abfeb6777932df71c%20%3D%20L.marker%28%0A%20%20%20%20%20%20%20%20%20%20%20%20%5B17.4391825648%2C%2078.3621066436%5D%2C%0A%20%20%20%20%20%20%20%20%20%20%20%20%7B%0A%20%20%20%20%20%20%20%20%20%20%20%20%20%20%20%20icon%3A%20new%20L.Icon.Default%28%29%2C%0A%20%20%20%20%20%20%20%20%20%20%20%20%20%20%20%20%7D%0A%20%20%20%20%20%20%20%20%20%20%20%20%29.addTo%28map_7c0b2efc5e7d49fa989d831b28c228ff%29%3B%0A%20%20%20%20%20%20%20%20%0A%20%20%20%20%0A%20%20%20%20%20%20%20%20var%20marker_ff147a03edd442a4b5adf30099044791%20%3D%20L.marker%28%0A%20%20%20%20%20%20%20%20%20%20%20%20%5B17.4488016221%2C%2078.3553890511%5D%2C%0A%20%20%20%20%20%20%20%20%20%20%20%20%7B%0A%20%20%20%20%20%20%20%20%20%20%20%20%20%20%20%20icon%3A%20new%20L.Icon.Default%28%29%2C%0A%20%20%20%20%20%20%20%20%20%20%20%20%20%20%20%20%7D%0A%20%20%20%20%20%20%20%20%20%20%20%20%29.addTo%28map_7c0b2efc5e7d49fa989d831b28c228ff%29%3B%0A%20%20%20%20%20%20%20%20%0A%20%20%20%20%0A%20%20%20%20%20%20%20%20var%20marker_eb112e7dc0f44df0acc2415bdf15bc8b%20%3D%20L.marker%28%0A%20%20%20%20%20%20%20%20%20%20%20%20%5B17.442573426%2C%2078.3548566327%5D%2C%0A%20%20%20%20%20%20%20%20%20%20%20%20%7B%0A%20%20%20%20%20%20%20%20%20%20%20%20%20%20%20%20icon%3A%20new%20L.Icon.Default%28%29%2C%0A%20%20%20%20%20%20%20%20%20%20%20%20%20%20%20%20%7D%0A%20%20%20%20%20%20%20%20%20%20%20%20%29.addTo%28map_7c0b2efc5e7d49fa989d831b28c228ff%29%3B%0A%20%20%20%20%20%20%20%20%0A%20%20%20%20%0A%20%20%20%20%20%20%20%20var%20marker_7ed27ed1865b4b909af08e1e9a16204e%20%3D%20L.marker%28%0A%20%20%20%20%20%20%20%20%20%20%20%20%5B17.4316134337%2C%2078.3719205111%5D%2C%0A%20%20%20%20%20%20%20%20%20%20%20%20%7B%0A%20%20%20%20%20%20%20%20%20%20%20%20%20%20%20%20icon%3A%20new%20L.Icon.Default%28%29%2C%0A%20%20%20%20%20%20%20%20%20%20%20%20%20%20%20%20%7D%0A%20%20%20%20%20%20%20%20%20%20%20%20%29.addTo%28map_7c0b2efc5e7d49fa989d831b28c228ff%29%3B%0A%20%20%20%20%20%20%20%20%0A%20%20%20%20%0A%20%20%20%20%20%20%20%20var%20marker_0e7e9ca510714616962228aa71fc25a2%20%3D%20L.marker%28%0A%20%20%20%20%20%20%20%20%20%20%20%20%5B17.4486324222%2C%2078.3564310893%5D%2C%0A%20%20%20%20%20%20%20%20%20%20%20%20%7B%0A%20%20%20%20%20%20%20%20%20%20%20%20%20%20%20%20icon%3A%20new%20L.Icon.Default%28%29%2C%0A%20%20%20%20%20%20%20%20%20%20%20%20%20%20%20%20%7D%0A%20%20%20%20%20%20%20%20%20%20%20%20%29.addTo%28map_7c0b2efc5e7d49fa989d831b28c228ff%29%3B%0A%20%20%20%20%20%20%20%20%0A%20%20%20%20%0A%20%20%20%20%20%20%20%20var%20marker_641d13875ec54289add5de5e2935a91a%20%3D%20L.marker%28%0A%20%20%20%20%20%20%20%20%20%20%20%20%5B17.4523499867%2C%2078.3628559858%5D%2C%0A%20%20%20%20%20%20%20%20%20%20%20%20%7B%0A%20%20%20%20%20%20%20%20%20%20%20%20%20%20%20%20icon%3A%20new%20L.Icon.Default%28%29%2C%0A%20%20%20%20%20%20%20%20%20%20%20%20%20%20%20%20%7D%0A%20%20%20%20%20%20%20%20%20%20%20%20%29.addTo%28map_7c0b2efc5e7d49fa989d831b28c228ff%29%3B%0A%20%20%20%20%20%20%20%20%0A%20%20%20%20%0A%20%20%20%20%20%20%20%20var%20marker_724c91fe24614987a96e77ba3575e47d%20%3D%20L.marker%28%0A%20%20%20%20%20%20%20%20%20%20%20%20%5B17.4523909265%2C%2078.3630397171%5D%2C%0A%20%20%20%20%20%20%20%20%20%20%20%20%7B%0A%20%20%20%20%20%20%20%20%20%20%20%20%20%20%20%20icon%3A%20new%20L.Icon.Default%28%29%2C%0A%20%20%20%20%20%20%20%20%20%20%20%20%20%20%20%20%7D%0A%20%20%20%20%20%20%20%20%20%20%20%20%29.addTo%28map_7c0b2efc5e7d49fa989d831b28c228ff%29%3B%0A%20%20%20%20%20%20%20%20%0A%20%20%20%20%0A%20%20%20%20%20%20%20%20var%20marker_6b4097aa679640ab9f767f94ab015610%20%3D%20L.marker%28%0A%20%20%20%20%20%20%20%20%20%20%20%20%5B17.4412994215%2C%2078.3591592312%5D%2C%0A%20%20%20%20%20%20%20%20%20%20%20%20%7B%0A%20%20%20%20%20%20%20%20%20%20%20%20%20%20%20%20icon%3A%20new%20L.Icon.Default%28%29%2C%0A%20%20%20%20%20%20%20%20%20%20%20%20%20%20%20%20%7D%0A%20%20%20%20%20%20%20%20%20%20%20%20%29.addTo%28map_7c0b2efc5e7d49fa989d831b28c228ff%29%3B%0A%20%20%20%20%20%20%20%20%0A%20%20%20%20%0A%20%20%20%20%20%20%20%20var%20marker_de3ede728ec442ba9cbd181dcb803a74%20%3D%20L.marker%28%0A%20%20%20%20%20%20%20%20%20%20%20%20%5B17.443786009%2C%2078.3626994118%5D%2C%0A%20%20%20%20%20%20%20%20%20%20%20%20%7B%0A%20%20%20%20%20%20%20%20%20%20%20%20%20%20%20%20icon%3A%20new%20L.Icon.Default%28%29%2C%0A%20%20%20%20%20%20%20%20%20%20%20%20%20%20%20%20%7D%0A%20%20%20%20%20%20%20%20%20%20%20%20%29.addTo%28map_7c0b2efc5e7d49fa989d831b28c228ff%29%3B%0A%20%20%20%20%20%20%20%20%0A%20%20%20%20%0A%20%20%20%20%20%20%20%20var%20marker_4b68d10b0ea3495b913da0180ee95946%20%3D%20L.marker%28%0A%20%20%20%20%20%20%20%20%20%20%20%20%5B17.446223945%2C%2078.3529318124%5D%2C%0A%20%20%20%20%20%20%20%20%20%20%20%20%7B%0A%20%20%20%20%20%20%20%20%20%20%20%20%20%20%20%20icon%3A%20new%20L.Icon.Default%28%29%2C%0A%20%20%20%20%20%20%20%20%20%20%20%20%20%20%20%20%7D%0A%20%20%20%20%20%20%20%20%20%20%20%20%29.addTo%28map_7c0b2efc5e7d49fa989d831b28c228ff%29%3B%0A%20%20%20%20%20%20%20%20%0A%20%20%20%20%0A%20%20%20%20%20%20%20%20var%20marker_35413fa637a946ffafeef766c1d0d5a0%20%3D%20L.marker%28%0A%20%20%20%20%20%20%20%20%20%20%20%20%5B17.4319419488%2C%2078.3535463735%5D%2C%0A%20%20%20%20%20%20%20%20%20%20%20%20%7B%0A%20%20%20%20%20%20%20%20%20%20%20%20%20%20%20%20icon%3A%20new%20L.Icon.Default%28%29%2C%0A%20%20%20%20%20%20%20%20%20%20%20%20%20%20%20%20%7D%0A%20%20%20%20%20%20%20%20%20%20%20%20%29.addTo%28map_7c0b2efc5e7d49fa989d831b28c228ff%29%3B%0A%20%20%20%20%20%20%20%20%0A%20%20%20%20%0A%20%20%20%20%20%20%20%20var%20marker_004b7ab98d4847f3affcd59a0b962ed8%20%3D%20L.marker%28%0A%20%20%20%20%20%20%20%20%20%20%20%20%5B17.424294144%2C%2078.3441274613%5D%2C%0A%20%20%20%20%20%20%20%20%20%20%20%20%7B%0A%20%20%20%20%20%20%20%20%20%20%20%20%20%20%20%20icon%3A%20new%20L.Icon.Default%28%29%2C%0A%20%20%20%20%20%20%20%20%20%20%20%20%20%20%20%20%7D%0A%20%20%20%20%20%20%20%20%20%20%20%20%29.addTo%28map_7c0b2efc5e7d49fa989d831b28c228ff%29%3B%0A%20%20%20%20%20%20%20%20%0A%20%20%20%20%0A%20%20%20%20%20%20%20%20var%20marker_a484c67006334552800a1941236a241b%20%3D%20L.marker%28%0A%20%20%20%20%20%20%20%20%20%20%20%20%5B17.4292463165%2C%2078.3738741651%5D%2C%0A%20%20%20%20%20%20%20%20%20%20%20%20%7B%0A%20%20%20%20%20%20%20%20%20%20%20%20%20%20%20%20icon%3A%20new%20L.Icon.Default%28%29%2C%0A%20%20%20%20%20%20%20%20%20%20%20%20%20%20%20%20%7D%0A%20%20%20%20%20%20%20%20%20%20%20%20%29.addTo%28map_7c0b2efc5e7d49fa989d831b28c228ff%29%3B%0A%20%20%20%20%20%20%20%20%0A%20%20%20%20%0A%20%20%20%20%20%20%20%20var%20marker_a6996523829f4726bd7ab827905c9a62%20%3D%20L.marker%28%0A%20%20%20%20%20%20%20%20%20%20%20%20%5B17.4421883149%2C%2078.3568545431%5D%2C%0A%20%20%20%20%20%20%20%20%20%20%20%20%7B%0A%20%20%20%20%20%20%20%20%20%20%20%20%20%20%20%20icon%3A%20new%20L.Icon.Default%28%29%2C%0A%20%20%20%20%20%20%20%20%20%20%20%20%20%20%20%20%7D%0A%20%20%20%20%20%20%20%20%20%20%20%20%29.addTo%28map_7c0b2efc5e7d49fa989d831b28c228ff%29%3B%0A%20%20%20%20%20%20%20%20%0A%20%20%20%20%0A%20%20%20%20%20%20%20%20var%20marker_bccb58e8e8e04b5a84fcece934806efd%20%3D%20L.marker%28%0A%20%20%20%20%20%20%20%20%20%20%20%20%5B17.4422011093%2C%2078.3568646014%5D%2C%0A%20%20%20%20%20%20%20%20%20%20%20%20%7B%0A%20%20%20%20%20%20%20%20%20%20%20%20%20%20%20%20icon%3A%20new%20L.Icon.Default%28%29%2C%0A%20%20%20%20%20%20%20%20%20%20%20%20%20%20%20%20%7D%0A%20%20%20%20%20%20%20%20%20%20%20%20%29.addTo%28map_7c0b2efc5e7d49fa989d831b28c228ff%29%3B%0A%20%20%20%20%20%20%20%20%0A%20%20%20%20%0A%20%20%20%20%20%20%20%20var%20marker_01ede69d2ba242f08c7556c9d63399b6%20%3D%20L.marker%28%0A%20%20%20%20%20%20%20%20%20%20%20%20%5B17.4485710112%2C%2078.3563734218%5D%2C%0A%20%20%20%20%20%20%20%20%20%20%20%20%7B%0A%20%20%20%20%20%20%20%20%20%20%20%20%20%20%20%20icon%3A%20new%20L.Icon.Default%28%29%2C%0A%20%20%20%20%20%20%20%20%20%20%20%20%20%20%20%20%7D%0A%20%20%20%20%20%20%20%20%20%20%20%20%29.addTo%28map_7c0b2efc5e7d49fa989d831b28c228ff%29%3B%0A%20%20%20%20%20%20%20%20%0A%20%20%20%20%0A%20%20%20%20%20%20%20%20var%20marker_eb82070160b24baa95fd36be9c0ae6b4%20%3D%20L.marker%28%0A%20%20%20%20%20%20%20%20%20%20%20%20%5B17.4398654761%2C%2078.3623758703%5D%2C%0A%20%20%20%20%20%20%20%20%20%20%20%20%7B%0A%20%20%20%20%20%20%20%20%20%20%20%20%20%20%20%20icon%3A%20new%20L.Icon.Default%28%29%2C%0A%20%20%20%20%20%20%20%20%20%20%20%20%20%20%20%20%7D%0A%20%20%20%20%20%20%20%20%20%20%20%20%29.addTo%28map_7c0b2efc5e7d49fa989d831b28c228ff%29%3B%0A%20%20%20%20%20%20%20%20%0A%20%20%20%20%0A%20%20%20%20%20%20%20%20var%20marker_d193662969a64b50a0014355945ff6b6%20%3D%20L.marker%28%0A%20%20%20%20%20%20%20%20%20%20%20%20%5B17.4487466082%2C%2078.3575006202%5D%2C%0A%20%20%20%20%20%20%20%20%20%20%20%20%7B%0A%20%20%20%20%20%20%20%20%20%20%20%20%20%20%20%20icon%3A%20new%20L.Icon.Default%28%29%2C%0A%20%20%20%20%20%20%20%20%20%20%20%20%20%20%20%20%7D%0A%20%20%20%20%20%20%20%20%20%20%20%20%29.addTo%28map_7c0b2efc5e7d49fa989d831b28c228ff%29%3B%0A%20%20%20%20%20%20%20%20%0A%20%20%20%20%0A%20%20%20%20%20%20%20%20var%20marker_01bd2901baa841d4a23a65e05f1797f6%20%3D%20L.marker%28%0A%20%20%20%20%20%20%20%20%20%20%20%20%5B17.4293576357%2C%2078.3744334057%5D%2C%0A%20%20%20%20%20%20%20%20%20%20%20%20%7B%0A%20%20%20%20%20%20%20%20%20%20%20%20%20%20%20%20icon%3A%20new%20L.Icon.Default%28%29%2C%0A%20%20%20%20%20%20%20%20%20%20%20%20%20%20%20%20%7D%0A%20%20%20%20%20%20%20%20%20%20%20%20%29.addTo%28map_7c0b2efc5e7d49fa989d831b28c228ff%29%3B%0A%20%20%20%20%20%20%20%20%0A%20%20%20%20%0A%20%20%20%20%20%20%20%20var%20marker_cb3a7d3fd8084d3c8a2ebc9cd9625184%20%3D%20L.marker%28%0A%20%20%20%20%20%20%20%20%20%20%20%20%5B17.4416730195%2C%2078.3580796421%5D%2C%0A%20%20%20%20%20%20%20%20%20%20%20%20%7B%0A%20%20%20%20%20%20%20%20%20%20%20%20%20%20%20%20icon%3A%20new%20L.Icon.Default%28%29%2C%0A%20%20%20%20%20%20%20%20%20%20%20%20%20%20%20%20%7D%0A%20%20%20%20%20%20%20%20%20%20%20%20%29.addTo%28map_7c0b2efc5e7d49fa989d831b28c228ff%29%3B%0A%20%20%20%20%20%20%20%20%0A%20%20%20%20%0A%20%20%20%20%20%20%20%20var%20marker_57f6aa49146847ed8079fcaecad96512%20%3D%20L.marker%28%0A%20%20%20%20%20%20%20%20%20%20%20%20%5B17.4408573722%2C%2078.3607236296%5D%2C%0A%20%20%20%20%20%20%20%20%20%20%20%20%7B%0A%20%20%20%20%20%20%20%20%20%20%20%20%20%20%20%20icon%3A%20new%20L.Icon.Default%28%29%2C%0A%20%20%20%20%20%20%20%20%20%20%20%20%20%20%20%20%7D%0A%20%20%20%20%20%20%20%20%20%20%20%20%29.addTo%28map_7c0b2efc5e7d49fa989d831b28c228ff%29%3B%0A%20%20%20%20%20%20%20%20%0A%20%20%20%20%0A%20%20%20%20%20%20%20%20var%20marker_5acdee4bc04b42f4aa63820af40814ec%20%3D%20L.marker%28%0A%20%20%20%20%20%20%20%20%20%20%20%20%5B17.4401098521%2C%2078.3623078093%5D%2C%0A%20%20%20%20%20%20%20%20%20%20%20%20%7B%0A%20%20%20%20%20%20%20%20%20%20%20%20%20%20%20%20icon%3A%20new%20L.Icon.Default%28%29%2C%0A%20%20%20%20%20%20%20%20%20%20%20%20%20%20%20%20%7D%0A%20%20%20%20%20%20%20%20%20%20%20%20%29.addTo%28map_7c0b2efc5e7d49fa989d831b28c228ff%29%3B%0A%20%20%20%20%20%20%20%20%0A%20%20%20%20%0A%20%20%20%20%20%20%20%20var%20marker_99a6ef8a26254cf68e3e0345e93c879e%20%3D%20L.marker%28%0A%20%20%20%20%20%20%20%20%20%20%20%20%5B17.4414913384%2C%2078.3578107506%5D%2C%0A%20%20%20%20%20%20%20%20%20%20%20%20%7B%0A%20%20%20%20%20%20%20%20%20%20%20%20%20%20%20%20icon%3A%20new%20L.Icon.Default%28%29%2C%0A%20%20%20%20%20%20%20%20%20%20%20%20%20%20%20%20%7D%0A%20%20%20%20%20%20%20%20%20%20%20%20%29.addTo%28map_7c0b2efc5e7d49fa989d831b28c228ff%29%3B%0A%20%20%20%20%20%20%20%20%0A%20%20%20%20%0A%20%20%20%20%20%20%20%20var%20marker_f9b6d4e27c89404cb5f6ed41e283fd5f%20%3D%20L.marker%28%0A%20%20%20%20%20%20%20%20%20%20%20%20%5B17.4461187133%2C%2078.3577956632%5D%2C%0A%20%20%20%20%20%20%20%20%20%20%20%20%7B%0A%20%20%20%20%20%20%20%20%20%20%20%20%20%20%20%20icon%3A%20new%20L.Icon.Default%28%29%2C%0A%20%20%20%20%20%20%20%20%20%20%20%20%20%20%20%20%7D%0A%20%20%20%20%20%20%20%20%20%20%20%20%29.addTo%28map_7c0b2efc5e7d49fa989d831b28c228ff%29%3B%0A%20%20%20%20%20%20%20%20%0A%20%20%20%20%0A%20%20%20%20%20%20%20%20var%20marker_8afd470fb98c48bc8987b566257968d6%20%3D%20L.marker%28%0A%20%20%20%20%20%20%20%20%20%20%20%20%5B17.4291250809%2C%2078.3739958704%5D%2C%0A%20%20%20%20%20%20%20%20%20%20%20%20%7B%0A%20%20%20%20%20%20%20%20%20%20%20%20%20%20%20%20icon%3A%20new%20L.Icon.Default%28%29%2C%0A%20%20%20%20%20%20%20%20%20%20%20%20%20%20%20%20%7D%0A%20%20%20%20%20%20%20%20%20%20%20%20%29.addTo%28map_7c0b2efc5e7d49fa989d831b28c228ff%29%3B%0A%20%20%20%20%20%20%20%20%0A%20%20%20%20%0A%20%20%20%20%20%20%20%20var%20marker_2386b8db07d747a0beca6495dd207314%20%3D%20L.marker%28%0A%20%20%20%20%20%20%20%20%20%20%20%20%5B17.4428193977%2C%2078.3554339781%5D%2C%0A%20%20%20%20%20%20%20%20%20%20%20%20%7B%0A%20%20%20%20%20%20%20%20%20%20%20%20%20%20%20%20icon%3A%20new%20L.Icon.Default%28%29%2C%0A%20%20%20%20%20%20%20%20%20%20%20%20%20%20%20%20%7D%0A%20%20%20%20%20%20%20%20%20%20%20%20%29.addTo%28map_7c0b2efc5e7d49fa989d831b28c228ff%29%3B%0A%20%20%20%20%20%20%20%20%0A%20%20%20%20%0A%20%20%20%20%20%20%20%20var%20marker_1fb5d867f0e54e639d525e412987bd79%20%3D%20L.marker%28%0A%20%20%20%20%20%20%20%20%20%20%20%20%5B17.4524302671%2C%2078.3630273119%5D%2C%0A%20%20%20%20%20%20%20%20%20%20%20%20%7B%0A%20%20%20%20%20%20%20%20%20%20%20%20%20%20%20%20icon%3A%20new%20L.Icon.Default%28%29%2C%0A%20%20%20%20%20%20%20%20%20%20%20%20%20%20%20%20%7D%0A%20%20%20%20%20%20%20%20%20%20%20%20%29.addTo%28map_7c0b2efc5e7d49fa989d831b28c228ff%29%3B%0A%20%20%20%20%20%20%20%20%0A%20%20%20%20%0A%20%20%20%20%20%20%20%20var%20marker_7f8cad17cb594cefadc98b32e3315ec5%20%3D%20L.marker%28%0A%20%20%20%20%20%20%20%20%20%20%20%20%5B17.4352523368%2C%2078.3674925193%5D%2C%0A%20%20%20%20%20%20%20%20%20%20%20%20%7B%0A%20%20%20%20%20%20%20%20%20%20%20%20%20%20%20%20icon%3A%20new%20L.Icon.Default%28%29%2C%0A%20%20%20%20%20%20%20%20%20%20%20%20%20%20%20%20%7D%0A%20%20%20%20%20%20%20%20%20%20%20%20%29.addTo%28map_7c0b2efc5e7d49fa989d831b28c228ff%29%3B%0A%20%20%20%20%20%20%20%20%0A%20%20%20%20%0A%20%20%20%20%20%20%20%20var%20marker_355b547663b5423cb6c91d36328b1235%20%3D%20L.marker%28%0A%20%20%20%20%20%20%20%20%20%20%20%20%5B17.4217708227%2C%2078.33761774%5D%2C%0A%20%20%20%20%20%20%20%20%20%20%20%20%7B%0A%20%20%20%20%20%20%20%20%20%20%20%20%20%20%20%20icon%3A%20new%20L.Icon.Default%28%29%2C%0A%20%20%20%20%20%20%20%20%20%20%20%20%20%20%20%20%7D%0A%20%20%20%20%20%20%20%20%20%20%20%20%29.addTo%28map_7c0b2efc5e7d49fa989d831b28c228ff%29%3B%0A%20%20%20%20%20%20%20%20%0A%20%20%20%20%0A%20%20%20%20%20%20%20%20var%20marker_b6070a06286b4493af1fb1bda6dba3de%20%3D%20L.marker%28%0A%20%20%20%20%20%20%20%20%20%20%20%20%5B17.4204602046%2C%2078.3474701643%5D%2C%0A%20%20%20%20%20%20%20%20%20%20%20%20%7B%0A%20%20%20%20%20%20%20%20%20%20%20%20%20%20%20%20icon%3A%20new%20L.Icon.Default%28%29%2C%0A%20%20%20%20%20%20%20%20%20%20%20%20%20%20%20%20%7D%0A%20%20%20%20%20%20%20%20%20%20%20%20%29.addTo%28map_7c0b2efc5e7d49fa989d831b28c228ff%29%3B%0A%20%20%20%20%20%20%20%20%0A%20%20%20%20%0A%20%20%20%20%20%20%20%20var%20marker_7b053c5b837043d99684b5ca4a43daad%20%3D%20L.marker%28%0A%20%20%20%20%20%20%20%20%20%20%20%20%5B17.4473008343%2C%2078.3533866973%5D%2C%0A%20%20%20%20%20%20%20%20%20%20%20%20%7B%0A%20%20%20%20%20%20%20%20%20%20%20%20%20%20%20%20icon%3A%20new%20L.Icon.Default%28%29%2C%0A%20%20%20%20%20%20%20%20%20%20%20%20%20%20%20%20%7D%0A%20%20%20%20%20%20%20%20%20%20%20%20%29.addTo%28map_7c0b2efc5e7d49fa989d831b28c228ff%29%3B%0A%20%20%20%20%20%20%20%20%0A%20%20%20%20%0A%20%20%20%20%20%20%20%20var%20marker_db0949262f81489bb07d9b3aa326eb76%20%3D%20L.marker%28%0A%20%20%20%20%20%20%20%20%20%20%20%20%5B17.4416938105%2C%2078.3579686657%5D%2C%0A%20%20%20%20%20%20%20%20%20%20%20%20%7B%0A%20%20%20%20%20%20%20%20%20%20%20%20%20%20%20%20icon%3A%20new%20L.Icon.Default%28%29%2C%0A%20%20%20%20%20%20%20%20%20%20%20%20%20%20%20%20%7D%0A%20%20%20%20%20%20%20%20%20%20%20%20%29.addTo%28map_7c0b2efc5e7d49fa989d831b28c228ff%29%3B%0A%20%20%20%20%20%20%20%20%0A%20%20%20%20%0A%20%20%20%20%20%20%20%20var%20marker_2e38f47c48d941e0adf729b5ebef9c1b%20%3D%20L.marker%28%0A%20%20%20%20%20%20%20%20%20%20%20%20%5B17.4331270932%2C%2078.3743301407%5D%2C%0A%20%20%20%20%20%20%20%20%20%20%20%20%7B%0A%20%20%20%20%20%20%20%20%20%20%20%20%20%20%20%20icon%3A%20new%20L.Icon.Default%28%29%2C%0A%20%20%20%20%20%20%20%20%20%20%20%20%20%20%20%20%7D%0A%20%20%20%20%20%20%20%20%20%20%20%20%29.addTo%28map_7c0b2efc5e7d49fa989d831b28c228ff%29%3B%0A%20%20%20%20%20%20%20%20%0A%20%20%20%20%0A%20%20%20%20%20%20%20%20var%20marker_9f0abc54a24c402da0605fe4b74f5cb8%20%3D%20L.marker%28%0A%20%20%20%20%20%20%20%20%20%20%20%20%5B17.4211909553%2C%2078.3283815577%5D%2C%0A%20%20%20%20%20%20%20%20%20%20%20%20%7B%0A%20%20%20%20%20%20%20%20%20%20%20%20%20%20%20%20icon%3A%20new%20L.Icon.Default%28%29%2C%0A%20%20%20%20%20%20%20%20%20%20%20%20%20%20%20%20%7D%0A%20%20%20%20%20%20%20%20%20%20%20%20%29.addTo%28map_7c0b2efc5e7d49fa989d831b28c228ff%29%3B%0A%20%20%20%20%20%20%20%20%0A%20%20%20%20%0A%20%20%20%20%20%20%20%20var%20marker_93b451f8c0594a378bc3aa4c1ccb49bf%20%3D%20L.marker%28%0A%20%20%20%20%20%20%20%20%20%20%20%20%5B17.4433449253%2C%2078.3628670499%5D%2C%0A%20%20%20%20%20%20%20%20%20%20%20%20%7B%0A%20%20%20%20%20%20%20%20%20%20%20%20%20%20%20%20icon%3A%20new%20L.Icon.Default%28%29%2C%0A%20%20%20%20%20%20%20%20%20%20%20%20%20%20%20%20%7D%0A%20%20%20%20%20%20%20%20%20%20%20%20%29.addTo%28map_7c0b2efc5e7d49fa989d831b28c228ff%29%3B%0A%20%20%20%20%20%20%20%20%0A%20%20%20%20%0A%20%20%20%20%20%20%20%20var%20marker_65e858ec31b54557adf388e7a8d57a33%20%3D%20L.marker%28%0A%20%20%20%20%20%20%20%20%20%20%20%20%5B17.4366895172%2C%2078.3668139204%5D%2C%0A%20%20%20%20%20%20%20%20%20%20%20%20%7B%0A%20%20%20%20%20%20%20%20%20%20%20%20%20%20%20%20icon%3A%20new%20L.Icon.Default%28%29%2C%0A%20%20%20%20%20%20%20%20%20%20%20%20%20%20%20%20%7D%0A%20%20%20%20%20%20%20%20%20%20%20%20%29.addTo%28map_7c0b2efc5e7d49fa989d831b28c228ff%29%3B%0A%20%20%20%20%20%20%20%20%0A%20%20%20%20%0A%20%20%20%20%20%20%20%20var%20marker_abaa2c2f6bbb489482315e534309e332%20%3D%20L.marker%28%0A%20%20%20%20%20%20%20%20%20%20%20%20%5B17.4485953198%2C%2078.3577923104%5D%2C%0A%20%20%20%20%20%20%20%20%20%20%20%20%7B%0A%20%20%20%20%20%20%20%20%20%20%20%20%20%20%20%20icon%3A%20new%20L.Icon.Default%28%29%2C%0A%20%20%20%20%20%20%20%20%20%20%20%20%20%20%20%20%7D%0A%20%20%20%20%20%20%20%20%20%20%20%20%29.addTo%28map_7c0b2efc5e7d49fa989d831b28c228ff%29%3B%0A%20%20%20%20%20%20%20%20%0A%20%20%20%20%0A%20%20%20%20%20%20%20%20var%20marker_2d8b5ce262c6408a84a195033ab8382d%20%3D%20L.marker%28%0A%20%20%20%20%20%20%20%20%20%20%20%20%5B17.4240820558%2C%2078.3475720882%5D%2C%0A%20%20%20%20%20%20%20%20%20%20%20%20%7B%0A%20%20%20%20%20%20%20%20%20%20%20%20%20%20%20%20icon%3A%20new%20L.Icon.Default%28%29%2C%0A%20%20%20%20%20%20%20%20%20%20%20%20%20%20%20%20%7D%0A%20%20%20%20%20%20%20%20%20%20%20%20%29.addTo%28map_7c0b2efc5e7d49fa989d831b28c228ff%29%3B%0A%20%20%20%20%20%20%20%20%0A%20%20%20%20%0A%20%20%20%20%20%20%20%20var%20marker_9086f4a446de4ef68aa73a4b43d554ee%20%3D%20L.marker%28%0A%20%20%20%20%20%20%20%20%20%20%20%20%5B17.4191409397%2C%2078.3781472594%5D%2C%0A%20%20%20%20%20%20%20%20%20%20%20%20%7B%0A%20%20%20%20%20%20%20%20%20%20%20%20%20%20%20%20icon%3A%20new%20L.Icon.Default%28%29%2C%0A%20%20%20%20%20%20%20%20%20%20%20%20%20%20%20%20%7D%0A%20%20%20%20%20%20%20%20%20%20%20%20%29.addTo%28map_7c0b2efc5e7d49fa989d831b28c228ff%29%3B%0A%20%20%20%20%20%20%20%20%0A%20%20%20%20%0A%20%20%20%20%20%20%20%20var%20marker_9994b85c285e493daf7fed42849f0527%20%3D%20L.marker%28%0A%20%20%20%20%20%20%20%20%20%20%20%20%5B17.430609971%2C%2078.324513472%5D%2C%0A%20%20%20%20%20%20%20%20%20%20%20%20%7B%0A%20%20%20%20%20%20%20%20%20%20%20%20%20%20%20%20icon%3A%20new%20L.Icon.Default%28%29%2C%0A%20%20%20%20%20%20%20%20%20%20%20%20%20%20%20%20%7D%0A%20%20%20%20%20%20%20%20%20%20%20%20%29.addTo%28map_7c0b2efc5e7d49fa989d831b28c228ff%29%3B%0A%20%20%20%20%20%20%20%20%0A%20%20%20%20%0A%20%20%20%20%20%20%20%20var%20marker_e2e83b68ac0e4272b8eb30a3f08ae50a%20%3D%20L.marker%28%0A%20%20%20%20%20%20%20%20%20%20%20%20%5B17.4291749826%2C%2078.373917751%5D%2C%0A%20%20%20%20%20%20%20%20%20%20%20%20%7B%0A%20%20%20%20%20%20%20%20%20%20%20%20%20%20%20%20icon%3A%20new%20L.Icon.Default%28%29%2C%0A%20%20%20%20%20%20%20%20%20%20%20%20%20%20%20%20%7D%0A%20%20%20%20%20%20%20%20%20%20%20%20%29.addTo%28map_7c0b2efc5e7d49fa989d831b28c228ff%29%3B%0A%20%20%20%20%20%20%20%20%0A%20%20%20%20%0A%20%20%20%20%20%20%20%20var%20marker_be02d2ba85ca4c93832b8406655413a4%20%3D%20L.marker%28%0A%20%20%20%20%20%20%20%20%20%20%20%20%5B17.4483071357%2C%2078.3634336665%5D%2C%0A%20%20%20%20%20%20%20%20%20%20%20%20%7B%0A%20%20%20%20%20%20%20%20%20%20%20%20%20%20%20%20icon%3A%20new%20L.Icon.Default%28%29%2C%0A%20%20%20%20%20%20%20%20%20%20%20%20%20%20%20%20%7D%0A%20%20%20%20%20%20%20%20%20%20%20%20%29.addTo%28map_7c0b2efc5e7d49fa989d831b28c228ff%29%3B%0A%20%20%20%20%20%20%20%20%0A%20%20%20%20%0A%20%20%20%20%20%20%20%20var%20marker_53d03648fd9549bcaaddcbdac52eae39%20%3D%20L.marker%28%0A%20%20%20%20%20%20%20%20%20%20%20%20%5B17.4431111089%2C%2078.3547288924%5D%2C%0A%20%20%20%20%20%20%20%20%20%20%20%20%7B%0A%20%20%20%20%20%20%20%20%20%20%20%20%20%20%20%20icon%3A%20new%20L.Icon.Default%28%29%2C%0A%20%20%20%20%20%20%20%20%20%20%20%20%20%20%20%20%7D%0A%20%20%20%20%20%20%20%20%20%20%20%20%29.addTo%28map_7c0b2efc5e7d49fa989d831b28c228ff%29%3B%0A%20%20%20%20%20%20%20%20%0A%20%20%20%20%0A%20%20%20%20%20%20%20%20var%20marker_99d56d69844d48af880dbab3d789e386%20%3D%20L.marker%28%0A%20%20%20%20%20%20%20%20%20%20%20%20%5B17.4430586521%2C%2078.3548539504%5D%2C%0A%20%20%20%20%20%20%20%20%20%20%20%20%7B%0A%20%20%20%20%20%20%20%20%20%20%20%20%20%20%20%20icon%3A%20new%20L.Icon.Default%28%29%2C%0A%20%20%20%20%20%20%20%20%20%20%20%20%20%20%20%20%7D%0A%20%20%20%20%20%20%20%20%20%20%20%20%29.addTo%28map_7c0b2efc5e7d49fa989d831b28c228ff%29%3B%0A%20%20%20%20%20%20%20%20%0A%20%20%20%20%0A%20%20%20%20%20%20%20%20var%20marker_5e7949d38d094f5f84e896bbf9b67a66%20%3D%20L.marker%28%0A%20%20%20%20%20%20%20%20%20%20%20%20%5B17.4367995523%2C%2078.3664809912%5D%2C%0A%20%20%20%20%20%20%20%20%20%20%20%20%7B%0A%20%20%20%20%20%20%20%20%20%20%20%20%20%20%20%20icon%3A%20new%20L.Icon.Default%28%29%2C%0A%20%20%20%20%20%20%20%20%20%20%20%20%20%20%20%20%7D%0A%20%20%20%20%20%20%20%20%20%20%20%20%29.addTo%28map_7c0b2efc5e7d49fa989d831b28c228ff%29%3B%0A%20%20%20%20%20%20%20%20%0A%20%20%20%20%0A%20%20%20%20%20%20%20%20var%20marker_e4b00c7d1b75426a93fce94a60db6291%20%3D%20L.marker%28%0A%20%20%20%20%20%20%20%20%20%20%20%20%5B17.4220401748%2C%2078.3385119215%5D%2C%0A%20%20%20%20%20%20%20%20%20%20%20%20%7B%0A%20%20%20%20%20%20%20%20%20%20%20%20%20%20%20%20icon%3A%20new%20L.Icon.Default%28%29%2C%0A%20%20%20%20%20%20%20%20%20%20%20%20%20%20%20%20%7D%0A%20%20%20%20%20%20%20%20%20%20%20%20%29.addTo%28map_7c0b2efc5e7d49fa989d831b28c228ff%29%3B%0A%20%20%20%20%20%20%20%20%0A%20%20%20%20%0A%20%20%20%20%20%20%20%20var%20marker_015931cd4fc1448fa041dd0c5024b744%20%3D%20L.marker%28%0A%20%20%20%20%20%20%20%20%20%20%20%20%5B17.4391972786%2C%2078.3620348945%5D%2C%0A%20%20%20%20%20%20%20%20%20%20%20%20%7B%0A%20%20%20%20%20%20%20%20%20%20%20%20%20%20%20%20icon%3A%20new%20L.Icon.Default%28%29%2C%0A%20%20%20%20%20%20%20%20%20%20%20%20%20%20%20%20%7D%0A%20%20%20%20%20%20%20%20%20%20%20%20%29.addTo%28map_7c0b2efc5e7d49fa989d831b28c228ff%29%3B%0A%20%20%20%20%20%20%20%20%0A%20%20%20%20%0A%20%20%20%20%20%20%20%20var%20marker_bb418e46be97455f851dde92195aa874%20%3D%20L.marker%28%0A%20%20%20%20%20%20%20%20%20%20%20%20%5B17.4452720599%2C%2078.3634762466%5D%2C%0A%20%20%20%20%20%20%20%20%20%20%20%20%7B%0A%20%20%20%20%20%20%20%20%20%20%20%20%20%20%20%20icon%3A%20new%20L.Icon.Default%28%29%2C%0A%20%20%20%20%20%20%20%20%20%20%20%20%20%20%20%20%7D%0A%20%20%20%20%20%20%20%20%20%20%20%20%29.addTo%28map_7c0b2efc5e7d49fa989d831b28c228ff%29%3B%0A%20%20%20%20%20%20%20%20%0A%20%20%20%20%0A%20%20%20%20%20%20%20%20var%20marker_517d7494c5c0422b82056a9bbd7cb5ab%20%3D%20L.marker%28%0A%20%20%20%20%20%20%20%20%20%20%20%20%5B17.4435710648%2C%2078.3681533486%5D%2C%0A%20%20%20%20%20%20%20%20%20%20%20%20%7B%0A%20%20%20%20%20%20%20%20%20%20%20%20%20%20%20%20icon%3A%20new%20L.Icon.Default%28%29%2C%0A%20%20%20%20%20%20%20%20%20%20%20%20%20%20%20%20%7D%0A%20%20%20%20%20%20%20%20%20%20%20%20%29.addTo%28map_7c0b2efc5e7d49fa989d831b28c228ff%29%3B%0A%20%20%20%20%20%20%20%20%0A%20%20%20%20%0A%20%20%20%20%20%20%20%20var%20marker_70de0898c41d4c6c9a332dbfad710672%20%3D%20L.marker%28%0A%20%20%20%20%20%20%20%20%20%20%20%20%5B17.4504881754%2C%2078.362737298%5D%2C%0A%20%20%20%20%20%20%20%20%20%20%20%20%7B%0A%20%20%20%20%20%20%20%20%20%20%20%20%20%20%20%20icon%3A%20new%20L.Icon.Default%28%29%2C%0A%20%20%20%20%20%20%20%20%20%20%20%20%20%20%20%20%7D%0A%20%20%20%20%20%20%20%20%20%20%20%20%29.addTo%28map_7c0b2efc5e7d49fa989d831b28c228ff%29%3B%0A%20%20%20%20%20%20%20%20%0A%20%20%20%20%0A%20%20%20%20%20%20%20%20var%20marker_3d022a235d8048bdac2f527b74e2f974%20%3D%20L.marker%28%0A%20%20%20%20%20%20%20%20%20%20%20%20%5B17.4379990591%2C%2078.3655794337%5D%2C%0A%20%20%20%20%20%20%20%20%20%20%20%20%7B%0A%20%20%20%20%20%20%20%20%20%20%20%20%20%20%20%20icon%3A%20new%20L.Icon.Default%28%29%2C%0A%20%20%20%20%20%20%20%20%20%20%20%20%20%20%20%20%7D%0A%20%20%20%20%20%20%20%20%20%20%20%20%29.addTo%28map_7c0b2efc5e7d49fa989d831b28c228ff%29%3B%0A%20%20%20%20%20%20%20%20%0A%20%20%20%20%0A%20%20%20%20%20%20%20%20var%20marker_610cc41af2f5402f8d65a325ed5b7af0%20%3D%20L.marker%28%0A%20%20%20%20%20%20%20%20%20%20%20%20%5B17.4427672607%2C%2078.3557933941%5D%2C%0A%20%20%20%20%20%20%20%20%20%20%20%20%7B%0A%20%20%20%20%20%20%20%20%20%20%20%20%20%20%20%20icon%3A%20new%20L.Icon.Default%28%29%2C%0A%20%20%20%20%20%20%20%20%20%20%20%20%20%20%20%20%7D%0A%20%20%20%20%20%20%20%20%20%20%20%20%29.addTo%28map_7c0b2efc5e7d49fa989d831b28c228ff%29%3B%0A%20%20%20%20%20%20%20%20%0A%20%20%20%20%0A%20%20%20%20%20%20%20%20var%20marker_89209dfb83b941028d29ecbb0e10053e%20%3D%20L.marker%28%0A%20%20%20%20%20%20%20%20%20%20%20%20%5B17.4524357044%2C%2078.3630219474%5D%2C%0A%20%20%20%20%20%20%20%20%20%20%20%20%7B%0A%20%20%20%20%20%20%20%20%20%20%20%20%20%20%20%20icon%3A%20new%20L.Icon.Default%28%29%2C%0A%20%20%20%20%20%20%20%20%20%20%20%20%20%20%20%20%7D%0A%20%20%20%20%20%20%20%20%20%20%20%20%29.addTo%28map_7c0b2efc5e7d49fa989d831b28c228ff%29%3B%0A%20%20%20%20%20%20%20%20%0A%20%20%20%20%0A%20%20%20%20%20%20%20%20var%20marker_e693016406c847629985a26d74e34ae5%20%3D%20L.marker%28%0A%20%20%20%20%20%20%20%20%20%20%20%20%5B17.4327477199%2C%2078.3697415516%5D%2C%0A%20%20%20%20%20%20%20%20%20%20%20%20%7B%0A%20%20%20%20%20%20%20%20%20%20%20%20%20%20%20%20icon%3A%20new%20L.Icon.Default%28%29%2C%0A%20%20%20%20%20%20%20%20%20%20%20%20%20%20%20%20%7D%0A%20%20%20%20%20%20%20%20%20%20%20%20%29.addTo%28map_7c0b2efc5e7d49fa989d831b28c228ff%29%3B%0A%20%20%20%20%20%20%20%20%0A%20%20%20%20%0A%20%20%20%20%20%20%20%20var%20marker_33530f2426ee40e187c67f81b0f0b888%20%3D%20L.marker%28%0A%20%20%20%20%20%20%20%20%20%20%20%20%5B17.433390031%2C%2078.369502835%5D%2C%0A%20%20%20%20%20%20%20%20%20%20%20%20%7B%0A%20%20%20%20%20%20%20%20%20%20%20%20%20%20%20%20icon%3A%20new%20L.Icon.Default%28%29%2C%0A%20%20%20%20%20%20%20%20%20%20%20%20%20%20%20%20%7D%0A%20%20%20%20%20%20%20%20%20%20%20%20%29.addTo%28map_7c0b2efc5e7d49fa989d831b28c228ff%29%3B%0A%20%20%20%20%20%20%20%20%0A%20%20%20%20%0A%20%20%20%20%20%20%20%20var%20marker_16cba9d5f6b34835bb40625cc1a07254%20%3D%20L.marker%28%0A%20%20%20%20%20%20%20%20%20%20%20%20%5B17.4487773137%2C%2078.3558849245%5D%2C%0A%20%20%20%20%20%20%20%20%20%20%20%20%7B%0A%20%20%20%20%20%20%20%20%20%20%20%20%20%20%20%20icon%3A%20new%20L.Icon.Default%28%29%2C%0A%20%20%20%20%20%20%20%20%20%20%20%20%20%20%20%20%7D%0A%20%20%20%20%20%20%20%20%20%20%20%20%29.addTo%28map_7c0b2efc5e7d49fa989d831b28c228ff%29%3B%0A%20%20%20%20%20%20%20%20%0A%20%20%20%20%0A%20%20%20%20%20%20%20%20var%20marker_a516f220c35c4233a33de3ebd5e6f164%20%3D%20L.marker%28%0A%20%20%20%20%20%20%20%20%20%20%20%20%5B17.4154891%2C%2078.3326011%5D%2C%0A%20%20%20%20%20%20%20%20%20%20%20%20%7B%0A%20%20%20%20%20%20%20%20%20%20%20%20%20%20%20%20icon%3A%20new%20L.Icon.Default%28%29%2C%0A%20%20%20%20%20%20%20%20%20%20%20%20%20%20%20%20%7D%0A%20%20%20%20%20%20%20%20%20%20%20%20%29.addTo%28map_7c0b2efc5e7d49fa989d831b28c228ff%29%3B%0A%20%20%20%20%20%20%20%20%0A%20%20%20%20%0A%20%20%20%20%20%20%20%20var%20marker_2aceae1b133d402faea1ebc689dc959d%20%3D%20L.marker%28%0A%20%20%20%20%20%20%20%20%20%20%20%20%5B17.4496556%2C%2078.3572262%5D%2C%0A%20%20%20%20%20%20%20%20%20%20%20%20%7B%0A%20%20%20%20%20%20%20%20%20%20%20%20%20%20%20%20icon%3A%20new%20L.Icon.Default%28%29%2C%0A%20%20%20%20%20%20%20%20%20%20%20%20%20%20%20%20%7D%0A%20%20%20%20%20%20%20%20%20%20%20%20%29.addTo%28map_7c0b2efc5e7d49fa989d831b28c228ff%29%3B%0A%20%20%20%20%20%20%20%20%0A%20%20%20%20%0A%20%20%20%20%20%20%20%20var%20marker_19d07e4cffad4f5db3da2f8b107ff194%20%3D%20L.marker%28%0A%20%20%20%20%20%20%20%20%20%20%20%20%5B17.4416746188%2C%2078.3581349626%5D%2C%0A%20%20%20%20%20%20%20%20%20%20%20%20%7B%0A%20%20%20%20%20%20%20%20%20%20%20%20%20%20%20%20icon%3A%20new%20L.Icon.Default%28%29%2C%0A%20%20%20%20%20%20%20%20%20%20%20%20%20%20%20%20%7D%0A%20%20%20%20%20%20%20%20%20%20%20%20%29.addTo%28map_7c0b2efc5e7d49fa989d831b28c228ff%29%3B%0A%20%20%20%20%20%20%20%20%0A%20%20%20%20%0A%20%20%20%20%20%20%20%20var%20marker_f7a94c0a2e1e4b6ab8b7b225cc4f0a45%20%3D%20L.marker%28%0A%20%20%20%20%20%20%20%20%20%20%20%20%5B17.4423994224%2C%2078.3555120975%5D%2C%0A%20%20%20%20%20%20%20%20%20%20%20%20%7B%0A%20%20%20%20%20%20%20%20%20%20%20%20%20%20%20%20icon%3A%20new%20L.Icon.Default%28%29%2C%0A%20%20%20%20%20%20%20%20%20%20%20%20%20%20%20%20%7D%0A%20%20%20%20%20%20%20%20%20%20%20%20%29.addTo%28map_7c0b2efc5e7d49fa989d831b28c228ff%29%3B%0A%20%20%20%20%20%20%20%20%0A%20%20%20%20%0A%20%20%20%20%20%20%20%20var%20marker_077531a9930247e4b99eedfd6b35ed8b%20%3D%20L.marker%28%0A%20%20%20%20%20%20%20%20%20%20%20%20%5B17.4241952975%2C%2078.3440114558%5D%2C%0A%20%20%20%20%20%20%20%20%20%20%20%20%7B%0A%20%20%20%20%20%20%20%20%20%20%20%20%20%20%20%20icon%3A%20new%20L.Icon.Default%28%29%2C%0A%20%20%20%20%20%20%20%20%20%20%20%20%20%20%20%20%7D%0A%20%20%20%20%20%20%20%20%20%20%20%20%29.addTo%28map_7c0b2efc5e7d49fa989d831b28c228ff%29%3B%0A%20%20%20%20%20%20%20%20%0A%20%20%20%20%0A%20%20%20%20%20%20%20%20var%20marker_4558a980ea8c4c349b6231f203024a7d%20%3D%20L.marker%28%0A%20%20%20%20%20%20%20%20%20%20%20%20%5B17.4469759178%2C%2078.3531631529%5D%2C%0A%20%20%20%20%20%20%20%20%20%20%20%20%7B%0A%20%20%20%20%20%20%20%20%20%20%20%20%20%20%20%20icon%3A%20new%20L.Icon.Default%28%29%2C%0A%20%20%20%20%20%20%20%20%20%20%20%20%20%20%20%20%7D%0A%20%20%20%20%20%20%20%20%20%20%20%20%29.addTo%28map_7c0b2efc5e7d49fa989d831b28c228ff%29%3B%0A%20%20%20%20%20%20%20%20%0A%20%20%20%20%0A%20%20%20%20%20%20%20%20var%20marker_4956e8129d594b0a8aa7ca36854278f9%20%3D%20L.marker%28%0A%20%20%20%20%20%20%20%20%20%20%20%20%5B17.4524360243%2C%2078.3630108833%5D%2C%0A%20%20%20%20%20%20%20%20%20%20%20%20%7B%0A%20%20%20%20%20%20%20%20%20%20%20%20%20%20%20%20icon%3A%20new%20L.Icon.Default%28%29%2C%0A%20%20%20%20%20%20%20%20%20%20%20%20%20%20%20%20%7D%0A%20%20%20%20%20%20%20%20%20%20%20%20%29.addTo%28map_7c0b2efc5e7d49fa989d831b28c228ff%29%3B%0A%20%20%20%20%20%20%20%20%0A%20%20%20%20%0A%20%20%20%20%20%20%20%20var%20marker_6bcbc23e7c9146c289133f860e9900b0%20%3D%20L.marker%28%0A%20%20%20%20%20%20%20%20%20%20%20%20%5B17.4476204178%2C%2078.3633186668%5D%2C%0A%20%20%20%20%20%20%20%20%20%20%20%20%7B%0A%20%20%20%20%20%20%20%20%20%20%20%20%20%20%20%20icon%3A%20new%20L.Icon.Default%28%29%2C%0A%20%20%20%20%20%20%20%20%20%20%20%20%20%20%20%20%7D%0A%20%20%20%20%20%20%20%20%20%20%20%20%29.addTo%28map_7c0b2efc5e7d49fa989d831b28c228ff%29%3B%0A%20%20%20%20%20%20%20%20%0A%20%20%20%20%0A%20%20%20%20%20%20%20%20var%20marker_8eba80a9f97e429480709b8699b60fbf%20%3D%20L.marker%28%0A%20%20%20%20%20%20%20%20%20%20%20%20%5B17.4183324%2C%2078.3421179%5D%2C%0A%20%20%20%20%20%20%20%20%20%20%20%20%7B%0A%20%20%20%20%20%20%20%20%20%20%20%20%20%20%20%20icon%3A%20new%20L.Icon.Default%28%29%2C%0A%20%20%20%20%20%20%20%20%20%20%20%20%20%20%20%20%7D%0A%20%20%20%20%20%20%20%20%20%20%20%20%29.addTo%28map_7c0b2efc5e7d49fa989d831b28c228ff%29%3B%0A%20%20%20%20%20%20%20%20%0A%20%20%20%20%0A%20%20%20%20%20%20%20%20var%20marker_503da93d93c94031ba23feb86bb22c7e%20%3D%20L.marker%28%0A%20%20%20%20%20%20%20%20%20%20%20%20%5B17.4607852%2C%2078.3662368%5D%2C%0A%20%20%20%20%20%20%20%20%20%20%20%20%7B%0A%20%20%20%20%20%20%20%20%20%20%20%20%20%20%20%20icon%3A%20new%20L.Icon.Default%28%29%2C%0A%20%20%20%20%20%20%20%20%20%20%20%20%20%20%20%20%7D%0A%20%20%20%20%20%20%20%20%20%20%20%20%29.addTo%28map_7c0b2efc5e7d49fa989d831b28c228ff%29%3B%0A%20%20%20%20%20%20%20%20%0A%20%20%20%20%0A%20%20%20%20%20%20%20%20var%20marker_29e049ce93304ec1983b5b65a9d3960e%20%3D%20L.marker%28%0A%20%20%20%20%20%20%20%20%20%20%20%20%5B17.4526784644%2C%2078.3633012325%5D%2C%0A%20%20%20%20%20%20%20%20%20%20%20%20%7B%0A%20%20%20%20%20%20%20%20%20%20%20%20%20%20%20%20icon%3A%20new%20L.Icon.Default%28%29%2C%0A%20%20%20%20%20%20%20%20%20%20%20%20%20%20%20%20%7D%0A%20%20%20%20%20%20%20%20%20%20%20%20%29.addTo%28map_7c0b2efc5e7d49fa989d831b28c228ff%29%3B%0A%20%20%20%20%20%20%20%20%0A%20%20%20%20%0A%20%20%20%20%20%20%20%20var%20marker_7e28bc40570c42d487c268d28bc185a2%20%3D%20L.marker%28%0A%20%20%20%20%20%20%20%20%20%20%20%20%5B17.4548226705%2C%2078.364142105%5D%2C%0A%20%20%20%20%20%20%20%20%20%20%20%20%7B%0A%20%20%20%20%20%20%20%20%20%20%20%20%20%20%20%20icon%3A%20new%20L.Icon.Default%28%29%2C%0A%20%20%20%20%20%20%20%20%20%20%20%20%20%20%20%20%7D%0A%20%20%20%20%20%20%20%20%20%20%20%20%29.addTo%28map_7c0b2efc5e7d49fa989d831b28c228ff%29%3B%0A%20%20%20%20%20%20%20%20%0A%20%20%20%20%0A%20%20%20%20%20%20%20%20var%20marker_2171c87b60aa435999322209349f8f91%20%3D%20L.marker%28%0A%20%20%20%20%20%20%20%20%20%20%20%20%5B17.4500077668%2C%2078.3637548611%5D%2C%0A%20%20%20%20%20%20%20%20%20%20%20%20%7B%0A%20%20%20%20%20%20%20%20%20%20%20%20%20%20%20%20icon%3A%20new%20L.Icon.Default%28%29%2C%0A%20%20%20%20%20%20%20%20%20%20%20%20%20%20%20%20%7D%0A%20%20%20%20%20%20%20%20%20%20%20%20%29.addTo%28map_7c0b2efc5e7d49fa989d831b28c228ff%29%3B%0A%20%20%20%20%20%20%20%20%0A%20%20%20%20%0A%20%20%20%20%20%20%20%20var%20marker_a88ec59c18a34935b2a31a02039d9aff%20%3D%20L.marker%28%0A%20%20%20%20%20%20%20%20%20%20%20%20%5B17.421775941%2C%2078.3376093581%5D%2C%0A%20%20%20%20%20%20%20%20%20%20%20%20%7B%0A%20%20%20%20%20%20%20%20%20%20%20%20%20%20%20%20icon%3A%20new%20L.Icon.Default%28%29%2C%0A%20%20%20%20%20%20%20%20%20%20%20%20%20%20%20%20%7D%0A%20%20%20%20%20%20%20%20%20%20%20%20%29.addTo%28map_7c0b2efc5e7d49fa989d831b28c228ff%29%3B%0A%20%20%20%20%20%20%20%20%0A%20%20%20%20%0A%20%20%20%20%20%20%20%20var%20marker_060e47dc188044e392bff6aed8c0963f%20%3D%20L.marker%28%0A%20%20%20%20%20%20%20%20%20%20%20%20%5B17.448558857%2C%2078.3563777804%5D%2C%0A%20%20%20%20%20%20%20%20%20%20%20%20%7B%0A%20%20%20%20%20%20%20%20%20%20%20%20%20%20%20%20icon%3A%20new%20L.Icon.Default%28%29%2C%0A%20%20%20%20%20%20%20%20%20%20%20%20%20%20%20%20%7D%0A%20%20%20%20%20%20%20%20%20%20%20%20%29.addTo%28map_7c0b2efc5e7d49fa989d831b28c228ff%29%3B%0A%20%20%20%20%20%20%20%20%0A%20%20%20%20%0A%20%20%20%20%20%20%20%20var%20marker_ef34e6bfc1f746bc84edd082188291a9%20%3D%20L.marker%28%0A%20%20%20%20%20%20%20%20%20%20%20%20%5B17.4358888815%2C%2078.3665554225%5D%2C%0A%20%20%20%20%20%20%20%20%20%20%20%20%7B%0A%20%20%20%20%20%20%20%20%20%20%20%20%20%20%20%20icon%3A%20new%20L.Icon.Default%28%29%2C%0A%20%20%20%20%20%20%20%20%20%20%20%20%20%20%20%20%7D%0A%20%20%20%20%20%20%20%20%20%20%20%20%29.addTo%28map_7c0b2efc5e7d49fa989d831b28c228ff%29%3B%0A%20%20%20%20%20%20%20%20%0A%20%20%20%20%0A%20%20%20%20%20%20%20%20var%20marker_daa5f9fce98b4a0b8a267594acf13292%20%3D%20L.marker%28%0A%20%20%20%20%20%20%20%20%20%20%20%20%5B17.4486029961%2C%2078.3611343428%5D%2C%0A%20%20%20%20%20%20%20%20%20%20%20%20%7B%0A%20%20%20%20%20%20%20%20%20%20%20%20%20%20%20%20icon%3A%20new%20L.Icon.Default%28%29%2C%0A%20%20%20%20%20%20%20%20%20%20%20%20%20%20%20%20%7D%0A%20%20%20%20%20%20%20%20%20%20%20%20%29.addTo%28map_7c0b2efc5e7d49fa989d831b28c228ff%29%3B%0A%20%20%20%20%20%20%20%20%0A%20%20%20%20%0A%20%20%20%20%20%20%20%20var%20marker_1572217478b84f11bc1a07da8026d2f7%20%3D%20L.marker%28%0A%20%20%20%20%20%20%20%20%20%20%20%20%5B17.4337482913%2C%2078.3689855039%5D%2C%0A%20%20%20%20%20%20%20%20%20%20%20%20%7B%0A%20%20%20%20%20%20%20%20%20%20%20%20%20%20%20%20icon%3A%20new%20L.Icon.Default%28%29%2C%0A%20%20%20%20%20%20%20%20%20%20%20%20%20%20%20%20%7D%0A%20%20%20%20%20%20%20%20%20%20%20%20%29.addTo%28map_7c0b2efc5e7d49fa989d831b28c228ff%29%3B%0A%20%20%20%20%20%20%20%20%0A%20%20%20%20%0A%20%20%20%20%20%20%20%20var%20marker_7cfb7615fd0c4837acc64c69d76f707a%20%3D%20L.marker%28%0A%20%20%20%20%20%20%20%20%20%20%20%20%5B17.4241892196%2C%2078.344172053%5D%2C%0A%20%20%20%20%20%20%20%20%20%20%20%20%7B%0A%20%20%20%20%20%20%20%20%20%20%20%20%20%20%20%20icon%3A%20new%20L.Icon.Default%28%29%2C%0A%20%20%20%20%20%20%20%20%20%20%20%20%20%20%20%20%7D%0A%20%20%20%20%20%20%20%20%20%20%20%20%29.addTo%28map_7c0b2efc5e7d49fa989d831b28c228ff%29%3B%0A%20%20%20%20%20%20%20%20%0A%20%20%20%20%0A%20%20%20%20%20%20%20%20var%20marker_aa8165b8ee294513b8627b96b3a9cc65%20%3D%20L.marker%28%0A%20%20%20%20%20%20%20%20%20%20%20%20%5B17.4468809219%2C%2078.3596282825%5D%2C%0A%20%20%20%20%20%20%20%20%20%20%20%20%7B%0A%20%20%20%20%20%20%20%20%20%20%20%20%20%20%20%20icon%3A%20new%20L.Icon.Default%28%29%2C%0A%20%20%20%20%20%20%20%20%20%20%20%20%20%20%20%20%7D%0A%20%20%20%20%20%20%20%20%20%20%20%20%29.addTo%28map_7c0b2efc5e7d49fa989d831b28c228ff%29%3B%0A%20%20%20%20%20%20%20%20%0A%20%20%20%20%0A%20%20%20%20%20%20%20%20var%20marker_76ff42f8e43246ca8392c2d43472b492%20%3D%20L.marker%28%0A%20%20%20%20%20%20%20%20%20%20%20%20%5B17.423367736%2C%2078.3309749141%5D%2C%0A%20%20%20%20%20%20%20%20%20%20%20%20%7B%0A%20%20%20%20%20%20%20%20%20%20%20%20%20%20%20%20icon%3A%20new%20L.Icon.Default%28%29%2C%0A%20%20%20%20%20%20%20%20%20%20%20%20%20%20%20%20%7D%0A%20%20%20%20%20%20%20%20%20%20%20%20%29.addTo%28map_7c0b2efc5e7d49fa989d831b28c228ff%29%3B%0A%20%20%20%20%20%20%20%20%0A%3C/script%3E onload=\"this.contentDocument.open();this.contentDocument.write(    decodeURIComponent(this.getAttribute('data-html')));this.contentDocument.close();\" allowfullscreen webkitallowfullscreen mozallowfullscreen></iframe></div></div>"
            ]
          },
          "metadata": {},
          "execution_count": 50
        }
      ]
    },
    {
      "cell_type": "markdown",
      "source": [
        "Majority of the restaurants seem to be located on the old-bombay highway. It is interesting to note that three clear clusters are visible clearly:\n",
        "1. Along the old bombay highway\n",
        "2. Below the highway(towards ISB)\n",
        "3. Above the highway(towards Botanical gardens)"
      ],
      "metadata": {
        "id": "RvxEEShd8zEp"
      }
    },
    {
      "cell_type": "markdown",
      "source": [
        "### 5) All the binary variables(Has featured and additional services)"
      ],
      "metadata": {
        "id": "wH5g02qe9g_C"
      }
    },
    {
      "cell_type": "code",
      "source": [
        "# Creating the list of binary variables\n",
        "bin_vars = ['Has_Featured']+master_list_add_servs\n",
        "\n",
        "bin_df = round((names_df[bin_vars].sum()/names_df.shape[0])*100,1).reset_index()\n",
        "bin_df.columns = ['Variable','% of restaurants']\n",
        "bin_df"
      ],
      "metadata": {
        "id": "ErU6Bu3aqxHB",
        "colab": {
          "base_uri": "https://localhost:8080/",
          "height": 363
        },
        "outputId": "a83747e5-837a-4324-c1fa-e0c91ace7cc5"
      },
      "execution_count": null,
      "outputs": [
        {
          "output_type": "execute_result",
          "data": {
            "text/plain": [
              "                    Variable  % of restaurants\n",
              "0               Has_Featured              26.0\n",
              "1            Romantic Dining              10.6\n",
              "2         Takeaway Available              68.3\n",
              "3    Valet Parking Available              20.2\n",
              "4             Indoor Seating              68.3\n",
              "5                     Buffet              14.4\n",
              "6                       Wifi              20.2\n",
              "7          Seating Available               5.8\n",
              "8  Table booking recommended              23.1\n",
              "9              Home Delivery              69.2"
            ],
            "text/html": [
              "\n",
              "  <div id=\"df-2c6dfada-ef3f-43fe-af82-b3951fc44ec9\">\n",
              "    <div class=\"colab-df-container\">\n",
              "      <div>\n",
              "<style scoped>\n",
              "    .dataframe tbody tr th:only-of-type {\n",
              "        vertical-align: middle;\n",
              "    }\n",
              "\n",
              "    .dataframe tbody tr th {\n",
              "        vertical-align: top;\n",
              "    }\n",
              "\n",
              "    .dataframe thead th {\n",
              "        text-align: right;\n",
              "    }\n",
              "</style>\n",
              "<table border=\"1\" class=\"dataframe\">\n",
              "  <thead>\n",
              "    <tr style=\"text-align: right;\">\n",
              "      <th></th>\n",
              "      <th>Variable</th>\n",
              "      <th>% of restaurants</th>\n",
              "    </tr>\n",
              "  </thead>\n",
              "  <tbody>\n",
              "    <tr>\n",
              "      <th>0</th>\n",
              "      <td>Has_Featured</td>\n",
              "      <td>26.0</td>\n",
              "    </tr>\n",
              "    <tr>\n",
              "      <th>1</th>\n",
              "      <td>Romantic Dining</td>\n",
              "      <td>10.6</td>\n",
              "    </tr>\n",
              "    <tr>\n",
              "      <th>2</th>\n",
              "      <td>Takeaway Available</td>\n",
              "      <td>68.3</td>\n",
              "    </tr>\n",
              "    <tr>\n",
              "      <th>3</th>\n",
              "      <td>Valet Parking Available</td>\n",
              "      <td>20.2</td>\n",
              "    </tr>\n",
              "    <tr>\n",
              "      <th>4</th>\n",
              "      <td>Indoor Seating</td>\n",
              "      <td>68.3</td>\n",
              "    </tr>\n",
              "    <tr>\n",
              "      <th>5</th>\n",
              "      <td>Buffet</td>\n",
              "      <td>14.4</td>\n",
              "    </tr>\n",
              "    <tr>\n",
              "      <th>6</th>\n",
              "      <td>Wifi</td>\n",
              "      <td>20.2</td>\n",
              "    </tr>\n",
              "    <tr>\n",
              "      <th>7</th>\n",
              "      <td>Seating Available</td>\n",
              "      <td>5.8</td>\n",
              "    </tr>\n",
              "    <tr>\n",
              "      <th>8</th>\n",
              "      <td>Table booking recommended</td>\n",
              "      <td>23.1</td>\n",
              "    </tr>\n",
              "    <tr>\n",
              "      <th>9</th>\n",
              "      <td>Home Delivery</td>\n",
              "      <td>69.2</td>\n",
              "    </tr>\n",
              "  </tbody>\n",
              "</table>\n",
              "</div>\n",
              "      <button class=\"colab-df-convert\" onclick=\"convertToInteractive('df-2c6dfada-ef3f-43fe-af82-b3951fc44ec9')\"\n",
              "              title=\"Convert this dataframe to an interactive table.\"\n",
              "              style=\"display:none;\">\n",
              "        \n",
              "  <svg xmlns=\"http://www.w3.org/2000/svg\" height=\"24px\"viewBox=\"0 0 24 24\"\n",
              "       width=\"24px\">\n",
              "    <path d=\"M0 0h24v24H0V0z\" fill=\"none\"/>\n",
              "    <path d=\"M18.56 5.44l.94 2.06.94-2.06 2.06-.94-2.06-.94-.94-2.06-.94 2.06-2.06.94zm-11 1L8.5 8.5l.94-2.06 2.06-.94-2.06-.94L8.5 2.5l-.94 2.06-2.06.94zm10 10l.94 2.06.94-2.06 2.06-.94-2.06-.94-.94-2.06-.94 2.06-2.06.94z\"/><path d=\"M17.41 7.96l-1.37-1.37c-.4-.4-.92-.59-1.43-.59-.52 0-1.04.2-1.43.59L10.3 9.45l-7.72 7.72c-.78.78-.78 2.05 0 2.83L4 21.41c.39.39.9.59 1.41.59.51 0 1.02-.2 1.41-.59l7.78-7.78 2.81-2.81c.8-.78.8-2.07 0-2.86zM5.41 20L4 18.59l7.72-7.72 1.47 1.35L5.41 20z\"/>\n",
              "  </svg>\n",
              "      </button>\n",
              "      \n",
              "  <style>\n",
              "    .colab-df-container {\n",
              "      display:flex;\n",
              "      flex-wrap:wrap;\n",
              "      gap: 12px;\n",
              "    }\n",
              "\n",
              "    .colab-df-convert {\n",
              "      background-color: #E8F0FE;\n",
              "      border: none;\n",
              "      border-radius: 50%;\n",
              "      cursor: pointer;\n",
              "      display: none;\n",
              "      fill: #1967D2;\n",
              "      height: 32px;\n",
              "      padding: 0 0 0 0;\n",
              "      width: 32px;\n",
              "    }\n",
              "\n",
              "    .colab-df-convert:hover {\n",
              "      background-color: #E2EBFA;\n",
              "      box-shadow: 0px 1px 2px rgba(60, 64, 67, 0.3), 0px 1px 3px 1px rgba(60, 64, 67, 0.15);\n",
              "      fill: #174EA6;\n",
              "    }\n",
              "\n",
              "    [theme=dark] .colab-df-convert {\n",
              "      background-color: #3B4455;\n",
              "      fill: #D2E3FC;\n",
              "    }\n",
              "\n",
              "    [theme=dark] .colab-df-convert:hover {\n",
              "      background-color: #434B5C;\n",
              "      box-shadow: 0px 1px 3px 1px rgba(0, 0, 0, 0.15);\n",
              "      filter: drop-shadow(0px 1px 2px rgba(0, 0, 0, 0.3));\n",
              "      fill: #FFFFFF;\n",
              "    }\n",
              "  </style>\n",
              "\n",
              "      <script>\n",
              "        const buttonEl =\n",
              "          document.querySelector('#df-2c6dfada-ef3f-43fe-af82-b3951fc44ec9 button.colab-df-convert');\n",
              "        buttonEl.style.display =\n",
              "          google.colab.kernel.accessAllowed ? 'block' : 'none';\n",
              "\n",
              "        async function convertToInteractive(key) {\n",
              "          const element = document.querySelector('#df-2c6dfada-ef3f-43fe-af82-b3951fc44ec9');\n",
              "          const dataTable =\n",
              "            await google.colab.kernel.invokeFunction('convertToInteractive',\n",
              "                                                     [key], {});\n",
              "          if (!dataTable) return;\n",
              "\n",
              "          const docLinkHtml = 'Like what you see? Visit the ' +\n",
              "            '<a target=\"_blank\" href=https://colab.research.google.com/notebooks/data_table.ipynb>data table notebook</a>'\n",
              "            + ' to learn more about interactive tables.';\n",
              "          element.innerHTML = '';\n",
              "          dataTable['output_type'] = 'display_data';\n",
              "          await google.colab.output.renderOutput(dataTable, element);\n",
              "          const docLink = document.createElement('div');\n",
              "          docLink.innerHTML = docLinkHtml;\n",
              "          element.appendChild(docLink);\n",
              "        }\n",
              "      </script>\n",
              "    </div>\n",
              "  </div>\n",
              "  "
            ]
          },
          "metadata": {},
          "execution_count": 57
        }
      ]
    },
    {
      "cell_type": "markdown",
      "source": [
        "* Gachibowli seems to be have a lot of very famous restaurants since 26% of the restaurants in this small area alone have featured in the list of Hyderabad's best restaurants."
      ],
      "metadata": {
        "id": "t_3wid98eg7i"
      }
    },
    {
      "cell_type": "code",
      "source": [
        "# Let us look at the bar plot of the share of restaurants that offer each of the additional services\n",
        "sns.barplot(x='Variable',y='% of restaurants',data = bin_df.iloc[1:])\n",
        "plt.title('Percentage of restaurants offering the services')\n",
        "plt.xticks(rotation=80)"
      ],
      "metadata": {
        "colab": {
          "base_uri": "https://localhost:8080/",
          "height": 464
        },
        "id": "rO4mPoyjdTuB",
        "outputId": "177cd312-54e9-4272-9a3e-b8d5a0488a79"
      },
      "execution_count": null,
      "outputs": [
        {
          "output_type": "execute_result",
          "data": {
            "text/plain": [
              "(array([0, 1, 2, 3, 4, 5, 6, 7, 8]),\n",
              " <a list of 9 Text major ticklabel objects>)"
            ]
          },
          "metadata": {},
          "execution_count": 64
        },
        {
          "output_type": "display_data",
          "data": {
            "text/plain": [
              "<Figure size 432x288 with 1 Axes>"
            ],
            "image/png": "[encoded data removed]"
          },
          "metadata": {
            "needs_background": "light"
          }
        }
      ]
    },
    {
      "cell_type": "markdown",
      "source": [
        "* It is interesting to note that 70% of the restaurants have home delivery services as well as indoor dining facilities available."
      ],
      "metadata": {
        "id": "Cw3VjAZufBVt"
      }
    },
    {
      "cell_type": "markdown",
      "source": [
        "### 6) Open days"
      ],
      "metadata": {
        "id": "wFuFBiGFfvnx"
      }
    },
    {
      "cell_type": "code",
      "source": [
        "names_df['Open_days']"
      ],
      "metadata": {
        "id": "lOrtylIYqwyV",
        "colab": {
          "base_uri": "https://localhost:8080/"
        },
        "outputId": "3dec0ad1-c7d4-491e-a1d5-0ae1c9f12fcd"
      },
      "execution_count": null,
      "outputs": [
        {
          "output_type": "execute_result",
          "data": {
            "text/plain": [
              "0      ['sun', 'sat', 'mon', 'tue', 'fri', 'thu', 'wed']\n",
              "1      ['mon', 'tue', 'wed', 'thu', 'fri', 'sat', 'sun']\n",
              "2      ['mon', 'tue', 'wed', 'thu', 'fri', 'sat', 'sun']\n",
              "3      ['mon', 'tue', 'wed', 'thu', 'fri', 'sat', 'sun']\n",
              "4      ['sun', 'sat', 'mon', 'tue', 'fri', 'thu', 'wed']\n",
              "                             ...                        \n",
              "100    ['mon', 'tue', 'wed', 'thu', 'fri', 'sat', 'sun']\n",
              "101    ['sun', 'sat', 'mon', 'tue', 'fri', 'thu', 'wed']\n",
              "102    ['mon', 'tue', 'wed', 'thu', 'fri', 'sat', 'sun']\n",
              "103    ['sun', 'sat', 'mon', 'tue', 'fri', 'thu', 'wed']\n",
              "104    ['mon', 'tue', 'wed', 'thu', 'fri', 'sat', 'sun']\n",
              "Name: Open_days, Length: 104, dtype: object"
            ]
          },
          "metadata": {},
          "execution_count": 65
        }
      ]
    },
    {
      "cell_type": "markdown",
      "source": [
        "At an initial glance it appears that significant majority of the restaurants are open on all the days of the week.(But note that some restaurants open for only a few hours on some days of the week). Let us look at the restaurants that are not open on all days to look at them easily."
      ],
      "metadata": {
        "id": "DXoJlzInf81p"
      }
    },
    {
      "cell_type": "code",
      "source": [
        "x=names_df['Open_days'][0]"
      ],
      "metadata": {
        "id": "7ZxnIypaqwvs"
      },
      "execution_count": null,
      "outputs": []
    },
    {
      "cell_type": "code",
      "source": [
        "sum(names_df['Open_days'].apply(lambda x: int(len(ast.literal_eval(x))<7)))"
      ],
      "metadata": {
        "id": "9TA6LCKSqwtJ",
        "colab": {
          "base_uri": "https://localhost:8080/"
        },
        "outputId": "6a6d802a-1d83-407c-cde7-2b3f7188d762"
      },
      "execution_count": null,
      "outputs": [
        {
          "output_type": "execute_result",
          "data": {
            "text/plain": [
              "5"
            ]
          },
          "metadata": {},
          "execution_count": 74
        }
      ]
    },
    {
      "cell_type": "markdown",
      "source": [
        "Only 5 restaurants do not open on all days of the week."
      ],
      "metadata": {
        "id": "zPDLqBDyhbIa"
      }
    },
    {
      "cell_type": "code",
      "source": [
        ""
      ],
      "metadata": {
        "id": "7Z4b5lU5h06L"
      },
      "execution_count": null,
      "outputs": []
    },
    {
      "cell_type": "markdown",
      "source": [
        "## Univariate analysis of the Reviews data"
      ],
      "metadata": {
        "id": "fhqvCHHXhp9g"
      }
    },
    {
      "cell_type": "code",
      "source": [
        "review_df.shape"
      ],
      "metadata": {
        "id": "JK3PFQfZqwqg",
        "colab": {
          "base_uri": "https://localhost:8080/"
        },
        "outputId": "dbe40efa-8e42-4b8e-acca-ab1978e9a256"
      },
      "execution_count": null,
      "outputs": [
        {
          "output_type": "execute_result",
          "data": {
            "text/plain": [
              "(10000, 7)"
            ]
          },
          "metadata": {},
          "execution_count": 75
        }
      ]
    },
    {
      "cell_type": "code",
      "source": [
        "review_df.head()"
      ],
      "metadata": {
        "id": "bOA0XsY0qwno",
        "colab": {
          "base_uri": "https://localhost:8080/",
          "height": 206
        },
        "outputId": "d4ee01c1-a915-4346-eb7a-4c79ac35b612"
      },
      "execution_count": null,
      "outputs": [
        {
          "output_type": "execute_result",
          "data": {
            "text/plain": [
              "        Restaurant              Reviewer  \\\n",
              "0  Beyond Flavours     Rusha Chakraborty   \n",
              "1  Beyond Flavours  Anusha Tirumalaneedi   \n",
              "2  Beyond Flavours       Ashok Shekhawat   \n",
              "3  Beyond Flavours        Swapnil Sarkar   \n",
              "4  Beyond Flavours                Dileep   \n",
              "\n",
              "                                              Review Rating  \\\n",
              "0  The ambience was good, food was quite good . h...      5   \n",
              "1  Ambience is too good for a pleasant evening. S...      5   \n",
              "2  A must try.. great food great ambience. Thnx f...      5   \n",
              "3  Soumen das and Arun was a great guy. Only beca...      5   \n",
              "4  Food is good.we ordered Kodi drumsticks and ba...      5   \n",
              "\n",
              "                  Metadata             Time  Pictures  \n",
              "0   1 Review , 2 Followers  5/25/2019 15:54         0  \n",
              "1  3 Reviews , 2 Followers  5/25/2019 14:20         0  \n",
              "2  2 Reviews , 3 Followers  5/24/2019 22:54         0  \n",
              "3    1 Review , 1 Follower  5/24/2019 22:11         0  \n",
              "4  3 Reviews , 2 Followers  5/24/2019 21:37         0  "
            ],
            "text/html": [
              "\n",
              "  <div id=\"df-1e374bb2-2d1c-4dd6-94c6-2b83d4e9bb1f\">\n",
              "    <div class=\"colab-df-container\">\n",
              "      <div>\n",
              "<style scoped>\n",
              "    .dataframe tbody tr th:only-of-type {\n",
              "        vertical-align: middle;\n",
              "    }\n",
              "\n",
              "    .dataframe tbody tr th {\n",
              "        vertical-align: top;\n",
              "    }\n",
              "\n",
              "    .dataframe thead th {\n",
              "        text-align: right;\n",
              "    }\n",
              "</style>\n",
              "<table border=\"1\" class=\"dataframe\">\n",
              "  <thead>\n",
              "    <tr style=\"text-align: right;\">\n",
              "      <th></th>\n",
              "      <th>Restaurant</th>\n",
              "      <th>Reviewer</th>\n",
              "      <th>Review</th>\n",
              "      <th>Rating</th>\n",
              "      <th>Metadata</th>\n",
              "      <th>Time</th>\n",
              "      <th>Pictures</th>\n",
              "    </tr>\n",
              "  </thead>\n",
              "  <tbody>\n",
              "    <tr>\n",
              "      <th>0</th>\n",
              "      <td>Beyond Flavours</td>\n",
              "      <td>Rusha Chakraborty</td>\n",
              "      <td>The ambience was good, food was quite good . h...</td>\n",
              "      <td>5</td>\n",
              "      <td>1 Review , 2 Followers</td>\n",
              "      <td>5/25/2019 15:54</td>\n",
              "      <td>0</td>\n",
              "    </tr>\n",
              "    <tr>\n",
              "      <th>1</th>\n",
              "      <td>Beyond Flavours</td>\n",
              "      <td>Anusha Tirumalaneedi</td>\n",
              "      <td>Ambience is too good for a pleasant evening. S...</td>\n",
              "      <td>5</td>\n",
              "      <td>3 Reviews , 2 Followers</td>\n",
              "      <td>5/25/2019 14:20</td>\n",
              "      <td>0</td>\n",
              "    </tr>\n",
              "    <tr>\n",
              "      <th>2</th>\n",
              "      <td>Beyond Flavours</td>\n",
              "      <td>Ashok Shekhawat</td>\n",
              "      <td>A must try.. great food great ambience. Thnx f...</td>\n",
              "      <td>5</td>\n",
              "      <td>2 Reviews , 3 Followers</td>\n",
              "      <td>5/24/2019 22:54</td>\n",
              "      <td>0</td>\n",
              "    </tr>\n",
              "    <tr>\n",
              "      <th>3</th>\n",
              "      <td>Beyond Flavours</td>\n",
              "      <td>Swapnil Sarkar</td>\n",
              "      <td>Soumen das and Arun was a great guy. Only beca...</td>\n",
              "      <td>5</td>\n",
              "      <td>1 Review , 1 Follower</td>\n",
              "      <td>5/24/2019 22:11</td>\n",
              "      <td>0</td>\n",
              "    </tr>\n",
              "    <tr>\n",
              "      <th>4</th>\n",
              "      <td>Beyond Flavours</td>\n",
              "      <td>Dileep</td>\n",
              "      <td>Food is good.we ordered Kodi drumsticks and ba...</td>\n",
              "      <td>5</td>\n",
              "      <td>3 Reviews , 2 Followers</td>\n",
              "      <td>5/24/2019 21:37</td>\n",
              "      <td>0</td>\n",
              "    </tr>\n",
              "  </tbody>\n",
              "</table>\n",
              "</div>\n",
              "      <button class=\"colab-df-convert\" onclick=\"convertToInteractive('df-1e374bb2-2d1c-4dd6-94c6-2b83d4e9bb1f')\"\n",
              "              title=\"Convert this dataframe to an interactive table.\"\n",
              "              style=\"display:none;\">\n",
              "        \n",
              "  <svg xmlns=\"http://www.w3.org/2000/svg\" height=\"24px\"viewBox=\"0 0 24 24\"\n",
              "       width=\"24px\">\n",
              "    <path d=\"M0 0h24v24H0V0z\" fill=\"none\"/>\n",
              "    <path d=\"M18.56 5.44l.94 2.06.94-2.06 2.06-.94-2.06-.94-.94-2.06-.94 2.06-2.06.94zm-11 1L8.5 8.5l.94-2.06 2.06-.94-2.06-.94L8.5 2.5l-.94 2.06-2.06.94zm10 10l.94 2.06.94-2.06 2.06-.94-2.06-.94-.94-2.06-.94 2.06-2.06.94z\"/><path d=\"M17.41 7.96l-1.37-1.37c-.4-.4-.92-.59-1.43-.59-.52 0-1.04.2-1.43.59L10.3 9.45l-7.72 7.72c-.78.78-.78 2.05 0 2.83L4 21.41c.39.39.9.59 1.41.59.51 0 1.02-.2 1.41-.59l7.78-7.78 2.81-2.81c.8-.78.8-2.07 0-2.86zM5.41 20L4 18.59l7.72-7.72 1.47 1.35L5.41 20z\"/>\n",
              "  </svg>\n",
              "      </button>\n",
              "      \n",
              "  <style>\n",
              "    .colab-df-container {\n",
              "      display:flex;\n",
              "      flex-wrap:wrap;\n",
              "      gap: 12px;\n",
              "    }\n",
              "\n",
              "    .colab-df-convert {\n",
              "      background-color: #E8F0FE;\n",
              "      border: none;\n",
              "      border-radius: 50%;\n",
              "      cursor: pointer;\n",
              "      display: none;\n",
              "      fill: #1967D2;\n",
              "      height: 32px;\n",
              "      padding: 0 0 0 0;\n",
              "      width: 32px;\n",
              "    }\n",
              "\n",
              "    .colab-df-convert:hover {\n",
              "      background-color: #E2EBFA;\n",
              "      box-shadow: 0px 1px 2px rgba(60, 64, 67, 0.3), 0px 1px 3px 1px rgba(60, 64, 67, 0.15);\n",
              "      fill: #174EA6;\n",
              "    }\n",
              "\n",
              "    [theme=dark] .colab-df-convert {\n",
              "      background-color: #3B4455;\n",
              "      fill: #D2E3FC;\n",
              "    }\n",
              "\n",
              "    [theme=dark] .colab-df-convert:hover {\n",
              "      background-color: #434B5C;\n",
              "      box-shadow: 0px 1px 3px 1px rgba(0, 0, 0, 0.15);\n",
              "      filter: drop-shadow(0px 1px 2px rgba(0, 0, 0, 0.3));\n",
              "      fill: #FFFFFF;\n",
              "    }\n",
              "  </style>\n",
              "\n",
              "      <script>\n",
              "        const buttonEl =\n",
              "          document.querySelector('#df-1e374bb2-2d1c-4dd6-94c6-2b83d4e9bb1f button.colab-df-convert');\n",
              "        buttonEl.style.display =\n",
              "          google.colab.kernel.accessAllowed ? 'block' : 'none';\n",
              "\n",
              "        async function convertToInteractive(key) {\n",
              "          const element = document.querySelector('#df-1e374bb2-2d1c-4dd6-94c6-2b83d4e9bb1f');\n",
              "          const dataTable =\n",
              "            await google.colab.kernel.invokeFunction('convertToInteractive',\n",
              "                                                     [key], {});\n",
              "          if (!dataTable) return;\n",
              "\n",
              "          const docLinkHtml = 'Like what you see? Visit the ' +\n",
              "            '<a target=\"_blank\" href=https://colab.research.google.com/notebooks/data_table.ipynb>data table notebook</a>'\n",
              "            + ' to learn more about interactive tables.';\n",
              "          element.innerHTML = '';\n",
              "          dataTable['output_type'] = 'display_data';\n",
              "          await google.colab.output.renderOutput(dataTable, element);\n",
              "          const docLink = document.createElement('div');\n",
              "          docLink.innerHTML = docLinkHtml;\n",
              "          element.appendChild(docLink);\n",
              "        }\n",
              "      </script>\n",
              "    </div>\n",
              "  </div>\n",
              "  "
            ]
          },
          "metadata": {},
          "execution_count": 76
        }
      ]
    },
    {
      "cell_type": "code",
      "source": [
        ""
      ],
      "metadata": {
        "id": "4CUnDQaTqwhE"
      },
      "execution_count": null,
      "outputs": []
    },
    {
      "cell_type": "code",
      "source": [
        ""
      ],
      "metadata": {
        "id": "bKgCtq2Jqway"
      },
      "execution_count": null,
      "outputs": []
    },
    {
      "cell_type": "code",
      "source": [
        ""
      ],
      "metadata": {
        "id": "bMwG3DUUqwYY"
      },
      "execution_count": null,
      "outputs": []
    },
    {
      "cell_type": "code",
      "source": [
        ""
      ],
      "metadata": {
        "id": "Uk2yAieQqwV_"
      },
      "execution_count": null,
      "outputs": []
    },
    {
      "cell_type": "code",
      "source": [
        ""
      ],
      "metadata": {
        "id": "2HSwRteiqwTM"
      },
      "execution_count": null,
      "outputs": []
    },
    {
      "cell_type": "code",
      "source": [
        ""
      ],
      "metadata": {
        "id": "TrvIvt28qwQs"
      },
      "execution_count": null,
      "outputs": []
    },
    {
      "cell_type": "code",
      "source": [
        ""
      ],
      "metadata": {
        "id": "e3A6sm_xqwOG"
      },
      "execution_count": null,
      "outputs": []
    },
    {
      "cell_type": "markdown",
      "source": [
        "![image.png](data:image/png;base64,iVBORw0KGgoAAAANSUhEUgAAAwcAAAIACAIAAABYSIcUAAAgAElEQVR4nOy9ebwlVXnv/XvWUFW79nTGbppmFLAFRIMzKCLiEI2iXJXJkBA1Kk4JDqgIuRpHIsiLklyjoonXRImSmyh4VSIOqImoiAISRGVoezx9pj3VsIbn/lF7nz7ddEMf7VZ8Xd/en6fP3rtqVa1Vtdb61bOetTbddtttD3vYw4QQ3nshBDMTEQKBQCAQCAR+zxC/7RMIBAKBQCAQeFAQVFEgEAgEAoEAEFRRIBAIBAKBQEVQRYFAIBAIBAJAUEWBQCAQCAQCFUEVBQKBQCAQCABBFQUCgUAgEAhUBFUUCAQCgUAgAARVFAgEAoFAIFARVFEgEAgEAoEAEFRRIBAIBAKBQEVQRYFAIBAIBAJAUEWBQCAQCAQCFUEVBQKBQCAQCACA2iupMOCXvRUALfsKALEHHOAB6Ujx8MAeELxs46XtARA8vAcEC+EAucNmFhBDSccWJBwEAwoe8FXao+MC8KM9lySg3/HtnrDLXTzYANKS8oCuznmYH8FLuRjmS6D6hqvzB0gty7thELHCcCMLZhBZKA9E209gmJHRjh4QDgAgh0cZJQAfJG8gEAgEAititx0nM/f7/ervwWAAwDlXlqWrsCXgAc/MDFjAAgYwwGy3dAAD1hQACoZxABu4PkwHXMz2TQE4Z8DOeueAsrRgMMMzPJAZX8ADDt0FWOOARYO5QZ8rzQEPGObCWcADeQ9wfY8CYLi5mY1gMLBY5B5AWfp+H+wAz0CWO8CDPdjn2TB3/UHOwPLXDuUw/M+DPXb41sNkcD34fC5HBrhqM29QFlyVhneMoRz0QF5WB/DwxvUXGd4BYBhTMDKD/HnPO2d+DmDAFfB9wHSADOh0M3gPZ2DL6jQ6/ZwBsC+LzA5Flgd8dQmGebxPXgKBQCAQCNwPu1VFRJSmaa/XA7D0R1EUF1xwwcknn3zSSSc96YlP/Mu/+Iv/+q//2rB5hgHLWMzggVYzqrwXSumiKIjQH1iwR9nH3JbTn/vsr3/nRgtIKbnoD/o5gChS3jkauTggBUG4Mgf4T5797Gu++E2l0UjruS27nU6lKooik5X7KFKAhYADAD8xPQHG3Gy/Fif9vAelRJLAmUE2GOQcJUOXStbrJbXYFCWANE2q4/r7FAIvsyO/0+gr7yGBztyXP/eZj3/yM3MlPMCmLGa3QQoPlA5CSIaHM85a66EjeI9Kssg08exz6wGQYMA4X1onfaUoCWDz9gve/LZ3XJoD9WaNs8yXOSQBPBj0GvWkOpzWmoFBMTynZaouKKJAIBAIBFbGbkfQmJmIGo0GAO99o9G49tprL7744le/5nUXX3zx3OzMxOTkt7/1rW9961t/8ZjHCUARIj0cOyMP50slSZLoG6RNBe8QJZicvuoL13ZFo2CAQHHcTGoesNba0iSyJgAHKIHM5k0ixPEnr756Bk0A/bxoJ1GtlQAWQioF5wCGZAciEljoodlgWAuBiYl6CURRBOdBsMaktboD9XqmWYMQUGqY8bIsnYfWmiTtrih2ifdeCqDRqN7Wo2GhxRMTMAYyZkZe5vVIQghJqhIpzsHmvSjVfjAQjVqkhDVDaSqFjKLIWtjCKxQg+/b3vGcODQd0u/lYmpDwJst0rV6dfF7YeqRBAkAtXtlVDwQCgUAgcF926ytyzs3PzwPI89xa+6Mf/ejDH/7wtddee9ppLyxMOTExbY15xCMecd5551lrqy4/VXAeRcFawJcFioHSUmswkPX6IAkSg/mFwkMSjDFcFKUpAfT7/SSNAXgP50ZnpjUAxHG7LRcHqCcxgLIo8n4fADMLASkBISAEgHYDBAKxLaqBKSihYC2MUUna7fYZSFMthIZzOkmKPNdRFEURM8sVSiIAUinOc3ivlFJKecA6iCgCsOHeewFECkmUAPDWVrts2DCnNaJGo5ibE2m62FkEUMkzBze/MA8giqBigTiGUijLas9mM6lS0HEMa6MoAlCWJYAiz+cXy5WefCAQCAQCgfuyW1WklBofH8/zPEkSIcS//du/vfzlL8+yzHtorZ21Sutmq6WUqtXiIjcAFhczLVCPieCjWgQtAdfpwwC11hhYwvh0ctJYMKC0Jq0iHQFIkxoY1hghoSSMQ6KSYjDA3ByAskQ7RWFdacsojpMk8dZoHREh6+UQDEY/BwNbZ7ZCShVLY2A9A4AQ1ahVs9ms3g3xPk6Sbqfjva/9qp4W0hpCLC4uLi4uSkBJgBmDwdrDDgOQFR5At98VWoN5sZOvXTtR7Rg3m3Cu3Wr3s6IsWUklIdM01Vp3Oi7rFShL9HqIIuOQewDgPHdZBiGyLAPgPVrNFECcJOPtqDcI42WBQCAQCPy67HYErdJDSZLMzs4S0R133HHWWWetWrWKAeegtHK2zLIsiqIortUT/Z/f++ENN9zwspe9bKKVunzg8m6UqFtu/fFnvnbbq1/3541YEDOi+JUvfflL/+rytN7wYnFqojE3P/f3H73yO1//+l0/v3Pt2gPHpqZf8opzn3ryiQzEaQohX3/OOWdd8N7DH/GQRElif/XnPrdt68ZnP+fkz/zL5/7lqi/XtG4ngzP/5Jzn/dmrHbBqego2A/Ndd9178Yf+5j9v+ObhU6unxtpve9fbH3LkUcbAWSTSKC3fftFf3fKT2365frNjf/TDH3H22WefdPJJKyo4Z62UEhaNRqPhhuNorixlmp537rkv+cu39sryEx/72zv/+5b+/PyatQe97wMfbrcO2rRp25r9xqA1iDds3HDphz5807e/u9jdPLVftO7IP1i/fv6AA6RU0mdd0Whc/elPb4kPftH/eAYAShLpy3/+5CdvuunmL3zpK5OrDixN8agjH/L2d71nYu2B9ZRCIFEgEAgEAr8mu1VFSZIMBoM0TScnJ2+66aY0TY844oiiKKI4LopC1mKpVKPZrDa21rN399x910QrJXgZaanrYOOt+8Vd9yQxjEOk4sGWX45NTGZZdtjBExOY5Lxzyd+8f/+1B37o8ssOPPBAFdduufW2f/7s1SedfGLpy1iAt2497LDDvPdVNLf0Xkr5qU996hs3fOV5p77gu9/9Tt7L5jfe8ta3v3Ps8CefcMIxAKDUD7970xvecuE5r37JR67423J27vZbb3nDm974jve87+hjjtUaXPCb3/DG/dbs/7GPfSyttaIkvvue9VdeeeVKVZFUCmWGPDfGGGMyh7aEjGNeXGg2my996UuPOPro177qpQ8/8vBGrXb9V7/+2te+9pov/PuaNVNgi37/v39+58v+8vxXn3f++//63cZ1Hc3fcee9P7vto3fe2Tvs0Jqu1WB7SqnNmzd3ckwkALBt69aNGzeeeuqpl1z+oflOkdTir15z9bnnnvuxT38+TQVWPAYYCAQCgUBgB3Y7gmaMSdO00+kw88zMzDHHHNPv96M4Nh5JmvT6GQAwup0FMKwptCBFIKA7Pwf2YIesH8c6qdU9AAnTy9Lp1UVROOdLBgBmvvXWH5911lmHHn64kgTvjz766Hf+9V8BKIoCAK1adffddzNzFc2tpMqy7OlPf/o/f/rTp59+Rlm6tFlb+9CHnvr85916y49KBwBcFO9973svvvji01/4Igan9fqjjzvuTW88/4or/o6pijIyc3Nz55xzTr1ej5OkLMtVq1a9853vWGnBOWuhFKIojuM4jiMJAL4sqdHYunXrJZdc8vGP/a9HPepRaS0FcNxxxx155JHf+97N1b4LCwtve9vbrrjiihec+jwhUEtq9bi+du3agw8+eHKyoZQEACGY2TnXqmKKynJq//3f+MY3PvHEE8uybLVqzrnnPP/5j3nMY6699tqVh0UFAoFAIBDYmd2qIq11NfWMiLIs6/f79Xo9z0trHQDm0XR1IgBSylqtVsVlN8fbYAsiJLEtDQuqQoZ1kgBoNpv9TjcmsLdFNjj0kEP+9erPFoMBlHLWVnE/pfHNWpOtRa+3evXqpfliBCKier1eTbwaqgfv6/V6WZaVLrn5ph/W6/Vjj32EAxPIWQuiJ5144uzs7NaZvgOqMKn/+I//KMsSzJWmWcq19wDgnDPGLH3ovMMov8Y65+53rMq5er2+atUqAGVZevZsrZTSOVev16tNrrvuupNOOumRj3gkAGM8AAvbbrc3b95sDEgBxgDw3idJMlwLIIqqE4NzWuuy5FqiAaxbt27Tpk33dz6BQCAQCAT2jN2OoBljmLlSJFNTUxs3bgSQJJEHjOV6vW5tqaRqNJvsvNY6z3OttVLKm4FwFmTgjBDCey+Hh5LcXdy8cVO73RIAs6+Nt9/ylvPPe/35/37159asWfO4xz3huBOevO7hR8VaLA4602mMNJ2ZmQEwMBDCg2yz2RwbG4N3xllnI+EhlOgsLAoRCQDwm7dsfPSjHw1AggYmbyUpwCYfHLFu3S83blg1/dByUJ5//vnvu/hvLr/iQ0c+7JjHPv5xTz356YcccojxrLWQ1XLZzFrrH/7wh69/4xvmZjvGZg9Zu+Y5pzznlFPPWL3/fhLo9XqNRooyQ1kWRVEUunSAhIgiOzcbRdHc3Nya8uA0iiUsKSLv0jQdroppzOzs7KMf8+hOt1NrjsWxADyBrLVr1qwxxsFJKIVyUK/Xy9ly6AYqS2jatm3bxz728e/edPOGzfOlKZAttCam/ui0P9t390cgEAgEAr8/7FYVaa2dc0KIhYWFgw8+eMOGDffcc89BBx8MQCsSQGmczQsZSSUTIirLcmxsDIBQEQTBWOiYpGi1WplFWwEMqtcmJsaSWA8KtCMBxuTY+FWfuWpuZstPf/rT733vBxdd+D8n9lv9vz58RSttwQ0gRL1et9amGhGEt945V3mntI60kmDAc5IkU1MTxsO4st/v/9M//dOnrrp6U2dmcqLVdtKUeSm9l8njn/jMRz3yoUmtdti6dR/84AchxU9u++mXr/vKeeedd/jhh1/ygUuy3Aj2tVpsjJFSHnvssdd/9XoA1llhChlr0HCBykaj4WwplUKSaK211jUJAK4oVLvdaDSYOYmIAOutsFbrZGFh4dBDD7UWCtBab9u2rdVsGaAofJxAQpZldueddzYaEhJgQGvnXKPRKBkMIIq+9fX/+PBHPvKSl7zsla/9i7Q5FUUk2Xz+89fcfOdGt9PPpgQCgUAgEFg59/c7aFJKY8zY2Fiapg9/+MPn5uaa7VarOU4S1rg4riEe/jpYlpdxWu9leafbbzUSEGAclOx0Ov1+vywhFFBkEKWAX5ifXXfYajC77mLcXpVn/YnpySdMP/EJTzzhzD8+57K/veL6r99w3JMeGyuJ+QVrrZSy8EgEiKgoin6/z8y0fcoVZ/3uQh8AiPn444//wU13v+eS95cEAsQgF45FI+pbL7XuDdCUpY5Ia62S+Kijjnr0Yx+T5eXrX//6r17/jac+9cTKrVWr1YqiKMsySWtKKiUVidHa1owqiEcqBZMD6PWqdb8BQEYRBv35+XldLbY0WgwTRO12+4477tj/SY+DUEccccQt//2TQTbQtUYci/mF2caYH2uMTU1NCQFvIDSBsWXLFpE+JCYUuVPC3XjjjWecccZTTz4ZKnIgz7D9vjFmfHw8xBUFAoFAIPDr8wA/IKq1ttZaa0877bRzzz3Xey8litJoLa21ncVFZ22e51EULSwsSCmbzTqIYCzSBiCtZ0k8kYIAUw4ghWCfRFICMIVs1GFskiQAXFkCmJweA9Dtdn0V4NNoVKNyUqB0Xktdq9WUUiQVgF6vAADvtdZJkmgBFcXtZqssy5/+9B4Ai72uShJRq4GIILt9rqfQUTTodIQQAJIkqdTPkUceORgMKmkxN7cAII7jZrMphGCGdRajlRgBDAb54uIiADYG3rfb7Xa77QDrACIo5ZybmJgA0O13tdRC6zzLiKjdbgsBECVJctNNN8VxnBUGQLvdVlCDctAfLVBZHWjNmjXVL9AliYT3mzdvPvzwwyGlcy7LrCBIKTudTrfb3Us3QyAQCAQCv9fsVhVVDpAsy5RStVrtmGOOueCCC15w6v/43Of+NVZ6dnZWKXXzzTdf+oEPRFECgSefeMK3v/OfX7ru+m63DxVtvOuu1/7ZS971nvctLCwQkA9K3WgAnPf7kZIMQMnO5g1//ucvvf7668ssk1G0ZfPWL37xK7fffscJJ5yQRmm1hnWe54uLiwqIpABQOZ8AAJQkMQAIkSTJ4uJ8fwCA65OTj33sY9/1rnd989vfaTeabEx327arrrrq7LPP3rBhg2ds3rL5da973XXXXdfrdq21cRzfeuutX/jCFx7/+Mf3BwUzJibGrLWV7hEkmKGkqpagttZ779M0abfbzlpKEghRqUYBKAlflpUqqnYfhld7T0Tz8/PV2B8XxeNOOunRj370WWedtWnTprJk59yNN9145plnRlHU70NGBGvBLKXctm0bA8yA1kcfffT73ve+TevXM3Otpr5y3fXnnnvuZz/72SW/VCAQCAQCgV+H3Y6gNRqNXq+Xpmn1dsOGDaeccsoxxxzz9x/52GWXXSYFpMDDH/7ws1784rm5ufGpiSwrP/jBD15yySWX/s3FNuvsPz3+Py84fy7z//u6mxmopxFcaWe2TE9NCEAAnA1a4xN//fa3v/Pi97/9ogsHg/yghxxx6BEPveyyyybGmg6+Vq9j0+ZVq1YlSdIvkUToZ/1GozE1NeVMKVSkFFxhJawQYmpqSg6DunHGmWc+7BGPuezvP3j+m95Qt0zWP+f0Uy+77LLG+CoiTExMvOUtb/nox658/wcuLXI3v7jw3FOe/4//+I+rpicYsMZpLZVS7XYbwPzC/PjYuGcvrYWWSgkCrPV5PqinCQCMBs/6JcYiEJHvdg844IDBYGAcEin6WadRq8WJHhsbq0LXSSn48lWvec1+X7r+TW960+a71jfb6rgTjr700ktf94rLmBkgKIWib61du3btcHDMmNNPP701NnbOOefMLHSi2thpp7/o3e9+900/vvX2e2cLgyRIo0AgEAgEfj3otttue9jDHlZNFhNCDONgAGNM5YSofCFJknS73UajAaIiz7XWUpKzloQSQhjrSQkARWFtkbdbKdj5/oKoj/dIMVCzXtEAbH1uysY0AbHP4HKIBFKDRVHkOkpBYIIHHHwCh7JE4WyzVQACnICJxeLiXHuslmV5LRkHA+igsH09oRRi1wN5W8YqjkuCAPwgi+IapB9YL5UiIALgSggBEv1+Vq/XnYcQKEsbRcp7MLOSVBSFEEJr7RmCALZwzkIKqcRQp3iYDJSD4q2mESeoA4otvMs63WR8ygASKIteLY67na5KxqOIXOE1DCkPgheRg9QMhgP1LaTydTDK0saJgS8g4y225hzWxKAyh5awFkoby0JrAZhBN6qlBUkAMTyAEgJABA/2IBWCsAOBQCAQ2HN2q4pWylLw82jnqmMWFgKVS4otwAAxKQ9ItiAGJADw9qWZl6Xj4T0gWAgHyB06eAsIQIABMuBRmrAAwAqjYGwa/gcGPCCGiQyDxFeSv13u4sEGkJaUB3R1zkMlIkZH9qN8iWHhcHX+2FG1GAYRq1EJWjCDyEL5SsmN0qlOg7dnRFTT4uSy0lv6aiUZDAQCgUDg9537m4O2Iu6jpMRwrcXtWywtxgi57O1OOy/7U1S/5kq7OEu1bGsNGqWJJVUxSoe2byi37/4ryIVd7iJAMXY4PbH8iMt33J4v2r7Hssxq2uG9qv7eIeVlLE9c7uLz3Z1wIBAIBAKB3RL6zkAgEAgEAgEgqKJAIBAIBAKBiqCKAoFAIBAIBICgigKBQCAQCAQqgioKBAKBQCAQAIIqCgQCgUAgEKgIqigQCAQCgUAACKooEAgEAoFAoCKookAgEAgEAgEgqKJAIBAIBAKBiqCKAoFAIBAIBICgigKBQCAQCAQqgioKBAKBQCAQAJb/KDtDMMCg0e+u+9E3AgDvuBsBvGc2EAgM6xTv/BEv//a+2+y8/67Zw5oY7G/d3vfC3d/d8hu5vr/r+NGT/QMWLy37/He9fJZntjrJHXrraoNdNC477HL/6T8Y6st92ssdTt7vcX5XiiIWgGDAV800gQCCZ1Mys9Daeyek9kC/QBJDjk7F75kNBAKuYC2JCGC40slEguFpWOkEgxhYXrd3YseqzsveVjVXcLC/AxaAYAZ5hmCCH152+NEVds4QI1Zy0O/X63VjjNLxHra0v5rd1+xTYeEBB0iAHSIJOJCAKb2OBQNutI0AaNmwyIOqfH41lg/xVIVQlbPxjoCIpB7dT5ByqfXYSU8scV/xse/ut5XaJamz/PLxMuu9SYSW8MPMsvj1hdF2XxEYTNsLiJQi9gALQdYgt15o4UcirrrhHtA+aLV2IPCbwXiUBVo18g6SAIC0BMER3Kh5IgLRDo+8O1UcP/pwl8+vDBAF+ztgAUgiguRR87jUuDtAAyS1B2eAUdKCrKj89/v2WXxfp7/vWCo9JeEAIUAAC3IYVq4ldwLt+GTxu95/LamEqgSW7iUISUtikcEkQXDLrsVSS7IE3yflPe/f97XlZaqIlukkHl1fAEJoW2XNO8VMKtpdoe05arffOFfkmZRSJTWpkWjhgPkeGo0VK+gH7b0VCOxzBEQNGWAcuIR3aLXRL6GiYeNVsdTMLdX2ip3ar/t6leXoj33atwW7VyxGPTQv688wemuGtwGVDmmcFgCkNr/Lqmhfw0AGH0NkYMkQjhMlCmK2rJRYkjVLfWrF73r/tZQXGt1CDjAj/4oGPJBZqxySWBXYhSqq4GV2KeXfwFVbEUtXcKeKYwAxbP0YIAbpKNlbJ69QJcnDY28vIynjeh0AILLMGC9zi/Pe9NZN8103bIr3EMEEYuyx9SvcfqXpr3T7YIP91W036zWbzXLQj6WcaDW9t5dfcelXvvaN3JdOMNP24TDhiQEr2e9YuXfXKFdbaUdVFf6t5zTYB7QgJvYgDxZMcCQAMBEArbUpikhIdlaBn/PsP/z+jd/zzupY7dORHN7H3SANb999MsbC5Evv6mniCyfZR6SPfNhDf/GLuwuTeyE9eU8C8MSC4AULYPjJnh+FIarr9aCwwyIVAqjyxeQdgcnLOMlMJhiaSJPyWd6IakcdddTNP7nVjS7x8oZl6brvrIoYv+1nhx1sVTuIIVhU95IjweQhJOClgDMmlToR4oiDD21EUaz0r39HK7FUKjsmNju7bXJq0ual0FGS6IgQA3et36jG11jSKzgCC6ysJFauilaQviCmB0P7GOzvg/WEaKzNtaiwMjelGdgs70dNLEK6qObIOwEmj2FjJABYsXNHRbyLWgUM41QKudL6FexvzQJeVBKHhSdU0UUVkdL93EReSKG1IKXIJQ3rioLLFTS2K2dfh84IgODBAO19y/AFO/aO4RXYCchGo5Aid2TBjphRPfEzgSUzwB7MxMAKX/QgsQALEBNQPVIx2BGYWAkMwJJo4E0qJQS0FFLrgaQlVVSxXQ/tSj4Qg/DbbjdHlmmoioTfXlU8EROB4bxTIGcNAIZI0/remlG/fQStEhdLBTU5NQWwimOQ4FHlSRrNnpWF1HuYryrhKvE9i0n0guUKYxjFyrb3crSXDzbYfWqd8Cx4fqG/enK/7sK806LZauWAT2qZy60gR2CSADCsL9vr2vaKeZ9ma8f3YpetW+BBCLGsfEU89BKJpcCX3LNXsdLKW5vlmQG6xgkpdJwy+T3vTVZ8SvsyWh/wGPZu++QfiL0pjRTeYagRQAP2RpCIYh6WswcE2PPIV8Q09LI8oH0QRBvvZKsrBmIwmJlAlb/Z96y1RHEU2cJ7pZyzvbIsASOEkTv7nJbyeN+jjBxRAg8C60eBzpLE0nMjA54EAAchtWLvIOSgLN0oGysaydoliuB3/TDKDII3hoX0IurnXsdCSA0VQ9T29PloKYcre6ryK9lerCBlCDCN9noQeESD/f+1JfK5LYpSFFYyxaVz7EQX6BfGR9pJ78j70SAaDb3EQu5YH3eqnss7PgasoJ1G3AIPZgQqsQAAPFoFxVWPp1FCkWZRwroSYBlB8cDkXrg91yK/AvvSNwbBHnusQn4VG2kjyJOXShnLDsidg5C5MSzYEQFMTAJMnkDsaCWq6zfqSdzTEgUgGMRDHeMEmNgLAalEFLuy9EJC6aI0DrBSOklgAdpumYhYMNEoXGdoCSRYOOz8+W/RDm/pavhspPqZQEQghtLSeRLCZQUAw6yXVhb6NVAAMNSMEMvCP5mZiITWnoUQSFPhAO/ZODIreSTZPkK3pyxd/n3B0ujsbz2+PtjfCxvpuNloLS4sJLEGc6fTrQMkFLNzzI7YY6jXq+c/ycyMHVrDZa1z1Vov8zDDgRlB5f/OWB55dBjbW3mCtww2ZmCNAmulACilnC9ISUHDxnlP7K/mLtpHFqg6bw+AIPe6BUnPcM7BO4Z27DxgvVM6UoLcyMsqho8c8ASilQ0a7q1Bmb0Di8pNIj1AfpgjwAnvvSMSIGGtd9oroaywDDj2zsOTx8h1t7MFBHtPEOwBeK6K58FimQB4zwCGg2ieBBgk2FgnUApjIhl5DwBqb0giAEqwx66ECwkBZyHV0lCYB5hICKG1HgwGRKS1NsYopZRSQgjvvXMuSZI8z6Mo6vV6URQRaJe+KCICUBQFM6dpKoQoy5KZAU6SZHFxsdVq5XkupQRQlqWUUmttrZVSlmWZJEmv12u1WsbYXWbMex9F0cLCwtTUVK/XS5JEStnv99XuZ90FAnsdZ9mBIiElA9bXokgAgrgsMl3XUaxL75xzQpAAwUFHqrOw0Ki3pBJ5Via1SELNL8y2mmPGFqVxUaySJDW2KAsbJbFktxSXFOyD34pRu12FF1X6dvhoLEWipMkGkdIagC2UhGUY5iiKBoNBHMdCiDzP0zQ1xlRt42AwmJiYmJ+fT5KkLEu5mwbOOaeUIqLqcVdKaa0tikJrHUWRtbYsS601ETnniKhqn51z3vvx8fGZmSlwaSYAACAASURBVJlGo+Gc22XiANI0LYrCGJPneb1el1J2u92x8bbJs30pLTwREUspBTtISAVIqcHCGKuS2HmXpum2LVvraap1VGZZ0qh3+j2lVBzHxpiqKLIsi+OYiLrd7vT09MLCghBCKcXMww75wYKvfCc0mmFfeZqZASapdb+fpWndGQ/HSg7Df4mokgvV1QfAzFLKPM+FEFEUeesIkEI456RUbJ33XghBI4QQ1u66n43juNfrEVEcx9Za55zWWghR3UU7HbS691aQW2IQAEkgwaBq5tbQs06x0sSslGLrkigWgNxLt1pVhfyy2roTYlSnh9qpzAbMOtEqiiIhhJUCgLWmdI6IvPeW4E2Zm1KCBVejs7sYIzVFoeO41ah7gJ0rywLee2ZJZF1Zr8WeLbHTUaSFlIrgvIdTAlILLWNPHCkB8gLsd5V+pCSzH2+3pBTwLs8zUxT1ZhO+fDCs5xbs74MFBDwJhvBeenh4wV4Akl0rjZ1AaYx3lj17ckSKmUnLeque53lNx5ZtLyul0NP7r1pc6NbqcdJQeTHoFX2lhU4j6ywxS+yyhgX7YLSCBQBPkADTMBpYwBNDsJdMjrmahijZg2GNYUneulqcSCmJKIlidt5bJ0kYY9j5zsKiAEkSrUZzkGe7bMfTWq0oCmNtlYgpSyllo17vdrvOWiKSQlRuRynEsCW3VkrpvC/yXBCx9965Sordl20zM1LKer1eSxLvvfc+rdVsaYa9yD6qZRBViE3FkvgUQLPe6OaDoihcadI0jaIo6w2azWZuTRon/X6/3WiWWc5Av9NdvXr14uKi1jqSyuQFW0eKbFFqrR9UmgiAGI51eDF0n1Q3lnDwBBBjOOEOEAwCJAnGsPNmP3STVVsqIZUQmoSBy7McWtfr9bIwkFJLxQR23jNX7qPdxbENen2tdawjJnjrHGBLA0FKSAYTwxMLEBPE8NR4z+OtKxdrlc3lF3f5SDGNHIF7SxIBUCPZuVTouB8xJ4BmI+05JkKRDyoXDhGVZdlut621pXNg16jXqkcZN6oVxBC0g00i7bz1Fh5cZDkTYh1JYrA3eVlP00GWlUUBeK+UdU4QVZbZKSnLsiRwmQ2U0DulXFlnbGFKAcqyfqyj9vjYzJatkpyHE/DVonnBBrtPLVgShGAl2UsmYgdYWXV4IGtKD68FkVJgEpCkxLbZ2f3W7jcoi8zkuhE3m/XZ2fn1WzbUanWT90go5w2DajpmQr/IGjIa+WJ/++7uYB/QDht3AKPnTGIQewGAPQEClgAJSDiwGGs0SnZZlgkhOouLRFSr1Yy1RKS0Tmo11WwWRQHAGuOZJfMODfoIUxQCiLUePsEzg9lbO9lul2UphKh88NXTvDUmiePCuWa9PhgMYG0jSZSUCvB+l8lj9eSkMaYsSwhhrSWiJEn6/X4UDRd/EfvGMg87RQIEQ4x60K2bt0xMTU5NTc3MzGgSZH2R5UkUL3YW9lu7v7N2fm6OmVutFpgr2aeV0kp57+MoSpJkMBjEUVSV7YOEJYk2nKZOHiNhJBnSw1X6wEN4SIYAJIhp6KepVC8xiKgzNz89PS1ACwsLRNSqNwAU/YwZUkWChGcGV/ckwVPl3bivA1RARiq2pS1MqaWKVEwMoaQzlqsUKoeRIAFioLo999i16ofrsfFwvKo6puDh1F0x2pKAvTN4BmBZXFHlrBLbpTHvMEa99Lki4UwRKQ3iWIq0kUoS1idZv09SJEoyO5tng2yQJrXt7rJqdtsyG8Vxr9fzziillBZSSqVkWZpareZ6RikRaalVjYi8d0msAWiW3ntmJmIlqVZLB4PBMB7rPukbV46PtYQQi4uLRZl1FhnkCX5oIYINdl/bUb3xo1o2qvDwpfEOTkiSOgZgjWP2RNRuNYwxSaRUFFlrt2zZIoRYvXp1aU1vMJDko7RmrS29U4qiRMMMm4/tBwr2QWyrmfl+tGraDt8S0zCKdvipID+/MJvUalrIiYmxjtJEHEVJlvWVinq9jlIREVvrhQAzqeEzob+vjyrLimazLqXOsj4zxbFmpizrk/P9fldKHUWKmaQkrWJiX+aFsyUx4F2Wl3GsS+u8t0pFO6Vc2fnZuTRNvHU6FnEttbYUILk9j/tkTBKAqHpeHg52VL2jYExPTlrm+W2zWZapJJVaTU9OWmtXT68adHsaIkpqaVJb6CzCOsOFN7ZkKCHzsoiUliBfmJLy3Q6i/DagatBs6C4a+VRGX1WWlklDAsAMDzCDeaghiAi0ZmqVKc2gKFppPU3TLMv6/X4Ux4a9t47J88hxCID9UE7d10ZRxM7nec7MKk4AGGuqowiuJiCi0jDD8MgVXWUMd6nOfMlF5MkTlt9bnqoz3EvlrGgoCfdscxbOW2eMimMQQUpnTKfXk0q1ms1evw8BAkVa12oT2WBQZWGXKZVlTsRKyTjWzGytLcvce9/v9713i4sL1dCvc845W6sleZ4rpZyzUsosGwghhKCyLJJE7DL9ONZlmRtjhECSJNbaJIm8r2IeEWywvwkLYoIXcMI7oqrNrmqbJ0AICGm9c9Y74wW0Ys/sO93ZdrPVX+hEtWS83mRCf7HjgURrFWnjXJHlzKy11iQ8yb0UYhjY5xBXd8X29psJlarwo06OCVwtWCzAhHq9LiX1eoNuZ2FxoVOrxWVRSElgl2f9yckU8LUkEQJFYYwtSOpdrg+URJq9NdZ5Z9iTFV4KHUcqUUo1696B4ZghwGwNO6NI6li7soiU8FJoSd6xUgLDVSjvk75WtVgrEs4bk7u8GGgVp/W0LMt9vXLELpO31g7KwrFfs2bNYLE7Nzc3PTlpjOlnmQcnUayU2rZ1ptFqqkQudjtJFHtwNWqjpWLna3HivBf0IJzjWT1lLfXafoe/lzrcSj05P3TPoHJgV54KzrO+EEIKlNmArVFK1ZPYeI6k8gTvnfNOSimVZGZjrBC77metc957HckqMGswGBhjtNZaayJUTipUPpaRJltRVgWjcnwMawphKYO+akV56MDZcxXzwAd9wC142ZOOJ0RKa6WYucjzsiyzwSDP8/1Wry6Kwllbr9elEFu3bjVlOTc31xiujr0LnHNxHDPzYDDI87zb7WZZVqvVnLNr166tfELWWu99nudVHJ9zzhgzOTkppWTmsizvJ/oPQLfbrdfrcRxX49xV5CBAYBlssL8ByxCO4IbCCMO/AUcCREJqL1AYaxlRUqul9UjXptuTTRm1o3riSWROW17YNNvQiTKISZbdfLDQacb1VWMTNRl7y8CoKw2v34GX8ARPqNZvZIiqE3NV7BmRIzgSTsABnsAE761zjtk559I0mZqayvMBETG7RqNRq8VlWW7atEEIIQScc2KZY3K5jWJljHHeNJvNsfGWEMK6Uggxs22LUqqWxkSktCCi0uTMLBVFUbR5y8Ysy5JaJKWUipRS9025su2x5tatW0uTSylJcLPZFBJZ3ud9Kyl2/cgNwFrbbDaVUlmW9Qb9VfutVkp1Op3Vq1dPT05Za2MddToddj7LskZaj6JICUlEsY6yLNuyaXMURbsLovptMQzwHd5CqMp2aIGdgmGGu7BjZlH9AF8liJxn5yv5Uk9qcRwP+v2yKJI4jpUEWEpZTZ9aCrrf3bDp6BAcx3E1mYmZx8bG2u121ediqMMIGI3irTTH98mUJzAxEzP5pZcT7O/nblghK56RVZbDtVa99/V6vXLvP/e5z52YmPjMZz7z85//vNFoHHfccc985jM//vGPb9u2LYqTXVYMkkJq1Rv0iWh6elrHUbfblVrVm43jnnh8+Y1vVGIoqdWMsyRFktaEEDHhEX/wyNtvv312dtY512y3nNuNL8qUk9NTp5xyyte+9rWf/OQnBx10UCWtBFayMHcg8Gvgq59mFMKSEEPXNizgBCyq8XEwWOtalKS25Gx+/rqrv/rda7+AbXPpI45+xjOfte6odd/+0vXPed5zppttELwxadSYSMe3zW/rL3ZX7bd6UBZ7qy0I7HMIAgKAJ2ISAKFayJF81f5bIawQVgx9RSA4a2Oh6vWaUirP3T333PWhD32o3+9fcMEFk5OTs7Mzt99++7e//e0//dM/TdM0TZPdzRXy3ioljDHz87Na6yRJhJB5nl1zzeef9KQnrV692hjTbDaFEIBvNJrVPKybb77p4IMPPvTQQ5eeP6No17+++bOf/fSGG2542tOedsghh9x9993T09NpmszMzab15j71tRCB4Jm4CjZmgMn7ajkeCVLkva3V4n6/+7YLLvjljTcizwHodevOPffc5z73uXNzc3PzCwcccMDCwsIoPIN+cdcv1q9f/5SnPIUBEet9LOxWwmjsrNIKO0gM8sP1C4lRxfCPfDNCDuNuyHPlHmDmu3/xsyuuuGLuRz/C6tXPePYfPe95z2s00oWFhZKo3mxEUSRYeO+ttwBIEtOuBY2OtBkYx86UJiuysbExqeU9997TarWq+X2Vuqo8Ocy8u3R2ydIQc7XqKYZPgNW1Hr51BCdQzaSvPDi/vpJVXB1g5Il6QEpjlYqraXjM3Ol0iqKIlRxv1ceajanxMSHQW5zzJu8tziVaEBtsHxTc7poyxkAJRTw5OfHIY47szC/ccssteWfeGLN2elKRL7Nep9uL9BQxqtAt55zzZvWqqfV3R1vLrN/pJvVUUBVVVpXS9g4i0dKbYrzVmN26eb/p6Ve98pXf//73/+O661REwhOAHevq9kLffuctfTLcYBej6cEG+wB2GMcGsGRIGs6i9RAQSgoviISAYGPntm7dcNfdt9zyo1dd8Na1a9fefffds7OzrbQ+t3mzcpwvLgqlIufTNJ3ZuOFLX/6ytfaFp5+mvN/1U8duKjMve/YiDO/2pRSY4LHDJ4G9yLKLMly2aDj4MfzZoqXVqbc3QVpr6y07b61N0zSt1SKtRaPx/f/67tOe9rQ0iida7e78wqqJyWq+FRHJXV16AaRpfeP8xltuuSWKomOPPXZiYqLoDea3zdaieHJsvD8Y1OKkKIpq5n+SJN77mS1bV01N15NaJbaY2e/4uL90m4y32vPbZhWJzRs3feqT/3vdunUnnXTSVHu8MHan89mlSOIH2uD+qXwnAqCq4hG0jjqdDoAoTgpmtm7NqtXnX/Uvaw5Yu7Cw8IMf/OCzn/3sUUcd1UzrB+6/dtvWmVqtpmJVqaJ+p7t5w8ZIqqiW5EXxq9UFv6xO7VWqhmVplusw7x7Cj9zGnkDDD8GCiDAa/+KqG4X3V1555Stf/oqnPvWpP/jBD7733Ru7i53ZmW1fu/5rD/+DRyqBRI4rsLEe7KXQQhB77GL9LUB6+MKQiiSQSF2Pkk0bNn3+3/79zDPPFEJIEhBDd9H9O5weMM9V1gAQQzIgwIzK81o54KvUH3jwaw8QjqgSRn7P0tNak5Bbts4UpRFCJEnC1rC3n/vsVc875dmJRt5fmGylzUTB9iPkqShbkaViUZleK2YqO61ESJfVpItQptIo129pL023LgtlOxOp4MGiKHoR7Hg9iYUgZ7USBF/Tav/p6a2/vGcsjRIuY180FaeSzKA7Vo+yhW3tmm7XtLKZspko++M1JV3BRb+h6dL3vfOG66+rKySct2OLfLZGA87mmtqm0mo/qEnn84505Vg9zvsLkfTkSin8qMDDK7xW/BLsFRvlrfZCekVeEwsCQI6EsyaHQwzlBiYVuiH997/7zeef/cL6watsU+93xEEPPfboud7C5H5TeT5ot5u9zkKrWWdT1pQ6/YUvOOWPnu2LrKWV7PcmlNTZYFyKMUF2brZNQGdxQsmGd6k1UZ6NCWpYUzOlHPRaiqMia7CLizwu8qQsxoSUeZ54FqVxWSbghYAnT4qqZii89soLAMhXs1uqjwRYMAlA8rC5lx6CvQSk9wK+sIXQCoK01taYMstbtfrzn/VH37juqz4vqbC9bfMNFWsHMi4llUD4QS6N46xoqEgapx3XpUZeRh5TjdbM+g2T9WYqlOn2ayQjh/Gkns93UhUJzwSMt8fyQdZutnqdbhLHNR1J65XxKSnXy1Ba4Xmi0co7Pc2kHGuPGEIYpz3cIJ9qjV305rc+/cSTGkmNCxM734AQg7zOVGPYTjdx3FYRD7KWjlyWaeZWkqAslfdpFBMgWOzxC4IBFlYIJ0RVuZiEFaLw3jJqMmbDgIiiRHoxWOg456y3j3zkI6anp8h7a0pflnUd1XW0OLNNOp8olSgVaeWsgbVclmNRoo2ThVGlrTFp4+okKSvqJG2n15R6PK5hkGOQ10klkDWKssV+xIpLL1iYwiqhwWKXL1rJa5lIqOKpR+lg+PIQfugswjACGUNPmrPsHGsdO8fr793QSJvHPf74hZn5Iw45/MWnnfWww9ZNtyZmN27hwjTjmKwR1qZaJUIszGwdr9cTKYpud6yeCmsjgssyDU6I6iRSUGRd4nmsVutu23bYQQd2ZmbyXteXRaSEAOeDvrcmitSuly68X6pa4oWwQjgiD1KeIkfakfJDdegEvIDYG16iClWNXtMo4o9pmdoaeeEEULllmXy/n8XtejVw6Jyz1sJ7a23W6//8zp+e8MTjv/TlLw763W5nbrzZGAx6J53wpD/5k+cmCTZtxfsvubzIBrGiM845++tf/+ZFF73yJ7duqtXixz1yYm4RU2187+aZ9198Cdv87BefecKJh0aEL31z00c/9g9CCPJcFEWRD9IkmRn0bZkfte6wF552hqXo8Y8bB/DPn/7+//3iNdu2bT3h+Ce++S0vTjU2zmCxy+OtJgN/8drX3PDNb/3o5h8cue4hbzzvFftNoV/ihm///B/+4ZOLC/Nnn/Nn7db4455wyGQLP/kZPvyRf7jnnnsIZIpcRAmA6kYMNtiVWfLSe8nsPUgI4uFPvxJ7AnvnCIkkxZ6Lfj9b7FiTHXDoAVGj/ssNG8da7fHJsQ3de/tZ/zOfvWr9V6/H+HjrkEPefMFbhaR/+MdPHHLIIU996lN+8J3//N73vrt546Zywy/R6T7rNa95+tOfPj8/f+dPbvvXyy6DczjggDec/+am1rfdcsunPnAJYBGpPz7vDccee+y9GzZ+/vOfv+u227F56yNf8KKTnvG0Qw4/fOvCXK8o0lYT7BcWFlr1FgJ7k+reEMTbxwWIARbEjpbNMCeAGPV6HYLyPOeyEIw0TpIoOnDtAQ89/IivXPt/zzjjjERHNR3NzWwbGxv7989/4Z//7u9QlslBB73zne9s15uduYVPfOITJ5988uWXXz4+Pm6tnb/zzmuKAsDRz3jGhRde6Avz+av/z5f+7f9gcWHdM5/xJy/9s2ar1W6377333v333z/Pc1uaIss3b9x05Uc+WmvUb/mv76DTeeIZZ7ztbW/bsP6Xd9xxxwf/v8vLu+5Cuz158MGr/vzlg073Xe959wtPO+2II45Yf88973rrheh0oNSjnvKUV7/61dMTk5/716t/9KMf3fnzn9m77krWrXvbRReOj49PTEzMLswXRaGS+q7Dp3eNGDpfMZqJVhUxQSnNzK6w1lobyV6vNz42tnp6Vd4fENHnrv7cqsmpVdPTs1tnLnznu39yw7eQZav/4A/OPvvsxz7h8b1Ot5nWx5qtzZs3f+jyD5745Cf/4R/+4R133PGOd7yju349kuQv3/KWk0466Re/+MU111zzhCc84d0XXfSo448/+uijvffP/qNTvC9SHf/dBz/0tGc8/bHHPWF+cSEvCqXUfRXBSr1IS0HVy+aKQ7BwBMCPcg9Pw58NA0BSOGtIQAhRhepGUbR69eqyLC+88MJXvOzPH3LIoZ2FhaIoXvPmt/zyv2+/9uMfBXD4CSe8733v+9QnP3X88cd//etf/8JHPvKuK69ct27dW97whpu/9CUwn/qqV5111lkM/PDmH1966aXbfvYz1Gp/9d73Tq9eddYzngH2N15zDbx72p/+6ctf+YpWq9Xr9ciIXq9XrzdXlOVqbSqPYWC1BARDMng4qU148gxRvdtbXrkVxxUppaSU3nvnDHsnhIijWhTHm2e23njjjS849flRFK1atSrLMghx8MEHP/HJJ15w0WVbt249+uHHnHXWH3/0yk8AWHvgQS992cvfdtHlszPblMCznvXMjRt++a1vfUtKmfX6aw888K67f3nWiy9qtSdedMaZxxxzzDe//Z12u815bq2vp42ytP1e1s+y1lj789ded8WHb203Gy97yUu//KUvHn300X/8xy/+q4s+sn79+kMOOeTJJz1VCHHX3ffWarXBYJCmabfbff8lf/vjH98yPT39ghedvnbt2vmFTrVcx4UXXrFl67YXvvCFRx111N3/j737jpejLBcH/rzvO3376ScFkpCQQEgikRKqgFKlBRt4rwVR9Cr+vIiFEsUCShO8FxVBr5RLFUEFBEGkhw6hBUJ6z6lbZ6e+5ffHnLLnJMEEAiTc5/vZz3zO2bM7OztndueZtzzPypW+H4zfeaeeYnkb7Wr0f9HmLo6kTPoilKZrYICEmEuh67pt22vXre9oa9OAcs4ppV1dXVN2mfzF666L4/iGG27o6emxs2ndMCzbrvteNp9f39114okn7DFr5uoVK+fPn9/T11upVFavWXPO1VcXCoUlS5Y8+PBDRx111EOPPnLquefsuvuu3b29vuv39vavWrN6xqyZx58wd+edJ1573Q3r1683HEdP2ZZl+b4PjLa0tET+u1uzHb21MI6SnNSMMRlzSmm5WiWMHnfC8Vdf9dtDeg8L4ogL0drRPn/+/AcffPCi3/523E7jn3zyyYsuufjCCy/UTWPZiuXOM6kf/uj8adOmlUqlf/7znxMmTJg9e7Zt2309vV4YxFL86vrrTNv6xX/9slgsTt9jj66ebsuxNU3jnGuGns3nisViqVo55PCP/uf3vvPmksW33/bHDRs29Pf3//d///e8efOmTZu2ePHie++9t1wujx8/HgAKhYKu64Xm5ot/ecUuEyb29vbeeeedy5Ytm2bt3tvbm0qlfvzjH+8yZcqll166bt26iRMnemHQ0dERxbEbxNtmv4WhkrI5l3O9uh9H6XR64cKFp15zNRgapOyPfepTX/nSadwPC9ncpz/xySnfOzubzT777LMvvPDCXnvtNba9o6e7+/lnnr3u+uu//OUvz549e/Xq1XfdffdFF1+cSqU8z7vmmmum7LqrZdvLV6xYvWbNz3/5y87OTt/3L7300qOPOS6TyTz19NOmaU6cOHH9+vWWM5Ch5v3qlOZSEEIY05ImDNMwUi32vHnz7rj9T18/+WRIp3/w45/MmTPnN7+96tZbb91j1h57zp6dZKZWSl188cWzZs2676WXenp6/vnPf86aNev8889Pp9OXXXbZ888/v8f06ffff/9FF120yy67PPfCC7fccsvXvv4fj7z22nk/mPeJT3xi3ISd4ziuVCqF5mbbtmt1N5/Px/FbTZDaTmx1VGQ6dhTHQRAM5gInABBF3LZTK1evWbt+w5FHHL1mzRpNM5Qic/Y/8J8PPbyhq5tz+erCNz68936pdDYIgnKldtttf1i6dMnYzjG+565d31UpV1LpDOc835La0N3z1LPP1et+rCrr1ncVK9VsLhdFkQAShDHRdNtJt7R3xEKuXL32uReeD6I4bTuLFr+pG9Yee8z88133LF621DbMN5cu2We//bkQLW2tipCQx2HMXc//yle+8ouLciGAlLB02YrUmvUxlw8+9FDd8wghq9etDYPYsizbTq1ds87Y/DQ6hLbEpsf9EKJrmhJUCEEpZYQpSqjGPLeuUWrqRk9XNw/C9qaW1tbWuXPnKqWIxiSBGGTBtlOZdFd/7+5cltzqvvvN+cjHDlu2bBkxtFByO5168OGHnr/9tufv/iv4AQDATjsdcfRR2Vzu2j9c2zK249BDP7LPPnMiP/j7/fcHr70ORAMlgWrENsZM2FkHm1LqmE4keK1WMzXzPd5dqFEYhooQwqhmGkIBMBrxWBHS3NoydbdpDzz4jylTphRrlUqtunT5shNPmtve2SFBzdrzQ08/+8yKVSuz2eykybscfMhHxo4fV6u7heYmoWQqk+4r9udyOaqxjjGdHz38Y5lclku5y65ThJQL33h97E7jqYJiuWQ7TrXuVl03iMJdpkw+5JBDIilmzpx5/31/7ysWN3R3nXzyyZ1jx7hefdKkSYqAYRhe4GdyubrvxYL7vv9fl1/e+8Yi8HygZPbee1mOrZQ6Ye6JbR0ddd/be999oiiKBA/DsLu7W9N1oltbtX+SHIYbf8J0XQelSqWSBJVtygkhJk6adN73vkcMra2j7b777vv5hT/74he+MGH8Tm++sehHZ58D/UUAaJ0+fe7cubVK9Y/X3wBRdMGV/z1z1qze3t5isfjYo48+dvPNyaohjtccddS4ceOEEGeeeWY+n29tbe3t7Z0zZ87jjz8+ffr0F154Yf8D9k+lUuD7PIrz+Vy9Xm8cLzXU2POuDkWXAEIpSmnSUKSUIpQCJVzJTDZ76mlf+sY3vvHKgpeSdsRsNqsIiTkPeRx6fhBHQRCccNLcQw462PW9QqFw259uLy1Zev3FF4ECsC3LsrLZ7CMPPvjIH/8ImgYpB6TsO+UzbOlSAMhks2EYprMZy7E930+yjwZBwNgOMNtpq6MiIUQQS0qpbduSx0HoSwJBECTlzx5//PEzzvj6osVv6qZR9z0hlCJMKMIlaKARTVdMC4Ws++HK1Wt2mz5j6eLFUvLJU3Z7c9HrEtbGIlYEFDXWre+ynVSsFFeSMuaHYZI9QkgehGEQRlyoWNIw4oRpdb9SD/xsNhvGUW9fn1LKtJwojjXdTKWzilCN6WEYGYYlhDj1tK889MijP/jBQ5Zjn/6VrynKpJSu6wJAqVSJY6FrppFxgiimRGrmpidcIPQOUUo10ww8CIJAIxo1CKFU07T167umTtutv7evo7U9CkKv5kZc+EFoGIadyWiWpYAEUVT1XOMW3gAAIABJREFUvHxzU7apYKdT4Xq5dPnK5pY2LqGlrcMPIiHhiG9+6+CDDwapkrzzxWLxq98446WXX1y2Yuntd9y5ZNnKo488SgCZd8ONacfhEjw/KLS1xAp6S0UOkpkGME3XzW2WAwS9Lcn8cCEEl0JIwYVIZTOGZfphePAhH/n1r3/d1tE+ZtzYSq0KlLiBz0xDSgmUaoYBlEqA5tbWWXvuqev6hg0bDMvqL5XK1eqkyZOVUkTXJCigBChtaipwISSocTvv5Hp1JaSmaelshmkaYdRJp5muRTwmuraua8P4nXdyHGfNmjWdnZ2mbZmm2b2hq+rWTNsKwzAZVyuEuOueu088ae7BBx5km9bPLvp5V093pValGvOCQNd1oaRhGOu6NjDGmpqaiqVSS1trf6m2TfYb57xSLo9vatNNY2XPhnw+H0VRFEU7jR9bq1YPPvCg115+JWXZbyx8feXKlb/7w7WdHR2r16z5/e9/r2ma4zgnfvJTEydOvO5//nDW97/X3tmxobtrj1kzz/jdNdOnT1+zZk3yf1m7du2kybtM3GVSHMcrVq2cMmXK7ntM/8udd02dOrVWq+2yyy7FYjGVyWRy2ZWrV+Xz+cZur6SD6z2Y0yClpLqWNBRJUKamCyGq5Uo2m81nsuvWrt1p4oQTTprb1dO92/TdmWUQjSUheNo2881N7Z0dTa0tfhisWrNm/M47XXbZZUzXJk2YuHjpkkIuv2LFipl77XXRRRfVajUJyjAMZuhJ4RfP85ihA8DAOGtKGMD2lulgc7Z2yDZN6sbpug4AQRCAIplMrlAoVGv1dDq7vqt7/vynPve5z+fyTVyoZ5974dDDjmhtG6Pp9u57zMg3tdbqdT+ImWmnM7kly5bZmUw6m/eCsKW9o6+/lErnFWiGZRumZTopzbSYZqSzWaWUIsB0PZ3JAdNiqUq1GlCWzub8IBo/bmfX9TTDtEwbKPvkJ0+yLCvmcupuu+umQZjWW+wPI+6kUlTTK1XXD2NCtZa2jqbWNiCsWKoUmpoz2byVcvJNTYSQIAqDIBBCZDJb1wmK0CZt/PUXx7GUMjkPAaO6rhcKhcm7Trnpf/6wetUqBuTVl195/tlnhZLZfI4T5fMIKAl4RHTNSqckgXyh0FMsKqbVwyCdy6ZzWdf3eov9ViY1aeqUB+772+IVy3we9ZaLz7z4fHex75H5j4+fOOmYY4//1GdOKVertpNubmm76Zabu/uLfhgsX7VywYIFy5cvdxyno6ODURrUPYNpWz8+Em0zigCXUoIihHApuZLlakXT9a7ennQ2k87nPjR79o233tJfKnWMG9s+dsy9f79vQ3dXpMTzL76wbPXKMePGWplUX7G/p9RfqpSzzQXCqJ1Nv7lkMegsiEIJqlguZ/N5oKSrt4cwypWUoJRSmqETRjf0dJu2ZTo207VytZrKZAQoTdMWLVpk2tbue+xxyy23rFq1KgiCSq3q+361WrVTqYjHVNfsdMp13fHjx/f29730ysvlakUz9Gw+397ZWau7VGPAaHdf7/jx44UQYRTpur5+fddW7R8ylAF5I5ZlNTc312q1/v7+lpYWIUS1Wk3n8skMu/vvv3/9+vVKqf5SkRCSb26qVKv333//uq4N6XS6VCmnMunDPvbROQfs/4srLhegHMdZvmrlokWLnnzm6TiOl65YvnDhwnQuWy6X+0rFIAjax3SuXbt22rTdCCE33HBDZ2en4zjNhSbDMN58Y1Fne8fGm538QN/9z1cyAS3JFUQYjYVwvfqf7rxj6YrlTc3NQMntd/xJs83+cmnl6lUvv/pKGIZM14rFom4aSqmunm6l1JSpu3Z2dl586SVhGHqBX6vVHp//RK6Q7+nrvftv9xSam4DRF19+aeXqVf2l4oaurp7+PqZrnuf1l0qmbWmaloxgedff7baw1W1FhBBGdUIgCIKIx5lMRlGyvrsrEjydyXDOH3ns8RPmHvzmkh7DctZ3dT/y2OM//fk3LQt6+uCyS/+nq6fPcdJ9xVJPf7G9vV0pVa9WXn9z6Zn/+ekvfeGgp1+oXHTRxX2laiqXX7piJdOMcrXKOQequV6gUQDLKldq1DBz+aZ0ttBfrhUKza+/+eaHZsxUQPtK5WX3PzBp4i5X/+5sUNDVBS+/vJwQ1tExRikCQIMwfvb5F0479TPnfucTi1fBmjXdikBLa1u55pZr1WJ/uamppe4HtuU0N7XUPN91PcK2yVw/9H/UqGZz1XAhEkWRELphWIZmcBlnctlZs2aFHH5/zrlQrcLUaSecdBIA+GEglMykM33lUqG1hZp62a31l0sdcZjKpIM4MkybmVap5hq2EwkZSbX7zFld3b03zPsh2DbE8eTDj/jSl7705FPP/PXii8AwQNf/84oreoulr33jjEsuueSKr/0HZNLmlClHHXP05N1351L29vZTTctms5TSHWAUwAdaHAtgkhBKCdUNqx6548btJAUEEY+FOvLoY+77x4N1P4iFmrXnh4OIf//U0yDwYecJP/3ZhU46W+nuyuabsrmCElJIiDmfttv0Ky697N7fXj1m/wOuuOIKZloBFynKap6fzealhFKx0tTaIqX0aq5tpxjTe4ul7v5irrnFi2IlSWtbR76pRSnS1tF58CGH/eDcebB+feteexUKBTuV8cOIUq3YX566q3HoRw//4Te/BYYxZvKUVDYjFFm0eEksJKWaZTnVvj5QtFqrR7F4+IEHn3322Xk//AGXb3NHJaPUyWCoEQQBAcg3FUqVikiaMRg79YgjgEggMG6//Y4/9rhCa+s+Tc33/+PBTx1zDBjm0Sec4GSz63t6Wts7Fi9d5nr+pz9z8uoNG26+5dbjPn7s988+5/zvnw2+B1yMn73nzy64sKunO5XJ6oYJQAhlXCrdNI897rgLfvrTs885JwxDQsjSlSsuueSSy395RaphJMZQVPQetBUxxkIhJJFACWFUSkkYtRxn6dKlf/rVr8H3Yey4Uz772b323huUOnHu3HPOOeeO/7py2uGHX3nllf97482Tp0zN5Zs45z29/Z/+zClXXXXVV489HpTKTp9+1llndXaO/erX/+PH8+Zddf4PAWCvE0747ve/Rxk75KOHXfitb4EUH/v85798+umapiXBaH9/v23vACNSyOsLX5662zRKDKEkEKoGAiUJSoLkQA0JVBKIAGKA404+syrTYGQZhTiOlVLptLNh3fqOznYAKJeLmqbZhh5FUSabKvUXTdsCqUzL8X1fUWYYRrlSa25uCeNIo0wpWS6XW5oL9Xrd0rXkMCKEFFpae3p6uFDZfF4p1VcsNzc3CyGEEJ5bbW9vj4Ig8OuEENM0a7X6mDFj+vv7NQKMMY2RIAiUEsnY9UwmV/cCQggwrVqtZrNppnjoe7ZtxxH3PG/M+HFr165PpVK2lSpVyi0tbbVaTQrFlXSctBf4TNvqwBGhAURyFZuaGQdKZ4YSodKCO27+6U1/f5iYLFAq8DUnlZVcuW4xbVPTZGEkpVRKSCFELpeLoigKAt00OefZfK5YKUdxnM3ngjhSBEAqnTJdYwNNm6m067q6riuliFSUUiGEbduCcyFEFEXZbLZSqYxp71i/fr1pmqZuCCEVgeTDZTlOJFUQhabt6Lruh2EsuM7w+N+WBuqgDSSFogAAihBQVAGRsaWxOKjbOj35iEMffXEBYRBTUJQIzgEga6eUlBvWrpuw0861SjWTydRqtWQsmmlbjuPU6q5lmFwKUzdcr552UkEUMkKpxngU2ynHrdYsxyYKIh5bhum6bjqdLhaL2XzOSjnd3d3NLS1cyXK5DAD5fD70fAJgMI1SGni+YRhJhQBKqWWYvu/bplkqldrb2wPPr9XdXC4nlAqCwLBMwzDq9XraskulkuM4yaGom2axr89Jp2u1WntnRzLyWil1+eWX7zNn3w/vszcl2pbHCkQBI0opFRGlE5oO1KH7zP7ny69Ig0lKojAsWKlavU4zdrlcHp9tlkEUq9hJp1etWtXZ2amESCY0JPOpU6lUHMeZXK6vpwcAbNv2w5DpWnJS13U9GQIIALqul8vlpqamOI6DIGhqaqpUKkk13Afv+4fneXPnzhWgTNu69Y9/dNKpo48+urFiRmNUlKQX2nLJU9lAsbCkpYkKClxxTdfjKLA0RrnUhNSFnLPn7KeXL6oEdUKIYRggpFKKESqEIAoyqVS1XBFCtLS0VEtlx3Fc181kMl4YKC6slCNjbthWrVzRLVOnTICqV2uZfI4B6envG9PeUS6XLdMUQhiaHsYRADBNC3ls2hYAcCkppZzzMI5s2zYMw/f9reqeIgp0KSWBkFFBARRhCgwBTIEihBPJKQDhOle2UIfvMdsczFn1Dm31Vx5jLE5yeRNCCKn7Xq6Q94MAAJJ9EUtFNN31AtNyJAAl4EcxMA2ARrG0UynPDyWB5HPupLJ+EFOmx1JSfWAQT7FU0XRT00kYhqBoOp0eKlyccjKu6xIFTDMAIObSsp1iqUwok6CSqh6EUgI0KftS94KkeKwS0kmluUgah81YSGCak8mWytVUOgsAfhgZtlN160Ao0agOEMfxJqdTIvROJB/aOI4lpZqhR1EEQG3HkSQM4whAp5QBBaaDH0YAoBmWBKCaXnU9phmWbgQxV0BBAVDJlZSRJJRplAVhpOmGAgBCgIEEIJoWxDFVAIQaphWEkWnZxXLFclIAEEkJhAIAYVRjeiykAmoYlpQy+cRhSPS+E0pqVA/iOJPJCCHcWq29vb1Sq3IeCyWddMr16qZtMV3zw4BoTCipKIl4rJlGxGNgVCmIpbBsq1yrapQKUJJzriSXwkmnYsELzU31et2PwlQq5bouMGpZFgAEQUAJAYBYCioE0zWhJFBCKQOAMI6oxiLOU5mM63kUwE6lIs4VAc3QhZJ+GFCNBVFkp1IKgGpaGMcBjw3LigUHSpINcOv1arXaOXbM9OnTNU2TW9k4OZg9ZnRXlOu6KcdRStm27QmRzWaDIBBhxGy9HgUtne2REkABDC0SgithWIYnYqDQX6tQ2wSAECQ1dQUQS8EMXQIQbSAhZSR4tpCveXXHcQxi9ZdLuVzumWee+cUll3a2dJxzzjkC1IRJE5966qlarXb8iSeQJCngyNyqFECqd725KIqiZLiLlJICJDPLKKW2aVVqNSflxHHcV+w3dcMLAyeTDmJOqEYNLYoFAeL5oWZaUkEkpAKwUukoFgQgk827fqCZlm7oUb1OGCWCCiF0XSOC+76v67pMZtoSSIJpL/CBwA7RI/9OvvUoQJLgcnASwECe3IGEHAM5WwaqtNCBdBIKJKFD9w9UPAY5WPN4KOnC8ApHG35FlVxlDf5BAtDBjJ9SAR3x0gM1O2VylUbVwCMlGfgZYHSDJqb3RdvEW18LDnwQAIAMprJJUtYOZsgeuvYZurJUw0+klDSkjCXD5wbV8BUskm/kEQ+jQ+tvXOIxv70xDCPmPAgCxljKsAzTTMpwZlLpWq0WRKHjOI7jcCWjKGIASb6H5KBqXLq+xxizbJtS6sWxUioSXMZSp4wrqVvmwBUgIQIU53zUwNihb8shQ1+7ZPBwbSzLNfRI0nD0EjX8GCed8jyvWq3atj1x4kQpZVtbW8Wt0a2fo0QaihsMaW5ujqPIq3sR59LWzWS/6UZdBDyKlFKEDdT50mzTMbPJhJtGVDUMAEo+UA3LOI6DMLQsy7LtOI6FlAcccMDEqyZmrLSu62EcrVm3bqcJE077ypcZY17g63T7mntVq9WS5ivDMOzkqHDrpUo55WRgqODaFixDHgOjQRhyJSmjQknN0CkMlE7bQb9PtsG1oAI6WMJtdLp6GD5Wh3YPHVXMZaTBCGZAksSzYYUj6r+MKNyRPHMoGBrxsU3qGCSXxaCAgASa1C1XkGSZTR44+JTkFYdy0SL0LkgmFSckGbgsIIN3KjJ8Kdl4phl9raVGXCRv8rw1+MiGhwEdWn/jEhq+yAYS4r2dd4a2mXrNM2wrn2uyLEvFPAg8EXDOeSqV0g3LSWU4533FclKhEyjZXG1zphlKqZhLKXnMpWmahmHEcSyFDL2QMRbzKAmGdF0nlDQeLQNR+OBParC4UnJNO7rHQg0H7kSBIKOj/GQphSKEaIZlWA6X0NYxJhZq05fBb4k0FKoayuIIABW3plNmW5bJqKtiL/BVpAzCNNskmtJ1nRl6HMfVWi0MqsmU6qF1DlXSGL7MSD4dDUvbskIugjAWQLhQpUo17aRa2zookEql0tzc3Nvfp7jKNxV6e3tT2UwSJTS+vfegoajx7cDIliopZSaTicMwiqLkmDFNM2fkeCy3vEePKhBKmrYVeD7TNV3X4zgmgxmsG+sI7Vi2UQt5cjSPiI3UwL5Q0PA1Szd6lhz++lWw6dJxyWoV3UT53IE0sIPlbwaanQCADqYBHQiJ1MDvVBE5HHuNmB6Jo6rRNjbqAnrIQP2Hxj+R4U9C4/2jrrz/ZfOzajhJSTKiW2HUca42epUd7svr/wLbtoFRyUUUhiCkZZi2YSal4KMoSnpDLMvSdV0z9CAINleW3DTNer0exzFjjDGWzJfmnDuWLaU0bYtzPtRElAy12XgljUeIIgOB0fA9AJBcao48HTaG/kPLKIocx0nGIHd3d9u27fu+4zh8a7vQNoMxpqQSUlAChBJN0xxNt02rVKtykEEQSALJZGrTsanGhqqeD21wMnY7+RBt/DHxwyApBhpFkZNOMcZ83y/3VjTKTNOsujU75Ugpa17dTqe4EElf5NDa3puOJDoYg456OaIgSWIEAKZpUkpd15VSEkKothXJaCQBEceGYUhQOmOapvlhmKSsHLjI2zG9o6hIDjWuDB5IjX8c/l01NMP8CyN2ZcP/UiVh08AvI3d4cqiN7AQbrLSo6MCrq2Rzkh40SYHK0XFQY4vU0D14qYzeqcZvJKpGX1qPfjCBgeqPAHSwT22TX6HDV7Qj7xm6TIdNfSwh6Tve6NqdbvQyA/0d2Fb6vmKMhVEkhZBSmppu6HoYhp7nmYahpJRSGobBlazVakCJZVmbO93yKFZCmoZh23YURWEYRkoppXwSRDy2wSYKdKYxQutunVJqmqOzd44K0IcOv03OLW982CajbaZrseBSSsaYIpDN58rl8vARv/VGvXHbtiM/iIOYKgmWRiit1323Wsvmc4SxWHA/DIDSZO95bj0ZfNP41hqvLjbmeV6hUKC6Vq/XQx5bGtNMI6/rAGBZVrFYtPUU0Vjshfl8vh74SsihtW1un7wbRtTgG0QBDE2rlEpBEKTT6bSTSjspQgjVmB/GW7VthDE/DIVSsRAyiiQoSoimaUII2GEvtLbVaMqNA4itDSk293g18odk7PSo3T3wlT78ESXDhcRHj8MYvAIYvOdfZozA2Ai9K+Rga+VgZazkBzp0yL8bA31GjThRg6ehzX0W8Oh/HxEFnlsHjaXT6TgIRcwllYSQVCpVq1ZzuRwXwnVd3TLz+XzEYyEE2UzULaXUNM0wjGQovVLKcRzDMCq1KgCEYViv11OpVJKMN5/Pe563ua1K2iOT2HpEp8xgU0pjV+/mwiYYmK5DNE2zLCtp4kr6X97GXtr4Sa7rWrph2jaXIuCcMZZOp02g5VqV6ZpSSgpBAQTnAxM2G1MsAsBgBa7NSaVSQog4jpOZnpVKRSmVvJHQje10KuY8iiKuZLFSTqVSkYxgsM9xaJ9s7QS0t2fjkCjZfinlmDFjpJRutaaUEkIYlglk6xItFgqFYrGYrK3ue5qmJW1O22zr3w9b3W2U/FPlJv6dFIAmA0IHb1TCqMaktzDiAQMR7mDJNzL8mir5uDX8p0e8hcFx0wPFhCUZric8dIZRkNRaHqwzTJLbQNjUcEPoPaWS47vhQyRH3hoN9t43lOCGTd8kUAlDjxlRx10O/dzwcmj7YVkWJYSqgbSfDEgUhr7nDZ2Mk0njYRjWarVk7tgmJb1FQgjXdZNJ8lLKdevWOZadTWeSlqGUZRtMq1drPIzo0LfkpkalDFGbOTgbyY0OY0lAgCJa0pvHKKXlcnlzfX9vT9JDlISAnHNCSBzH5XI566RMqjm62ZzLp0xbhjGVKp/LDZ5oBqvzquEUi2pTN8qY5/tRHJuWlc5kMtms7ThAiGGafhD4QaCUSueyLW2tQEnd90ZNwm/sZ3xXDZ/nRp7VRMzLxRIj1K979Xq9tbU1l8slc+XUyK+It7oRqLq1NevWEkapxjjnpmkmaQ7Ue/UG3w3beOYtGew0bew6HTl6mo4YJ6RgKB7aeHCDAgID49vo0Pj/jfMRjGzw3MTFbTLHjcLwwLy3+Ag3rATHm6J3TNHBaSsyaf0ZvDOZ/CgBCIXBAXlqE5/HwZmSm1g3UQMtTFsYwksCw58qMjh2dDPzZUcNCkHvC8aY79aoAsswHdPasH79TTfd9OIjj17xu99plLU2NWuG/sQTT1x55ZXNLS2XXHLJ5taT9FVxzoUQjuPYtv3mm28+9NBDJ51wYiptm4YNknPOe3q7nnjiiXTG+ehhhwORg6M5k+9qStRAppxRRp3/kiP2rc+JyWxt3607jqPrupQyCdSSnpctpxrGhQsKYnBjkk4cJaWTTjmmvmLFij/fcPPzf/wTAEBH60eP+vhxJx6304SJAVFREJqmTgfORJSogV5lkgx7JUOfsBFLFXPT0BjThYhrvq/rjDE9CDwCkM9lIj/SdRb5Qam/N5POEY3EsQCQdOCs13h+eXdJMnxKa3Teeee9ft99wBhw4Uyd+pOf/GTSpElKAGGgqCKSbMkSAN549fVly5eMaWt30mklZFJYWqjRzUU7xIT8IVs/5h+AKrn520CITQavMza65Bh8JEiq5NDMhuH2G0VBNVyokCQmbVg2PJKq4WakoW0Y8fYG7xx1rbK57R88dTXeEHrbKCidKA1AAuFAYkm5AgBgoDRQFIADiYEIAEmkRhQjijZejjV+oEbdEkRJCpKo0beNj2RJBn4gShJQyZLC4M8Nz5Jk+PY+7jsEAFJyyzKk5JRBf7E3k0nxwJ9zyEfeePUVXUpNCL9S6V6zZtK4ca3ZLJMi8Fzd1Fyvppsa0ylQJWRsmBoQSagCyYkSps6KfT2tzYU49E1DC33PrVUKuWwYeNl0qlIu2qYBSuiMSsV1nUkeGYxGgWcyunbxsnnf/m6tuy9tWDKKLd0gjBKNCQKioS2EyYFbY5tT401xQaRKSkAIITRNi+P4bYREgoIavGbgFCIY2AwilaKEmHosRVCpjW9qS+nmFbfffvOTj1/+29909Xf/+qpf17xaOp2iRCkpeBTmshkehYHvUaIIKE2nMY8YKJ1RxWODUohjXUFYq1EuHE3jnh+5btqyDEJ0RhkoRoAJocIoY5oQxWG1Ov/hRx578EFH01Kaxj2vKZtRcUykcCxTEkm0d705RQFVhCb9No1txk1NLb++5947n3r2z8++8Lurfz9ll11BEhHFVIFtGjyOQt+zTEPyOPl+UFJolOgaYwRMQ+dRqKSgQlmEldb2FOysCZqlW9VyTQKxnPTwywElavj2br/fbWJrt/Jff0sOpNv817Hhln3hqoEAaHg5+uU2EQxtaquG47Yt3jY8JaB3iJKBfitQVAAZvgwYbPdUBEQSi1BFqRzdVjRQ6ektj9i3dR02OJqoobEWbYeS5MuUUkKIzjSNspTtTJ446dUFL+ma5laqKuavvfjSPrM/bACFWHS0tUdh6Nh23XVtywp8nwEJPZ8qKPb2tTa3tLW0+nXPMkzJRaW/5Htu1km15HN+zbV1LW3ZukbrrssoMEpD3ws83zJ0RqipayIMJo3f+bILL9p5zDjgwtB0IURfX19jciM52PLIBqP5d5VqGA0tCPDB+xljcRzXA58ylstkbd0AqQyNua47efLkb3/7zDAM169ZU+zty6XTIohMxmrFcso0W5uaqVI8jGQc60xTnFdK5bRtg1Sx5xEhd2rvcJher1Q6Cs2dra1rlq+0NE0DWndrhUyukMl4pUrs+yrmO48d61dqu+y8s9tf5mFYyOTWr1mTMm3B41qlKsIw8Orv6s4ZyvEBG7XnMcZqtVoydU5jjBIiOC/k8nEURJ5vaLQpm+vr6crYjkaBByEjSidU8kjFPPDcrJMiSmQdm/vh+I4xsRe4lWrKcZKhadVqdeMeNLoFX2XbCcxdixBC2ykphGEYoCThUmcaBdApmzJ58vPPPFvs68+m0t1d3fVqbeqUXRe9upAS8uqCF/9w/XXnnXdeZ3v7Y489du+9937rjG9altWzYcN5550HK1aCZWUmT543b15bW5tBydW/+s3ip58GgCn77jtv3jzPrdeK5V12mlDtL/m+f9lll/UvXAhhmJs589e//nXgeYsWLX/00UdP/9pXAx4bKZtqrKOjQ2zTIUHbhBDCsqykIodQIfeCer2ulOpoaS339euEHn34Ec8++dQRRxzR391z6aWXLnvkEchmP/GlLx155JGpVOrWG2+6//e/h5bmTGfnb666yqvWrr/++oevuwFMMzthwiWXXJLL5eY/9vjV11xTXLoENO2bPzp/jxkzVi9fcfuttx12yKGXXnppR0fHmjVrxOpVf2UMhNj5wAMvuOCCZ5986rof/xhsu3m33c4555xxE3YO+VbkB9qGkh5GQkihuamnq5tpWhAEV1111UN3/Rmq1V0PO+w73/lOZ0fH+jXrbrnllkfvugtqtTmf/ORpp52Wz+eFhGuv/t3dd98Na9aCkz3gyCOPO+nElGmEkvf09topx3GciMfvw7vaRjAqQgih7RQDohHKpeAi1igVMQ+DoJDLz9h9+oLnXzjhhBMeeuihvffem0glhNAomzBuPBWK+6Fbquw7e6+/3/23cl9/Z2fnb/77yi99/gtHHn5EuVz+5S9/SaWqV6ql3r799tvv1C98wbKsG264Yc2qVRN22nnnseOoVNMmT1m4cOG3vnHG5MmTlVJ33HFM/TWMAAAgAElEQVTHYw89fMABB2ia1tfXl8pmwlIpn8/3FPu9wGeGbmw8k//92F1DAYbnefnmJgAIophphpPPZXJZTdP6e/ta21oAIPKDSrE0bcquF1xwwUknnLjPhT8Lw/DKK6/0au661WtWr1h52+NPuPV63fdUzBc89/yG1Wv/NH++iOLlS5e1FZoB4IVnnzvnu9/LFvKZbPaHPzp/9qwPxYRuWLvu97/73XnnnjtlypRCofCrX/1q5syZ++yzj67rCxYsePrx+dfcc282m126dKmmiIxiQtg2KNy1GW/RE7R06dJ/3nQTCAlx3LnX3r/4xS/mz5/f29t7051/cRzn5ptv/sVFl/zoRz/6+91/g1hcc+PNLS0tv/nNb+6648+nn376HX+5a/HCN8773tlHHXXU3X+9x/f9euC7/X2ZpnxLS4si4Hp1whiOtkYIIbSNMcaklEopKaShaZKQpIr2Xnvtdfvttx95+BGLXn/js5/9bFdXFwAopdxyVQNoymRC3w9dVwSBo+nLF705c9puhx14kAxCJqRfqTqa3pTJThw//ugjj0pnM9VqlQLJZ3OB5/f19GZS6VUrVqZs53e/+e2ixx+HXA76+w895ZSjPnp4tVodt9P49evXt3Z2rFu3jpnGhAkTStVKFG9HbQNUQZKWKUncrOs6URCEYblc3n3qtGJvn67rRKr2ltaXX1zw6EMP//N/b4TBrJV7zpw1Y8YMGfNTP/+Fvffe+9gTjleZ7EEHHnjL/974mZM+edBBB332Myd7NXfJkiUP3P23B669HjQGUkDKWfD8CzNmzJBS/vyCC1OpFCGkWirbhmlqehyE9WrtQzNm3kbZ6V86bZ+99v70pz+964RJvZUSSb3rNeQ32Wk1fvz4s88+29R0xlgul6vX66+8+uqxxx6rM81z65+Ye1KlVF63Zu3rry38wQ9+kMvlXNc98fgTrrnmmtAPFi9687tnfWfChAml/qKu60uWLc1kMlbKqfkeBxULrhm6UIpsPN5lB4FREUIIbacIIUmpdinVQOVzQhSBQkuzAPXMc88qAk0tzX3FfqprcRzW63XHtuMgzGUynufZhqkzjUexzjSdab5bd0yrKZfnYeRWqjyKa3XXTNmGZQolAUAzdNM00+l0e0vrtddeu9+cOf/xta8Vsrmnn3563bp1IpaFQmF9dxeh1LIsy7IkJdVqtaurq6m5eWibhyYgv2fzzyFJOAHDKZQsy6q4NUKIYZj1el1GsaZpre0dYRiapqkzbcmSJQcdcKBlWZ3tHT+/7rpsOkM1BlKZtlWrVM8666y+nt7nX3zh3HPPnTdv3sSJEy+66KLuDV1vvPHGWWed9fWvfz2TyewzZ855550XCU4YjQRvaWl56qmnJk2aVK5Vm9talVKVSoUrmfwTHcfp6+n92QUXPvfcc6uWr5h3zrlnnHHGrH32fn+a1ACSkHHG7tM3bNgghEilUlW3ZjtOLpeTUq5asWL58uXZdBoAeru7M5lMPpv1PC8Ow1qt1pTP+75fLZeDKGrv7Fjw2itBGCoCSindNGKPc87JyDp6Q3nRdogGpB00mEMIof8DGI2lIIamGAkFV4yCzmIlNdOYvOuUvz3w991m7hETpXRGNMZBNjU1CSFWrV1Trbt/vefu115+yUmn2js7Xljw4htvLrJSzorVqzb0dFfrbjqd1gyd6ZpiGtNNpptCAmV6xEUQxeu6ukMuFNApu07r7u2f/9Qzvh/GgnMpuBBNTU2lSjmbyzHGenp6Jk2aREamO3lv8hNuDlEQ+L6I4iR0oxrL5HJOJt3d08MMvbe/eO5587p6emd/eK+mltbmltZbbvtjteYqQv92731PPPlUd0/vilWrp+w69TOnfPbQwz7a29fv1r2+YmmnSZPm7Lf/0cceG3K+86RJry1adN8//lF2XaDs8Sfmr1y1unPcuJDzqbvvXq5UPT8wLbtUrixavMQLwlKlKhU89vgTsz6050mf+tQJJ520vrt74wTi74FkGrZhmlKplWtWJ7mj6oH/kcMOveb3v1u1ZnWlVl3w8supTLrQ3Dxj1sy/P/BAuVqpuu4tt926x8yZTNdM277jz3cqQtLZzBNPPekHQRCFfhRSSpVShmFsrhjfjmLH3nqEEPogI4SDYpomCIRxxEFKgEgK3bEmTp3y5muv7v6hmUqj9SjgREnKrLQzZuzYH5911mlz5y5bvnzcLrtU625rR/txJ57wox/+4OSPHvaTC36qm0a+qSAJ1P0gVuBFYT0OIyl8yUFnnAIH1drRfuDBB93+lzuPmb3nBT+7sKWt1Uw5keACVCaf88KAMfad73znz3/+c1tbW19f3/u9mwaQwVOaruumaRJCfN+XUhJGn3hy/rnf+PpJ++17xhc/v8ees86ed67SqCDq86edOv+Zp/79iI8dN2efu+77W1Nbi6Bww803furQj3zmkIO7+/v2+NAsCeqyX17+b0cc/vWvnf7PRx+Zc+ABmmWe96Mf/v76a79y4vGfPPjAZ154vrdUrNTdgMd95ZLmWIpRDuqoYz9+8w3Xfe7oI6+6+rcxyEefePykgw86ft99Xlu4cOasWZqhv19tJ0li8WSmnmVZQoj9999/r333Of3fTjn5kI88/vSTp375NGrqJ33qkz2l/i+eNPfkjx/dW+w/8thjmttaj//E3KUrln/iY4cdf8jBz7/wQqG5KVvIG6bJDN3zPKBkR89tTV5f+PLU3aZRYgglgVA10KkmQUmQHKghgUoCEUAMcNzJ36qTQkzehwgXoR2OJFQK0HWdR56uK+ChYtGdN11y471PCAqcKs6SxI4MAJjUAABTBH2wJRk7k6T/KqkOqQgBRRUQGVsai4O6rdOTjzj00RcXEAauiEzLYpRyziEWmqYZlCmlkpTWpm7UfY8Qkk6ngyAIw9DUGIOB05KUUkqphJRSLl68eNasWYHnLV269J577vl//+//gVS55qZaHImG3Li0IRvWUG/UcK45AmHErUzK9/2+/v7L/+uXP/zhD+2UwzknGoORCVnIiNrb7xZCFChFpNKAUqkO+fDsx195hTAmiEoSFyUlnqiCwUoLMrlzC5fQUHF5k3PLG8vDNdaKH84otqnnDiUI5pSKrWmaSFbABtY2kAZHUOCKa7oeR4GlMcqlJqQu5P57zn7sjdeG1r/xAKONk9RsfSG64QqKcjAj/+h1vt1eQqJAl1ISCBkVFEARpsAQwBQoQjiRnAIQrnNlC3X4HrPNgQrx7xSOK0IIoe2UaVmSEc655BxACR4LIkApZugSoFirZLLZMAz7yiXGmGGZUnClFAEghCg6UNFFEnLrHbdf9p1vg1TOrrvOnTs3lcvyKC65VWJZjWdNBQM1xagaqLVOFAgyfBbXHavueYZh1Lz6xz/+ccuyhkqBbg/oyHBkVF54OVhOZ1Q1wH+5HFF3eUT1BYBRgVHDXxtjylHPHdpf29s4G/G2tifZz9vbe3nbMCpCCKHtlFIqjjlIpWsaJQSkAgAGxPf9XC7nBwHVNREGpmMnlV9jIQglNDn9EiIBFCGK0gsvurirq6u9vb2rq2v82HHValXTtOa29t5arfFKfqi6bEMtboCGRgVCSVLCzHLsgz5ysKZpnueZprlxYPTenCOTpJE0qQk1iAJINaLRQJKBiETQLUjiO3L9MDKmaXz+qDq4oySh5ECcscliVe+tUY1YsKltfnv/tcY61o1thDtEzsaNYVSEEELbKcG5VFKnTNd1AsCjGIQExjTGOOfJvP2kKme1WqWUMsYAFChKiAKgQBQAJUTGQnWOG8uorltmEMapTLq/r1TxfTuTbizhDjBwkh9oIxnajKGypjxOJqyNHTtW0zQAcF03KSD/nu6Xzdtc1KMGI5itGgbeWA2QNuyZgb/C8D1bEnNsqsdqO/L2SroOFFT8AMGoCCGEtlMGYZRSCkTGXHEhOGdACJCUZZfLZV3XVcxt3bB0oy5quULBdT1CiFQUQBKgQIFIAkDqfhBxBjLIZvKE6WEcA9M62lsqdXdUXY7GE9zG53WiMQmglEyn0/09vel02rIszvnox70fhhu01KbDjXd7WhzZfDmpxv64Rsmwp3dxkxoCtU2W/njnRq1w4yJFG/cqbudwDhpCCG2Pkhw8OlAqlQgj4MLWjJRpW5phUK05V8hnc16lFvkBD0LTMKr9FQYsqbsHiiqVNBoRQlihUFACpJS+H1qWpRRxHKde8waqlcHw7a2ZphlFkVLKdd1kJnahUAjD8N3fGVtkaPtHj4luiEg2V7B24xsMjqyCoeHSMLySoV8bR1ITADZyfzY+ZsQmbZftKxtXoX6LG3xAK6hjWxFCCG2nZBhrhp7MCTY03TGtOIwqlQoApFIpCSqfzqQymZUrV47baXyl6gKhAwM71MAo32SkUKVYsU0znU739vZWiuUoipqbmyuVsmZqbGRbwlttDAHOOWVMKqWkNGwrlkKXktLBFx05lAe2qEz4NtYYuIjBFprhZqStWRVTw0kWRwU3Q4mbR73NpOGNjdwbox4jt7MxN41DgrZ6q5LR64OTFj8YPjBvBCGEPmiS8TpJJxojhEdxd3f3ooWvn/GFL5563PGnfeGLT81/sndD1x2337500ZuWaQIAoZu45Dd1TQher7u5XBZAWZYJoCiljU0jG7cEjFpSBbVaLZVKKSkd25ZSCiFKpdL7ko3wbdjyVqLhtiIYXm4ywhv1sBF9kWoTjxn6lQ620m2H6JYtk9CQfLBCIsC2IoQQ2m6ZqXQsOI+i5nyh7rog+fIVq2697Y+X/vqq5ubm1atX12o1HvJaxW1raffrXiQjJ5PmnEdRePfdd9dqtc997nOc80wm47quaWbC2FdMeKFHdJXOWEEQpNNp13WDIEilUq7rdnR0FItFpZSiRCPUtKyg7lFd41HEDJ0BIQCmpkd+oDFGKTjZbBzHG5/e3/tWooQCADK6yww2aqrZckMPb3wi3Wg9A0PVR965ycfAuz+caIjagibAkWOAKABINdAC9C+XZHD231s0Mm0/rWJbCKMihBDaTvlhUGhp7tvQXXFrlqbXarW//vWvp3/1q22dHTLm48aNcxynWCw6pqXruh96TU0FwmB114Z8Pv+5z57S19dnG7qRTtXrdRGFll6IA9/UWMrKCiHK5aJtOn09vYyxtpZWIQTL0N7unkwmk9Rfq1QqURA2NTWtW7eus7MziEJGqFdzfd9Pp9O2bdfr9SiKkkTJ7/euAoDNVhXb5hu3udBqC0Ou7WJnbV7juOy3XsIOGPT8SxgVIYTQdooQUqvVDMMwTTP0fF3XdV3fc889y6VSLperFEtxHGfyuViKCy64YMnDD4KUsz910re//e1arXbd//xhp512mjNnzisLXrr33nsB4M377oN0+ktnn73//vu7rvvyyy9fe9kvoFJtnT37zDPP7OjoePDBB2+++mooFqGp6dvnn7/vvvtWKpVLL7xwwWOPQbE459/+/T++9S3DMiuVihDCdV3OeZLIMYqi93tXIbRtfJB6AxFC6AMlm80GQUA1Rimte96KFSuaWlv6+/vz+bxSSrdMYLRcLi9ZsmTGjBnX/uPB6x9+pNzbv3jhG50tbbEX1MtVRzdtzejb0L3fXvvc/Pj8M35w/tOPz7eYXi9X33jltWtuvPmWRx495VOfvucvfw3c+qsLXrrw8it+f9/ff3LpZbvvOjVw6/+47+/Tp0675n9vvPaBf+RSzj13/WXt2rWWZSVFQG3b1nXddd33ez8htM1gWxFCCG2n6vV6Op0OPT9U0NbWtn7dunq93tTa0tvdI6Xs7Ozs7+8XUs6YOfPoY46JeCzDOJfJZNPpcrFIlGpraSFKKSEOO+SQfffem0fRHrvv/tT8+ZVS6blnnnn61tue/uPtwAWk01o+/59f/8aMqdPO++Kpex9zzH777bfPh/ZctmzZ/IcfWb9gwY2XXwG6DnX3hO9+R0qZdJkl09y2k74zhLYVjIoQQmg7Va/Xm1OOMgwexUqpGTNm3P3Xu5566qk5e+/j+37Sb9XU1OT6nh+FTbm80qPW5paU7TBCTd0QMa/XXNu0GKGZVFrX9XX9ax3LbsoXKqXyV87/0QH77lsoFOrVmunYxd6+Qw455KOHHPrQo4/c89e7HnjggXO+9/1cLvfDP92hmYZtmOnmppV9Pfm2tjAMOedKKc/zHMdJp9PYg4Y+MLAHDSGEtlPpdFoIkeRL7OvrI4RMmzbttttuW7RkcST4y6+9+vJrr/aXS7ppxIIHcSRAdXX39vWXFNCYS0I1y0719hXXre/SdNMPIk03a64nFZmz3wE33Pi/vf19lVq14tbu/ft9nePGvvLaq5HgJ5409/OnfrFz7JhUNtPe2fFfv7rScmyisWeff667u7unp6der2ua5jiOYRhCiCAI3u/9hNA2g21FCCG0/ZJS1mu1VCrV1NTU29V9yr99Vtf1H59xBigFhcLp3zyDakwB6IYhlCSgUtmMk0nrlikJuL4nCWQL+abWFkmAKwmMpnPZeuBPm777Ucce990zz4S+Xujs/Mwpp6zt3rBk+bJfXXoJVCrGxIlnnHEG6Ozkf/vsT3/6038/+iiQMrXrrl898z9TqZRpmnEc+75PCDEMY/vJbY3QO0deX/jy1N2mUWIIJYFQNRAoSVASJAdqSKCSQAQQAxx38rfqpBCTHSNnF0LvL0moFKDrOo88XVfAQ8WiO2+65MZ7nxAUOFWcgQRQwACASQ0AJPngJdBHwyhIAJBAYTA3DChCQFEFRMaWxuKgbuv05CMOffTFBZRCTMhQamayqbx/jQVKqQKyNQUYiAKmtuLxigCnVJDtqIdBUUWkYkLphFKhDtlr9hMvvQI646AEHchalOy0t52vaLuSvAk2cDwMZGISFLjimq7HUWBpjHKpCakLuf+esx974zWxHf27tg5RoEspCYSMCgqgCFNgCGAKFCGcSE4BCNe5soU6fI/ZZpJb8h2/LrYVIYTQjmHoHA8j46Ghv27VOYEqUIpueSClgEocdIE+6DAqQgih7ZcaWckLNpWrUA2XZN+KqEWBJFv9FIQ+4DAqQgih7dGoYqt0ZB5h2ZBieODnrVy/JBQAqJJJBYstWCL0wYdREUII7RjUprq7JBkRD23tuApJKCgKBLZgKd+v6mYIvWcw/EcIoR2PIqDIcEiUNBo1VnffkiUoCooO/LCFS4Q+0LCtCCGEdjCbK4Q+PFtty5Zvta6NffAKgSK0EYz9EUJoe5QEIW8Rs8iG9qGhiIWorVtuzUMR+uDDtiKEENpODbfoDGps2dlkDp4tb/pJngoAQCiA3KIlQh90GBUhhNCO7R0PgpZbvEToAw570BBCCCGEADAqQgghhBBKYFSEEEIIIQSAURFCCCGEUAKjIoQQQgghAIyKEEIIIYQSGBUhhBBCCAFgVIQQQgghlMCoCCGEEEIIAKMihBBCCKEERkUIIYQQQgAYFSGEEEIIJTAqQgghhBACwKgIIYQQQiiBURFCCCGEEABGRQghhBBCCYyKEEIIIYQAMCpCCCGEEEpgVIQQQgghBIBREUIIIYRQAqMihBBCCCEAjIoQQgghhBIYFSGEEEIIAWBUhBBCCCGUwKgIIYQQQggAoyKEEEIIoQRGRQghhBBCABgVIYQQQgglMCpCCCGEEALAqAghhBBCKIFREUIIIYQQAEZFCCGEEEIJjIoQQgghhAAwKkIIIYQQSmBUhBBCCCEEgFERQgghhFACoyKEEEIIIQCMihBCCCGEEhgVIYQQQggBYFSEEEIIIZTAqAghhBBCCACjIoQQQgihBEZFCCGEEEIAGBUhhBBCCCUwKkIIIYQQAsCoCCGEEEIogVERQgghhBAARkUIIYQQQgmMihBCCCGEADAqQgghhBBKYFSEEEIIIQSAURFCCCGEUAKjIoQQQgghAIyKEEIIIYQSGBUhhBBCCAFgVIQQQgghlMCoCCGEEEIIAKMihBBCCKEERkUIIYQQQgAYFSGEEEIIJTAqQgghhBACANDe7w1A6INMEVAEJAEAkAT+P3tvHmdXVeZ7P2va45lPTamqkAEzSIgBTZgRtBVUgrYoKHaL2lwn3hbt24igrx9tFRT7bXFoxVax1XZ8W0BUtBEERAaRSQQiJAEyp4Yznz3vtdZz/9hVRWUAU5iY6D3fT30WlX02p9ba42890yIAOLUdZ/YhoAEoEA1IKfYmKn+9EL3Lv3Dvv2sCGgABcOZy+QuHICDZD/vsCZ0+PhqmbiRFgexth6nd5v4nsi/RZJf2YDH7L2cj09MXFQGgCBQpRU0QMpNHtn92bMmuhyLbstdjPrP/wW1nzh0FULv2kE6NGLMP6X69TXqqqEePAwi3zCCOCCADZJwxLiSAsEyZRlOPMwLw9IMMANlB7W+PAwlmoldPKd/pRzlBSNOUM5RSCsNgHDyAhKJBKWr4i7bok2wACPqP7ZntM1dhRKZf4UhAUpAAigAjgLCLfHn6rTnHWQfN5BYC3bV9Rg7wrIZMH0gkAETPGqBmqEED10A0JThr0oVTx3Z3gbjrecmOfPYUmtn/4LYEgOCUyKXTHSNIAQEI0uxE4O5q70+np4p69DhQIIDX7RqWaVsOqEgmMWIaAbTqDSNvE0RATRAIEgCkmmhABI2EHPRZWq89EC0AgsbMDAQAgAjZe4hgzjIZJ2kYBEFgmcwEcF1Xa6mj9OBew38au2uhvR2T/QOSqcOaKSSYfonu0pv9YXub0W27WY/+DC1Mqxactj3vNprs00xFQKZ4kADBZzJuzWzfTYzO2LYPbktxL0d7l34CQHa69+vMoaeKevQ4UBAA27I45zqJ48DjoIp9uQLA6NC8RtChAHTqbqcAwIAqCgkFRfHP/LTttX+eliBwvfvzmwABIEGnm8tbJudEc9cUBoAKgnqrWSxVNPmjdpZDlOm3mp55f2syfc1PtzPM3mffvx+ATP2PBBBAZ37qPeTC0xC977qITMu62X2eAaf7vEtL9d63748Wpn2wmVMeZ/Un+ycS0JkqIqDoLI2Y7bPr6GYroZnf969U/RPRAAQ0EtBAs5NLCSDRGoBk531aP+lpTbxf6KmiHj0OFBQBEDCRnEDOtDkoTKUC2Lltu5N3NdPZLC7zMiASooEyCRoIAiG99q+uBSA6m8prQDr1nEcNAK5lEoVxHKg4SLUJAJbgA+Vygvov14OmCWQuwNlyZ882s4LMVRL9GcDpuJzZvcVdd/hztmRvVqI9xY3OlM2UbMIZobOnd3L2lhn9N1cn5oFlll81MwFqAmzKZ/q0DSyTSvuLnirq0eMAwhBUKhkDSwglVRJEBsD8oeFO6BFCFMm8Z4wAUM0IaEsDEH3QrRq99oC0QJGAJnTa0UFh2uvBgAJKYQjDLgpGAUAFkTANqdUhM3V/LuyLypm9D53zaDVFRESKgIgUgKKmSBD38kWaAACd00sf52qoO+DZEtP92X0YGojWRCPRQDSSKdGd2er2RegcmtJ7thELAGYb+p7+aHqLBtgvUZk9VdSjxwGEEQpACGopVewHhoUc4NjVq/J50AAKQE0/3ygA2U93dY9Dk8wLoPbYTqcfxAyAAbRSbQMQRN/rMss5pKbuc4PouaqcOQ12WgBNh9xOxedO/b4nbM5pbvvTArE/mMrJoDOmHTIlFMh0VPVuZJbIGQ5ERNeBIzuVdHYY+CzdTBAoaiB65vm5v4RdTxX16HEASZKEAWFCmJyDNKXyE4D77vt9O/Yl1YpqTYFoDgAEGYBGqvaMUe3xVwOZSpmeMRdNoaUCnVKdmoLagq596UsYYyW7ECRytxfbXxA4VZZiShs905t4xu+ThV7NSbcwAJyyFSEiMgCGyBD3aisCAD3Hm4sg4PR7eM/+77kFD/DNyxAAUE9fOjg9j9KIDDFrCWIWyD8VubhrJ8mu54LO2jh1Ig7oAOYCBWCocWrUAEAZAkHCEABxaj6JwDQwDSyThvvj7/ZUUY8eB5B8sRAFYRAFCZGmwQtOmQCMN2rE5CnTGrVWkE1sqdZAtNL4lxtd2+PZyZ7yBAGBa7JLBIdglDGOqYzimFNBARDR73rcMKZSirKiVn9RLYLWMCV0nkkYzQSLZDuwOV37BBlApgEoAiIwAIbAplTBXmBzki0EcZa9aDdLzMzJm9muCcABzWEk+LSaxqlo6yn/rAJGQc8aO0WgAEwDme2Emh2pNG1eIrNUEcLT+x90KALToAnwKW8zUJ2dX0QkDHQ2X2CoeTbY/fR3e6qoR48DSCfwTSGIZozTRMVpEAIAt0zJECggBU0BkBIEpFQD1VRr0nOj/bWCVGtAjUCRwIxIIACp1pqCMLjCNEwTADj6RS8sANX7afp7UMBpp+GUQWK2kgDwAWwAAhBOu48JAJ+rE22PLaesOvqZdp7rbGM3R9zsjoWALpAYgAKYABEAAtgAaiYs+gC0u/UN9vYpmT6YGScc8QL9zGNJAQwAAhDrNEdFU0Y5bh06c7LMs6wA0mm/MwMQ0yddTV85DoBKIwYAKQInf/oN01NFPXocKLJUEUWmc0cJAAEFoCgoAopO/QIAQGZmyZROGb8P/ly/1+7vVmoAIHTKtTTrUuGEaaIRCDIqUSUAT2x6SlCCsYJDptbwc2jV9CsqMxeRaTPGkiVLtmx6ihAClERpwoXQWmutOZB9H+9z8vbQuYQW6Zn079lWLoqgtXYsOwxDg/P58+fv2LEjSRLOearwQB5PPXvLXiG7FpmcMTxPZfiTWbtRKuPEtiymQabp85cu2/7UZgWoyIFSdXNtaWYCBEgYlRQAKNNgqqlDgYwGGFPAgmEakRpeshxwT/X4XOipoh49DiCaPP2DZKqSCs4Io1nrgUD2FNAzqqjX/tW1hCqKWRbxtCrKPtIASBAJAOdcEEYAgjCUUZwzjOw9dyhouufQKjr1Fs8kEQUgCArApsBQh1GEhCjUhGCqpEolUA77/P3T7Ks20miZajEAACAASURBVGRuOWLT96YG2MV9pgEIIUkUyCRmaBicEdQqTZIopFwc8KM6naO6VyjuHs4/U1BAz+S3A4BGTmiaJIJQBAJKUyAcSaqkpodAtmbWIhDUioICigiAVCNoSSlCqlNmCkQttYwVQoqEALA5nNxnoaeKevT48zETWDrDzBM9e2wRAtN1/nrtX1uLhAJqINkWAtN2C4IUCAHUSimCyhCCAjiOq7kQiNOp+395LSVAKCBMTfpnVBFknrIMSgEIExwooZRywvZ9vNPryu2rx5nONPuGJpoB4HSXpr5kVs4X55wxZhJGKeWMIaIQYnaf9nNLNAAwYLDvY84C0gE0ATYd/w4AoJFThoiEEAKEUCoAKKWCCkoPWP/n2FIEipoSQEolBYqUInBKmQZUyExuItGaUQRMYq3nWHThmempoh49DiB0Og50yiyMT1uG9wQBYjb3Eik9/kKgCCwLKcqMFrNMF5QSgowQrdI0kYkGUKkkALGWB7fPfwqIoFEjAYbTWdY4lU8UAyQyTlFSylMl0xS11oQQqdK5J43P6X6Zkwdtl+8ns/IGOaGISAASqSVgEPlaKyQYptFcv31uXSHPVu9gTwNSZnfBPco/MkoBMMUUpOJAKJAEdKTiZDqE+VCAIDAERSBlVGkAoEyDVsAQUiVprGNQhCAnjDGSoja0Jnw/SJqeKurR48BCprM8ZuIqyPR2ik8nhkz9tyeJ/qqhSAlqCvTpioJIAUAmkoNmhBMqqE4BAFOtUTHB9qUQ4iEK0ZClDswUE9LTvwAQwTkj1OAyAUVBA3DOQD3Lah17+36AfbebTJe82Xf28v1TtzBlqJRgXClFgUjUlDPGqFZ4IGtDa0IAgD3TIdpL+lhWVx2ejl/Mnj5KIzJKOANCAQmnjAFlgu+tnNZBJbMAsWyN2MzwCKDBMIVmqFMJBIEzCsAYJZTul9yEnirq0eNAkVmJKIBGYBpQQ2YmmPEmZNYjmA5BJQhc/wW/BHv8cZACUABKAQApkqnKeqg1AGGMMioMQg0AToQELQmqv2ShjACa6CwINiuiqAEIgARIME1UypROMNWYZZpPexfn/Ef2nX0q9Lzb98+u8TO1+gQoKROgoFBpgAQlA6aVJPTAqlgEAIJ/pPLT9D/prH0Vndoh+1RpSZEp1IiogRAkKUCspGJPB8gfdMh0sQBJlCIAgIhAgSIBSrWiRDJAxERJkDIFTQnZL7Kop4p69DhwaJotMYkzwSXZHYdANEEgmlJKAQlBIKApIpkOXNjz2fqM88Op9O5nfTfMTj7Z9Ttn533s5dtn/vdZ2S9InjF3ZPqxPP0M3pWprVO2MQ0AMxkzu+272/D37OHM589SPVk/6yNy1ij+yHj3VzvrpTVL6BAKAJZlYZoiaq31tAFRaa320bbxnO0T++6ueqYr5FmYySSYOgAz26dHpZQiyAkhnDOFSDnXUs7JgzY98H3MatrF2TYXAUYAEAkhmMWFIc3UD6Eki/VhjBCqpSR72HH2embm7CScJjueFPZ+jekZRz1Bknnin+HCYIwxwbVUBAjRU1ZLhRqAztSOepYO7Ma+x1A/O7vtD/C072925h0SCKKQWyZhjBPOCKNSw5RRbD+wf2K2e/TosVc0kZpoJFSBocDMwio00YRgmsaMWjYvyAj8VjBcrfidBgMMk9gt5IEQqVSWp5aARsEClYiC25VxzMHDFB0j5sRPU6dUihE7YQicxUoi0UAxX8w12w3TdSKZIueR1ppzFAKESBAVpZFSxDBi1JoxaplBmhLTSAlozhSjMepIq0irIE2pYcRKJ1przqlpBlJSywTDCJWMKZGCdWUagtaWqRhNdGraRiJjZNSLYhSmYiIFoYihkUlNTWFSjZAkQmuLkNj3TMMwhLBNS0ullGKMUcERQBhGrGSsZEoQTN6NQ+aYaLNm3I0hdcv5IAm5wRSgEAIA4jCyLDtNJRKqgSChhmVHUlHDpJbVDkMUQjHmpyl3HMWYXSxISiOtUgIxahRccyYJkYRISg9EqwidfitrAA0kBSIBJICUUmqtszLNGlABINOEAWMks7IEna4rTB0lBlAqtUACUjmGSQDSJLEMU0sVBSEFQhBs0wKNoNEyTJVKlUqZpJwyVFowzinTUhlcgEZMtUkE1QRTzamwTUcwg1NBkBKkDClDyjXlmgpFuaYMKdnnHzpVd5hSTSlSMm0nm4o9R2KatpZoclMnmiPDRFNNQRNTWHGYcCoMbqpUy0RpiY7lJlEahwloQpDapmNwU1AjjVMZK4MbnAiVKpVoCjRrOREECdFUMCGoAUiVQqUwjVLbsGWsbMNhyECCTjTV1GQmQyZjRZEJashYUU25IgQpQUKQUiQUKSDRCihlhDBAknkGGTLBDNvJdfzAdFxKOQDlVHDC0ygFBYIKQUUcxEQTLdEUFqWcECYsWyLEUhEuFBBgXCJoQhOlS9W+KJWEC8KFF0ZIGSigSBgTjHIAqhUiEkoYAAUkdLqHJOvn9NGmSJmmXFEhqaGooWg2TEQChCmFqAkHYIQzwnWqQRNUwJAaVBAFDCmmmigATUIvdC1Xp1pr4NwgmqBECowTzqnotroGN4kmnAqdai3REhYFphIFmqhEKYVag2U5iCQJE0EFSjSYQXHqCtm9zSIQZm3MtpjCQqUJIkFQSQq4m/D+k+ipoh49DhSaaCAIWYYpMACa5Zch1ZxTDRgHcZrIUq5cKZd37tjx4x9d97GPftRgfGxsjABs2bz5K1d92TRNRAyCwDCMMAwNy4yiKJfLxTJN08Qt5FuddpqmIyMjnPM4jh3HieO4VqvddNNN2zZvIYQoKaWUSSKBEt/3XdeVUt50000PP/pIPp+XWrXbbcuxlVJxHEvUAODkc67rmqZpW5bW+htf/3oQBJwypZTrus16I0mSTIsQQkqlkmmaQRBEcYig0jTO0lgsxwZKCOVMCCBUInDOk0Ru3LjxYxdf9K3//DoBXS1XGJB2o/mV//iPy971rqeeeNI0zSiKkiSRqA3DYIIr1IQQJ+dGaRQEwfzDDuOcNxoNSum6detuvvnmNE0JQqVSSaLYNM3J8fEvfOEL4+OTzWazWi6HYdhudoaGhnw/lFJWKn3jkxOT9Vrb81OtiDCoKUCwFHQoEyQUp+oJHYgWZqJ9M1MhgNJEw3SuPiCdmU9rAproOI6TMLIMs7/aZxmGStM4DC3DYISoOPG7nsF4wc21Wy1AXLRokWWaYRgGvs8510pFUeQ6juM4lXJZSinTlBDCGVNKJXHs2LZgHKXilNmmpaVs1uutViuOYzrlf5mKfssqILNpz+++/mTvsGl73jO9bMhMhWUAUBqlcoQpKIu6vqCs5OaLubxJeRyEBdvNO64jTIpQ2zke+QElxLbcnOuiJkpK07Bdx9EKqpUKARYGQRJLrVQcpWmScMpMLlzLzufzoJFRGnm+TqWgzDEtTqiME5WkBEArhYiu41CETN5lCVC75BUiJQgzztDsvLVarUq12u12O52ObVqMEC2VbVoEQSZpp9WeNzgkkzTvukkU+V2v1WoRQixhMMYMxhljOpW2bZtcEEK2b9lKCEGpGGMFN2cJw7ZtlerA81GBY9mW5WitgyB6uldAAYBOR/HjrIPMpn9mDvguZwGAYma9A8YY5xyVlkmKSoNGx7INLhzLGhoYTKIYEXUqdSoZoQYXURSpVGqth4fmSSm9ThcAGKGmaXLKfN+vlMpKqb5K1eTCYDzyA5MLy7LiODYMI0kSMhNzOaudzW610ad20xRmwjSf4ep6DvRUUY8eB4E0TU3TtCwrTdM4jimliNjtdnOuc/9v7yk5DqYJUVInMU1TkxBXCIFI4tjQmBcGldJQ2iTMIry+c3yo0rdp/cYf//c1jZ3jQauTN21XmOPbdghCy/mCQZhrGjnLhERyICClxXnQ6egohiTVUbxweCTqdC3KKrm8K4y467Una51aXSAIjX6jaRIy0tfvNeqXf/jDv7n99tHBQaG0CYQladrxZNfDIDKVLto2BwREx7JBacaI53lhGAKgEDxTXb7fzefzA4cv7vqe53mTk5OIyjC41hLmDeYLbqtZJ1r1lYoyCjFNiq7DATqNhk4SSJVB2MSO7WkUlnKuxYWOUw4YBh5qHUeRTJOc41Sr1U6rNTQ0UCrk6+NjOon7y6VOrdZfLoFMOSXf//Z3Qz9QSUo0EgBGOAUGSPUhFmkKAIVCARgNorDVarVaLdd1OWUEIfSD4eFhx7K8TldLlbMdlGrTU0+Fnl/I55MwCoOgmMszSv1O1/e8bqst09Q2zDRJVJK6joNSee0O5zxJkjAMkyTJ/ly1WjVNc6+d2T8z8WeGItimlcaJ1+kUcnnbNAPPb9RqrUYziSItlWNZoR/EYZh3cznHcW3Ha3dQa7/T7XY6tmFm49VKteoNmaaOaRXy+YKbs0yTIsRRpFOZRHHg+V63awnD4IJTxgiNw0hLRSl1HKdcLhuGEUVRHMdzHYJtWlopg/HBwcEgCCYnJw3DYIRSIHEY5Rw3iiLGWK1WK5VK+Xy+v9rXabbSOMnZjt/1dCo5ZX6nG4eRY1oGF6V8IY2TOAhVKtvNFtVom2bedTmlged5nS4jtK9SnVEVMzy38CYkU9607ImEiLZpCcZR6SiKxneOddvtbrtdzBccy1apTJKEApQKBQqgpYzDELQeHR5Waeratt/tpnHMKe20WoyQ+uRkEsWoNEGwDFMwLpPUFEamog4deqqoR48DxbPcXWmacs4N2yKExHGcpqnjukODg28855xf3PBzGcY01VThQKmS+qEB1OGGjhKHGxjGOWG2dk5YSE2Ncbczr79PEJjX3y8oa9VrRSenosQgbKjSZzMRdbzI8xMvcIQZeV3XNNMwohrn9Q/0lcppGMkontw5NtTXH3W8oNUhUeoKc37f4ECpQlOVeEHeNBlip1YrOe6nL7v8pNVrGtt35IWBQegwXnFdrnTeMMqO69dbjjDjIPQ6nUZ90jLNQs4VnGqVhmFomqJaLRuWOVGvvWjNasu2t+/YMTjUDxofeeQRUHp0dH6r0bRNyzGtZqOBqQSl/VYnandLufxAsUylpFoVbdcgLA2jnGVrpZIozltOMZdvNBqMscD3vU63UCi0Gg2v03FMs69YjLrt/nK5OT6WBGHse+f9/ZsMLrI3IiidpqlSilLK90da7/5lbGxMCNHf3285tpSyXC4TQpRSlmV1Wm2v062USlEQUCDFfCFn2lEQFnP5eYNDeceNw0inMu/mbMM0hWEJwxSGTqVMUoNx27Tybg6Utm274OYIISqVnHMK0Ol0DtZ4VZr2VSoqlWkcm8KQSVIulvoqlUqpTAGa9YZtmq7teJ1OEsWg9dDAYNjxKqXyotHDGrW63+oM9g+YlMsktbnBKfOa7drEpIoSyzAdYYLSOcu2heGYVhon2YucAnBKKaVJFLfbbc/zlFKcc8Mw5tx/pRgQAOi2O5ZhDA0MGlx4noeIQ0NDlNL6ZK1UKDJCvU43DkNOKQdCAQShBNHiglNaLZYEY5HnF3I5naSolMVFMZ8v5vOhH4DURKGWihHqWBYFaDeb2V+fe1GD3WGMUUqllNnyupxzIYTv+2EY9lWqw0PzLMMs5PKMEJkkWspiPh8EgUplHMfFfCEIAr/r+b7PCI2iyDatzERULBbLxRKnrFIopmHEgYRdL/J8U4hysTgwMPCn9nu/csg9BXr0+L8BwzDiOIYkYIw7pkNIGoWtTqeTt5ylixfd/evbzzzzzM1Sbnvyyf5isd3t/OLnP//VT38K4+P2Uave+ta3jo6OToyN/fgnNxx7zAnf//rVYNmGbSYPPwK2ecO/fmbwuGMuuOACg5Lv/de3tt9xB5hWfsWKC/7xPXnbJQiUYBT6cRQkYSAoYUp94ytfSZKkcdfdUCyueOlL165dywuFW3/5y5/94AdQqwMjztLlUacz3Dfwb//2r0cd9cKXvOSU++9/8L++8mXYPgbV0sJVL3zT372xrzpw1y9vGWtOPHX/fRDGYsmyt53/jqHhkSjwOee27cZx2OkoyzK9oNtut4cXzN+0dcvogoVSyic2rj9mzYvuu+8+mUQ5x/rP//zPxYsXn3DCCYh411131ev1V55xxo7Nm2657bbf3Xwz1MahUnnR6a847bRXVAr5B3buuOJTlwcP/h6GBl9+9tkvf8XpAGiahud1R4eH77rlluuv/jo0myD4Ky644JjjjhcAP7nuupe+7OUGJSmiUkoryMrZUUoPuD1kjgwODnYDv9FoAIBlWdu2bbvk4g9su/s3AACMrV679tJLL7W4wQnVSZpJip3bdzBCuGHEYejm83nX3Tk+zilNlWIIjmWD1n7X01JaluV1A8dxHMcxiKG1DoKAEGJwnsU/UbIfXrRzIooiwfjNv7jpqk98HEyLFAv/8pGPDo+OfP+733vDuW8cHR7RgH7XA0rmj4yOTYz7Xa9cLHZarcnx8Wq5zBhr1GoA4No2pxQAco6DiIwxrZRMEksIFSfdZqtSqRAg5VK50WikceI4DjeEaZpBFGrEzFISBIEl5iCMKILgTCYpIGZy4f95z4X1ydrnr/xsbtCZHBs3TbPT6bzp9a9fuWb15Zdf7lh2bWKyr68vSZLJ8QlKaWVeecuWLS3ZfPLJJ9evX7927VrDMMrFUpqm7WZLSwVKM1dorZMwNAyjkC8gYqvTptOB5M+yGMg+QgiRSgohsoPQarV+d/8Dl19+ua7VAGDN6adfdNFFjNA0jCt91Xa7TYFQIHk3h0q7tgMmmoYJGhut5tDAYMfrbtm0eWBo0O96tm1Pjk/ccsstK1eunDdvnm3bUqutm7fEaZLL5WDXWHgkoPHgmG16qqhHjwPLTHzG7PcL59wPQ42JMBhSIlMppQTQURSdc845X77qqjWrV1ummc/lKCEbHnv8ztt//cFPXMYYu//++7/xla9deOGFZTffnqz/7IafvvufL1q8aGGtVrvpxp8vW/K8Fx59dBiGlNLaxOSiRYf/w9e/7uaLV1555R8eefTFp5zc8TuUEFMYFIhKUp1KwfjY1m1rzzzzxRe9/8H7H7jjjjv6y5V77rzr17f+6h3v/afnLVk8MTH2gx/8d7GQa9UmGepyPqfi6IilS/7Xu965aOHhcejfeuuvxjZvzhsWUdJvdd71wQ9V+ga+////929/c/eZr/nb0eHhdrdLKVAGjVZ9oL9vwcKFvx3f+cpXnPat//zGSSe9OJfLjY+Pn3baaXfeeadrOzJJkyj2Ol1HmHEcB+1ufWwi9YL77r5nbPPWd196yfz58+/41e3j4+MD5eqTj28Y277jjDPOWPG+f37woYcefOh3J510kus4BhcUSG1yfLCv+r4Pf3DZ8uWbt23/9ne+s2rlStCqMVkLfU8mKTU4pwwJlaARUSnF6KG1NK+UMjM/cM7TKHYc5yWnnHrsxR943qLF27dvv/rqq7/w2c+9853vvPnWW+68887P//sXoihyLIsgaMDB/oEoibds2tw/OCCTtJJz/a4Xh6GWigleKpXDMBwcGIjjuNVsMs7tnJumqdSqUql0fT/rQJbL/SxJSfsX13au/eE1P/nR9d+64WcMSBBHGx57PL9sWbfVrpTKtmF2A19QRgWvjU9877vfJYS89a1vrRRK27dvNyhP4sRvdxcsWCClbLfbSZI4jmOappIKtLa4oaQCQkq5gsWNyVqTyKnVmRu1OhKwHJsyliYJMYllWcncPWhZyDwjpNFolArFRQsWDlX7H3300UqlMjAw0Gg0fv/g71a8YJVj2X7XMwzjc1d+9pSTTj7hhBPqYxN333332rVrR0ZGwjAcE2bQ7pZzBUQkUvutjmma84bmYSqllL7vG0K4jtNuNH/1q1/dePNNn7ziU5TMrZzlXpFSUsEBICt5rZQa37Hz1ltvveJTnzriiCMmJiZuv/32Hdu3LzLNUr7gtzqu41iW1Wg0MsleqVRM0+y2O1rrvJvbuXNnX1/fww8/7D755KpVqwRlw4NDO7dtXzAyOn94pODmgjiKEYrFYhiGB7LO09zoqaIePQ4CUkrOOaGm0hgEAcFECFEsFoVlFsul4ZGRm3/5y6VLlw4MDo5PTDz8yCNr166tVCrdbveUk05+Yv2GOAiDrscpe/Nb3mJYZpIkrutWq9VSpewHge2YcRwvXHTYC194FABEUXTYYYcNzRtsdtrcYFLKXC7HBDdsK9Uqkenzli07+eSTgyBYtGjRhg0btm3ZGgXhS089df7IvEajVijk+vuriCqXz3e9dl+13G41arXGj6+7duKpzVCvAdDyBe86YvnzlZSvO+uskdHRNFVHLH++YTupTDZtenJgYKDtdYrFYilfSOIoTOJWp23nXAW4fuMG13b6+vpyuVzecU0uJsfGq6WywXgcRmEYVssVncpyoRj5wdpXvuqwoWFIFUqlUxkGXj7nvOjoF65Zs4Zz/rwlix9b/7hpmm2vOza+w3bMBfNHHt2x42tXXeVt2QxxAoRMvPzlx51wPCegUglaMRA6S2UmhGSJPIcYqVaIKKU0DINS6nneE088sWbNmm63u3DBgne8/e1f/OIXAfH8t77tFS8/zW91CGdxHA0NDE7UJhu1et9AfzidjxYFYW1icmh4nmB8fHIib7sqlfXJWv/ggNa663mmtgkhWeDLbt149mzt/QVBqNdq6//w2AcvvdRgfOmSJes3bDj1lFOiOB4dGWk3moJQwzSVxjgIq5XKuee8gVJKEYjGwb7+0PNzudzovOGd27abpplzXZ4vJEmSRjGlNAt8LuRyExMT1UolDkLLNGWaDg0NNZrNkaF5Y5MTtm3nCoWxiXHf93OUIuLeCiM+G7Zt1xqNSqnkWLbX6YZheNxxx/1h3boTjj/e63Y5Yw888MDRRx/90CMPVyoVSukH/vki13W11oHvC85dx4mjSEkZhWHOdVHrJEnSNM3Ex86t21Bp0zQ55wKojBPXcU4//fSTTz1lf50CRBScpyRRShFEzrnWetu2bUceeaQljPnDI6999Wts2yacKaUYpURjq96gAKV8wTGtsbGxwcX9jcnayMhIu92ulso6lUkYNWv1Y160mlLqe14+lysXipSQdqvl+X6hXArDcJc+HGx5dMg9BXr0+Otjz9s8C2RhjBFCOOfcNBRgp+trwEa3/Yozz9iyc3uj26416qZtmbYVxbEfBLZtJ0qGYdhsNguFQqFULJZLpWolSmKgpNFqTTbqhVLR833DNMfrNW6bdj4HlGhG/ChEACBEAmrEsfFxhdrN51rdDjG4H0dSayZ4GEembSnUQKmTz/UPDkittu3YatqWH/m5QqHZbtiuc+utvzzuxBM+f/VXP3L110564zmlUikIvEIhNzY2xhhjjPm+32o0c7mcY9la62Kx2Gg04jgKwtAL/HkjI6nCNccdOzYxcfc9vzn22GM55/VWExHL5XIURYxQIUSaJF6322404yCcHBsf7Ot3TEvGCQNiCUNLFcdxFmcThmGappTSZqdt23Z/f38URZuf2nT9tdf83ZvO/eR/fOXT3/n2spe9TKt0+9Ztjm0aQnDOKRCtdeaYoEAEO+RmiVpry7YppUmSUEqLxaIQwnVdx7Z93xdCdDod0zT/61vf+t53v8sovevXd5x70skvWbHiDS97+RvWrv3Vrbfdd999r1r5glcfc8zaVUedf955v//dQ48//vh733PhK9ased0JJ3ziE5/YuH5DuVwWQsg4AQAhRJZduJfOkD/HG2tyYuLII48s5PPbt28v5PNCiCgMt2zZ8h9f/vKr1659xapVn/nMZyzTbLVaP/j+9397zz2AePddd330Ix95zz/+40uf//y/edGL7r/vvnwul8TxNT/84StPO+3M1asv+cAH1j/+eCGf//H1159z5pl/c8SK1776NRsfX28JY2z7jss+8YkXL1lyzqkvufLfPrN182bBuGNapmHsqQ7/KO12u1wuB57faDRM07Rt+/DFi8fHx6WUURTVajUl5ejoaF+5kiRJ0PWuvPLKR3//8Je/+KUPnP+/vvmpK17zspefdupLJnaOUYQnN2x89zve+epjjzv7rNfd8avbKcLE2Pg//+//feYpp7xyzZpPfPzjO7ZtJxp/c/fd/98VnybT6YF/CpoApTSzFWWlImzbLhQKhmF86rLL77//ftM0S6VSrVYTlN19x51nn/W601/wgje96U0PP/zw1q1bN2/e/MlPfnLjxo35fH7Tpk2XXnrppk2bLrzwwi989KNfv+yytSee+IZzzsmy/K699tqzz3rd2mOOueiii7Zv2cqnDbSHiBw5RLrRo8dfJzMzbDqdgZyhtaaUBlHIBI/TJPPiB1GoObXyhQRgzYkn/s8vfkEsCw1jwdKld95770SjqYD89v4H2mHYPzKCjMdKGo69dWys2F9NCQYq2TK2o+F3JWMRInABXPhJRA2hCcRSMsvwk8h0nW4SMcdCwbwoHJg35IUBt81YS02JImC6jlss3HnP3RuefMKPow2bN4dKBVKCYaSEgDBijWAY3HEkY49v2nTvQw+1w9Atl4MkLZWrUZQA0mKxmCU35XK5MAyjKCoWiwrQch2pdavTVqgPX7LswYd+P1lvDo/MT6XmwlRIgHINtN5sJVJ1veDnN/y8VOkjTAwOzvvpT38aR5FM0y1btkgpDcMyDTtOE4k6TtXg0HDH90zbSqWuN1qFYpky4eRzlmNzzh9e9+iOnTsNy8yOeZqmQRAwwTMFIITQWmd5WIcUaZqmaeq6brfb5ZxnoR5pmgJAHMff+MY3Fi1alCRJtVoFgCiKjjvuuBsf+v31d9x58Scu+9s3nrtk8eGnv+zlP/7tvTc+8OB7Lrv8dWefc8Sy5f2V6oc/+KHrbr3tJ/f8duURKx599NGxsTHLsjjnSinDMPxp95kG0NNLiv55aq6Pj48PDQ3V6/UszEspJaW0bbvVah199NHXKSwgwQAAIABJREFUXHfd92+7bfPmzRMTE4VCIUmSbPU0rfXExMTb3/72G+6//+Of//ydd96ptX7iiSc2b978ne9977q77z733HNvvPHGer1+2y9v+d4Pr7nu13d8+UtXLVuyVCl14403Hnvssdfeddf/3HsvKr3h8fVZFYw0ilUy50XZTNMMw5AxVigUOp0O59xxnJUrVz7wwAOGYdx1113HHHOM4ziTk5NCCMZYlun2nve857IvfelN73vfz2655ee/+MXw8DDnfMuWLeedd95NDz54ySWX3HbbbXEc9/f3v//977/pzrtu+M1vli5dum7duuzqpZQKIeI4juM4l8v5vq+1to29JxI+O1prpVRWDUQIkaZpuVz+5Cc/WSqVLnrf+04+7rg77rijVCpt3Ljxq1/96mWXXfbzBx+8/LLLvvTFLzbq9WKhkMRxEse2ZTm2rZUSnF/5mc9c+q//+p7LLrvxnnuuvvrq7Pgopa666qqf3Xff0qVLH3744Syy+9DhkJsb9ejxVwbZ21qwhmHozEQPgIie5zGqRhcu8KIQBBs6bLThdcAym3431erYE47fun3bFy+9GKKYr1x53t/9fb5cqtfrhuuCIYbmj2wfHzcMceyJJ33ji1/47Te+NfDSUy644AI773bj0MQ8o2DkczHoBFHYjiIoAfoG+pHxerulU+2WCp0gzFdKjclGkMbdKDpi1cpH16//8sc/DjKmz1s8PDyqCDR9v9hXiQGYZSx/wQuu/dpXrv38F/IrV4wuXkwtY9OOHcJ1/SRiwoySOAhj23Xy+fwPr7n2iU1PveUtb0mShBBggjtOrtTXn0itEBjng/OGkNNYyWKl7MWhQn3KS0794hf+/Z7vfIctW7bsyBXjkxN+GLzkb/7mm9/85sVvOJcuXmg67pErVzY77ZbfFY7FLRu4fGLzJsO2uDA5kFyxsHXH9hVLlhzxglWf+/CHwTAOP+a4WEtCeXWgP1WYLxSo4IioEZGA1hoofQ62gQNN5jZtt9u5XC6KItM0d+7c+a5zz4WuB4ax+rTTLr744vnz5//s5z8Po6hcqVBKu93uhg0bHn300fPPPz+L5PU87+6773788cff//73dzqdJEl+9KMf/eoHPwBEcHKvOvfc17zmNWEctdrtXLEgTMMwjHDuITX7Bcdx6o1GpVIBQrxu13YcrZTn+0uWLDn2uOMQMV8oLFu2LE6SVqtlWVZWN8uyrKOOOmrVqlWU0r6+Ptd1gyC47777brjmmhuuvhpcF3y/tHz5m9/85tHR0XPPOmvV6jWvf/3rHcfhnN94442bH3rocwQgScA0pVZHHLkijZOBgYGxifG59t8wjNj3EcAAcF2XMWZa1tKlS2+77bYzzjhj3bp1Z59zTpqm5b6q53mGYeRyOdd1M1lDKTUMI4skS9P0xBNPPPXUUymlS5Ysuffee03TrNVq11577S3XXQdpCqb5xne8o1araa0ziV8sFqWUzXp9sH+g43Vrtdr8+fMb7da+d54iUEbjIBSM27at4iQIAoMw13XPOfeNF1988bp16y688MLPf/7zj21Yf/TqF608alUYhkuXLj3++ON37NiRFUurVqu+78dxnM/n4zhGxHa7bds2pbRardbr9fkLF4wMzSuUS0KI1atXm47tBb5t2zDHZX4PHD1V1KPHAWS3smMz4DSEENM0kzi1bXv1sccMzZvf8DzmB4uWLH3v+98PANx1N27desbfvvbUl728v79/586dOdup1WojCxe+8by/37jpqcOXLzfz0uu0n7d82SWfvLzdbM6fP18pdeyJJ81fuDgMQyLEmuOO55xTU6RpqmNJKVux8gWVcpVxajDjlcU8cJ4ilPr6zn7T39mm7afJm//hH9qvP0trqUEphXbeNTW87JWvYkx4SbL6+BOed8Ry185RCs1mO5dzCoWSU62UytUkSZSG408+GQDane5jjz126t+81HEcqRTnnDB62IKF+XLRdnOmaV/4T/87DkLDNAkhr37Na6vVapqmxWrfJR/+sOM4ljCazSanzDTN8fHxV5/1t8+/9JL16x+75977ipWKWyy98Jhj59dr3LQSFSxbceTAyGisFBD6tn84v1KpqDhefcIJxxx/nJSSmxZjLE5ky/PPf8c7/SjkwkiU1FoDgNaaUMUFBXWIPJmnGN+xs39oEE2LEBJ2vTAMFy9efP75569Y/nzbtjO/Yb3RKJRLk416mMRxED7++OPXX3/9v/zLvxBCduzYIaUMgmDdunXvfe97GWOe591+++2VSuXau+4SQvzsZ/+zfv36RqMhTGN4eHjL9m226ziOs2dP/gy+MyRQ6asKy3z4kUcWHr64UCh0fA+lcvK5eqOxZPkyr93xwiBJU2GZpXK53mgMzZsHhIRR5LhusVRqNBrlSkVpXSgWW+32O9/3vjPOOCMrPjR//vwdO3Zc+E/vO/uNb3jwvvv//UtfXLt27emnn16tVj9y7bUjh81P0tSyLEVBatVotdavXz86OrpbyMsfHwIiInIhpFZASRAESqlly5f/5Kc//fFPfoIARx111C9/+csgCAqFQrfb9X2/43utbocZIlGyG/iU0nK57BbyVPBu4Lfb7VK1YthWq9u5/vrrFx9++Pk33FAoFO68887f/e53g4OD5e3bMtteEASZjQcRDS7Qsrdv327n3Dn137btltdFpQkhKk4syyrYbpIko6Ojm7dtrQ70X3zpJY9v3OAHAeM8CEPbtpvNZiqlRnRzOUKpVIoxZtm20jpJU9Oy+vr7G41Gs9WyLMu0rFq9vmDBAttxNGKUJpPb6ieefFJm/syYvd7cQaHnQevR48CypxGeIEgps7girXWmFQhjo6OjURKnSlm2ww2RLxSFaXSDoNrfN1araUp2TExIwHYUlocGumGYaD0wMtJstYBRw3XHJieFaY0etnB8cjKIkpEFC4VpxFJ6cdw/NGi6Tio14walDIBW+weoMKTGOJWVal+l2p9KVWu0TMeJlZYAiVQTjYbp5oTpMmHWm10viMr9Q4VK1cgV656nmOHFiRdLp1hiluvFCbPsersdK6UI88Og5Xdb3c7hS5ccuXKlRpRaSa2SJDEss6/aH0YpUpoiMtMI0zSSqZ3Pd0K/3m4jp4RzLwyavsdMQzHajcM/bNjw5U996r2vfvUXP/7xRqc9f/FCFCLSmprWZKcVatnsdoVth2kSK+0U8h0vCJLESxLJBHHcpu9rIYhpWoVCitpwHE0glRLJVMG6zBdzMC6QZ2Px4sVPPvlks9lUSgkhCoVCGEeHHXaYJlBvNZkhLNeJ0oRyZlgmEugG/u233/6hD30oC2TJ5/NBEHz7298+++yzoyjqdDojIyObN29esWJFHMf1ev03v/mNZVmVYkkw3mw0hoaG0jgJguBgjXdoeN7KVS/4t89eOVmv1VvN8cmJex+4n3JGOHty01N+FFb7+4DRRquZKGnnXG4aUZporb0wCIIAKWGM+VHY7XaPO/GEG264Yf0TG8MwJJxdccUVSZLcdPPNhNKXnX7aBe/5x/VPbMzn88Vi8atf/Wqn05FpumnTpuuv+1Ehl18wf35/tfocqjgGQcAYM21bShklcapkN/Dz+fz8+fNvvPHGNWvWNNqtfKkYRGG72ylVyhqxXKnYth3FcbPZjOI4TdPxiQkppR8EpmkODA52Op16FqWUc4vl0sDQoB8Gt93+Kzefm2zUwyjKl4qEkGKxGMaREKLVakVRNDAwUCqV5tp/z/MAwLZt0zSzAP+H1z161VVXbd6yZf5hh+0cG/vmt77FhXjZ6af95t7fPrVlczfwW63W448/Xq1W8/n8xMREt9uVUl5zzTXr1q2bN2+e53mbNm3asGFDVq4pUdKwLW6ZqVZBHFmObbsO5eygR1jPpmcr6tHjzwTF6TUqAbIaKkyQWKaCTDvROObylShp1lttbDby+aJpO54XMKnyxZIpeK3WqFbLUZQwLuqNtpNzOTNSGQV+ZJi8WCwHYdBudRgXGkFGie8FpmkrwHar2/W9vr4+lUqKVCkklMRxrLXUGtKU7+xMFov5gaF5Wssw8hzHTaTuHxiqN9q2bRJCy5WqUqrr+YwxpZRbKDDG0jSVUqaIzVaTEFKt9vtxq5gvmBoajZplu6Vy9fRXvCqRijFGCNMaUq1RKs653+1SwQM/cCzTyuUBdBrLIEmcQtFyLa8b5Ir5TtujqA3TkpFac+KJx5x0gmOZWbiGsEwvSYAQp1SM0sRxnFarI6XMlUqccM/rKI35fN62qmNjO6vVqs1Yw/d9P5g3PAyISKhUGhEpY4QSBMym+Qf5EtmDjRs3Ll682GC8VqvZwsi8aX4Y2K5TKBWjKPLDoFAoIKONTpsJ/ulPf/qxm3/5i2uuAc+DSuVjV1zx05/+9LfXX3/7D38InEMcX/b1r7/tbW9717ve1d240Vm0aPUL1xiG0Ww2N23dcumHPviFq760atWqJ5560pxV0HKqdtGfZbyNRuO1rzvLNM23rz0DHJf391180ft3jo8VyyXCqOXYW7dvA0qq/X1xmjDBuSEarWa+VCyWS34USq3anXa1vw8pWbp82avOXHvRW98CcQLD8857y1up4Nt27rjiw/8vSAWFwmc++9lCuXT+O97+sY997OyTTwbDyC1Y8PHLL5sYG//q1V9rt9sfuPSSbD2PfUQTkEobhkACiZSWYRx++OGWZSVKrj72mNt+ffuS5csQsdlsZtV6tm7dygwxUa8deeSRzz9yxec+97lzTz9t3oojP/HJy4MwLFbKURy7hbzn++W+KhfiRatXf+QjH/m3Sy+BavW155zT9X1hGMwQSZLk8/nJycl/+fjHTjzxxFe96lWWZdUmJtrdbqFantPxp5SikpkNm3POGEPEKE3Oe/WZwBgwdt57/vH0ta+qNxt//9bz3nfBu2CyTkZH3/3ud694wco4jo878YTzXncWABz14hcvWLxoslFftGjRa8567ete97obv/mNw44//srPfVahHp+cWHX0UYjoh4FCnUi5p4X2Tw8ef86QdY8+tOz5yykxFGogFKeEkgbUoCVQQwPVBBKAFODMN77XJ+WUPJcwrh49/q+DaKK14IYKCecGqgh59N/f++h3/ue2SCfccWJtJBJNZgIkMvU0Sg3CsJ1sJZAsjDQIAsuyZJw4jiOlzCKCsyrMlBtKoWlbURAGgedYlm2bBIEQzBYYiqLEsMwkkUBpkshcLhd0Pc6mKvoTQrLqvQq1azuNRiMzmWShx51OZ3h4GACiKKrX6+Vy2bStIAhs207TdKJW6+vrI4RkW/LFQhxGjUYjC+ngnNumKYRoNuvlcrnb7dq2zRhLtQIAJdEwDC/wHcfhlAWhp5IUALKgCtd1a7VapVJRSiVJYlkWQciGQwhJ4lDGienYjPOu7yEltuukCpMkKRQKcZymUUwIsQwzmzQD0aZtJLGMo2D58iMajVq73bUsC7IF2wnJ0gAzPxoh5EDnn1NNkWgArbKEcgANjAIQzalWpiagYwv0ua986e82Pq5UbDl2s9M2GO+rVLdu3jw4OCiTNLsAxibGh4eHU6WazWa1vw8R281W3nYE0CAIcrkcIkZRJISQUhJCwjDs7++XUmbLsMybN6/T6XAqTNNstlvXXv+jfLHw8le+IkmSfLEQz/JoTPX8OY1XEw3TOQds1lJWL1p65O+e+AMSSJUSQsRpQgUnGrNPTSGQkPGdOw9buDCNYyZEp9WyXVcmiZvP1ycnS5VKs143DAMRs1VQtmzbuuTw54VxFAWhHwb91T4/DOIwcvM5gqBQx2FkWCZozKT8/JHR7du3R36waOHCbCmVycnJoXnz2u12EEef/vSn//68Nx9x5IooivTevDkUiJTSFoaUcs2SFfc/9ghnTAIqRjQjoLSUslIqr3/ssdHhEdAIANldkCvk0zTteN18Pk8plUkqpUSl3XyuPlkbnDfUabWFaaDSYRwJxrkhbNMan5w4bHR+o9HI8sKKuXyt2WCMmabpeV4cx8I0du7c+bWvX/2Od7xjwYIF3W7XcRw3n29029nxz9ZBg+kCVBoQGFVKCcogkRYTL3ze8t+t/wMvurVWEzQKIRiCaZqM0GweUiyXut2uBux2u/NGRjzPKxaLkzvH+qt9nufZtp058jKjpm3bExMTuVxupmo8ISRVMktuzWZWWcaJbdvdbnevaY8UgKJGgIRl6wNSqsHQU5dQSpSkQBkYUpupevGyVQKQ7o/10HoetB7/h707D5OsLA+Gfz/bWWuv6m1WmGHYdyagr0kUMSryYiIqYjTGIAqv5g0Sg4mgBMQomhgkn4lgFNEIEjFuwS+CUaKIiohMXMI6DDPTPUt3137WZ/3+ON1NDzPA9MjA8F3P76rrvnp6qqtOVVf1uet+ltt6DlBKsyybGz5DqNhZ33VdxhhFNB7EaZRmccZT7jEPGxyG5cEgUso4jheUKoMokRqKnUtmp2ewgRXLlhUdhdI4iQZxluQAmBCWpnma5IQw3w+i/sChjBHHoa7IpZYmS/I85YPucHLLlJLGcwOtgGDme2G91oyjdNCPjEat5iijbhJnWcqHcaoBL1u2QmsATMJyJU6zyW07Mi5qjaZQ2g9LlVpdat0bDFw/RIR5QSnJOJc6SzkCkuY84wIhkmU8SmLKXNcPqeMx15caXD8cGZvoD2OhDPX8TCqBkFep5Mb0k6hUrXmlskZYIuSXK25YEgaE1F5YEtpog/xyxQ/LUhtloFytVJotFoS10VG/Wn1g46PdOC7V6qngEgwmBBOijdFaYgwYgzEHXCM0znno+SLneZ5XKpVOp6PBKKMznlerVal1UUHpDvrDJPbDwHXd6fasFwZRmmSCI0q4kogSN/CFVoiSlOdJni1buaI3HBSnomI/6yiKXvSiF2mtwzBcmORhFi3F1/t/MqxG4AV+fzhQxiCCq/V6kqUz7fZspw0YazBCqR3TO5nrAkbUcTCl1HFyIZIsdX2/0+t2+/1c8NHx8f5wIJRyfS/Nc8BIAziem3Ge8bzebDDX2TG9kxDSHB3JOedCRFFUKpWGw2GWZRs3bjzhhBNWrFhRDCctCSLYAORSOI6jlFqxYkUQBIARpmRsYpxLUewI1Wg0AKDb7VKHFb9BwMgPgyRLEcHK6KIeRh2W8TxOk3K1sm3HdsIocx1E8ObJrULJ3qAvteJSjE2MF5Oa169fv27dumIhIcZ4ZmZmqcdfNFZzXdd13WJ/jSiJXd9zPHdqasoPA0RIWC63ux0uxbZt24qVgHmed7vdoouc7/uO4/T7/TAMHccpl8vGmOIDjzEmKJWY6yijldFCSUzJ3MM/kNisyLL2G1O0psYGGUBKo/kzi8G+H0qpQSuMkVQ8zbOMC6kMQgQAjDHF3xdCSPGBOE3Tool9MdZW7CE7PT1d1Egwxu12O8sy1/Udz/UCPwiCOI6TJAk8Pyz5PM2UkowxrZQQOUJIa0kpBdCUUuaQVqtFKOKcM4cAQK/fKdZpF6ujGWNJkmitR0ZGikqSlDJNU5HzosoS+n7RzaDoNlpsI0QICcNw+/btxZNRTN9xXZdihDH2XQ8AkAFKqRCCS+E4TsbzbrdbfJJGBBd7ERVtZTnntXpzEEfKaKFVUekxxihpPM8TORc5JwRJkXPOCUFKqWLm6cxMezAYlEvVIAh8L2SMMeZiA8UAARizUCh6jl4lT6V4+LVGfTgcYkrr9XqxdhoAmOv2h4NBHBGHEUoxIQajTq+7cvWqNM+KaUYZz5nrYEoG0bA50mq322meTUxMTM/OBEGQ5JnrexnP/VL4x3/8x81Wy3EcoeRTjCTqXS9Pe7Wl6sy2l08sU0pN79jZbDaH/UGlUqlWq9Rhw+HQD4Nms6mMbrfb5WqFS5HmGWGUaxWWS4hRPwwMwbOdNnUcSqkGIIRESYIQwpS6rut43myngykFjFzfI4xOt2eDcolrxXwvE9wLg/Un/9YZZ/7vcrVCCFnqQxBCgDHFarJeryeEyLKseGn1+/1qtdofDvww6A+HuRDVen2u4xhGaZoSRimlXuBzzgmj7XYbMKpWq1Irx3Gow6jDNJheNKw2617gN1rNOE0Io7OdNmB0zHHHnnbaaXEcF0vroyh6si6/T4Fz7vs+pTSNY6Gk63tFHmYQUM+NslQZzY0iDnMCPyiFwzgaxtHIyAh1GGMsTpPBYMClKJVKQsk8z/vDged53X5PCMFcZxhH3UEfUcI8t9gZK4qiLMuWepz7lZ1XZFn7kQGqEdZIGsQB5wYX1QiSJsJzA4XAqNxgTIBQ7AOAAZCSU4ql5ACAEHCeAQDGoJRQSgCAQ7HkGQCUQx/AgJYagBAEBGlQReN3ZIAwShjkIgMAQjFoifDcVr1c5o7HpBaAjVCcMJzxtMjHEIA0wgtcrnLizH1qSnlCXQIAcTJEAAhASx76LgBoKXzXATB5mngOA60cSrQUGLRDcZZE9WpZS+4yoiX3HJrGQ5cRrZXWimKEAfE8ZQQRSpNoUK2UsAGMsJYcIdBKO4wAGDDKc1meJRRhAHAIBQAlJQZwMQIpXIwAAJQEAAAMRoMx2mhQolEqAQCPIwcBKJlFQ4YAENZKAQBFGBAuTuAEDriV+cWWenGWOp6bpCkOQi6l4zhaa6kVxtgPgiRJPN9P09QY43hefzggjBZroBzPFcVzglGaZ0EpzHg+jCMv8LkUru91o15QDbM8RQylWUwYK5fD2dlZN/BhYQ7conSx2LgIz4+FLSQNnPNiYyrP86SUxXcYY0vKNLEBRghSGgOUw7DbbpfD0Bgz6PU9z/Ndr5j+XGwTOkxizCjBeJgmjLFMCt/z8jwPK+XhcKiMhvkHwBgrksvi+IvcAhHCteJceZVSqgT2nIhn2HMkgMwzoCTN86VubA0AnuN2+71Wq9XrdCuVCjImHkb1ej3jeS54mVUgx5kUwAh1XaU0GEMxUUIShMGA5MIgcF1XSul53sIYaPFkZpwjh4JROegojiqVCkemHIRKKS2V1LpY344BSS581zPGLHVAyXNco1SxWRQhxCBULI8AAORQQ7BSSiNAlEittNHFRrT94aBYS0EYdcEjjPb6/XK1ooTEGjKeO57rMkeDIYQEQVD8LoDglOcYF/uTP+5Zbr23O1srsqz9B+ticBxrjRWABihO24AMQlA0SFOAtEYaDC1G0pd4F3v+WL7bTIi5qxmkDYInRIC5OH87evGPPPUFP8nlaZ6X+Z+F+Ukne4y7X3a5kT1dARvAoB+PBogB8mTXfK7//j4tzjkXghDCPNfzPGV0MTiSZVlRUIzjuJgaVS6XEUIGgUKgYZeoARzP41IKo3MhJBihVJpnueDVei0XnLmO67pBEGCMu+2O7/uLn5nFL6ViL8fdd3QMXK+YlFYkZ0UdDi9lqnKhUqmkaWqUhvnJc1LKsbExmH9JLz4AA3NrOYuZYVmeFweAENJPt+1kMTj4tJclwQa0lNVq1aEMIdTrdIwxlUpl586dvusV+x0UGW0xjiaN1rsdCez2JoRFb+8kSYwxQkrP9wEhQsggjvI8f6bWcJn50imlFDDWWiujpZRcSaW11hoRXPxeio5vxeJZwiimFFPCpQSMkiwbXzYhtU6ylDAWlEKp9TCO4vltDha/wQ9ANiuyLMs6QHnMIRiD0iLLJRdJFGOAPE1XLFuWxkmeZr7jlkqlbdu2zc7OMsaKbMDsGg0CTIkymjCKCC56yDie54dhnudZkmqpkiQpJvjnee45Lto1a0TzudFCNrnwgb74p1EalPaduf1yitrMPgxKDuN4GEeEUcIYdRwNMIiibr9XPBaNwMBcLO6fEhIGges4DmME49Dzi8NYfPD7nOXsgziOsyQVeT4xNhZ4vsi5y5x6vb5161bf94tFDA5l9UrVSEUAzc993uVSfHOPsRKWiv5oBGOtlEuZQ2ilVF5cX/lNHmmRyAqlik9txZQgQgjDxHUcMAYZwIC0VMgAwRgAivleymhljFCSMGYQbNy0iTrM9f1BNMyFcH0PU1pr1NH8i6eIe7w852xWZFmWdYCaG/cxJs9z13UbtVoYhgAwvWOn77q+6+ZpJnO+YvnykVYrnd9nSO9aVtEIBnEktFJguJJJnuVSCCVzwdM0rdVqnuc5lDFCHUqr5bLWumhQg3atq6FF30QwV4ErviM5RwYcyspByDDRSumlZ0UaQbVeqzebiJAoiYdxJJQcGRslDlsoDj0eEQCAzLnKeB4lOhdIamRAcvEcdm4ZGxsjhLTb7YVdp3fs2KGEPPLwIx57dBPP8tFWa9Drbd70WOD5RQqyxwLVk0UtlUgynQsepzoXkgvQJs/zfSgy71HRVaaY7VS89nzXQwhhQIHrYQMgFdbGCMkQdggtHoLUSmutwWCMEcG+76877NDJyUkNZmJiYhhHWZb5YbBz506YX3K/sPD+qeNzwmZFlmVZB6g8zwPXK4clyUU8HAohep0uQbhRqzuUDfsDz3EkF9hAGsVPMWKFCanWagYgCEOplNJageGch2EY+kGv0y3ua8e27S5zQOvipLWQGxUXooHMLR94fLF3cTWKiZZy2+SkUbpYMc4Yw0uvFfX7/enZmWEcVavVcrmcS+GFQbEWbKGIsJA6IACPMqrBCOlR5ruu5Dz0fQxo96rD046pPSNmdk4HntesNyQXzXpjYmycIuxSFvUHjVrdZU57Znb5xLLVK1c6lPa7vYUDe4rLAmRA5LnmohqWKkEYeJ7LmO+6aRzvXmIpyktLpYwuqkRF95tiav/MzunZ6WmQCilNDDiYEAMUUPG7BoKBYOa5iBIgeOu2qZTnm7Zsrjbqfimc6bQVGOKwKE3K5fLCi2pv4nNVN7KzrS3Lsg5EGKBWqcZJInJOKR1ttfrd3mXv/8D9990H7TYA1I466i/f91dHHXM0z/J4GK1evbrT6+7xpgxCCGDzY48dfPDBSkpGKVCqhUyi+F9v/NK/XHMNcA7GQKt1Hb2qAAAgAElEQVR54Xvf+6IXvchxnOKchBEgA2Y+6vltb4r8a+G85VDWG/R/9MO7XnzqS0qVSlguKULzPN+HqUXXXHPNz793B/S6AIAOPvjyyy9fv359yvPH04NFg3cuYaA0NchljhRycsvWww8/3GSpMUbD3DHDniZC7Se+72dZZpQutte65eZ//eIXv9i+/37A+GXnnPPOd76zUipHg2GSpY7jVMtlCeZp59Y8PlgJwAgzRjmICK0mH9vSarVqtVpOM1j0YH8TeZ4z38OLthTKkmTTxo0AUC1XEEIEY4aIAow15HmOHQYIQGvX86SQMuf3/vSe4447btWqVRhjAohhUqmVAKDf6VbHxnmSLjyiJ3RD2j0CADagnvW1oTYrsizLOkANBgPP8+qtSp7n3XYHANasWXPuH7/16KOPLj7HE4cZAIfS0Pe3T03t3sKsKBiINOtOz37vO/95zjnnGGNAaYyxUZpismr5inddcunLXvFy13W3bNmyatUqKFaYz1t8osJoD98EAAygpXrwwQd/9yUvlpzLotu80kvaGxob4EI2avW//dSnjjjqKKVUv99vtVo852RPqQMGyOMEG9BCyCzfuXPnj3/ww9UrV2V55vre3t/vM0gJ6XguYVgIcd/P7v3+979/0bvfffLJJ6dR/MUv3fTgAw+ceNJJX/ryvy5ftfLUU0/NeE6MeUJFZ/fna3H2oIWgCPe6XQD4wffu+O3f+R2POUVtbPHOUoV9SJI0GEyJkUIZrbUmhBilihceBkQwAaVBaWzAwSRXBmujjNZSEtfjXDCEH77/gWOPPMoIeckHPnDMMce84Q1viPsDQshYs8WTFM3Ps9bzcXfPefcPmxVZlmUdoMIwzLIsSZKi6EIQjgfDZcuWFVlLsUeUFwZCyUqpzLPcaAPF+Wb+1IIBDIKxZivuD7Zu3OQSWuw4VSwgUloOh0PHcYo8aWJiglLa6/UWtrrZ4yf4ha8X6hza6JIfGKVbjWbGcy1lsXO61npJdZrQ95PBsNVoGiGzJGnV6iCVyvke9z4mGpjjEoS14zLX4Wm2dcsWh1Dk+doYvOsQ0rMzGlOsaY+juNhajBDyWyeexNMMY/z2c98GAHme8zwfbbamt++oNurIPHE3iCcMGz1hMaCSulQta6lKlfLObdsxQmCMQ6gCA89EuYgQQinVWnPOpRBhGDLmIISQAd/3QekkixEAUtohlBLiO14muJQca8AaAj/M43Sk3nQJ++tLP9BqteI4po5HKZ2ZnpkYHVvYmmjxatNnrZK3l2xWZFmWdYByHKdYHUYprVQq3XbHdd00TSvlcqlUmpqaqlSrU1u2XnrZB9oPPABCnvTyV7zjHe84ePVB//WD73/4iisgS8FxPvh3fzc7O/sPl18OnJ/19W9Cs/GRT3xifHz8oIMOGg6HxGFaa2m0zHk8GDJMAte75557rrj8ctixI1i79qKLLnrhC1+otf7mt279zNVXg9bu6OhHP/yR5cuXl0ulO++882Mf+5jYuhVarebyZcPhMCiFeZ5Tx6EOK5Z57yVkQHExVm/2Z9qrxpcR1/AoabVaG+9/8PLLL29v2QJRdPRpp1188cXLly+/9dZbP3HVR6HThUbj41dfvW379o9f8j5A8INvfhMI/vvP37Bi1cpSpZILrrUGhIwxGGPYz63uXN9LspQ6DABGR0e73e773//+Cy64YPnEsuFwSAj5sz/7sy0/+9lNCKBUOvSkk66++urrrrvu1FNP/fKXv/zj22//x89/fqw18tGPfvSe734XAF7x+te/56I/j+O40+lcfPHFnUcfRbXaX1x88cknn/z6N5ydbt58+5duAq1//4ILzjv/HU84kn1Lj4pXV9FxqFwuK6WiOGKMYUA8zaZ37vzMZz6TDKMN37sDCHnd285961vf6nne5Pad57/13M4DD0AYguu+50//TKf5P/ztx1/1qlcdc8wx27Ztu/LKKzffcw9gfNSLX3zFh64sl8vf/va377vvvp/ec0/y6KMwMvI3f/ux4447bm5fAIw8zxsMBmEYwh46pO13NiuyLMs6EGmA3qBPGA38QAkxPT1dr9a2bt163hlnAAAwtvL446+++upSqfT+910yOjFe8oNbv/r1+3/161Xjy757+3f+/hPXHHrYYZzz2U772KOOPuXWb33hC1942zve3mg0kjQtl8tTW7Y2RlrtdvsLV199DcYQJzA+/sErrxwZGfmnf/qnj1x11RFHHPHrX//6k5/85MjISLvd/s63b/vnG28Cgic3b/nUpz710auu2rFjxyc/+cmrrrrqqKOPfuihh2756r8VC/LL1SrnvNvtBuXSkh6y4uLRhx/52pduhm4XAJpHHHH11VePNlsfvvJDIyMjRulvfetbjz74cOh49/7kp9f+82eOOPzwHTt2CCGOPuaY40884VOfvu59l1xiMBpEQ8dxiooaIaTYbodSCnr/NnUpGrOkcZLm2cSK5Zdccsm3br31bW9+M1D2qWuvbbSaH//4x7/73e+edNJJtWYjCAKHscD3P3H11S984Qv/8rbbfd///OdueMPrz/7Ape93GLv++ut/8sO7Tj755K/d8pWPXPmhgw46SCP44JVXHnrooV/72teuu+66M1595lFHHbVtfvv435wQQmhV7ClfLOUjhGit+/1BGIZSyo0bN77lTW/+0AevnJycvOGGG/I0y9Psg5dfcdGF7z755JM55zfccMPMzunDDz88GgwxoNAPHMou+av3HXnkkVmWffkrt/zozh+e9vLfwxhPTk5ecfnlp770pddee+2GDRvWrVtXrVYRwUKIPM+LLR6ek9E0mxVZlmUdoIpOUtsmp6rlcqPRiIfRmjVr3vnOd65etYoxViz/DoLg2muvffC+n8MwAqn/8F1/yrN82dj4+993yeFHHfniF7/4f595ZhiGd9/z01KpFIbh1NRUs9mcmZ5euXLlTKfdaDUv/NCVp5xySqVULnYXvOOOO0455ZTDDz+8Xq8fdthhL3jBC7Zv3z65desrX/nKiYkJjHE1LFXK5XvvvXfTpk3nn3/+2rVrlVIjIyNFD6wsyzLOGWPValUsMQsJwzAMw09/9vrVq1fXarXBYJDnudb6E9d/7se33Qa+D/3+6W9+83HHHjs+NnbB29529PHHn/nqV7/85S+P4xhjHIbhyMjI5smtrVZLGZ1xjggmhICCYu/E/T2Ohghud7sEoVqt1u12x8fHL7roore85S1bH9v8F++9+Jprrmk2m/1+f3Jycnz5MsYYRTgeDF/yO7977rnn9jpdnuV3/+QnN11zDSBU9JQVf3JuvVr7wX99/9bPfwGqVRj2IQxf85rXHLTm4G3bthX9f/bYoWWfR9OKgb8iGWKMEUwAoNFoJEkSBMGJJ57427/9247njoyNNhoN3/fv/dnPXn3mmSeecEISx81mc+eOHc1Gg+e557q+53U7nZUrVpx//vkP/fKXMBwCJWe9/e2B6xFAf/AHf7Bu3bqHH374qKOO+tHdPymVSmmeFU0hi34sSilssyLLsixrgTFmuj3rBX6j1ep1OrnguRSMMeY4SsparQYAt3zlKyeeeOL73n9pq1b/r9v/c2rL1pGx0Xe9612nn3765smtN9xww4MPPfS2t70NY9zudZvNptI6LJUoYztmpr3AT9O01WohhOI08Rw3juNGo/HwAw9SStvtdtHPK8/z6enp5cuXCyEcxylaZbVaLa118bGeUqoRFD3VS6WyMjrPcyMFcfYwH+gp5FIsW7nC8dwoiQGjYvLTTTfdeMQRR1x22WXbt2/ftGnTww89NDo6eu6555555pk/ufvur33j67/4xS/efv47NIIojh/a+MjI2KjUCiFU7HmtERBCtDFmKcN5+8b3fak1Y6xoWxbFieu6GOPVq1e/973vve+++974xjcaY8rlcqlUKlqohpXyqoMPQpQEpTCKohUrV1721399yNq1nU5npNFUSv36l79au3bt33/jG3GaOIFf7G8+iKM16w4JwnBq27aD1q4ZDofwTMxTJoQYKaBoC4gAIWTACCEwIGl0mmV5nnthkOU5V3IQDTnn2hghJXOcIAxzzkdGR+MkqTcaCONur7f2kEM+e/31p7zgBR/+yEcmJiZuuvlLs7Oz/X4/yTPP8+qNhhPHDz7ysOu6YbmUzMwooz2MAMB13aLBy7PP7ldkWZZ1gDIYua5LHLZ1ajIXolKrKqMxo1LKXr/PHCfL85mZmWXLlq1cufJXv/71T+6+W2i1acvmO3/8o/pI68TfWv/nF/9FpkRYq6w4aPWDGx+5576fawTtXrcXDzElueBBKWx3O41Wc3R8bBhHo+Njo+NjP7vv579+4H6/FN7z83u3bdt2zDHHnPayl33uhhumpqYA4Hvf+95jjz02Pj7u+/51110XRVG73d6+fXu/3+/1epxzrTXG2AufuCDuaR4sgmEcRVlqCPZKoULAfK/Y6mZi+bKM52G5dNt3bs85n5yaeuDBBxElr3396847/x3dfq9o3DYcDuv1+szMTLfbVUoVBQ+lFKWUUTrXfmu/0Qh2zswARhjjRx55ZNOmTXfdddcjjzxCKe33+9dee229Xo/jGDN654/uarfbfhB0e736SKsxOrJl25QwmrhOKvn1//L5zZNbq7Xa7d/9zx/d/RMv8HuD/g9+eKfQKk6TH/74R73hIOf8vg0b7rvvvhUrVvT7/cWH8Rvu6GiMkVwoIQGgaMyswcRp4vs+dR1CKcIYEAKEWmOjYa2y+uCD/uO2bz/0yMNCyZ/89O5HHt0YlktSK4Og6FQtlFy5etXYxPh9/73hF7/4hRCiMdLyfb9oI110jJ6dnS1m/Re9rtM8l1rvw7YOzwhbK7IsyzpARVHUGhkBY7Isa460tm7e0hv0g1JIXadY5dRsNs8666zzzz//43/53hUnnrR61SpESalaeeTRjVdcfhn0+9V16y6++GJhNDfq4HVr/+8fvQlc9++uu271wQcXPSiEEEKIbdu2tVotPwy01suWLbvwwgv/6j3vgelpd82aP7/w3dVqtdFonHPOOX/61rdCkvirVn3sYx9rNpuEkLPPPvuPzjwTXHfVUUeWKuVms1mpVPpJJLRCUi718dZazYRnuZYSmSSJSxikEGf/4Rvf8qY3Q7tdW7v2mGOOKdWrzfHR6//l87fffjvs2OGvWfOhK68MwtBPEua5Z550IoyPffqGG8JymToMBBhjirrR/vgFPcHExESUp4BQc2SkWq1+5jOf+X+uugrihI2N/Z93nP/yl7+81+utX7/+iiuu+MY///OJp5/+Nx+76uFNGxujrePXnzizc7parV78vr+67LLL/vCcN0C7PXLkUZdffvnaww79k7efd+WVV4p+D7Q6+ZWvPOjgg9etW/e6173uQx+84u/+4j2vOv8dF1xwwTNy/AghxlgxJOc4TjG1aGRkpD0zy1yHSxFn6fbpnYcccsjwsXhmdnbb9u0jE+Nn/P6r//SC84HzI045hVLai4bYYX65pDHKpDjr7Ne/4RWv+PBF75448cQjjzii2O/b930uBOfc8T1l9KqDVnMptNbM9wBj5jrKaCGER56DxAj9z6//+7AjDsfIUUYDwmYuUdJgNGgJ2NGANQIOIADOPOfCGNUFcp/9A7Ws5yGsDHIZEzxh1IDMgfCv3PjRG//jLoVAEiNxsQUtAQCiKCBtEOze6tX6/w2ssUEaQCtsAGkDoIFgAKQp1srVCHTugX7j6S/d8MiDSuVuOWx3O9VyRQohsnxibLzf7Rql0zgZHR2dnJys1+vGmDAMp6enq9Vq4Hr9Xs8PgiRJwkp5enq6VCl7nieUjNM0KIXVanXjY5uCIPB9P03TeqW6aeOja9asQQjFcUwp7bbbExMTs9Mz9Xo9HkbFPI9GozG5eUulUpmZmVm7dm2v16OUCs593+/1+77vG2MMRtOzM8tXr+oPBxqB4zhSqWJ762IBNlm0vP+kQ4/esPF+g0AoxRjLBceMGmOQNnmeFzWDaDDknC8bH3/sscdGRkaklFoqznmtUk3TFAA454QQz/OQNt1Bf3x8vNvvMcYAo36/X6pUACMpZdHNVGiFMUZ6aTOLiqPdfWQKA5JS+syRUv7WuqPufeBXlBAJZigyx/d4momcH7RqVbfdIQiD0lma+r5f9LINwzCKomarNdvtYM9hgSeyXErpUBZFUb1a7fV6MuO1Wo1hsnnz5kPXrcvzXErJOQ9LpWESO46Tpmm5XO4PB2EY+r4fx/HuB6kBFIbi+Ufz22/Od14zQLBSimECXHqEnXjI4Rseul9QhBgt7qtarUZRxAjpdDqU0lqtxhjjWV6tVqenp4vGt8YYzvn4+Pjk5GQYhjt27KjX6wv7YhtjkiTxfb9o+jvo9UcazTiKRkZGOp1OnCT1eh0z2h8O0jStNeqDwSAolZRS1GHGGJFzFyMDwAnWCAAw1uDouV+KQEpiwAQcqV2hfvew4xgYDM9A7mtH0CzLsg5QWZoGni+EKDaS2b59exiGUqtSpZzm2fiyCWU0pmQQDZsjLS5FbzhgvpeI3FA8SKKVB69WRqeCp4KH5VIm+ObJrbVazQBorSmlw+Fw+coVxchXsfan0Wp1Oh0/DOI0cX1Pg9Fguv2e43tA8MSK5dt27lBghFYJz+M8Y56rEWRKYEomli+TUmZZ5jhOEARq6bUihFAYhpTSTqdjEASlcNPmzaPj40mWIUIkGL9cyiQXRhmCgkqJ+e5sr0NDr9ZqTO7YFpZLwuiM80qthilRSmGMMcZcySIj2R+/o8UcysIwLJVKjUaj0+sZBIRRhaE5NprwvFyvYYelgg/TJEoTQ5BQcnZ2VkqplOJSOI4ziKJSqRRWy8x1Yp4tX7VyptvJlcyk8EphLgUiGDACjKjDCKMA0O52nqm1WkVxSGstpSx2LcIYj4+PL1++fDgcDgYDwui2Hdtd33McJ06TJEsNgo2bHlVGFy9IRHDxmonTBFNSqpSlVu1uBzAq16udfi8Iw53T01KpSr2W5Fmn12WuU2vUAcAPwyAIcsGLLHD3LUmfHXYEzbIs6wCFDS4qh0YaQhjx2TBOCXMlABgQXABlEgAxJ+ECKAMADgCUIQAC0OkNMHUMAkodIRRFtOSXQAEjjpEGAwaMhVCEOQv3mAvJXF8DIIK5NthxNYA2AI6TaQ2c0yBQAAqAhWExT0cBYMfNlQalDYJSqQIKkmHCqLukwic2wLO8Xq+naUoQBm20VOVqpdPrep7HpUAEcyk0AnCoABBKGAC3XummMQD4tcqQZxgjgimXwg18z2G9Xo8ZzRzHcJ5zTgl52g4b+wwb0FIaqSQXSinGmOP7QohcyUTyVAmJITdKCDGyfKLX6/m+D0qVXB8MUEzAAEaIUCqlzPM8CALqsDTLmOsggn0nyARHCGFKlNGO58ZpQhhTRjPXfaY2iWaMCSEQQkXrEs/zhFJCqTTPvSAAgFwI1/el1hgjBAQANEDxXwYgmd+kEQBc3xdKAQCmtPhBAHACL5Y58hgA5EoAxQ51pdYwPxE+iiLPmRuMEnn+nJRtbFZkWZZ1gEIGnrA4+RmpCjz1yeaZKjzgpQ8GVyqVPE1BawzgUKqMUUKOjY31+/3FOyAvJDZqrh8bYANgAM1vlOy6bhzHxphixZyQUmvtuq7ezxOuK5WKUrq4L2V0kqVCiGq1KqX0wyDjOXIoARPzzPU9qed6fBVP1OJYLpczzqUQzPcoxlGSEISo4+y+K+ZzNdy+b/f7vJgcYEfQLMuyrANCGsfxMGKEMsYcxwGAKIr63R4ygM3j7S8QzM0fwfPfX9xPFBswShNASBvHcaSUxXaOS9poe98Mh8M4jqWUAKClwoDyNJNciJy7zNFS+Y7rMkfmnGJSrDwvJvo8IRqEcsGl1hqM1BpTYp6tCeOWrRVZlmVZB4RaraaE1FoPe0PJBWA0PjoqtdZSFvOkF3+O12iuarSQIcH8/GglRDksCSEIJv1+nzjMYUwI4ZD9e8rzXY+4Tp6meZ4ThMJSiWLMGEPGCKUwQDQY5mmKKSV+UK/WkiyF+eLc4phkKcaYOk6WZZRS3/eFEIAR7N9SlwVga0WWZVnWAWLQ689Oz8TDqFqtlstlyUXoB0kUITO3DQ8yj1+IBmIAwePlIjJ/NYpJPBzO7NwJ2hBCisrTs1BrkVJKzpWQLmOVUnnY7+dp1u92XebEwyHFhGJcLVeWjY8nUdzrdABAoz1cECXFBQgGgqM0mW7P7nEPa+sZZ2tFlmVZ1oHimmuuufuOO4o+aGzNwZdffvn69evzPC+KQBjN9bIoop5fcD43v2g+bSAYP/zgQ5s3b375K18ReL4yWnFBnoll209N5LxolFEplaempt7//vdveugh2LkTAEZOOOGyyy477LDD8jSLBsMsSSeWL+vH0R4rE8XaeyMVRZgAeviRjVu3bn3JS15CMdnfD8GyWZFlWZZ1QJBSNmv1q//pU0ccfZRSqt/vt1otnvPFDczQopGyhanoi78JAKB0r9MtGsdSSqWUz86knNHR0TTP2u0257wUhIesWfuei/581apVruv2+/0gCJIoBqX9UlgtleNhRBDssf6jck4BgTZaa4JJb7Y9tXkL1saO7jwL7HNsWZZlHRB83x8Oh81mUwsZx3G9Xl9o3l5YnP0sHk0rLguTr40xtXKlWq44lOV5joxxHIeg/X6+m5qaIoRUq1XHcTDGw+GwVCoRQoqV9thAyQ8YY1mcOI5jpCIa8J4uWZSUvKDshyA1Q8RnLkPEc1x7wn4W2FqRZVmWdUCQUhqM+tGwOTpSLZUpoXmeG6lu/NLNN//DP4AxR5922jvf+c61a9emaXrlh//m3n//d6D0xa9//bsu+D8IoUq5/PGPf/z2f/s3iGOo1V519uuL2yyXy0ma+r7Ppdivxx+GIUIoz3PGGAAUjdgopUgbrbTred1u98Ybb/za9deDEIf9rxddeumlY2NjMzMzN9544398/vNAyKmve9273/3umh8m3f511133/954Y9F07Kw/+RMkta1jPAvsc2xZlmUdEBBCnPP/+6Y3nXH88a849tjXvva1nU7njjvu+OEPf3jbffd94bbb1q9f/7nPfW4wGHz6058ea4184yd33/Sf/2mkuv766z3XveWWW6ampr506613PPDARZdcUqlUCCGlUglTmud5HMf7+/gJIVNTU6VSyXEcpdT09PS5r33tK44++lUnnHDeeec99thjGzZsmJyc/OxXv3rn/9x/8sknX/epa/M0+8bXvs6z/Kbbv/OtH/1YcnH9Zz6LAd3+7dsGvf4tt3/nm//1/Ss/cU2lVM6zDNn51vufzYosy7KsA4LUirnONTd+8QebHv3Boxtv+teba83Gf//qlxdeeOFwOBwdHX3Zy16W5/mOHTuSOH7pS1+a53nJD97yR3+UxPFwONy2bdull14ahuFwOKxWq4SQor+bECIIAj/c/x0kMDp47Zr+cFB0vVi77pDP3HLLtzZs+Prdd3/2s5898sgjv/71r7/m1b8/PjK6c+fOM844YzAYdNrt7du2vekP/7DZaAS+//bzzpudmYmj6L83bPiTt751Ynzcc93A97udTq1c2e/Hb9msyLIsyzpABEHAGKtUKu12e2r7NmOM1jpJkqIrVhzHjuNkWWaMmZmZGR0ZqVQqGOPiOhjjmZmZwWCAMTbGeGEghNBgmOv6YUAYjaJofx//YDCYmpoqOu9yzqWUw+EwCIJKpZIkyWAwKJppFBUsSinG2ADMtttciLBUiuJ4MBx2ez2pFMJ41erVm7dsEVIagGqtJs3zYmvo5z2bFVmWZVkHhChJBtEQU0IdxlynaE/7gv/1wk99+rooTZjnfvnfvlKpVNasWXPsccd99vrrjTGdTueLX/ziyMhIuVw+7rjjvvrVrzLGoiianZ3t9Xppmiql2u12lmWVem1/H39rdKRcrWoAwLhar+WCU4d1+70kz9zAp4y99LTTPnvD57qDPiHk5ptvbo60ytXKietP+uat/7556xap1bdvv+24E44vVcrLViz/6N9+rN5s+GFw/4MPzLRnh1H0TDVjsZ6CzYosy7KsA0JRKEqSBCFUdGXPsuz0009fv3792S960atf8pJf/vKX73rXuwghp556qjHm9OOPf8vZZyOEzjvvvCAITjjhhEcfffQVxx33prPOuvnmm13fC4KgXC5jRhWYxWvZ9geNYHLbNsdzu90uIQRjjBCamJjAGANAkZydccYZq1ateuOrXvV7xx330MZHXnfOG2qt5u+/9qyE5286/ZWvedlp0532H7zutRqjV5/1mvsffuhVv/eylx57zB13/mDFQasd39uvx28V0P/8+r8PO+JwjBxlNCBs5palaTAatATsaMAaAQcQAGeec2GM6gK5z/VhW9bzAlYGuYwJnjBqQOZA+Fdu/OiN/3GXQiCJkbjofEQAgCgKSBsEz5MWita+wBobpAG0wgaQNgAaCAZAmmKtXI1A5x7oN57+0g2PPKhUjjF9XpcHNNIw34uDLFpUf9KhR2/YeL9BIJRijOWCY0aNMQ6hDmUzMzPlclkpFUXRIWvWTE5O+q7num48jIwxSqlqtUoRFkIwxrZv395qtQghaZK4rlut1SYnJ33fd3xPKCmMTvPMCwMAyPOcLXEXxOJod/8VYEBSSp85UsrfWnfUvQ/8ihIiwdDA60aDaqnc7/eb9cb09LTLWLVaTaK4HJbSKE7TdNXKld1uVwhBKPVLYW/QHwwGK1euTJKk1+uNjY2laSqlLAbaut3uyMhInufdbrc50srzfO//Ohg01yt3YeNvmG+1psEAwUophglw6RF24iGHb3jofk5AHTCvNwyAjTYAnGCNAABjDY6e+6UIpCQGTMCR2hXqdw87joHBz8RGnXZlvmVZlnVASNNUMlmtVoUQnucFQfDQI4+MjYykacrAoQ6TUtZr1eFwqJg6zBUAACAASURBVKXyPC8eDkbGx+I49jwPKInzLG/PemFAHNYfDqjDuJRFg1ilFKUU9P5dxDUYDKqVcrEyP4qikZGRLEmiKCKEpHkGBHthMDM7a4yRSoXVSrvbKVcrru8lWSqUbI2ORElMCEEEI4IzngNGGkySpfVmI45jTO0pe7+zT7FlWZZ1QCi2+ZFaIYJzwQGgWq/lQmBKM84BAWI0ylLEKGFUgMGek0iOXJYbBQQhwhSAAiMEJ65jAKjDoGiUhsn+TomwAc9xeJYjgKI1R5qmgBCm1BTlGQwAyBAEAMQhUZY4npvmefHjiJCMc0SInv8aAFzfj5KEMFY8Cfv1+K2CfZYty7KsA9fzegxxgR0Xf76ws60ty7Isy7IAbFZkWZZlWZZVsFmRZVmWZVkWgM2KLMuyLMuyCjYrsizLsizLArBZkWVZlmVZVsFmRZZlWZZlWQA2K7Isy7IsyyrYrMiyLMuyLAvAZkWWZVmWZVkFmxVZlmVZlmUB2KzIsizLsiyrYLMiy7Isy7IsAJsVWZZlWZZlFWxWZFmWZVmWBWCzIsuyLMuyrILNiizLsizLsgBsVmRZlmVZllWwWZFlWZZlWRaAzYosy7Isy7IKNiuyLMuyLMsCsFmRZVmWZVlWwWZFlmVZlmVZADYrsizLsizLKtisyLIsy7IsC8BmRZZlWZZlWQWbFVmWZVmWZQHYrMiyLMuyLKtgsyLLsizLsiyAuazILIpL+kEbbbTxaSIAaAANAAAGFqBFX8O+vQcty7KsZxhd9Ld7byGDn+szjY02Pg+iQRqQBkAABpCCuX8u0PPXtCzLsg4Ie/FHedcPtdg82fUsy3oibGDXTMiyLMs6cNF9+SGkwdhoo41PFwsGAyA7OmZZlnXg24esSANoQGCjjTY+XQQAAoABMIABg580N0IaAAOyVSXLsqzn0hI/vyIDyAAYAG2jjTY+XZx/l81NxUNz7ziDwSA7qciyLOtAY/8uW9b+ZBAYNPfFXNHoScwVivSTXsGyLMvaz5aYFc39iUeLPvjaaKONTxbx/LsM/0bvO8uyLOtZsQ/zijAABoMBgY022viUcfd8yLIsyzpwPWlWJLKM+a4RUiKEKQMADMA5Ry5CQABhAGSjjTY+VUSACUnTuF4rx1GPIiSVAgA7TGZZlnVgetKsiHkegEGUMoSFgc4gDytuuVzuZlrvMgHCRhtt3HM0CAKfCZl1e20pskrAGCMAoLUGYqBgEBSFJYMBANDCLViWZVnPtifNirI4Zg4lxAWCMYJG1VUAMzMzbu1gghEYBMhGG218qmgQdLoz5XKIkU+wAyobxH0AkIoTxgC0HV+zLMs6oDxpVuSFISBTfH7VBhIOzIVGsz6UQmsMgMAYG2208SmiAQhLLnNwe3baYShwsOs6AOB5rgC523sOAZj9+F63LMuyns5T1YoQBtcvp1mKqB+4oADiONaMaWwA8PwnXRtttHHP0QDEw9z1GkHgMIpAZ1pJAYCQsfmPZVnWAehpa0XAGAMCAoAraLUaM7EiWAMAgI022vhU0SDwfKq1MCClUg6GSjVINSgtAME8AgAAGCzLsqzn2lOtzB90u5VKgxKqAKbbcbMZfuITH3ED4M/a0VnW85kBQAAcQAMEAASgK6CCYTDohbXKnjIhtIdbsSzLsp4tdKGQjwCwAT2/JkZKUanXweD27Gyt1RpthhzgH//5hoQFOSF7uqldxg7Q3CdmgPlzw17GXW/tcXu65uPXWfrtPxmsEWADGgEUQyAAABoZbPbuhKUXtbLCezVKsg9FAv2cjAfZuPSIETAAcF0WxT2jskrgXnDu2WON0aHmapffvDZoj28ry7Is69lDZdGRSQPWAAgwAlUkBIwCAGjTaraKLVZygIyRPqMpdYofNrt8tMVF9lCcD/CinGZJZ5L55KO4tV1vfde4OCva+9uHRTc6/xUCmEuDwGCDAJm5w0CmWECtscH6ybMiM5/ZaKQNfvyB73L8i75e/H2DlpYVIQPP9Znexr2N2IBRmDpsp8lIJUSKKKlqGHSmlYs1AmQwKiZnI9Bg9i6NtizLsvYXqhFoBMTM/zEHAABVfM4t/mEAAxgEBkAQnFOczdeKdHFGN4+f14uv5s/6j+cHe8kg0LD41p6Qxjz+PwuVG2SWdi9m1/1gNMJzlaFdqkFzV8IAxJiFAzBPMsCh5zMbgzSA0UjvkgPtctxPfCBzd2RQUY966rjH58I6YCGDsAFFSAoUMYUxpUYDANFgACukmYbi5aWRJgZrpJeWI1uWZVnPqKV3/DCP50uL86H5s7+BXeo9+2Lh7F9kSBgtznvmqzIL/15araWoPy1OvDAyj+d/87dsAIDM5zOLsiXzhH/PF5DmDqc4bLLL07LLs7DHrAYjjQBjePpocyLLsizL2n/2oQ9aYb98ptW7pBwL38SANDZ40djZPsPz9zN3/EWasjhZWTy5w8DS5r9iA7Dkgo6eKxbsXVzqiJtlWZZlWXtpn7vDInhCZgFzE14W2bcFNYurTQu3gDUgg0DPzfh5PO/QezkLuriVuZ/De5o7vXsuYzQCs3setqjc9MQMBQF5ivlHu9II5qtte5vp6f2TjFqWZVmWBUsu+Rg0NzX0mbm5Pd3BngstqLjPpaRAe1BkOQComE31xPvY7bJ3Q1Z6IaIiozPwhMsTjgEeH3oDPfc13pu49EdsWZZlWdbeWnKtSAMuZigDAHp8Eo6G+ZQFz5c05pdxLXkyTLEcZ+EWdi2QaHg8OyjSkSXlCkgjwPPzfvQuM5YW5UDz359f6bbL95+4mgxpWIjFzeyW2S3OwAx6wkBhMeEam72Jdjsby7Isy9pv9qn8sMtsYoNBFxOw0fxa+oW1YwspEd67iEETo4mG4jaLH1+UhRQpUTHbRxflnLlMZW/vZW69T3FrBmDuMjdtBxZqSE82prXr4jI9f+8aG41BY9CA9OJqUHGDC4WuxRUv/fi9YDNXmXraaFmWZVnW/rLkrAhTkue51tpxaJLEvsuM0pLnSnCfUZdgmaUeZaHrgJTIGNDaZUTy3KHYKOk5tPgag6EYfNdhBCXRkCDju47kAoOmYAKHKcFBa0YIAk2QUSIPfV9Lmee561CkFUXAMCKA8jQmCMqhP+h1CTIUIwwaGQ1apnFUq5QYwcgoDEZyLgQHMMQhxKEKdCZyoSWiSIPSoHKRCcUJY4RRDUAdZoxhhICWlVIQD4ZGaYcRJbmSnCLgaWKk8FyGwPA89VyGCDFIAwGpBRAAbLjMEUXUIUIL6lIFKskTIGBAYYyZ6wmlhTZcKo0wpkxoowwAoRoQogwwkQYAE+p62iZGlmVZlrXf7EutiDoMCNZag9I8S0GrsWYjcJjKcq04w8ihZHbHzlqlFDgsdB2VZ6C15jnFWOUZBpBZ6jLWb8/O7NzpEjw2MmIET6KoGgYmz31GdZZRMC7BMssVFxgQaKOEcCitlENQMk0ikSYghUtwq1YFrZNBv1GrORilcUyMDjyPggk8L4uG3Xa7USlrKUPfC11HiTyJ+iJPHYorpcBzaBYnCCFCiO/7ruvmgvf7/SRLAcD3/W63K7mIBsNWo8kIMlKBkrVSqKT0HbdeqSRRJHg2Uqt3Zmel4mkaGwSe5wglMQbP89JoGEUR0ipPUo9RjzkOwaC0UWLY6zNMmrV6vVJlmCBtXMoowskwwgZAaYowAeRSlidpMoye6ReAZVmWZVlzljyviHNOXBeMAmRcj2GMg4AeecSha1aPfvnLt0ohVM5XToz99gtO+f6ddyVR5LquS4nP3CSNEDLVWplg1unOZlG0ctmE4Krf7QR+yaVEcJUM+vVyePRRRzy2eeuO6RmkwSUYMaqMKfu+1rrk+StWLEvjPtESgcYYDwd9z/NEJrSRpVogFXcwpghUnjOMXnrqy3704x/Wy+Vee1YJ7bkEYYQcghBVSmVRnzHmBn65FHDOKSFaa845oc7o6KgxJkmSLEkrpbBZr8/MzPST6LB1hx533LHHjIIA2LA5vusHd462Gkcefuh9990bDfvl0BdaTSwb6/eGg2FUDisYQxRFpdBHiDgO7Xf6hgDWWmYpBeQy6lOPc95vz0opjAHf9wgmg8GgUW8QguM4cZif5XHCM63N6lUrO52OnV1kWZZlWfvD0mpFGoHUc8NDxhjHoQgURmZ8tGU0HLx6ebUUlhxn2GmvXu51d+7wKGEI8jjmSdyq1YzgO6emprdN+Yy5BCeDQdTr1kqlk088Yd3BBwcOczCmRjdKJaKUS4hHicp4Eg8VFwRQMujncVQNg8B1MTI8jrPhsOR5lSColcLAcVSeJYOBS7DPWHvnjtFGQ2apzDLN8ze94fdfsP4kF2ERRzKNDc8cZMqe41Os0izt90PXGbS7UX8Qer5HWa/T7Xd7DGHPcVzGdm7fwQhdtWLl77zo2A33/fzqL3z7H//l2+2dO3zPyaIh1srBJHQdo2Sr2dj48MO+55xz9uuOPOxQnqVYKyNE0uvJJHUAVJr5hPAoJkrpLFNZzEC5WNdCr+IzBqrs0dF6pT+7w6fIp6DzxEFq2UjDp7Bjy5b99DqwLMuyLGvJtSLKsCKEayWlYaDyLFGpyeLBhp/+z4knnHBX+8eSYazVtq1xvVJxGBtGUbUSZilXeWaEWLVsIk3+P/bePM6yqr4X/a1pj2equaonGhoauoFGARlaaRAEQRwQnMI1iUqMwVzzcmN8xunKC888b9SoCXlORM2NmjhANAoyqSCDoGIDTsw90FNNZ9pnj2v4vT92nVOnqrqbrrYKhHe+n/1ZdWqftdf+rbX22eu3fmOqVIZSl8sFZTlJGqVhGAdNhujYdqtatcAQrXQSM8L6ioUwzaTRPI+OaLQreC1NsjCkKIcGRyYna6HMjAa/4GapsihxOA9q1aPXrq1NTvBjN7iCl73C17/6LTSEgCkXHEQtpaYKKbeUUhRIf1+lFcYDxaKwnVTKLMv6CyVCyPT0tBCiWC4Z21FKgcEwgCxOXNtJs+SXDzxotD7ipBNVJvfsempsdJQh7Nq+bd2a1VEY337rbbXJmmXzol/gBAYHikkaOZZdrU4N9A06xnheYXp60vZcIVgQBLagVNBardaKW4yx4XIhqk0lcVwulykxwdQ4VWrl0OB0nOqei34PPfTQQw89LAMOJ7a1RoWIhCABYIxQo4ySWRQlQWvNitGtWx9Yt/bIiuu6ghPAc17y4lM3jboAOxvwox/dU61WC4XC8cefvHv37pNOOmlkhNTrsK4CAEdVAaam4Ac3fJcac9KGDX/wumEL4BfbktvvvMt13SzLiq5j28K2BBhlMzo4PLr59DM5dzYM0X0SHn54/MEHH0zD1tr1K1997sttgAxgdxO2Itm366lLLrlkx44dO7Y/uWp44JyzzljhQwaw9fHp22//cSblplNOKZYqRx7pVwAeq8PNN989PjVZKpX6S+VMyqDRtG2bEDxu/frtTz45vnefylLXtYuFQhg0p6cmXvGKLaed/I5hCiHAD37+xF333Nvf3//ai1526613NhuNk084weZi0wnDFMAH+M4tDz3x2OOO45x35uZj1wgJ8NBjk9ddd71H9WsuveyIQQYAgYFvf/tHjUb9xE0bt2w5aZDCuIQ779z6k/u3OkNj0Atv3UMPPfTQQw/LgEVzRRqN1ppSyjkHlViC2YRxSpI4fOjBrWedddb2bdtajaaRqj45uWnTprGhwf+47o4wDE888cRzX7r5xhtvNVoesWboyLVD99yz9bpHHzXGbNmyZefOndVqFZTMmo3VKwe275y89ov/xW3vZRe+bN1RR91733225wohsihOw5aRGUPDgfRVvJ//7Fdf//eH1q1b9/KXn373XY2TNp2wefMJ//u6O2q1WrFYPOecc4yWw0MDjEIraMg4imr01u/dND4xNTAwcOJJLzj2yLW794xDpvp8/2v/eqtCPO30M0/ceLx+4IFaven63kwsR6MEY0MD/eN79/iuyzwvSSMKxLZtitBqmFtu/n4QBBs3nLDmqHVrVoxFrbDVSEyauIxVXLevXLn+6z8yUm08boPQerhUWr9+/eO/+vVdP9ybyfCMF79o88knGVQTO7f97K5t01M1QnHf3okTNx1/1IqRb331+up0/ehjjjp2/YZ6vba9GS/Hc9BDDz300EMPPSxeg0aZJpRyDgBZphGRC5pkUgFpNFuTU9VjjjlmeqoqBBsdGRoaHtiza3dQrWdK/urBh1aNrTDGlEqlOMXbbrutVqs5jiOEoJSi0gxIqlS5r/+3j+x8ctuOoBUJA7v2Tk5OT4yuHM2UphTiIEBE23KFsJvNYHKy8eijj/f39+/Zs2fbtlp/uYJK/+ze38at0CJMJmkSRjqT1VYwMuJFUeS6rmDWeWdvWTEiXAAE+Ma+8Vqt5rju/Vt/UW1Wi4Xy1PREGIbGKN+zlJIZ6lJfpV6d4pxPT08bJbVKgVDfdSYm9vX19RHOpmpVhYwKd/fefatWrQmma67rDvc7Kk611mmcbH1ya71eJwbjOLZtW2v9ktPXCFgj4AUpAAP42o6npqenzzh98/HHH/3kE7u2bdvmWK7n+C9YP3ra+ksBQAI0Ae68f+vSPwI9LC/yOFlkNkEOAADpRIgnCDCb+JcaMPm/plc+70qAORHLcPb5ANrOnJTnUuw8OhTBwCLu8szg0OlhONvH7qSTZDaXNtC8NLD4iL/LjpnEmQsIo2ROpzogCHTRs9DJ8EkJzn7OSyTdZxbZLs4S2bk4pxDzpAsGyEy+B0AAQw6JfoIzGdyX2++HoAEAAsDQAFCKpjPaSGZCJDJDmQFmllJ/sjiuiCJYhNWaYV+piEYX/EoctsI0s7w+YnmxDB74zW8vec3L7rz9p/VWDZkBMHHUooQIxo0xCg0ymhg1Ua/Wo5ZV8BqN5oDTH6cJs0S9Xu/r62vGsVsZnI4etsqlOJMpGLdSfGpqH2McAL2Cj4yHcYJEUMqUYhlAliSe6xWK5VRpSrnn+K1maHFRcDwAGmfSL5TqLRC+H0XRKaeevu3JXV/7+k8pZy8552zNmLJFSjGlyAu24tjKQq/kijqZ2D3RPzBMmLdn394VoyNGZXt371q1cqRe3RcFrTAIh0cGG/VgzF4x3YwjDQqEZaigwkFqE5YEYFlWlCbE4pIiWDyKY8mAUhHKdM803HLTD6vNhrTA8exms6mkvP7Gm0uF4ppVq85/xVm33/5gMwge3BF878YbDCCzrf7+/p1T07zYv4TT38NywxjDNLddN5KBjlMfQAFwzgFkJxrqvPUMgRqYScDXK59PJUA7l9Dc5EUEgQKhhBhtUGvghABwzpVKKRiKy8UVLTaNUid/0aFzgXMu7/rMADiQKIyKxWKaZhZQm4ooTQhbRAT/Dpu1345IKYt+IU1TmWau6xpjEBHm5jM4RCxcchllUklklBFUAI5rhWHIOSdAFpUdHAGAIEEDgBQNwdnnhVJCKQ3jmFmWZYkwim3bRrMI+inMMJrzRpQgcEqNMYyzMAwLhYLOpAJAYhgh8yrn86iU8jwvjmMAcG0nlZlgPJUZ4QyWD4RQBABkBgzBmSecABBI05Qw6nELM2UDswgkUlHOCVmCmH6LlhVZnFsMjNZSSioEExazLGQi1UCYHcTJfff/9sVnnxa0smbY2rnrqdNPOX1iYqpWrx93/EanIBzPbSWx7XupVl6pKLIslqnUetWa1Wma7ts3QShPAYTnB/WaJiDBUItrNJZgURQRQihjXNhKIyFAhAWEEU5SJXfs2ZVJ6bru6OjomjVr9u3bNzQ0VKn4pXI5kmkrTpDRVJtUw+7xCY2w/rgNa9cPjbeasZaRymphoDnlHDQ1zSiI06hQ8rktojgrliqtKJ7cu2ugXDz22BUEzO23/3DFyAqvWADCHNc3CKkGwizHL2uFWussy5TRwnOSMKiFAVhcErQKXiOJ+srl4kBfPc4GxkYi0I1WvVgcXjkwJNOMA6k3W+GjT4aJChNle6XBkeJRx23csXtXELY8oCvWrts33fidJ72HZw42t5NMpsQwi3mFgm8MBUBtqE05BY4AAJoAJbT9a6YA7ddYr3z+lQCQB74nuiNHpEBQKUBwbGG5gpkUAbI4QqMZAQKQy4+etlws8GA5Lfd7ARBcHD0LeaMOLMYV45xQhWCMAaWJNgZxUSQxMyPkgLlMnmCcIBilCYKgjAExSgMiWaJFnDHCCeWEGmIUaACglFJKzWK4FsjTKnSSQCCSdkYHrZVhVNiMUwbGoNIzycoXiq0OigONpdEKAAgnDAgnFBgzAIwxrfV8rq7DemoDUlNKjVQgNQAlCFQvbr4WjTy/RTunBQAgAU2hVC5KKVEblaSGCkaFI/hSyYsWzRUhImMMALTWhjFGKQGcnp5mjBHDpDRPbttx2ukbWlFqkE7XGnv3TVz++rM9gCcC+P5td05NT/uVUhDF0mCcSWVQKWkIPe6EFSeduGKqDt/+9vcbzYAwRrlwhNNoNKVStutRzm3LEUKESaIMCtumQIKwlchMEGvlihXDI2O29/jPtj5QqvRf9prTOcBkDPsm0lacAKP1oGXZLretJ3fuuPg1p5fJ6Y9W4VcPT1SbweDwaIY4NDpWb4VRmpX6+pMwUgaOO3bjMcdt+K/v36oNUEqHR1fs2rvvhhvvPvOM0676738UATy+N73r7p9M1xvFCnddN0lltVEPZOL0VShjjSQRnu+U0hRRcz7ZaBx11FEoRK0VPrZzJ3Bx4cvPuNg+PgP4bQ3uuese0Hjm5s3rh0kLIKjDddd9L4jC/tHRzS/Z9FqxyQDcu7151733LdG89/AMgTFCNBqjGFBEVEopAGOMkVqhIRoAqCYEgRKkMKNAOZztbA/PCRgAJCbXXrSXE4qGONzGTKlMImqi4hRACOG5noyyRd/ikFcpthhBEeQyrUUyXwdqvoXSEKCCA6PAKAIaAoRSIfhiuSLYH1fECKWUAgAhhAvBGTNAiOC4dD8uxhilFBETlRhjcltbrfWiGsklS7RLtzij82I0b1MIodHkt2OMLRUPktOZxy4mhBBCEkgRESmBubxsfr980SeEWJZljMkvyU8ub8IFMsOIzxJDgBBoNBoAYHHBLcuxHGaIQqBwGOrL/d1z68O/PP7Y44ThoGaSmWkGGgwFzQFAUyAMCUQEAoAPfPZrU6IUUsux7TRNLcYAIEvj0eGhoFELw5bg3LZtR3DLsiYn9llcqESWy2WpjFN09+wdLw2UpUbHs9NUImqjUGUJI9x3bAosiiLORaFUrNabhAF33CSLqbA0qiyRti1AQ7lUCKpNW3AjTaFckGCma9NJEPX3VUCjlnKg3BcETUTQYDzXNxSZsIjFgqBlsiyrBUN9Fct2a6267Rcs364FLSZoGMZewQ3D2LWtqBUP9JVPf9EZ09Xag795jFlWGkUF32WogmbDETxJo3KxYhAnq7ViqeyX+5tBSDi3GOM6jVsNBFoZqExUaxpV/+DQdH266BW1llqa/r6yiqWRWcEr7nhqu1Mu266lYqlkWvSKglMZZUplvl+crk+XShWFKpGKOVwrJJwb4NjzQXuOgCChkhIGmU0yjCGNBhA/fsXrb7zxvimRZQwsDQCgCTWEUKRtXcB824Je+XwriQaYSZgISAEoR0oQuUFQqS3gjRec29BRgbkCCCymdThkQc7hiZdykg+Rnu6r5t2XAaQAAGABKAANYHXRv1h6uq/C9nnVblzkuqT2rQ+j1wthADSgBUQBcAAJAABi8Y3nXaZtmrs/6/YZBcAAMgB+GLZFB0DeOAXIAC0gEkAAxKAs4LBg7gAA29PK25czAN3+arlB2iTlykXddZ4DWACZTPuEzQDYUjBpi/dB05oygoiUEkQEAGX0xNS0bQsDjHBbuO5vfvPb0dFRxysCQLlQmZyYMAgjJd8rlWpBSxuUBI3BLEs923UKxagVVZuBYzmUc0NZrREojZxzJDRMUmEItzkXlFAqpWo0W1qj43CVZZPTVeG7XqlUKvZplSFBJWWYZhKxXO6L0yiIYu4KJeOwFtq26xX8VSMrpiYn4iwRvq8oadYbcZYNFAdVGHuFEhMOQWMM8YvlKE5+8/CjzTBc2bca0URJbLLMtuzB4aFabTqMkmKlPDwyqgzEaYKUGGOCNHEF5YUCUBrIjHsuIygJAWGhELFMPc+th5FMMkBDXW9kzZpESsu1OVdxSBKlNDDKGCGWArA9P9PaUEKE8IrFLJXSaFzcVqSHZxlSprZlM05BGsaIK2wLwCgFXLff0BQAqQGKaAgoYpDijDFkr3x+lQSQa2SI2LHQAUCCBFHJzOKCAskySbUCgMnJ8T1Zqtqqio5968FLgEOtuSjzl3lYbPsLrY4sxuMsZUCYJUAbDWgxjpRIrRZLSXsYZ0sAoJSCQcG4lJIDAQBB2Zoj1+7YsW1JpC1aa2NMLhzyPK/Vas34ZS8S5gCyorVHrN351E6NSAhRRgshpNGEkKWVI1NKpZSMsSzLPM9rNpu2585+2/2EGGSMGWNWrlw5NT4hpSSEaEBYpLhx8cgtr9r/tLOtZ1JqrTljVJqy7dpIS2uPWioTp0XOIkHBmCREa4WIBpEQ4jiOMQYocwoFQkic6bVHH8sYQ9QyzcJU2oUCUDbdaAjLGR4Z1UCma1O+VwRKlAEZJwjUK5dcy1NKqVRZtmV5NJVZKmWxVAFGpZRe0Y+iSKNxbd+1idGGUOrYhQxNrVqnwCqlgu05GlERWuofiOLUEJoRgghuoeCUC9pAs1lPWwkFZMKqBQ0u7L6BCk3Sar1ervRPTk8ncTY2Oux6fN/ERBSmSSb7+gem642w2RgdGbaKZGpifHxiklJieV6aySjJoiSlll0qVwgXpmWQ0TgNqbCAonC9ZquRRjG3bUNZopTrcWMMsx1GYbreYIy0ktRxLdf2mGWhBk0QOCNIG2HkFz0m7EynMlONoJVJrZTyvMISTX0PzwDQtgUAaC2BXzDLrAAAIABJREFUIOUMADKARqNG7AJFQ5ACGAaAQAkYhoCY21Ni/sLplc+nkiJwRIrGgMF83tviC8YYZ5QawzghQCiAzNI0TTkTAARIW3dw0DLfJh9KzZn6cLi80SG3nwMRgMwppdHcEgTBABJKCCEKDVm8KKSzJM9bm7XWjDFENMYgocYYi3EfFqeeOwgopYSQXEmXMxYz6qTF4CC6Tg+snGXJOS2khAI1xtAlVRTkWjDGmGVZWmvHcaDL2HoOdblekjGfe9OE5KpDAAA63zp7OdBNU+6+OzAwkGWZ0VqFiTFG6UXacx0Ui+ZtGWMAmNsUaa0JgCVsVCoIY855lmUA0N/fHydJlmU6k44tKKFAqHDcOJX1iUlDqOc5jVZoWZwLy7JtRjgYVWs0oyhybYcZizKWaZ2mabFcyhKZZKlBkiUZQUySjBCiM0kABGNE8JEVK42GoFGrNcKRoQGZql0TE4SwUqlQGRiM0miq3tCgLeFYlgMGNWrb80qOUBqDOInSrFgsJ1K5flFwNT1dY8CKvg+UMW4lSWa7jqhUkiSJjLE8j1tCq6wRhK7vDY2NSY31er3VaiFljDHCuERwmUhVKghDwihhhLJUKs6sJFO2EBoNF5zZIARbMTQSBI1EaUEJJYxQUIZIpZxSyRCM4jjOYs8vAsVSwUXENEqXbvZ7WHZwS8QqVQYpozrLwjThAKtWju2SDQK5OynNDSiZAQJg6Z5d0fMfOS9k2kosgoCIMkkZZ77rEMgUQJZljmMpuWhLkkU9PUtih3EomBOSgIAxhjOB2iijOWVIQGtNuk1IDguzfUc0xihjtNaWYIiYW9Ig4pLELyCUGIP5diZVknMOlEopcz7pUIEAuQgxF8xg+xwAACiVR0smxhilFCHEAOKSKguIMQgIQJBCJjPbtpWaldXld6JtlaRGTZFwAGmURo2IlFKDZknG8yDojAy0FaAIMDU1RQixLYtSyhkXlBxOQOoDYPESP2MMMYjIOc8fNUSUWgnL5pwDoYVCYXJykgruWrbtuFmaFDy3FUUW4YqgX65EUUQoFxYYxDRNNeeCYhonlNFVa1YncRbHsQYsVcpBEFDOUatCoZBzSILxqNUy2liuY3ORKqkRJyanBePlch9AoxUlWZZVBoc4ofWgGaaZ5dilSkUZLaWklkW0MVqGaRImseM4tuMybaQyQEicZLZlFa0KBZImSb0ZVPoHdaaU1kCoUYozZlmOMUohjIyt2DcxHu0ddzyXC4vZbppllJA0TYWwHcepTzYpE5blMMbiOLYsq1gsh82AWnYiQ2IwN50LoyjNlOCc27bOZJIpzjmznSRLCWOEMct2LdeZmp7OpCaEUGA9q6LnELIsS2VKhGVZVhyHmUwYwEtecgpakAFYbQMCmDHqm7UqwF75vCtz5G/4fNI7qzgFUAA2AAWoZhkH0FpLCQjs0MP4HAY3fXiiosO5y1zZmQEkhBgCxhjgnBKCbIYDOLxbzLuMMwYAiIYQIoSYccsHIGSB6/lhgbQbIiS3J6H5h8W2jmRGxpfrHLvZQmUMY4xbAlWGiEAJJXSxPmiHRENuCaOU4zgL6c//p5R2DMnzOSKEUM600cvNV3dGJqeGECAELNcBAMG4lqlSChWqw8vUsT8cjg8aZTNiQyRAOZNKM8oBINMKKAui2PELCKABtDaUsyiTlItMGc4sKbUQtjQIlAEAowAIUiO3bACoN1sAhHAOAGErooSlaUYIVUozxtM0yzADQimjxmCcZQigKViOSwHCMKJcAIJlO2kmMwBh2QCgEXSaIQFCqJQSAHI5reP6ABBnkgpLA1AExoRWiKABgFDu+sU0TYGw3FeUCg4IeQtAeTMIHa8AAGhAAxqjKKUEgFEGAHGYlPwSIBgNqI3NbTAgE2kLR6fK5jbBmReE1shthyDITANQJiwE0AiEiXwPAZRHYeK6fnsCftcp7+GZBKXUtm1JIE1Tzrnv+whw++33NRyTMWNpShA04QBADQOCihpNzaHbkfTK51BJAYSiFAwAaGpmDK6RAwBFDkYLxkAngOll554rhCAEkyS1XV8IoZTSWueLVv4hdwfOZfZKqfxJU0ohgTRNc18hACgUCmEY7ne1PgzRDBKSZRkhJN8V535Y+e201kKIRqNhWVaxWGw2m7ZtH4jLIYxlSgEA5Vx16iAuViHTaZ3MkDfTr1x3JmjbXdoYwhkC6BkeYD6EEFrrfJMPXUzPgQcil/MgIDLOldYAQBkzi45EOSsgQgScaRgMQG60lKtfGGO5J5rr2c1mExEdx2kTgh1F2+GAgAENALZrSZ11PxA5IzLj32c0ECCMIeTCbKSUaiNzmUixWJRSRlHEORdCWJYVBIHjOB3hWZqmnudlWXYgPWOeMCNXSiZJYllWoVCo1WoWt2e6SWaImRE3IiKiBm0AgTLOSW4MviSmRYevx52HuWHoZkoEMEBMx7mAzKnZHey1u0JHYHYQ0Vz3o0f313h3C100k/zfeZXndGQOJWTudg7arxGaT0/+b1c7BoB0TOfy9yAFYDhz0Pb5vPszdRaMw36HpYfnA3D+Ly73KMxjzxqyHx/jXvm8K6mZef9QBNo5s1/f0v7+fkJIEARhGBpjhBC2befx8Tnn+cKJiLZtM8aiKFJGM8Y8z8uXH6VUq9XaPyMAAIclXnIcp1gs5uF5kiTRWluWlaZpHMeU0kqlYtt2kiS5Qe7im18EuonHrthLSBb95gzDMF/ChRB5uoUlpPOw0d2jHDnT6XlezjB1vPefLQoBoFgsBkGgtR4dHfV9P8uyWq2WU5gkiRCCMVYoFIwxHU5uIWzbzlntXK+CiPV63bKs/Vaet8rPnFy6Hh0Ogzn/UevItgBy2sj8ynMu6Fi2dwz9um3dOx87PV9oD5h/1W23v/Db/RC4gJg5URm625ll3wFyZrr7vvu53Uyv2w2STssLp2o/IV/nnll4yRxvjp6w6DkFgkCBEJzdlSNAV/RqCvkLPQ+CgcTSv6NlRQ+/10AATbq2vO19YC5PMgCEUDKbvoA2m00D1LKsfOXLskxKaYwpFAq5AUMePCZX4uRLi5Yq/8p1Xeq4URTlKqQDkbS45QQxNz2JoqhSqeSftdb50iilzDfxQog8pfdibZAPRwm4v832fnEQTqejPDLG5KoixhjnfEY5sGxorxgLnOn2x9IhQC6JyVV1+bRmWSaEOAjjuzh6CEB7xen+nM8La9eZIQ+hY4ektZ6YmEiSpFKp5E55vu8Xi8U0TZvN5tDQUP5sHOi++bA7jqO19n0/juM0TQuFQpJkB3cImBFPLOlLczk4Yuwq94+OjIR2hQXr7tehG3BRnC2ftiY58HFQHHguydPUoTj/+F3oX2wItR6ebZD2T4wCdqcCoEjAEIoEkFBNqMl/ED2G6HkNBGry6Sa0Pe+df3N1Fs2liaYtls6dfYwxOVuTy4EqlYqUMgiCXGfBOU/TNF8dASC3ock1bvm/SyhLEEJwzvMgzjnHk69nSZLk8QCzLMs/+75/2EZChw4ksxLWg+PgL/lcOJRzmQDQ0VQuCZGHAjxAL2YZaAAAcBwnTdMgCAghrusCwDMgkzsQDIDnedVqVQhRKpU45319fY7jNBqNnFHLeU3XdfOwBQdhkbv5aWgnGImiCA4wMjkntEyG3ocRX2GuSmn286yUpzuOl2nr1GFOZQCYvyfO41jkG6ZDYdZm/DiRUOyW0xwQM3WejgPqUNYVX2sORd0/9Pm9JgCLzEZE5prZHrxmb9V8DoISpIAAJNemGjOz5s26ViCAoTOh7RUsjY9MD7+fmOF8u8UbbXvsmYzBs6o0CoiO45I0VUoZpQhjaEyutCoWixbnuVmPUooCaCmjVosxxgixLMsWQikVJgkag1of6PWyWLYljWNKKbdt17a1lBTAsSxK6dTUlO/7nFLfddM0TaIop+EZc6fsVjIcxu4xTVMAoJS2Q0ijlFJKeSAlzjJhHvELYxWkaZqb4Bhj0jTNJUZLTsZCiRG0JUbzJjQ3cRNCNJtNpRTnvFqtuq5rWdb09LRlWTmrlOt/D8K95UZFOWcfBEGapgMDA7t27fL9Yl6hY1pwoLldQonBErqzQdeIGQIGcOZH3r3iz/BDhywgeVqQuR/222RXHeyusd+sinM4D2La9btjkC6E6ZTzjAMW8mDzOJuOpGrOIwjz63Q+9Bij5xYogsbOJqHzbBAAiiR3aqWGEARqgAIYpL0pfh6DosljW89oTgEACCWGIKHEoCGEAKVIEACQAtFhGNq2bVmWlDJXSHme1zFqzrIst+YpFou5vbNSKsuyVqvV19eX28fYth0EwVKtncViMQzDOI6FEHEc5zqmVqs1Njamta7Vao7jFAqFIAjiOLZtG5ZTXtSRFsx7yxoCbJGLS7FYVEoppTpiudzMZYkoXTLkopfccisIAsuyXNfNRYbPCj1Jlvb19cVxHIbh2NgYAARB0NfXNz4+PjQ0lAssc9Vqrhc7EJeZy0SllLZtZ1mWi8HK5bJS+3l8DvSGXCrG6PCGkuQEtDkFA93LPzEAQNHkFShSQwy0LYFm+KF2K/NAAQzOhtA4kFgH59j3UNplKr/f4ZrPfrXjwcyT05j2Tdtvq05vTS7WznPo0Dm8UVfficEFur+FbNS8CrkJdvfd90N/982WRenZw/Jh//OV80OzfgkkF6lSMhPasYfnIdoGELOvRACAPIIn5lKidjlTnzKCFIhRWqYZIYRTJtOsXq319fWlaQqI/ZU+IUSapkGjqbUulIqEkCRJELFarbZarfXr1wdBsFRdiKJIS2VZVn+l74knnhgYGLBsm1O27YknjzjiCIKQRLFrO5yyjjP8op7mZyC4wH7X1MnpqVwX2YkOwBgTttUdv+f3AUzwveN7PM8rlUpA0YAGihoVW4Y0UN0So/benQCAIQbzFZGgEIxykmRx/2BfksWNRqNSqTy1e6dlWY5nP/rojiOPPLJarbq+Y7sWEnNApSQhSivCiAFtOcK2rZ//4mfr1x+35J06FCwXg2kInceLLJQMLdWe+GlFph3rbENmeLhuAg5CRnvVOrQHDmfSnmMXc7ZQIjpTt7vO0704Di6n6uH3GZoqNEAR0FBAAkgRAAnObBsIBSCaUgTgxhAwrMsgcaHnASz4HbW/mtmo9CzPfp9h2j6wFHC/dghzKhNgANwSUitjjO/7rus++fgTX/7yl2//ylfzOqtPO+2KP3375s2bZZqpTJb7KmEYFkrFXHLw0EMP7dq1a3BwMLfP3e9dFpW/DQAQoFAoKKXuv//+v/qrv5LbtuXtnHrJJe9+97tXrVpVrVbjOM699DnjmZq1Vp635cMuQwV8up3wwdH9Cu+49HY2GwdpsnO7O+/48djY2Nq1a4cGB/Og0koppTM6fx2bT/+yotujKP+FZ1l2//33u6575plnep6XpmnugTgTUOB3XmT3q7IgXeodmsu/2zFIoyiybbvg+a1m8OEPf3hifPwLX/hCyS9ore/+8Z3XXXfdhz/8Yd9xpZTjtb2Vvj6K+4/mxSnVCI5lZVIKzpMovvnG73uOPzY21r1L7A51AW1KZolcXF8PiEUvtRRnDAI7R/4XSftoGxab9hhSpLR9RV7HwAEPJLNtz7Y59+i6Oe1YXeHTHW2jpYPdurv9eTR33XfeAM6pQJESnOlyd8ehayi663QG5ECd7RztwenhOQMkqKk0VDIEoRkzHHLvM5oZE9sWJYQQLtCykINtIyQBByTKeMJuNZqWEJxzpAQJKKNt18mUDKLQLfiJzGzbzrTKpLJsJ04ybdB23FSpTGtu291kkK6jh2cRFJGhoWioAa6BoWFoCBqKSLvcQdr8sDHEZEYnSgrbTmWWRPHI4JAK42/84Ee3bX3wP39815vf8Kbvfuv6NIwYwmBfv0wzozRB4JRNT04Vi8VWq2UAlDFJljmel4dLzoVPlVK5UatbXGRJoqXilFIgKsssLlDr/AwjtOB5cRjlIUVyO+skSzMli+XSGZvP/NZP77vhwQdvePDBq6++2nGcMAwZYyqTgnGZZpzzVEph20qperVWKZWjVuhy65Ybvn/z929ihPq+zwSfatapYxWG+ptJdBisRm4wygwwA8LM2iQgAZ0fC6NhzD0YomdZE7t2l13PBpI2A5eykrBJkkGaCYSi7WSt0BWCIcostQRvs1sIgIbMHF1i30M/ZniOjvsRmRvLcV5PGWOMidp03bU9LU3RL3EqZKqMQgqMAgsaLcdyCdKiX0rjjCA9vANmdPqzixozlGvKAfLFK6fXc3wwRCWyUiiP9A0N+JUf3XArS9EDy7Qy2YhdFC6xfOb4zGGaYKw87hS4i6kucDdrJSXLh8yQ1Hzpc//y+K8eoQpUK6UKTCQFEsF4msaVUiGJWo7FCcEsjW3BZmyciKG5uc6S5gNYjlV2lpk4UPsHe0YOC4dyYUcytLS3XohDGdN5dQ6d/h6eUzCaGiSGIDCTs8iAAIYYSlGrVEplDCQyi6IQZeIICkpyII5t+65njImiKE1Tx7LzwGgWF6Ojo81anRPKKKUI/X19u3fvHhoaIIRMjI/39fURQsLmkmlMelhaEASGSBEoGIIws5gCEGy/2ee835EK3jc4ILWK4zhJEgIw2D8QhWHJ8/tL5Rdv3myURqUZY41GgxisFEuTe/YxA5VSWTBeLpYoACOk4HnTk5OlQlEwDgab9YaMkrUrV0etsFwslUqlMGhRSi0ulFIWF67rNuuNLMu0VEIIx7I9z2vWG2BQCMEIVZkkCAXPtywrjZMkiot+IQxaru30lyugTdHz9+3Z61hW1GpZXBy19sintu8YHRwKG01KSMnz0zjZu3sPajM6OprIbO/4Prfg/y6uBqwdIi6H6Y6AcIC5gLY8JktSTqkgNE+6FDVbNuMFzxeMu8KamphwLKvoes16wxN2EkbQFQNzToSXwyf/YOR1m5aqTDJCo1bo2s7UxOSunU8N9g84XJQ8P4mioYGBsl+ImkHUDAqet1jZ24EWr5xdY12OTZ1F0yhV9AtTE5MF233z5f/tlptvTlohQwClh/sH0Jip8Ym4FfquRzUWPF9GSdQKfctp1hsrhkZkmjlMeI67YmikXq1hpo5Yvabk+nt27S64nlFKa12brnqOm2exZYR6njfPc/zwRIyLHYQeeuhhaWAWiKMpgiUEMciACMYZEEqIzYUtLE6Z1jIKmlplniUGK2WHszgM4qDZXyqizGqTExxwxfBQ2Kg7nAW12tjgYGNqyuV89YoVzVqNAQwPDXbLh7Dr6OG5henp6dxe1bbtSqWSJEmmJOd8z549tVrtM5/5zIYNG3KPpE9+8pOv2LLlvI3H/8lb3vrTe37iWfbenbtatUbB8aoTU1d98H8+8chjcbO19ac/f/tb3/aH55x77hmbb/3+TUKIRx555D3vec/k5ORFF174N3/zN9ddd91Xv/pVxtjo6Gij0bjqqqtyM+pGo1Eul7XWuTiKEUqBoDaoDUUoej4n9Kbv3XDei047+5j1F592+r996cuDlT4qzX9d/+2LT3rhi49Y+xfv/PPfPvSrj/zt1Z/6P//mI3/+rte+6LSrPvChZrUGmeIGhkp9aSt6BlTA+2VccvNeznm9Xr/vvvsuuuiiU4866sILL9y3b18QBN/6xjcveMELTl6z5qqrrrIsa6GH+TMWNsVmHKXybafguAzh1w8+9ObXv/H0lasvvuDCx3/7CMn0Zz99zUlDI6856+yPXv2RuNlabno457mBf6VSieP42GOP3bhx43/d8L0sy0ql0lStGsdxpVK59777znrRi7Zs2PCmN73p4Ycfdhxnenr6H/7hH2677bYtW7ZceeWV559//qc+8IH3XHnlBS984Stf+Uop5djY2Kc+9anzTj/9NWef/Z73vGd8fDwMQ8uy+vr6duzYsbydWtbWe+jh/88w5IB7R2MMAZIvLRSIZzsMsD49tfUXv/rOt66DHbvgmCPf8OY/Ov7EjQi0VPKVtINa1bW9YsVLU/nrB7Z+6Yv/Gjzym8qJJ77//e8vlYvTtapOI1Da8byntu/o6+vrefg/D7BixYooisbGxjiQPbv29JcrO3fufPNFF0FfHwTBm97xjne9612tNA5arbe+9a3/7fLLN6w75qGHHvrOd76z8bgNmzYev/3xJ5545NFrrrnmiiuuWL9+PUW44wc//NjfffTodet+88tffeFLX1y/ccPo6Chj7H3ve9/ff+xjp5xyysMPP3zttdfu3btXCDE+Pm7bNqXU8zzf94MgcG2nXq/nRk63f/d7t3/jm5BlMDj4ile/+h1/8vbTTz71vOv+c/0xx+zcufPjH/94WG9W67UHfn7/12/7wZFHrH3s0UdR6U/8/ce+t+VsKviWs8/WaLhjx3Gi0cQGB8qVLFne7NcUYb+Ju6rV6sDAABLYunXrddddd80112zYsCEMwyiJ77nnHsdxfrZt++T01A033PDFa699/RvfKKhl8ogzB5ZFLTkIQrPeKNguQQCpH9j64Jc+f+0/fvJTJ554YhiGtVrt1w8+NFCu3PmrXyPid7/73W/8x9f/8E/eutwxl3KTJsuyoiQOw/DNb37zhz70oZe/7Pw8/PrAwMBP7r332muv/cfPf/7kk0++6aabPv7xj3/iE5+wLCtJks9+9rPf/OY3S6WS4zjXXHPNWWedtXnz5jzJydTU1MjY6Hd/9KNao3Hd17+xd+/eweEhJWWj0RgdHY2SZPl61OOKeujhmQZBUGkGQlAAlWYIijssbNZ+9eBDN91809ve8acnn3zqw4893Gy2BAFuWY3qdLlQdihVUbSvNj3UP7Rn+/ajVq26+M/evnLlylq9zrX2hZBaFWxbK3nkmtWNoEkxt+aegSG521tPYPRcQtgMojSRSSoI7RvoB2WGh4f//dZb87h53/nOd979nr9+11/+H57v33HHHV/+0pdw115A2LB5syB03+493/rc57/17/9x1dVXH7P2KJvye+6++9abbr75X/8NAMD1QKavuvQS2/f27Nr98b//2KZNm3bv3j06PPKCTSdtvf8X55133o9vv+P1l72OUyYYr05Na62ZTwcHB9Mork5ObT7vvL/927+1LKs6OdVf6QvDMI6id//VXzV2PgVZZg2P/OKsn53xkhc7TLz9bVesW7fu9ZdedvqLTovDiAJpTFVLxWKcJHGWFT1PggnjiFr2043HcmFwcHB6ejpN06d277rgwpcfu+G4OE24JQY978e33/Gj/7z+C3/3d+D7ALj+5JP/7J3vDIKg23f4GTPZq/hFlWatVosz9sDWra9+1atecubmJEnQdkqrVn/5C/9yy3XX/dNV/xcQAoibX/XK5aYnlRmj1Cv4O7fvKBQKjufajnPyKaf88I7bV65cKYQIw/Dee++9/PLLz37pOfV6/aXnnXv3T+6pNephGE5Vpz/56U9JKct9lSzLSpUy5WxiatKyrFarNbpi7LWvu2xgYIAwxhjLs9w4nuc4zlS9ypczjlSPK+qhh2XEPGsw2rZ7YLl5PqEGEY1hyJr1xsO//s07/+zKVauPsCx+5Jojoigq+oU0TUcHhrI4YUx4BbdWwyhoEmU2bThu3eojJqcnRgcHao0mt8RAf38zCJXMqlMT3HKgKxZXT270HIXv+9y2XG5Vp6bAYLlYQkpSmQ2NDFNKL3v96x558vFMyvGdO356/8+vv/76VQPDj/z24c9+9rONRqPkF/7gyis3bdr07e9857QXvQiNKZfLp77w5GuuuaY6NV0oFFKZgWs9uXPHC1/4wnXr1u3evVsIIaU89dRTv/jFL55yyim7du3inFuWFcex4ziO40xOTsZpYgtrYHioUCxGUaSU8n2/Wq36nvfFL37xf37gg6eccootrPe+970rx1YUfP/qq69+7NFHH/71bz73uc81642zzz47FzU1a3VDiee5zWaT2VbR9ZtBYNv2Mxb4sRtBEJRKpVKptGPHjo0bN+aJ5JRSxWIxiqL/9YUvnHvuuXkw8WK51KjVKOe5J1T+EztItLklBEXIZOa6rsW477gTe/edeuqpYRg26w0hhGs7nPOPf+YzF1xwAQDs2rXLKxWfgeDcuU2bV/CZJfJUMxdddNH//NCHLrroolKpFEZRtVo95tj127dvF0KMjo7W6/VWq7Vq1aqjjz569erVURTVajXXdeM4DoLA9/3cpS5Pb/zUU09tPOEEz/MajcbQ0FC92XzyySf7hweXtUc9u6Ieelhe4IKg9QTAzbfFBm0uBGNgUCVpKwjWrjnCaD0xPs4o7atUpvaNf/oT//DO8y/4y4tf+Zd/9McP3b91oFT5/P/7mW9+7GP/9v989Irzzv2nT34SlPz+d7/7P171qrdt2fKpT37CSOU59tzILz3/s+cqcruiVquV2xXFcZxJSQWngjfD1o9+fMevf/OboaGh8fHxsbExLsS2nTt+fNedT27f5peKzbBVKBbPOPPMU1506vs/8IFMylWrV0/Xa//y5S95BX98cuKn9//8kUceKReKk/vGg3qDIliMrxwdW71ipWvZn/j7j51z1pZVYyscYYE2oE2WZYPDQ36xILWqNxupkpbnWradyKw82D9dr3m+P7JiLEqTW39w2y8e2KrRTFerP/zhDzcef/y557/sVZe8ptkKHM/dtmP7T+67N1Uyz1WSh6lUSuXGPc8KmOBhHDWC4LWXXfa9G2988JcPBWFrulZ99PHHtpxz9le+8pVt27blcR1vueWWeSExaZf72LLCEMiUVFrXmo0wiV/7usuu/dIX901O+MVCrVEPwtaR64767Oc//+T27bv37q30999z373LSxAAYwwoCcJwaGgoTdN60Cz3VYZHR8556UtvvuWWp3btWrFixcUXX/yP//iPnHO34H/z+uuqjfqRR6+Ls7QZtnbsekoa7fhenKXA6LadO6I0mapVNWCt2eCcVyqVqampPA/g5ORklmWrV696fulWAAAgAElEQVQuFArL2qkeV9RDD88CKKVZlulMEkIoEKUUasMJzbKMc14oFBzHieO4UChc/qY/+Ng3vvm5m25+1/vef+9PfrJ927b3v/dv3vLBD1165Tu/fOttH3z/B35w622uLf7pv779ue/ftPaINbfecgtjrJ2pZtbioWdt/VzE4OCgziTn3C8W902MW44dROEfXXDBuRs3XrJlyyc/9akr/vTt0ujTzji92QpedeYZb/iDN23f9dTRxx2LlCQyUwQVwVdd8pr1x2/4zLWft13nij99+39++9tbTjzhsssuve766z3Po5T6vp/HpLYsa8eOHa7rXn755Y899tgLX/hCznmSJI8++ugVV1yxb9++KEubUZgZ7RR84dphGodZwmwraLUGRoZPPfP0N1/62le87Lwf/viOY4/fGKYJc6w77rnrnBOPv+S1l3z3xhuOP2kTd+wLX3nxzx/Y+przX/YnV76jEbYsz221WoRRKeWzIigCAGNMzncODQ1deumlf/bOd75y8+a3v/3tqcxymccbXv7yl5522oXnvwza6UH2i+VmjGzPlVoVK2WkZN3RR//xW95y6YUXnrXpxCv/+58/uWP76974huNfsOmS17z6ohdv3vySF9cbjWUlxgBoNIg4MDAwXatpNLZtt1otRDz//PNbrVYYhhNTk8efeMIfvfUtF28566UbNvzzP//zRz/60TyIw8jISLFYzHP2+b5/yimnfP7zn3/56ad/5CMfsW3bGCNsCyiN4zhPflwoFBhjURQ1m81l7RfZ+vAvjz/2OGE4qJlIz5qBBkNBc8gTeTMkEBEIAD7wua9Oi3LEnzXtbw89PIdgiAGKRoMAGwwBk5ZB/q+3vfKm2+6OhWYFP5jKqONlDBjVat+ef//XL73r3e+RBo3WpVJp7+49w8PDN373e9/7+tdhchKEGD5x01/8xV8UCoX77rvPGHP22WdpJf/pnz796B23g+CQKvCckZNf9D/e89eUC00AgWsCAMS0Y9mxnl3RswqCBEgecU8ZAgAGkANQZghBFIQRkxKdXnbulgef/C2hBoFBx0m7E9Cvaw7naW1YO2j2TMijuYFq5zh7AwCA7TjT9ZrneY7j5IlBXNdtNps33HDDjh07/vqv/zpP/vqtb32r1Wq9/R1/Gsq0Y61M5qYr6Kat45DV8Y1fmOVpNrNVVzjHRaEjgu34jc+cBEACCg1jDLRxKNdJ5jJx/NHrf7njUT2TUWUO9utB1u3n340OqfMGf95oHzoWOuEfv/bYh596XBnNOU+VFEJozPMozI4TXdDCzPmuwdeLDDrDcGb0OglJ84GlGgmCRdkxa4759c5HFEHDqUbspPDqjNXCBwB+B92iaVMF7ZkFAEPBACCiYAxT6RJuG7Jh7TEWgFgKqXjPrqiHHp4F5InQgVHOeQoqyzKlpHDsJ7dvG1uxKk3TQqGwcvWqu++86+57f/J3n/70wMDAIw8//LWvfc323MGRYQ2IBIDRoNEaW7nijA986Oj1x4yMjOyZmBgeGQNGgzjJX5ukvUD2VGjPOdD2EtXBwtWlO9QvdEfP71qNZuNo5ye7Vt960CyXy4g4Pj7ued7g4ODNN9/8oQ9+cP2xx77vfe9rNpvlcnn37t1PPPHEe9/73kxJ073KImgChLRDDLd9svJY2DlVs2t4+3w35gW2hmWWtSz2J4B5Jpa5Mb67v93vJcsK08UKdW9wum/7rES2y8dqTjKs340fehbR06D10MPyIo9d270ZRQCFRkqZczaUc26JUn/fxk0n/ttXv7JvcmJgeOjBhx66/Y47SpXy8SeeoAGrjfrDjz8WyyzK0ke3P6koSIKGsrHVq4XrfeeGGySi5XlJKm/70Q+na/W5P+2e9uw5jA6jYNrHnJD97T307DaagqHtsM5taUGn8rzLbdcJwpYBHB4dAUompia3nHP2D++4/eqP/N9rjzqy3FdptoIj1x313vf9jet78zQXnQCJebzEToKB/KaKzsSV1nTO+TkHBU1nLzdLGk33acezG900dA6A+YM8L1nCwvrLCux6BgzMmdx80rvHuTPXy4p5d5mVM5H9VDuM41lBT1bUQw/LCIJz+BHT3j1TzhQaA1RprRkyzir9fSe98AWT9eYnP/h+qDbsTSecf94FRx69bmJy+kNv+WNg1mmXvsbxC4rCmjVHPbLtCUQyHTRqTbjg4lfVWtHVb30bEIAVqy6+/PK+gaFWFHbnKu44o/XwPMB+JS6wIKMiLnA/nHEmz+UfBADALxaCsNVoNMp9FcdxkiytVquZksVisdkKLC4oZ0EQKKObzWbf4EAk0/0k22rLKhY+Y3iA893f5vg9fDxnySaz5bP+U5qvtuvWnT17hHXrSeedfLaYm8NGjyvqoYdnGkiACo4GgVJpdIKaYhZpYvvey1/5ykve8KZWM+ScMmCFonfln7+r8YdvLpf6orhV6RuYrk8/8dRTG046KYmz0vBQlqQEyBv+8A//4G1vJYTUG8HAwMC+ySnfn588oRep6PmBA+3+F6V7om0N1+TkpF8s2kK0oigOQ8txyqUiUJrGsev7k+Pjjud5vgeUsjIJwpDub+E1ZD+8wqHobRdmdV1ua+UD4dBlKs+AAOZpMceK6ADnnxnM8D0LDLD2q+o9DDwrz0NPg9ZDD8uFgyQByLJMo2GCE0aZ4EhJlCYGCBc2ZSLOUm7Z1BZP7d4bybTUP1ANGuWBwalGLUzSo9Yfwx3XLhVibVqpQmFPNgIFbKrR6h8eiTL5O+aT6uH3Fk+7tBCcNX2dzXOOsykpur8iCMK20zRtRZHrugNDQ5zzerPZbDZTKeM4Hhkbo5TWm80wDHft2cMYYwjzDoLAzGxy01lKupgeusDUunM+P1hXVtffH+B+j2f7l9UZpe48o92jt9Ak/xlAx0TsaU3Hfv/RkxX10MPyYt5ikCu2pFKGUc6oQaSCC+6AyShlURLH0njFEuNWlqSFYtn3/SRJ+geGdu3dNzgy7BRLO3bvIYwawCyOXdc1jK068sht27atXrVqslolhPiOq7Xq3JHMvXsPzyF0B1BeaFI9U6ftoTNvOaRkjnql02B3VnkAKFXKWZbVGvXcRZ9bIssyrbWwrYmpyUqlUunv27t379jKFWBQhvE89yLStr/pGCYvRIcVowvOd3cTng1ty4EW7M7I7Xe0D4RlXf3JgSVD86RHufDG4LPDjpi5z20HnUf09xw9WVEPPSwfKEUKQJGApsoQk79jKVLLcjgTFFGmiclSNEZp1ABM2MKyhBBTtSoSELY1VZ1GAnGaDI+NTk5NcdsijKYyK5fLlmVxS+zZs6fZbK1cuXL3nj19fX2+78fZ8iaT6uGZhGlLBTriGWFmDmZmpSyznEebN8rPsLllhyXKvdmNMa1WK0kSz/MqlQoiJklCKWWMMcY8z6vVanlWTqVUrVY7CJ3djtkddG43j2Prlm08u4tQZ/TmHRTnszgL+SGy8NhfU8tEbfeZZwuzj9Pc89220t3ukItF59rO5QdqZwmfoh5X1EMPywWCwAwjSCQ1GdeaSSSGAhDDEYRGQKM8wRxjuDSC+xptIExrnUnpep4GzLRyfE8DGgJhFBUKhShoCcYLjpe0ImpAJslAfx8aFUdhpVxKwlBnmTU3p3e3/L+H5xZs15VSEkI8x43rgc+sq97zvled8IL8eNOrXzu9a68MY992UCpOmdZaocmj3nHKtFS2sCgQ13aSKHZtB7XJsqxYLN7385/976/8G6eUAuGUgcEkio3SgnGCwAhNopggFDxfSyUYl2nmOI6hoNjM0e331L0KHpwhWHj+GfM5QgAquEaDBAijWmtEZIwRgy63vvm1/7jo3Je9fOMJb7zk0l/cfa9shg7hlhBR0OKEerYDiMRgsVAARK1Uwfc5Za1m4DmuUVpLRZTBTBFlBGWgDSc0/6Cl0lL5rgcAaZr6vp9lGeNcmyXocbdb3EKPueUGbR+dOV1IT47D5t46T1e3kq67a3Sp2eueBq2HHpYPhCCF/4+9947XrKru/9fa5dSn3jZ3Ct0BBBRB7KJRRAXUICRiidEkxmgSo/nl940tJmoMX3skISZovt+8EjWKJkEULChFCDYUVJReZmDarU89dZf1/ePce+dOo2Vm7gX2+/XMfj3PuWeeZ5+6P2ettdciICTDNFoLaBGgWggA1UxqboVFQOIAVQ6+hb/t6x6yNxu+EzyPQSzC7OxsHMda62ExmFyzJhsm9Sj+0reumJiYkIFfKpWXRViLB4OhKktEBKJ6vT7s9TVRHITzw3kJTJM1wATjpA0AjI+Mbtm2jQN6Qj5oH3bv0gHYzIOJUsoScUQiWtCOyEqAz33ucz/58Y//8R8+fcwxx8xOz2zdunW8PZIUOVm2dnIyGQxnp6ar4mjzs3OMsVa9semue9asWTM5PqELxS1YS2EcFFkmOC8rBWntoD/wAj8OwkKr4XAopVRsIX99lZGD9ocw2o3/iW3m4XKgzVS7TW3bL1MNHhRnK3I4HI5VyujoKOe8VqvlZdHpdsMwlFKWRluETqdTluXo6GhVM6HdbtfjWiA9tFQWRRyERuuRZqtRr/tCIgAH1EoF0uvMz4+PjMZRpJRa6e072FhrBeeccyICgOpNmqabN29+/etff9xxxymlwjDcsGFDkmVSSl2qfJCAMhPt0dgLAi5DJkbietLrH33kUUxbm5cqyznBmtGxYbcnpYzjuMxzMqYsSynl2NhYlmW1MKpqoNbjmi6V1rooCs7c+LsacbYih8PhWKUkSZIVec6F53lxEBVaWSLP86IoKspSStnv92c681//xuVf+ufPQq9/wmkves1rXvPyM8+6/a47P/mxj//ga5cCwTNfefY73vYnGw47dHr7js9/8d//64tfgs48BOG5b/q9ld6+g41kHDhDRCJCREQs8nx+fn5mZubY444DhkEQIMHhhx++efPmj3zso7/xqt9817veVYviT33qU5s2bbrwwgvv/sEPYXT0wx/5yNOf/nRTlp/6+Ce+/qUvQVEE69Z9/JOfPGrjE374wx/+x3/8x5YtW3b84hfNY4556Utf+t2rrpy79dYNJ5/8yU9+sjU60uv1JiYmGGPdfs/zvJXeJY7dcVrV4XA4Vin1ej2O49HR0ZGRkdnOPABMzUy/+vTTn3300Wc9/emvf8NvZ2Xx85///Kqrrvri5Zdf/rOfPe1pT/vmZZffe/c9//LP/yfw/IuvuvqaX/6qFkaXXvJV0ubqK6+65867/ukzn73+jjs/cuE/MMRHxZyg/QgiWmuttQDAOWeMaa3TNA3DsNVqDYfDmbnZ0fGxzfffl+ZZv9+/8FN/94dvfsu/f/4LzXrjB9d//4//8I+uv/XWb33zm1+5+GKjlFH6ZWeedf2NN91w510X/u0FV13xnVqtVqvVsix7z3vec+1ttz3nOc/ZunXrBX/7qStuvOnEE0/cvHlzI64ddfgRZZbP7Jiqxwe29rvjkeFsRQ6Hw7FK2bZt29r167Zu316LonXr1s1Nz2w47NA//9Y3165dG8dxPxl2ut3//sH33/3ud4dhGATB6S887Zaf3zw1NXXfps0f+tCHGo3G3Nzca1/9mgsuuGBq+45bb731z////7VmzZpkMGSMSfmw44oe7RhjtLWcc0REwCq0KAzDLMu63e5ou12v17ds2+oJuWbNmjzP3/SmN51yyilW61/87Gdf/td//fJFF4ExQMDHxn78wx+dddZZ//65z7/jbX+S7dgBAOPHHP3GN7+pLMsnPelJJ598spTymI0buZStVqsoima9IYTYtm0bItbr9dHRUbCEKzR53vEAOFXkcDgcq5Qqrqher+dp2u12gyAQUpZGp0VugBhjo6OjSqksyxhjc3NzQRAwxsqyJKLp6elGoxGGIQAIIYQQAFDppLGxsUoQrPT2rQBLvjOjNBFVoT/Ck9t2bG80GsMk4VK22u2tW7e2Wq3R8bEgCqd3TPlheMY557z1rW895JBDZqamtNaTk5PXXf/fnX7vX/7tXzdu3Lhp06a/u/DvAaCSWWVZdrtdznkchnEYCs8LgsAo3aw3giAoy7LI8qzIw1q80vvDsTuPx6vC4XA4HhVorefm5oQQYRj6YWARZubnojgOwlBIaYm6g/6LXvSiz372s1mWhWF46aWXMsY2btx4wgknXHLJJYPBoNPpXHTRRUceeWS9Xq/Vah/5yEdGR0eLorjxxhuHw+FKb9/BpkrFJISofGdlWTLGGo3GC17wgne/+9133XWXMabX613+zW8aonqz0Rppz3c7IvBG14z/4pc3f++6a2fn50Tg33Lbbfds2jRM09KatevX3b91y6Vf/9r9W7f6vl8Uhda6iv2SUmZZZoypdnXlvCuKopqPNjIystL7w7EXnCpyOByOVQoiCiEQUVurjAaG42smkjwzQEyKQqswDJ/ylKcc/6QTzjv99JeffPKPf/qT1/7W6xqt5ivO/vVuv/frp7/oda88O8nS817zauTsjLPOLFR52klPOeOFL7j9zjt831/p7VsBEFGXyijteZ7neZpsafRpp512zjnn/NHb/vhlTzvlzW/5g9ZIW1tTGM082c0SK/n4hnVv+sO3fO7iL55+8lNeeMrJF1/yn5rByc98+qDInn/ik173O2/YtG3LmvVrkbP5bnfdhg3DNC21tgDIubYWAIwx9Xo9DMNrrrnmHe94x/z8vNb6QXvrOPjgTbfdfPwxx0orQFfJmMBwMGAZGAEAhgFyQkgRBgDvvegLc7KZisfjteRwPFyQUBBXZJVHmhVCqxFrP/GGc755xU+7oS2FFQYYgAFhEbjlAJaW5StyPPZAQkAiAEBtEQAskABg3CISSeRoCzTFuS983s/vuRWZJcuqOgmIiERxHN9yyy1POPKoPM+DIEgGQy7FmjVrkiTp9/uj7ZFhr99utTqdTpWcmjHW6XSazWaVuZExNhgMyrIMgkAIUSplBD56UxARLpTjqPJ088UyJlWWP02Wcw7GBkyYvAy5POEJR/9i8x2G0Z4x5rUwmp2djaLI9/3KU1mv1zv9XqkVIPq+7/s+WZvneeV0K7I8iiIASNNUIKvValWW8CiKyrIEAM/zkKBQJRJ4nieEyPM8z3NE/NjHPnbmmWc+61nP0tYoa5bqYCyvj3v84cfcdv9d2hohRKGVlNJQdaAO7OHitLD3qt1YpWfkBMwQEniMbzx046/uu10jWcEMET8o+YqY3flxZxZHS5JzKlQMwrN43BEbPQC+P4quuLgih8PhWKUgIuNMKSW4yLMCGDvxpJOG/T4hCE/WGvUkS6dnZ6y1pVZTM9OekHlRaGOU1lU8tef7YRQprec7HSLyfb9WrxNRqZSyhj3+hoC9TrsrtOKetAgWQfherkoz6CNn7caIAUrTdGZ+jnMexzFaStI0iqKsLDhjcb2GiGlZWG1k4OeqjOIFtcQIgjhiBGmaamuEJ2Mptm7desghh5x00klFURiyKPheeuNYUR53l4TD4XA8iqiME9ZaIUSaps1mc77bFUJkWSalrP4Ux3G73VZKdebmNVLcagCAtbYsSwW2nyVeHDJfIiJjrNQ6yzJEDIJg0QLxeKeypWmte71elTaTMVaocq7bIQTP89qjI4wxpRQgNkfaSqnAi0ibYZJYa4MgEJ7UWiNnwzSBKj8kwDBNkIBzjoJPT09PTEyMjo6e95pX+77f6XRGx8fSIl/pTXfsjlNFDofDsUqx1hpj4zhOkqTZbPb7/W6/F8ZRGIZFllulAEBrnSSJUkprXW828rIoyxIRm81mKCMmeGWWsNZWZb+EEHG9RlQtWuktXB2UWunEIGKtUfd9f6FibhzHcZyXBVgCS0WRD4fDyl9G1iZJyhDDIJBSaq2NMZxzY20QhgBQ+dGCMMTqPcM169Z2Op2RkZGyLKXvWSBENyl/NeJUkcPhcKxSPM/LihwAqhqxQogkSUZHR/M8L7XypVer1cDaoiiMMcYYC4BS1MMwydL+cJiXRRSE3PcEFxZIFWVS5KxA4UnBuLX28Tk5f09GRkZ6vd5wOFyqgrJYFQQ9IbXWeZ5LxkeaLQDQWiNAFIZVsoMyL/KyYIBe4FcVnQHAAFVrAoAlSpJkfHy8KIosy5RSlSszLXKXrGgV4lSRw+FwrFIqn1ehFQo+zFJlNJMiV2VVKUKXqtfrCcagSpMTx3lZ5KqsRzExjKMISxH6QVrkw17Xj8I4CsNGzZQqV6U2xkkiWIznnZubq9VqjUYjz/M0TTnnnu8TkcpyIYSo4t4ROWNa6yLP63GNiNJhUhRFHISj7RFG0EuHQRCkeQYAVZqoPF14T0T9waDebCBnrXq73+/Xmg2ttTVuGtqqw6kih8PhWI0wgqIoLFlQOoqiMsuZ4K16YzAYDHQWBIGUsnLcAIAxxiolpSy0qj4qpcqy9Lgoy3JsbGyQJoPBgHtSMg4AVSy2UW5UBgAIwzBN0zzPhRBSSsYYICqlBOdY1QaRsizLwWAgGG/U6lXazCAIoijSRTk7O+tx4deiNM+FEEhQZDkALBiTsryaD0iMIeL09HSz2SyKQinFpRuCVx3ukDgcDscqhTHGgAGAVVpyQQDpMOHIuPTI2GoFQ9XEbgYAVpvQ8602vpBkbCA9o3QgvTzNBDKUHgGQsRwRAR6fkmivTitrbVX/hIiqjwAg+MIEsco7iYhVhqdSL6gZbQ1YgwyDKEQCpZRABoYAQCADALAEAJVNzhpTVWGL47jyrDlJtDpxR8XhcDhWO7gsmc1DX/OB28cbB2ijK5lVtS5M6DGA8ys7HA6Hw+FwADhV5HA4HA6Hw1HhVJHD4XA4HA4HgFNFDofD4XA4HBVOFTkcDofD4XAAOFXkcDgcDofDUeFUkcPhcDgcDgeAU0UOh8PhcDgcFU4VORwOh8PhcAA4VeRwOBwOh8NR4VSRw+FwOBwOB4BTRQ6Hw+FwOBwVThU5HA6Hw+FwADhV5HA4HAeZPSur0x6L2K5/cu2eLQAQAC3bUUvL7T6K11ukvf/B4VjEqSKHw+E4GCAAA2DLxuVqICcEZQ2XkhCklIwxA+AJyRgDAItA6Np9tMwSsxYtoAWwANaiJbSMAXIgtJo0oUWJwMis2JF3PJoQK90Bh8PheHzBCMyStQMBAHzfR2S6KAE1KqUBiqJQOhd+hBYIAMm1u7cEAJYAoNpFYAEAsLIYGcsYMmREYJQmpUEytuuedzj2ilNFDofDscIopQgZWSt8Ecg4AGg2m0Upy8I4l8++QAJCQABGgAScAAAsABIYMkxwwRAAOQFZEIRutHM8FNx54nA4HCsPIgKitbbQhQLodrtFntTiJjhZtA8YLpjaKtfkkiqqlqEFQYiMB8CtQAGIAC6syPGgOFXkcDgcKw8iImMAhogYQBzHtTgok3Kl+7W6QQsASICLcdeIAAAcwVpjLJGxKBhoU2o9zJIV7avj0YFTRQ6Hw7HCWGuJERAhoud5HGDD+g0RCA/QzYjZF3ZxAhoHwMWZfZU6sstW86rlxkjOD3YXHY9CnCpyOByOFcbzPI5Mk9Jaky4swLbt2ziZPHW2ogeC0AIAt7DkHSMEAgDODFkAsNpEwrOl4pqOPPoJK9pZx6MDp4ocDodjhSmKgrhgiL7vS8kYQJZlWTqoBfWV7trqxS4lKGKAtJBmZmHSPlhA4JwjETAUUoaBrPnhSnbX8SjBqSKHw+FYYTjnRMQ5V6q0uqgWxnFsAfdM8OhYwiICAFpAWHCnWQQCIARNFoCIoUIioxAWljscD4xTRQ6Hw7EaIQTjBvIHxC7aihjtnKtnGBCAAWAIxMAgEIJBcFkcHQ8Fp4ocDodjlVJlcHbsFQKgBbcZ0OLss2p5ZTGyi+VBFhJh77sSiMOxhFNFDofDsXpxGXYeLlVoES2rjObEkOOh41SRw+FwrF7cgL4v9qUXGS1kuF54VcmvD2rXHI9inCpyOByOVcrS1CrHnlhcUEZsUfrsXL44Ub8SQ0vvXR00x4PiVJHD4XCsUthC/VPHXuC04CDjizYhACBY1JG0UB8NcafRyOF4UJwqcjgcjoPK8jCXpcpcSAC4UA1+2Zp2MaJ4p9FoX8W8FmJo9mdP98leLVh7dozw4fXnYRnGHvSbnQxyPAKcddbhcDgOBlUlit0kUfViBGyZqqgihQ2CBlKgM53H9SgrszD0k0FfClbkaaMe51nCkGpxOOh3PcnBGgNGmbLWiLMizYo0jANlSi+Q2ipgpExpwXiB9EOv05sPIn9YJK3x9rBIDLMilJnO41ZtkA9LUjwQGs2wSEpSMvL62UBGniFtSGuruMeVVYN0wDkyBmANR4hCH8iQKkmVnKzvCeGLQuXaqpGxdqc37wUSOeRlhhyCyB+mA0NaeLxaAowQqcwzJGu1slYHgYdIxqhqz1nc5QVoLUL1WgivXr6rcdcWXdy64yHhVJHD4XAcVPYcnve0slSGkDAMkTNrbbfbZYwppaIouvTSS1917m+cesSRv/263/rR93+w7f4t//WV/+jOzXtShmEohOh2u0TUarWstYPBIMuyKIqMMWEYaq2npqa01occcsj8/Pxoq7158+ZaGEkps2HCGBt0e41GY7TV3rp1axyE7XZbMp7n+RGHHjYzMyMD3wsDACjKkjFWr9d93y/L8qqrrjrjqU+98YafkDZIYJR+x5+8/dZf/qpIszAM2+32LbfcMjIykiSJ1rperyultm/fPjk5GUVRmqb1et1aiwCC8VqtdtVVV1199dUMMM/z+fl5Ifbu09hNAy28X5bLwC4qocqK5lSR46HgVJHD4XCsUrIsQ4I4jhljYRhmWXbZZZddfvnlF1100WU3/OSjH/6I5AIANm3aNBwOETHtDaDUjSAab7Yv+NgnPn7+h4/feAyUOu32UZm6H7aiWjuuZ72BJPSAFYOkFcYBE1zbkVojFh4Vims7v2P6sMl1w/lugLwcpkyZbZvua4Vx0h/oouPdmMIAACAASURBVEQAKYRApouyyHKwVIvjJ5922le+8pVarVb1c7TVXje51uOCadudnj368CNj6a8dHc96g7Tbr/vhurEJkxXzO6aFhRt/+OMvf/7fYy8oi8JonQyHDJEhGqVH2yPNemPPPeMkjuMA4eKKHA6HY5XicaHJCmTKGF2UnpA/ueGG33vj70xOrBFCnHjiiXNzc0zwdru9fv160qYRxUqpfJgIIf78//uzwWBwzx13jo+Pa60ZY9vv36KUOuyww+bm5gadbi0IrTahF3Y6HSJikeEAzTBO07QRRExTI4iSue5IrZGm6YaJyaTMGWOEWGrteR5jLM9zMtb3/dnZ2Ve84hVfu+Srl1122YtfdLrWutfrDbq9IAgM2UBKnRdpmnbU7CFr1ymlyNLs7OzY2Fg9jNrtdi0Ip7dtH3Z7la0rkB5p43ERBEG32y3LUkq5Z45vl4XIcSBwtiKHw+FYpRCRKRVDDILAKD0zPZ1l2emnny6lVEpxzj3P48j63d673vWuF5/wpBcee9wFH/uETvOk0/vHC/7++9dce8iatTf96Ib3v+cv/uj3/+BVz3/Bb73q1Zdc/JV1YxPlML38kktf/pIznn/0se/80z9TSWbz8trvXvXCZz/3ZSefcvpzn/fLG39WDBJU5vz3f/Dlv/bCZx12xAUf+bhROvIDyXiRZmCpFsVhEFQz3tPB8HWvee3VV17VrNXrUZymKee8Hka9mbk3vOZ1Lzrpqa84/SXXX/29ztSMJPzwBz80nO++6bff+LrfPO+df/pnb3/9G77zb59/xXOf99LTTv/5TT+bGBu/7GtfP/eV57zw6GPOOfvsu+++e5d94gxFjgOJU0UOh8OxGmEERmutFCLWwohzft999421RzZt2uR5njFmfn7eGJOm6fbt24877rirb73189/61szUNEc2MTZe5kXoBzu2bQdLm+65981v+v2vX3vdX/7F+278yU/vuuPOmanp+amZf/u//3L9L3/12led96//5/+G0rvmu1de/MUvXXXjTZ/9zGc3HnFkq1b/+iVfPfH4E6685nvX3fzL0POv/PYVvV6v1WoJISpZJoSoQoXyPH/yk5/MOf/GN76RZdnY2Jjnef1u7z3vevcbf/sN3/jetRf+w6ev+Na37737nmF/gAQf+8hHX3bmWf/x5a984K/e//6PfuwP3vXuy666+opvf/ukJ5+4Y+u2tRNrPvzhD3/1Bz/8vd/9vRt+/OOlHeJwHGicKnI4HI5VShiGvu+ng2EyGALR6OjoxMRE6AekjcqLMAyjKOKcn3LKKa985StnZ2c3bNjQbDZ37NhBRFrrTqczPj7OOT/rrLNOPvnkkZGRI444otlsHn744ddcc83nPv3p17ziFc85/oS/evs7Nt9z7z133nXMEzae9+KXnP/XH0oHQ5UXuii/f91/f/L9HzjtpJNPPf6EL3/mM71er8wLJJBcCM5VWeZ5zhgzxhDR2NjYy1/+8iuu/K5FGAwGZVneeuutJ5100qmnnlqv15/97Gefeuqp1157bRiGw+Hw7LPPPvfccxljiDg2NmatbTQaADDo95uNxlOf+tSRkZFarXb00UcXRbHSx8HxOMLFFTkcDscqJcuyyA8ynTLGfN9ft27dDT/68RkvealkfM26tcPhcDgc1mq1qZnpsiwnJ9YYpQ3ZqBZzKZCzMI4sUF4W/eHAAg2SofS9QpW9QR8YvuP9f/WKs14mhSCiNE1HRkaO3PiEM1521vXXX3/hP3765JNPfvWrXy0D/wtf/9r69evb7fZ927Zaj9dazenpacbY6MhImqZa6yAIsiwbHR299957Tz311CuvvPK6666TgQ8AYRzdfe89I2OjeZ53tm2tNxudXhcY1puNZzzrmXlZ5Hm+du3abr9XapXmmbW21WoNBgPG+eTkZKmVtdbzvJU+Do7HEc5W5HA4HKuUQHpJkvi+zzm31iLieeed9773vW9qdmZ6evrOO++8+957uv2eRZhYO9nt95Q1zdGR0pp+mnhRWFrTHQ6CWkycEWci8IkzDWQQjj3h+P/86iV3bb53UGSZUf/94x/es+W+X95xG3jizLNf8bY/+9Pp7nxtpLX+iMP+4bMXzfa7wzK/f9vWm2/5VVEUvu8TUVmWRBQEgdYaOOsO+iNjo1mRn/Xyl139vWtm5+eYFJMb1luGX//mNzqDviJ76eWXPeHYYxRZ4my+3yPOmqMjU3OzzdGRX9zyq0yVfhB0ez0CCGtxnud5nvu+7/v+Sh8Hx+MIp4ocDodjlaK1ttYaYyoXVbPZfOrTTnnVq8/7nde//twXnfb+D35ganYGOGs0m3fceWd7fEwjdZNBSYYHXqZLkNyvRVPzszIKNBIJtnV6R2O0XWs3j3/Kk09+9jPe/JY3n/n0p73kpS/51e23yTC46trv/eZrXv3ik0/6k7f/yXmve60i+9u/+zuDLP2Ns858zjFH//l73w0AxpgvfOELn/nMZ6y1RVHMzc1preM49n1/29SOII6e9rSnjU+u6ff7c/1u3Gq8/nff+KX//MpvPO+55576nBed8ZLnvuD5ILlhIKMgataHRWY5HvaEI2d7nVf+2vN+/ZxXznU74+smZ+ZmmeBeGOyYmc7yvNobu006c2FGjgMB3nTbzccfc6y0AjQAA0AwHAxYBkYAgGGAnBBShAHAey/6wpxspsIpd4fjwUFCQVyRVR5pVgitRqz9xBvO+eYVP+2GthRWGGAABoRF4JYDWEJwM2wewyAhIBEAoLYIABZIADBmgAEIYIxKNMW5L3zeL+69jaMFzsuy9IUkojIvGvW6lHJubs4qzaSQUvq+zzjv9ntRFCGilHI4HMZxXBQFY0wIMRgMRhZdXYyxIAiGw2EQBEIIIiqynDEWx3FZlnEcb9++nXNeq9WKotiwYcNPf/rTtWvXIiIilmXZbrd7vd5wOPzoRz96zjnnPOMZz6i+LQzD2dlZz/NardZwOPSkHAyHRus1k5O9QT8Mw7m5ubGxsSzLfN+fnp5ut9tJkjDGpJSc8+FwODY2liRJGIbdufkoisqyrFql9fj4eH84sNbCHqpoKXljVR2WW4DFLI4EoMlyzsFYH7ktVcjl8Uce84vNt5vVZwrAxRq3S++PP/yY2+6/S1sjhCi0klIaqvJ6HtiCLpzAAhAulGqp8q1zAmYICTzGNx668Vf33a6RrGCGiB/ge1WVjoHZnR+rjhECWJKcU6FiEJ7F447Y6AHw/VHmZfWdIA6Hw+EAAADGGOecMcYYI6JhkhRFEQRBc6Q9NjYW12qlUr1Bv95qlkb3k+EgTbgnS6PTIieGxLB6zz1ZaJWVRVrkYS3uDQedfk+TDaLQAnV63SRL5zrzUS32w2CYJlEt/vFPbnjSiU/Oy6JQpTJa+t62HduRs207th933HGnv+TF27dvn52fM8bMzs+1221l9OzsrDK6PxhI31szOTnXmS+N1mQb7db927ZWXrYgjnJVjk6MMymAMz8Khe/NdTvck51+b2R8DAU3QNyTYS0Ght1+b5il4LITOQ4WLtra4XA4VinWWmOtQiOECKKQiJTW1toyTZM01daEtTgO/SRNpZQh51KIat6Z53lTU1OtVmtycnJ2dhYR2+221jrPc2vtxMREnudKKcttWuRCiHa7XRSFtZaI/CjsDvqHHnF4PxmGtXjBf8fQj8JclRuPPeaJT3zi9ump1kibGPp+QIJpa+qt5tz0TKtRa47Xt2zfNj8/3xod4YhVlY9DDz00z/N2uz0cDhljvV6Pc661HgwGQRBU8Um9Xm/b9NShhx6aqXLz1i2jo6MoRa5VvdFQZbnbnmHkdJLjgOBsRQ6Hw7EaWSrjpZRaSg4EAJWnrNluycAfJkmSpsqaII6UNUmSjI+Pl2XZ7XYbjQYRdTqdKuhnMBh0u91qPlev1+v3+57nEVGj0QjDsNfrJUkipWSMzczMEJFSampqSiklhDDGlGVZJUkSQqDgvV6PGIZh2On3jDGdfo9zHtbi/mCwecv9ca22Zt1aKSUARFFUr9e11vfdd1+n02GMAQARVR60OI6llN1ut9PprFu/fmzNxKat93txuPG4YxVYZU1Ur/V6PZe50XHQcKrI4XA4VinWWu5JZExpXRqtrDFkLRBy1un3tNYTExONRoMxNj07U1lcsmECxtbCyJSKtKlHscoLgSwOwtFW25RKF6VkvFmrq7xQSqVpaq2tJNfs7Kwx5qijjhofH+/3+2vWrEFEY0zlv9Na12q1PM9nZ2c3btxorGWccyEsURTH852O9Ly1G9ZzIUqjkzTtDwZENDs1nfQHVuljNx4dSI8RgLGMgBGovOjMzg17/cnxCY+LmZmZNM/iei0r8ns23VtqVW82kLOqHu0S1f91OA4QD1sVWYTlQV+uda1r99VSFTmJltjyxQDLQwKJVY4Aw1yotWN3yrIUyCoTDgAgImNM+B4x5JwjY4PBYGZ+rtVqMcak7wEAcKa1NkCe5xFDY4xFMMb0hgMAsAi+76dFzhgjhkIIz/cZY0VRVEYdAJienp6amlqzZk3l7SrLMggCzjnnPMuyKIpqtVq320XEqampRqNhjMmyrNVqZVm2ZcuWIAjq9fpgMBgdHVVKHXLIIUEQlGU5Pz/veV5ZllWhkqIopJStVouIiMgYE/g+AFhrfd9vt9tREA4Gg87cfGUh2y+sNqdbdbUvlXjDxauf7fqxWuEg3BoWb1x7uZsBLBgvlzQALOv5gWDpyx/4V+xiCLZ9oLUeBo/EVrQUBO5a17r2AVoLQGgITfUWwCIRW5zZgZYxYguXNAOLYHDV3bUdKwgjCIOAIVpjPCnTNCWi0mhEzLIsiuOiKKqM0jt27GjU6qooldbaGCZFEIbKGgIAzoqyRMH9IEjyTHoe96QfBIM0kZ4npJzrdrgQtXq91+9LzyMAbYzv+2maVkmrOedlWQKAMUZKWc1u01pzxuq1WpamvueFQZClqSdlHIRAlPQH7VYrTRIpZW84sAjEkHsyVyX3pCarrGFSWIRclcL30iJnUlhruQWPGOWKcoXaesjjICRtcNmDhMWF1yNTCbSaXhatQUtoCS2gBbRs4WYADBaWVH81aC1aQjjQL8sW7mC7LFxqF/9UrQN7rLkfXwALd1FY/K09sbBw5zTV/nxEp8RuPAJVZBEsA3Cta137wC3beZFawOpOBwiAhACMVVegsw059o1SqgqCllI2Go1arWaMSZKEca6UajabZVkOe/3IDzggB/R9vzLM7Nixo16vR1E0NTU1OTlZpUP0PK/X683NzSFiFEVaa2PMWHtkfn6+0+lUcUhFUdRqtUfcYVzWPrL/vtfX4wRGgLRgIsKVcBTuS3zsa/lBpto5DHZa0Spov9rSHp5lEgmEBWktEhC61rWufaAWABABiSEBA8aIIQEuBkZU7wGAWzBsl5wlDkdFGIZa67Isi6KoZmzddNNNg8Hg7LPPvuuuuw477LB2q9Xr9YIg8KTsdbtAFEURB2zU6yov/uqDH3j7H79t0O+jpbIofCFHR0ZIm0IrrQ1w1uv1Dj30UE/Kfr9fFoXWGgHKomALov0xyOoY3wF2HcVx2YfdhCDuek/Ag3CL2HUfIS17VR3AXf56gCDcabZBArYPUxAu6cj99LsP+9QntK51rWsfYosWARCJISHQzssNFx8HcTEBnYshdeyJtbYq9IGIlbGnKIo8z5MkOe6YYzlgd2ZOAssHydSWbWPNtgRm8pKMPWRy3czU9PqJyWF/YPLyg+//wJXfumLQ64MyeZoJwsDzbaHGWyNbN92XD5KaHzJDkR/EQfhYlUS4a6bEFW8r4zHbdfnufV6yG+2x5v7vz+KL7fGR7So7lq9zEPpT/RzAzh9d2huV9Z3t14ljD89WRAgGQT02LxmHYz/DCKQFIAZAUAUULdz4qseehYefxcwrtPDP4VhEa22s5ZwTEec8CAKPi1a9kfQH9SAa9PrjY2Ozs7NxHK+ZmOj3+0Zr4ftRGG66997RkZHt27apshwdGfnf559PRL7vW2utMYrI97xaHHueF0dRvVbr9XpCCMnFbGe2PTpSlalfHuVWnZmrx9DyyFgYUwksrIp2qVcPMKjuqT8YgKX931bYqj/LAsCXHt7YkqkbgZZ5sg5QfyxB5Rpb7jJjCLZ6v+RtRIBFA9t+0SYPO7afkBl0ssjheAgQI2RAlgAJmQUkZLQYeu1wPDAWoZpoxhmr5s9rrbvdrpRy3eTaW2+55YILLoiD8MbvfAd8/yWvPOetf/SHE2PjN/7spve99y86920Gxpsb1o8129vu3/LJj3/izJed9WvPe/7Pbv7lRz/8ka03/hRGRjccdeTffuKTFugH1/73lVdftW3bti0/uQGi6Px/+qcTTzxxlYSS7HcYraK2EkZsMYpoyasOCwGICwsriQDLRn12ANqlb7a0y8dd9tuilQtoFxVyIPqz1JPl0QV2SRhVSm7ZLtpfPPwZj8QY7ccOOByPYRa8ZtWUDYYLeoiQWbQGgVfzLNASArrLyrEHSinAhUn4/iK1KE6TpNFoTG/f8eY3/f4nP/6Jm2+++Z8v+owvvXvvuvv8D/3N2//4bccefxwjuOifP9ub7xz/5CeFni+5KLN8pNV+33vee/QTj00Hw69+/Ws//sEPz33Vb/7wuuvTYfKnb3/HMU889rrvX3/ttdeeeOKJS314LCn43Yb8lWV53MyDsjzC5oCzRxVeXObur8xFBED7dvztF5bvn0r67FWpLxnS9tcN9GGqIkJOyBcm01jXuta1D9BW1+rS/NVq9qYBMAiWLfijGYFBIIQDXWfR8WiEiBARYCHAyFqbJSkSIKK19jnPevazn/3sPEkPWbd+7dq1SX+wffv2037tBaeeeqrneUmSSMaFEEWaAUA2TMIwjPzgM1/4p+u+/nUoSwA45y1vmZ2allKe8eKXPPnJT06ydP3k2s2bN1e/7qpqHFCW7g9LNqG9rrM0Ma1a84BSHXEGO7XjcjsN223lAyzRljaZLevM4r0VCHZ60BjtT9/uPlURAqZZEqDPPA4AFgAArDHCMAlscf+41rWufaDWD3yt0kKXhCYM/LzbJ4BC5SYSBgGrHEWM2cX/VNX9djgqOOeAWGU+JCIAiKKIMZbnuRDCWssYi6JoOBxWyQ+XKmnMzs42m82iKDjnAJBl2cjISFEUF1988ZFHHvmXN9xARFdcccVtt93WarW01pzzWq3WHw6qAKaV3u4DBSKunm2zAIC44IfCXcb1BPIwigaDARFFUaSssdYiAR5gSxctey0sIQALiOh73qDXU2B8ITVQogvf93WpDtwckYWUVAS0KBmX+oaMVQ8J1QnP9mvA2z5VUaGKKIzAciDq9nKvHTIA3/f7iMAQCAFd61rXPnBru505HslGI9ZQWp3nRQoAKLhFMgwYABLYah4DAK8e1JzRyLGIUopxXkmiqhhZoUokaLfb99133yAZ1mq1qsI8AGiyzWbzmuuuPeqoo0578emb7r7n/m1bqzHVGKPJlmUZ1Wu1MGJS3Hnb7Vdf+71D1q0fpAljLFdllmW1Wo0Ydrrd6tcfe4ai4w47eqW7sAvVQxBbtgSrUR9g3dh6PaYESA6owRogAQdDrlrYJR0iB+AABrQEIdaDBThi/REayAIzYDzg7IG+bD/0ZGeat0VJZAE0EANkABxAAKgyY/tvKsA+VZEvfW2UMATCa7XCFKAEmJqbVeNRwjgAWw0eCte6djW3nGy9EWldDgfdwhaBwFgKAJCSA1QJrwEWXWyLeUCcJnLshHPOOJdCYGXn4HxsbIwxluV5kiSNdmuYJsaYJEtHxsfSPDv2+ONe9oqX/+X7/uIv//AtRz37OX4YdPq9sFGrNRvamuZI+7gTjv/4Rz924V9/wFu3/uxzXtmo1bv9XliLoch7g36VYLrVai3vQ3V6PjbOy1s232FXug+7gLt3p/JhCWSarEDGPVlV6q1SM2RZdkC7U/06ISx1ixMwAh85Emw87Khf3Xkr86VF8OIwTdMDHaVFuNODtuRwtAiGLAB4QqK2kfCEstGhhxtL4f4oDoM33Xbz8cccK60ADcAAEAwHA5aDZWBRIXBJCEOEDODDX/nGrYlKpP8//2GH4zGPNFArLZBJhAVJ9cirl+avX/3yS7/5o36DFRyEBSTQjBECt4gECORsRY9hkBCQCABQWwQACyQAGDPAAAQwRiWa4twXPu8X997G0QLnBMAZK8tyoaD9jinf98fGxoosn52d3bB+vRAiSZLZ2dlDDjmk0+msWbOm1+sBgLV2OBxu2LChKgzS7/cBoNlsZlnm+/7s7OzIyMjc3Ny6deu63a4xZmJiolRqMBgYsp7nAaz2mfm02EO2mPQLFkdNAtBkOedgrI/clirk8oQjj7n1/rtWuSqC6jHJEgBUteeMMVprRJRSaq0PaHeWVJFZPNKcgFvwgOlSPemoJ/701p/zwOOeBMlLrZHogEZbVyyPu6qObxCFhVJkTJlkEZM+8icdebQA4PvjFH0gYYWAwLkpCvR9hqAB7rnnLm/dhpIf2APjcDw2CAgkmUj6UtpEJ9l8KowtDNQ8L7GaM8uJIQERECGzDNA6SeRYjjHGWkucK6UYY4g4Mj7m+/5cpxMH4eS6tcMkqWraj42Pp1nWbLU2bd4cRdHExMS2bdvGxseTNO31ekqpdrvNOS+VSrOsVq/HtVqaZXGtlqSp5/tKqflOx5Aloka7labpbj1ZVXrokcMYrqot2VtnCIBzNMZoa2wlRxkSgLYGD6DDauG3EYFgZ74iRgAIxpC2xgIEUZhrxTkbJEkQBAd0b+6SNHKZKiIGaZ4DgOTc931BjLQtrbbIwv2RNuhBzE2kFPc8WiwycuiaNdvzLFRqVfgnXOva1d0KgyzR1lNWGCkgCL1JGQYAEkiQNRaEBQAgC7aag0aM0D5WnBWO/UBVT54xxjlnixajqr49MjbM0marOTMz0262i6IgoN787NpDN6i8uPu+TbUw8mvRprvvmVg7GXp+d9Dv97pBHPlh0E0GRNavRUVRGAZCcKUKAIhrsdZ6OBw+VtNba61pdakiu/zT0gfmeRaArK2C38WiY0gpdWC7QwvuM8IF75Uh4FXBIsYAIAzDfKAQ0RgDDMvyACZ13rk3YKcfzSKQhbwskTPuB4wxwaUQINj+cJ4BwAOoIm01ZxylBEClYC7Lg2bwR288Ty4GQLnWta594La6nkuAHKAEMAB5BnUONssEZ2ZJCTFAAk5AsHA/cjgqqulg1bjIOa+KvKZpGoRhqVSpFAFwIQjAWAsArXZ7vtORQrRHRoBoZnZWBr42ZvOW+xvN5sj4WJbnyMBaG9bivCgIgACU1lwIRCQAQCyVCvzHZpgEE3xVhZBXk6eWhv8qmJoQSq0qQQxEFoARcUQiwgMcb11JHISdqqi6NelSM84sQKFV1T3hSaWUOJD9Wfrq5aqomsdSr9cNWQao8hxKLSxosAL2j0ITC9WXsPrlhXs5A+BMAIApM+7H3INRLxgCfPWSbxEKu4/fXhHj/wOc4s4Z4VhZLHBtOEZ+ikozzTiOcO/I5zxDSs7JVA57i9XFx7i1FsEyA/s4pZf776sbluNRB4NKMltLwBdCVS0SICASMDSMbHVXYwAAyAGVtcYYYwzn3ForhGCMVVG3zWYzSRLP89Iij6MoyzKllOd5ZVnasgzDkIjGxsf7/X6j2SSioiyLogjDME9TIYTW2vO8Qiu0FMexMabX63meV6/XVVmu5G46YFhrD6Yq2usYtGsHLCxTRVA9FBEAgBACOVSTz4mIAIjI0gG/7O1iN5ZUERIwRM/zEEApJaU0ALVaLUkSa+0Df1v1JcsjhB4WSzc6XMwDTgCWQOcZIoKQxBCRM70/d4sQZBEsIFi2kHuXAUDlVSTDA98CVfdpDsAZDqUo9u7axJ2VSmBhM5Z9ekhU/+PhnLWWcOn/7dGh6ucX9ykAEFbC/LFpHHasPhhpEgKNBSa4YaZEjR6ktuSMSQTGSDND3AIwWY2QHMyiUX3X62iXO6ybwP9oBJflo6piWgEWRBJyYMYgWV3msS8IIPbDosyMtVVeoirqNgiCLMuqIFwAUGVZfQcHLPKcIVYuNykEAFhjBOfJcMgZAyIEsMb4nmeNicLQGiOFIGsl48igLAoAiMKw+toV2DsHBQaIi9fX8vFcCFEUBZfC9/1+v1+v15Mk8X0fFkO74jhO07Qsy1arlSRJ5dY0xkRR5Hne/Px8NUesUglLqZaXhjLOOSJW1eWMNePj471erygK6fsAuzwHLb0nszC/ayGN59K7AwkudQABcOEjAiCC1poAGGOVcbGaFscRpZQAkOd5GIZJkkS12nA4lL43GAziOCYEpVRcr+V57nmeUXsPSl7KVlr5iMuyrNfr1lqj9FI3oNJqAICAXBARIQBDhoxzYPtvWBe4oD0tIRhktORUW7znWrAE3C6as0oOhdhL3HxVBmS5EKlAYktq8UF1YnWbeBDxucv6DMDavYXxLx9RlgVqMSeJHAcNBuD7kTFaKc2QUpuDtQagPdq6vz+nmeWWGQalZAAgNCIBLdZpRAJabBdO2eWXFe7rWcCxeqkec2FJEhEuPQEaVXJrozBs1kOfixJsOkiNUTySD+Wb/yeD5WpyKK0YiDgYDKqElrpUjLFmvTE7P0fGNtutely78+672s3Whg0bNt1zb61RB0t+GBRZ3u/3JRe+70suqunisDdTbpnlWVlMTk4Oh8Nmu3Xfli3NZrPRah3omfYHGq01WPICnzHW6XQmJyfn5uak50VBWPl8CSFbXJOIBOMAO/XAUusJWajSl17Uinzp9Qb9ZDBUSsVxDDuNGjvtWLDrm/3LI4hPYkD7jMTbxdhDDGDR/rTYPgD/A4/A3rqz67e5WA3HiqCUMlpZawPPJ8QYQAAcffTRp7QCDcABNEA12ydavBqrK3/Jwb/b+4ql6CV4OE8R2vx80AAAIABJREFUjpWFAAwsRo8BwK7xpAQgARBgqFUMrFarlaYs7WPWbLMi0E5/yC7DRp6mh27Y0Ov1kjwfHx1FZFvvv3/dhg1ZktSi+N677x5ptRu12h233d5qNDgyS9pqwwAE42SMYAFYa7QmvvMyNYuRKQAgAz9q1nuDvjJmOD09Oj6mte4N+p54SKp31dJoNDpz89UMRyRIkiTP83VjY9u2beNSEJHv+2VZBp7vS09KqUsF1XwU2qUlY5CAjOnMzTMA4XlREHitvcyFPAjsr6jtXViw+8FCxl6Ane2DVnF7+Ld45sYFx6qlmjUtmSSGqlRJWVqA+++/f/vtPc0sEtMMcsEAIFIoLOCyuIHl9s59PTNYtipm27n2obQGF2reLSbK2zmCcgSjylB6HiMB+LSnnDTMUkSC1VOf4jGN53nD/kByEQXh/OxcGIaekKYoiei+TZvWrVvned5gMFi7Zs1CJA1jeZpKKUdarTRNOWKSpkwIAKyO9ZIVpBr487IgznqDwSGHHbpjxw5tTV4WzXYrHSaP6gDBXq/XbDaNMZ1OBxEDISbGxudmZiYnJpQx1b4ySltrwRLYnRWw2a6tMSb0/SokDhF9Ka213fl5LwgO/kY9bFXEaPfi3ns1wyxUmMMFi9HO/175yHY9DyqPG8GyqTsPleXP1bt822Lndq7kcBx8jDFe4FtAYzQRoeAKYGZmBms+IiIs/gNAREKwy87l6lli+QWxq296IdmaYYs1HV27ultYPKC4ELSBsDh8SikEQ7CUpqnkwgMIgiDPV+BB+fHALuZYAqgitCw1R0Z27NgxNjoqpWzF9flupz02WubFoNe31kopPSHTNNNaN5tNywwSJIPh3Nzc2rVrBeNMCA12SQkt/7lS64jz0dHRbrdba9QLpaTv37Np0+TY+EHf+v1J4Pmd2blms9mqN5RSDNnc9MzI+Fg6TGbn59avXw8AvpRgCay1WsM+HvAE41mSFlmOBPVardPptFotznl5gLNW7pWHq4pwT9myPMK8ovKg2cXAqOVrLtfR+4PdDUXLi+s6HKsBAqiS4wlP1j3PB4jieAA7r3a7GE6HCIaBwV1O6+W31+VndTXWGnTe4UcN1SRn2ONJkhDSNOUIAtAY4wnJAYQQRIQu7Oeg8O4/f+fU1NT//pvzjzjiiGQwLPJ8ZmbmDW94w0mnPPVTf/93zVp9y/ZtkR8Mh8NGXGNSlFnu+36RZrfdeceWzfed9uLTIz8orAZcqOtesfReci6E6PV67dGRbr+HnIdhuHHjxkGnu2LbvD/IsmxiYmJ+fv6d73znzMzMpz/96UajwQF/9P0f3HL7beeee67v+77vV65GhqyyHu35zOBxAR74QpZGz05Nf/HLF//aqc87cuMTmFiBetmPzIO2cNCXJIhdbJZf7Us38N01U+VEQ4Bd7/J7qquH2pldz8Klvi1FMtIuysxZjhwHjyAIEMFoQ2RylXfTNAFIkgRqe8kHQwh6D1W069kLsOwZdynfmuNRASdgdvcMCxVhGJLRApngxIEpgCzLtDXywAQ5PJ7Z6zN5HMdPOv6E22+7bcP69c1Gg6L4+muve/pTT+GeB8bOz859+G/OP/kpJ732t1533feuvflXv/ydN7zR55yM7Xe627du00UJ0idjGUPE3a9TABhptS//xje++tWv/q93vnNy3dowjrbcf3+73X60X7uISMY2avVWo1mPaz+78abnPve5qiglF1s239es1a21gfRKo8HYpZG6EovL289e9JnjTjj+lJOf2mg1UdupbdsbtfpIs9VNBgd/o/bPJVdlPLKLd2pGYHHJZmyXe9z2PF12cwoweDh2aQDCvX/bkki3+Ij1lsPxP8ICaK2N0RZtWAsZcZHnAUCr1Zo3OTCsTt8lD9pCbCYCAPAlYbRcFe3aLvhiHI8SquOFsHC3XD7RutRaFVnApS8ZEpZAwLDRaGSFc6LtNx7Af9Buto4++ugbb7zxjDPO6He6nudd9d0rn/vc5956x+1Zko6MjLz33e8ZHx9PkkQI4UsPEY3SQoiRVjuOYwaotfaEUNbAsidzWByYBt3er5/5sqef8rSJyTWDwaA7Oz85sUZrTQ+W72eV0240k8GwLMsNGzYceeSRX/rSl575zGdyzpvNZjpMoiDsDwdgySrNAAXjxlRxAbuESyIB57xZbyBir9OVUkoums3mzMyMjB4NcUVk0SJ5XBhjanHc6XTCyPd9v8oTHwSe8GSSZ2Hkc+nPzs76fmhM2Wg0sizTWptStVotXSqtNUNERFWWjUZjdnY2DiMv8Pv9fqPVHPT60vcCP0iylAsJZI3WwpNaqXqz0et0wzgq80L6Xj9N6vU6A1RF4XkeElQZz6SQeVkQETC0AHEc94cDz/PcfGbHQcbzPGXLsixLKiVnAJBlGQu4UoUvAyKrtfZ9H5FAGbQ68D1jDHBGCNZaLmWplTGmutGQMaEfKKWs0lUR9ZXePsfDoIorWHrBYiwlAoRhaAtlCfKyjAABIE1TdIf3oKCUOuKII27+xS/uvPPOpz7lpJtvvjkIgrVr197485/5vq+UuuCCC1784hf/6Ec/uvjCCwHgsx//uBwbu/jiixHxJz/5ybe//e27fvQjCMN3fuADZ55xxszMzFvf+taZ2+8Axk5+/vPPP//8er1+9XevvOzyy9/zF+8NgkBGcTpM4jjOzaN7jiERlWUZx3G/3z/qqKOe+MQnfuc73znzzDOrJOxZloGlS/7rvz52/vkw+H/t3XmYZVV1KPC19nCGO9+ae+4GGroZWgQaEEEURcAI+qlRATVqTDQh+kXz9PkS8/hionnxvSBOwShGjRGfTw0gD5UXRSMYMYiiInM30NBDjbfuPffMe+/1/jh1q6vn6qbHYv++y6K6+nbdW+eeYZ291947GFyz5sMf/vC6deu2bNnyhS984VWvetWf/MmfnH766Vu3bt3ywAM3ag2cn3PZZR/5yEeq1epf/dVf/efP7zWtyZMuuODv/+5jjLFqvYacJ0lijIFDuSLNfmdFUkqOzBgTxxFHlIIhweYnN5XL5eGRwSAMx0e3lUqlOFRKdfoadQSeZ1lrbKLRrAVR0mzUkjDSOkdi3JWIbKLd6m/2NWpVImxNTixZsmxqaqLslxApaHd835VCxnFYLVeIdJjm0xMTQjgS0TAetDt9/X2ZUlEcl/2SSjKttUqzWq2mlaZMNfr7grDb12w89fTTyFmj0Yi64aHYjpa1W4TbBwPPJuQGIcsyLjkiGm1AMmV0kuUmShvNuuu67U7HaJ0bXWvU0zwvJn+LuqFSiiNqrUlpRHSEnJk17kivbWLjPCP09ocddpJe+99RtRjFwrOXrUsIzWZz8eLFTz311IoVK37+85+vPG7V8PCwUqpSqWRZNjU1xRh7//vff+655z700ENXXnllGIbVanXjxo0TExNvfetbL/ryl+//5S//7Xt3vPLSy8qe/8m///jw8LCU8qtf+cp/3P2Tyy67rFmplV2v5HrGEIBBAqXUsT6COkxixpgQotvtLlmy5A1veMN111134YUXFnNgeq772KOPfvOb3/zGLbfUarV77rnnH//xHz/xiU8AwIYNG2644YYvfelLfX19fX19//zP/7x69er169eXy+Unn3yy1WqtXLnyAx/8r4bj52688amnnlq7dm2SJGEcN5tNBJP32pwOhf3OijKdgXClFI6QQCQZjzrBXT/+0SPf/R5EARDBulPf/vu/v3L1qqmp6e70tMOdLE37q43JsbFTTj7tvl/cWynXhkcG80xPTo0L7px5xum/uf83lUqpWq0P9jdHt24ulby7/v2Hd//DpwEYcARNl7z/z048cU2zWRcMDJhFw4PT01NZEi8eGX5my+ahoSGJvs7zNA5HhobzJI3jGBEb9Wq3M/1PX/ziK6545ZLly+qNxqOPPtrX6D8U29Gy5qnIjRhjXPI8zTOVoeNLKStVz601xifH3TxjrqxUyhPTrVYYEGJzeDCOYwKQrkQibchIDgCaY3Fy2HVWNBuPzrjbncE6nHY7EEcp5Xju+Rdc8LWvfe38Cy545PHHrr766tHRUcd1oyhCxGazmWVZEASIaIwxxqxcubLdbhPRpZde+rrXve7Xv/51f39/q9XyHHc02Pa5z372h3feCZ0OlMqvv/qql77kJXEcj42NxXHs+b7juhooiiLvSIw8P4hc19XIJqYmhSOnO+1mf9/atWtvvvnm8847LwiCNE1vv/32N77xjYsWLcrz/EUvetGdP/zhnXfeecopp/i+/573vGfNmjXdbldKGUWR7/tRFEVRtHLlSgB4y1veIl2n3KhVKpVOp0NEzWaTENM0JY6HtHRg/3vQiHKtOOee7yCBAGBktj3z9Dv/+sOOK2v1OpcsDMPW6GipXOGcM+BRltc8lzWbDz/wm+WLF/c1+3/zwK9HhhcNNBrbto5e+6EPveUtv+d5bhgGgjPJ2ZLFi1Cri9/33hdfcOH41IQnXRSsXqmNT02UvZIU/mMPPehXSgPN/rEtmwcH+tIkylIlGEhgYXuaoxAIaZpFOle5rlVKI0PDcTdAxEa9fig2omXt0053hHGWup4PiKVqJXdlEARJNxeAjf5mK+gIpO70lHRdTTrXajJoF2tgSSGyNEVDjpBGqVTnxXT71jEBaXu948zaBT07D0kputjsCLTDRXpuEATDi0aY4A898nAn7C5esmR8YkIplaaplNIY43keY6xcLs+2joyNjVUqlSiKNm3atGzZsomJiRUrVkRJfO+9965Yteqn99wDAN/+9re3bt2KnFfrtf7+/mqtlmTp5HRLONLzvGO6oQgAkix1pVOr1QYGBhhjiHjVVVddc801ixcvjuPY9/3ly5enaaq1dhynqKNbunSplHJoaGjdunXFSmpBEDiO0+12+/r6imY5z/PGxsZGFi+KoqjZbPq+r5Qq0lPHcXLS6lDWY+13VuS6bphlSRK5XDBNwLCvWR8ZGPCEGB4YcDx3cnqSkelr1oHxyfGJWqXuAASTU8Chr1rFPA9arVXLlnaCMA6zZr0mBetrNjzPefzxjYsXjwhkjz38EBK1pybjMFyxdMlTT2wqV0vTU1MCIY3jSq28bMmSTKVRtzvY35cqFQVBtVz1HClLIoy6DmepNoN9zczkTz+zOUuTNIkcz9FZikiAZqcplCzrsJk75sgAJEkiJVMKjTG1Ws3lIsxSlLzR3/fIhsebQwNcikq90o2iYt4OxjED4znSq1bCoCuEyPRBXRfROpQYgaN3biCaMyxl+3esQ2ruBaA4JNtBZ3BkuFwurzrh+Os+cf3ll18uSx73HL9c8sulPM+nO23pOoQw3Wnf9ZO733jVlUHYHRoZ3vjkE9J1qvWa7/vjD41vHt2mgbaOblu+fLlG2LZt250//vdly5aB5FOd9nQ3mGi3Gn1NVzBCSLNM8mN7jKFSCgDKfunxJzYGUbho6RKVZhdf8vL/881vDAwMGKJqrXbbbbetP/vsgf7+H/3oR5s3b16xamWr1XI8t9MNBgYGoijqdrut9vSTm54Kwi4AFNu5UqsOjgwro8fHx4OlQb1en5puKWPq9XpncrxYP+4Q2b+PhJAMacYYacMYgDFJmiI5Os9UloBRrfE2Fzg0MnT3T//jW1/7GmzdBmE6dPY5v/e2t1er5ft+cd+tn/w4ZAr66lf/2fvbwfT//dj/AoF/+f/+DdBc9bd/F3VLZb8CpIeHBpDDdGuSIG82akkWSyF/9Ztff/v/fAs2PgarTnj1la9/3mmnR2Fw54///Wff+R5s3sJOOfWyi19+2imnBpQ8+eSTX7/+eohCqFZgeMh3HMf1ulFYKleSPaxOZ1mHyG6vdlLKDJXWmhuTKyUdp1KqTG4drdarQWuaKrW+Sq2vUm9H3emxCaV1pV4DAI9LzbjHZRZE06Pjw4sWKZppUTjiFTM27jPO7Aa7tgzhzDxG1pHSaDSiJBaOHFw0kmTpKc9bF8ZRqz09NjkhhCiVSp7nhWE4NDS0du3aarV60bp1fHj4G9/4huu6SZK0Wi0iavb3VWrVSr122vNP/+QnP/k3f/a+RevWnXXWWeV6TQPlYPoWDQVxVOf9nEkDoNNEHLSp+44M4ThgTKs9vXzlCqVU0aJzxRVX3HLLLc1mM0mSiy66iHN+5RVXQJKccM45f/6hv3BdNwxDzjljbHJyslgt5NJLL73mmms+c+21Z73iFdddd53Wmog2b96sySxZsqRWqyFitVrtRlHRiXlIfyl88Lf3n7R2LUOhCWCH1WENgAZEBaiBZwAK4MZv3zHGBKtWtVIel0yZOOhwoi9+/nNj9/wMwIDW5eed+s53vatSr2zZsmVkZARzuvvff1zv6z/zzOd/9h8/f9krLnne6Wc8+MiD5WrNK3uddveWb9/89nf8AefYbge1WiUOYs93fvj9H/7oczcACvAd0HD1X/55vVL/h3/41FVXvfmM9Wf85Mc/+c4d33nNq16DnN/01Zveec01fc3mT+66+7EHH37XH/7hxMTEpz/96Te/+c1Lly/Ptbrl9tsuevnF/cND0nUmplquX7FtRdZhg4ahYEplICmFrIrwrpdc9JOf3jeZRV69hBrdemUyS7IsS7e1bv7q//7Vbf8XcgUlf+CUky+9/HcuvvSSTCsuRRjHWZZ5jpMlqYP8ySeeeGrjE+e96AJe8Q07KipmbNxnhF5RS5EVESD0cmVOxBnoLPcE6iy/7JzzHnxqg9IZY7bpaI+ot/UYAQIU8/0Rzgz0U2Q456CNi9xkuc/lqced9NunHyc20/myUx9MEASDg4PSdbZt2Vpr1CUXWZYxQ0SktTbG+L5fdO4UQ6pLpVIURWmaFg0ejLEoimqN+ujoaH+zz3XdTqcThuGaNWsefvjhRl8z1zqMo6GR4anp6cnWVN/gQNnzVZQcVVnRbPU34cxOiwScgGliiGuXn/jw048RQGoU85w8z8GQ53lZlhljapVKkiQcWZIkoA0RlUolrbVRmnPuum7RRFRrNuI4juO4XC57nrdt27ainp2IhoaGWq2WMaZarXa73XK5HKcJIYLSReFXrnWSJM3B/m4UEZHkHDLlo3A0rFlxgtNbSfBZ2r+2IiQgIs/zwm43SRKXC8dzPSnL9ca7P37d0NCQECLPUxR8y5Yt3//+nU/+6EfFnC2nvvKK009f19/ff+N119WWrbjkFZeUKlVXSGOMyvM0TjzPIW2QADkjAJTi0ve+96wzzybQQIxA/+K++086+eQTTzxxcmx8/fr1Dz3021artW1s7KUvu3hocBAMnf+C8zY+8tivfvMblWUXX3LJ2lNOCeMoTWOltRAiCIKGbHqedzTtgdbCZxB4r0CEzWkxcF1XShllSdxuR0YNDg6CcYzSH/vCF084ftVka+r/ff/7D91//7lnncmFUJyVXRe1cQkqfokhxtPT3ampvmol1rnu7dM7TP3V66jZYS5TAiQ2d4LT2e9Db3pV3F3cdTVHGw8k7mEn2WlG/pl5bgCQbEp0mCBirVYLwi6E4PqeMaabhgxQMJarnCMbXjSy8fENg8NDnuNuHd02NDD4zJbNfY1mpVadmJhAziqlsut7k63W0MhI0G4bIOSs3mxseubparOR5rkBKlXKrXabcz4wMOCVSp3pdkk4R/pXP3CEwBnTWiulEDHLsjAMHccpl8vF+o9BEBSL3gNikqXVeo0YttrTKssXLVn8zKanpessW7ZsdHzM8zwuxfj4ODB0pdMOOpKLOE2YEGEY+tIplUpREjMhPM/rdDpMHMKexwNZB80oYsRAsG4YV6vlVGktHafWTIAnnahU8kjRr3/7aLUx/Jf/9C9I5r5f3Lv5ma2iVLr0lZe/5OUve2LjU7d8+7bVJ5z0qldfjgY5cMEkA17yykmSpdo4jgOOYzgjKZUiMCAdh5ARMAPMAANiAAyIMWImVw5ygyY3Bhg6npsa1Q3irRNji5cuiXWeG93oa4ZxrLJcZbl0xLFe4GYdQ2jH7pLZYlvkLMpS4UhjtO/7aTfiUVLxvByUluBUvHMvPO/hLz0KjBxXGGOqZX9qYqxeLYdhmOd5qVoCiUHYkb6nkqRcLoOhPEt910ujmIgQwPd9RUYDJFlqgIYWjYyOjta9qkoV5yxOEs/zkiytNRvtoMOE2HWE1CxDQGjjs4272bC9oiLOOahcMq6y1OPCADBAYwwZO05tb2ayRgIEwDltRVwIRiAZR8YFsLxXOEG7TIsw830iAJit8iFtBOMAYAC4lAxgfHKy3mwkWZZlmV8uh3FUbzYJIM1z1/cMQKZyA+B5XhRFXMpca0BUxiDnxhjGGAMgQxIZEHBAFcYl4RxVDUUHoBiRV4z5yLX2SiUASPMMAMBo1/eU0cCLDwkz0qCBCeEJMdlqlasVAzDZmmJCKKOzVAtHGgBNhglBAIZI53kxy2Ce50IIA4CIgh/ai/j+V1tLV2VZMUeTdB3kohOE7TDatHXbCccfPzA8opQaHx3ThpUrDWBy29iW+371a9AmMzQxNckdeeq609AR99/3C+SSc55r2rZ5S63ZEMicsi992U3SThR7joxz5TkOCJbl6YqVx91x++2PPPr4+rPOuOuunzzx1NPPP339wMDA17/+9TVr1vT19f38l79I8qx/ZMgJgn+78wcvfNEFW8ZGH9vw+FSnPTYxIaX0PM/zPG1zIutwKZphZvc4nDMqWGkty15J+nk3SNPU88olzyNtXN8ZnxpnjP3rv35z9erjSaskCj//+c/ff+utwDmMjLznfe972cte9tBvH4iibl9fY9PmZ756000vvfDFq48/YXpq6qN/85HuQw+Xjz/hHe94x+lnntEJOp/+7A2vu/INH/v7/+VXyi998Uu5whe+4Pzly5dnWfaZz3zmzb/3ljiOZ2+8dk2MdujxsfFZx9kdYLaJrpBEMQPjcSk4d6QjARzHMUZpQcf4dfPQ6vU/AiPAXmWEZpBmmSKDgoAImTDG0LNIQMy8497NfQvHej60F/vcFAdrex4i+50VIWeZUsoYBxE5U0YjZyMjIytWrFBabxnd5vv+0Mjw8pUrbr311nv+5cuw+vjh4aHjV58QRslP7vnZIz/4ARDB0NA7rrlGG6g1+7hwPv/+D8CSJW++5pplK1dwRyZKVWt133MNgQHmCJnnef/g0OWved3Xv/KVr197LRx3/Kvf+IYT16zNVXbOeS+84aN/C+Pj4rTTXvva1w4PLeJMPv/5Z/7Pt70d6nVYtGhg2dJyuVquVogoS3NgdrJY6wjYqZZNCBFFEUhCRCklYyzLksnJyf/y5rdCFgPAq9/97osvuth13VKpdPFFF3/w/R/sdrvbtm27+eabT1h1QrVUbVQbGx7b+PFPffIP3vmHq1cd15luf/c7d1xzzbufd9q6LVu2fOITnzh+zZos15nS//SFL/3pn75v8bKlpPQN13/mJRdeFATBI488whjjnCNi0Qx+RDaLVahUKkZlTFOWxpSpGCCO4yxLOXDbibYnNKetiGhOxmnA9zxtDGPMaM2xSJkWcB5iHUz7nRUppUA6vu8LIeIw1FrXarVzXnAuCu5JRwiRpWm7Gxy3+oT3vPdPdZZygfV6bevWbaVK+fVXXpm/7rVJkpZKvhAyy1JF9Na3v43e9jYphRAyTtMsV67jnXjiiVJKIUSa5czjjPFcqzUnn3LSfz+5Xq0SUZ7naZ5XypWLX37JBS96ket6SRIjsiRLh0ZGXvSSF1/6yldmOk/TTBnlen4cx1oZJjgit03S1uGBBFTMar3LLuc4TisIkJjjukQ6TVMfoF6v/+3nPn/SySdGUXTbbbd9+lOfet/73pfE8dObNv3PD34Qoggcp2/NGgQQnN/yqU/d8nnvjz7y16ecckq7Nb11dNtdd9551003QbUKcQzlysaNG5etWtntdv/y2mv7hgaiNCGlTz751F/+8pdnnb3+3nvvveKKK6TnGiAA3Ev3mXUYGGMQkXOGjuMy4QP4vi8EyymH+a8L+RyMAADAi4bY3j5sEIwxRGSMIaU1m+mmpKKFxu7q1l7td1ZkAAyQEIIQlDEGgAm+bNmyMAyVUowxx3U555xzrXWKqHSWaj20eAnnuHXraL1eHe4fbLdbmSHiPFXG912jqRNFWaYqtZomzbjoGxxijOVJanKtNBGwerPRmpz0/VKSqdHR0XK53NfXNzEx6XlelueAojEwkCRZEHa6Uy3hilY7cDzpuH7Fk0EQOo4rJBoEY2+JrSNk7hlZa10ul323FGdpmqZCuJ7nDQwMCCHCoDs5OfnqK141Pjr2zKanO53OQ7998Iav/e9FixY9+OCDN954Y6NWf2LDxjd94L/W+5q33X77yuNWLRoeAYDhFcs/dfPNGzduXLRoERBleb51bPTM9eszlXc6nSTPRgaHzj///E98/PrlK1dEcdzs7yuWMRKOA7t0n9k768MpDENHMOl4QggGTAFEURRFXb/sAQIR2LjbaHr9ksVQKeitNJdnyiAwxiDXrsM555Id41MDWYfLfo9RL+bYVUoVs1UKIbpRFCUxl0I4kkuhkIIoHJucCKJQeq7r+5mhqU57st1xyyWNbLI9rQBRisyQ9D0FON0N3HJl6coV3JUoeJbncZJFUaQJpetoAgO0dXTMr1bSXAdxtHrtyZVatTXdGVqyCDirN/tTlW8bG59sTQ0MjfQNDAjpliplJmScJmEYR1FkkBFD201gHXFF7lFU5hFRmqa+75erlXYQbNiwgUuBnA0MDd73y1/c858/W33SidJ1HM9N86zVnv7Pn98bhN0t27Z6JX/r6LZzzjnnzDPP/OSnPxWnSblaBYa3fef2dc8//ZmtW37ys3syrUqV8qOPPjowNOj4XqPZnGhNVeq1k9au+ca/fmvFihVCCAPk+n6ulW0rOrI8z+Oc53leDFrWAK7rNmt1zhhHxmzcXWSM8eKBvYhMIGOM+b5Z/AGKAAAc10lEQVTv+37J9aSUgnHGGBmTgp2sztq3/a8rQtRkAAGAmOCImKapUbpUKiFAnueMsUqtmud5nueEkGpdLpdzbYwxwyMj7XZ7bGJyYGBgbGJy1apVSZJMTk6OLF4ShuGGJ570y2XHczXpLFek83LZZUzEceoI3tc/SKC1AUK2bXS8UvYdHzdvHUVDTqlcaTSLicPHJiaVUq7vAaDWBpFz6fplNIRZlmmtPcfWFVlHwK5NL1rrJIqMMdVKxWQqy7Jmf9/7rr4KVAac19eufcMb3xhG0fIVK5I0/dOrrwbfP+dlLytXKqVyOeh2S+VyptUrXvk77TC46aab3vj6N1x59dXXf+hDX/nI38DQ0PNe8IK+oUEp5dDIsO/7k9MtLgQAaGPWn3vO9ddf/5rXvrZWq4VZUpQWHYEtYs3BGCOtAQARPddzAVYuXeGB7e3fGypKi3o9aLz3TdPbbgiQgvaAG1BcGX//r3fWc9B+z+I4Jf1QcMdxtNZoSAihlBJCpHHiuq7KMmNMMXdTmqalUkkThXFUq1RzrZIoFo70HDdTedkvjY6PVcuVYqqoNM8atXo3CpUB13WNMVmWlX2fiMKgWy6Xi8Vo8jxvVGvT09OlUilLUsdxkJHWOkkSAKjVappMMaMU5zzXGhF930/zLMuyYgmbNE6O6Aa3nlsMMcGZURkKyiirArzzZRf9+Kf3RQ4qB9I4I8lFudyamFxVHUzbHY2mXCuHQeD6vlFKE3mOo4zhiBNTU8uWLJmannalTPPcd90wjp2S1+l0apWqUkpKWQznTtMUEZv9fVNTU67vtTpt6TjlWjVPchfkbbfdNjY29q4//qPJ6Va1XpvudPxySe3StWx70A6F2TF9hACEsyPzGRFHcpkwKuEGLlx/9oZNT5g8M8wOmt0jmjOyj8+pttYMtDFMcMG4yvMyd9CQ0LR81YrHtzyt7Sbds/2axTFTudj/7qYDwHtHzczwNAYG4GiZxREAEJExVqx+gr1lUJRSXAplNHLOOU/zHAC4lGmeEzLheEmWGwDpegYgzZUB7EaxX66a3vxmXLphnBByzmd+phCi+DnFnAdcCgPEpejGkXCdTCsmuDIaDACg4/oAkKS5QQDkyLkB4JwBQJLlACilCwBJktmbYutwmru/zZ3FUQMpbYSUmkGappVKJUkSISVx080y5riJMQyZYRArbRCYoVKj0eqGJGVGQFIm2qDr5pr8clUbQCaUpmLJUeG4ANAJQsf1NUG5Usu0arcDrfUfv+FNx7/gvDe96U1a63K1EiWJMtpxHJXE29+zzYeOBERMksSVqFTuABQLsx+Wi84CxBjTWhd7stZaZznnsswP4eJZ1oKx33Nbz2LzOHXOFiscxPkJqDd3/uxc77N2HcJqqyWso58pFjJDIESNTLOZdpv5xGKVg9ljQffG5hhjsGj7RSzKThnniPi5b387SRLP84IoRM4c1821iuakRJZ1bClWkZtdS86e861n6UD6Wdmc1QDmwexXkxabxyJlc/d7s9dsyt71WkcWI2AERPO6izAzM/POt31g7gJbRfPybCxajYiADAAgIOecIQPhOo4xxJAJjpwXJataa865OYDBF9ahZ89he0K4mzth6PWszRwIxai03uJolrVP+30aZL1hkPMx+7Re3/k+4nyuHDuyPcTWMaY4jc/u6jvt8mZ/HrO3BzvNoWwACNEwLObRKBaNKPq+JyYmkjwzQJoojuMg7HIparWaPZCOQsWF/GiYkvvojNAruKbehtopTzJz/8luN7Fl7eKA2or2/Fe7nlsRTLGg8XwiwB533r21i+IeT+m7plm2o946zIq7iPk3W85/B0UCA8B27KeGopeZMUAgbQihWBYNEQ1R/+AAGErzrJhTW5Mhok63u+swNLT9EUeB4jLPwMbdx7nmLoRsEIiKu4GZ75s9rIBmWTvZ/2rr/U+5cd5x/+1f95xlHWY7HS+73VsJt09+vduJsOdjduQIzGRFCETAtic7RAQEU1NTrutqIt/3kbM4TQxAHMelUulAXtU6LGav6zbOjbMrfmBxL7G7A2fuPyGb5VvzcCBtRbtNjIq9bTe3uQQH3M8191Zg7s68mwagOXZtH5qzIqNtKLKOmF1PyLueo5H2L88vduhdDzCioqAId3hdolKlUvK8bhRprbM0SbK01mg4jpNl2f68rHWY2GqYAzCbMM3OYDQzFYJlzcOBZAl76eXd1wvtMx5w1rK3n0zICOFZ/HDLOhCzO9z28ufZxZiKlZtoJsKOmc08j5bC3I6z2VisA4VEDADnyPM8ybI0TYGh7/ue5zGAMAyfzbFnHTpFacE+H/N0wP9wtz/h6EFzbqFt9vMs7fM8MDfFXJBbe7/PhDsNdZmNe34wg2y+cccH0O4fOOcBxAB2iHv6+YTMFhVZR4pB0Gz7rT8j4AaEmRlaDwCagWG9itE9H2i7jXPPU0UNEwMsBkaAoe0PACZ4rpXjuVrrLMs4sjzNXClni5/mNKwuzFPeMcaQJ50kCF0mPCa4JkpzpgxThtLcQV5x/SxOGGKWpoLPAADOeZokUgjBORmTZxkCOFw4XCRh5HBhcuUKCUTF85VSvu/HcSylLJaqJaJigdXiZ+Z5LoXwHTftRgKZQAa9ejXGmJlT5jyfNO6gPPa98WxL28Ewe1Nnegno7MlnQTrALGH/5hkqBtvPJx6Y+f38hfoRWseEXVtVcc7oy5nqh13Kg+YZd2v+JYB2AoujVhRFgvFGva7yPO6GrpAcsFmrl1yv5HrM0PjYWF+jKRnvqzeMMSrP4zjmjKVJUq1WwzA0xrhCNmt1yXgYdMFQrVLNkrTk+dNTLc/zgiBwpHRdN+x2K5VKHEWO42Rpyjkv+T5jTOU5ADhS5nne7QS+54GhIAj66o1ut+s4Tp7nR3o7WQcB2/FU8Jw9Ldi2E8uyrKNUqVSK0yRXCgBqtVq32/3Qn//FC884c3TrtiAIPM8bGhq6+667Ln3xS/7kj69Jo1gg8z0PtEFDHLDil9CQztX0VIu0QYA4ijzX5Yy1p6c/e8MNT218oq/Z9KQTdDoOF2TMV7705e9997sVv2S0VmkmODe5isKQEbhCcs7L5bIxplwuT0xMVKvVNE2NOWZuOZFmCjXsY9fH3E2000Yr+vrZnHs5WLjZw0L9vSzLso55juMUfVhJmuZGDw4OLlmy5KWveMUDDzzgCDk5PpEnaXuqtXbdunqt1qjVJRcl6aZx4jlutxOUPN/kKkvTcqlUctwlI4scLqKgS0p70iGla5Wqy8TE2Djkul6teVyObRvlBvI0k8DAENPEkZWk6zluGHR/df/9v/u7v9tut4moVCrlea61rlarR3o7WQcB0vZZA2f704sUYW4yBLu0Ki0wNiuyLMs6SnW6QaZVtV6rVqt5nk9PT4dhuG7duh/94M6BZl9/o9ntBD/76T3PP3WdIFRJ6jC+ZfNm3/P6mk3PdZ/etMkVcnhgsFGtbXx8w8TYuCOkynJXOmHQLfslh/HJiQnXcQYHBjrtdhxFq1au1Eo5UpIx3SBAgJLvIwBDLPn+unXr7rjjjoGBAaVUnuec81KpFIbhkd5O88XmXO/tY6fHrLnNRbOpEs7OLLhw86GCzYosy7KOUoODg4yx8fHxIAiISAjhuu5xxx3HGHvggQfGx8cnx8brlepJJ6w2uSp5/qMPP/Llf/ri5Laxsa3bOpOtL37uxqef2tSZbv/0x3f/j4989HdeeP7F51/w7j/64+nJKV86UdD967/68GtffskVF77kf3zko0wTGkq7kWRcxenE6Njf/c1HLz31tIvXnHzth/5y4yOPScYfeeSRN73pTVEUMcaK6uwkSRzHOdLbyToI2Gz7UK+ViO0hDdptLrVg2KzIsizrKNXqtKWUjuNUKhUpZZ7niNjfaK5ds2bjhg2DAwO//tWvVixf7nseQ2xPtSp+6YkNG+uVatkvVfzS1mc2V/xS3A3/4TOfee1rXvOtO+74l69/ffHIoiSOw6A7um3bBee98F+/892vfvNbTz+16fFHHnWEdLggbXSWM8A3X3X1nb998Ae//s36M8965MGHsiT1pFOv1xGxUqlMTk4ec3VFADMtH/ax62NPcE49Fu7nhGrHIpsVWZZlHaUQkXEepUmaZ4BYjKLPsuzkk0/++c9/nkTxY488esYZZyCi7/uOlJ7nmVwRkUAWhqHjOJyxxx97bP369RdddNHQwGBfozk1NQWGRkZGBgcHL3zRi3zHPf7445ctXrJ48WI0FASB77iDg4OedG666aaLzlr/0tNOu+G/X7thw4ZKpdJqtYqh+0EQ9Pf3p2laLpd3XS7mqLUg2zYOouKDxDmlRbu1/yuWHksOZG5ry7Is6zBwXTfNMq21V67EYVR2vW63W6pWKpVKkqYPPPjbTOVLly7tdrtplgkpwzCsVCpKKQAomnDiOCYizjkiaq2TJPE8r1qtTk5O1ut1KWWWZUUvWBAEtVpNKcUYC8Pw1ltvXbNmzbXXXlsul2+99dZHH31Ua91oNFqtVq1W63SDouEqz3MhjpnryJrlJyzoC/qzxXpLR+g532EAHCClFAGUUugIxpghYowtyPmgjpm92bIs67kmTVPdm1MRAIIo9Er+5OTkmtUnrlmz5sYvfOH888+v1etplgVBYBDckg+cjY+PV+q1u+++e8OGDfVGI82yn/3sZ6effvrZZ5/9zJbNrVZrsjXV3+ybmJhQWo8sWdxpTQdRWCqVHN9DxDCJAaDdDc543ukG4cknn7z7p/+xdNFiIup0OuVyOY5jxhgics6V1lrr7WsUH90efmbDAa9A9VyAvTWhTW8SV26AEfjCQaIVi1cQkeBcFU8jwoXYn2azIsuyrKMXY8xxHER0HCcKwzVr1ghHZlqtPP6427/33TPWnzUddKI8bQ4NGCAuxarjj3vXm64Grc542cVLVyzfOjZ68sknv/Lyy9//gQ+Y8fHy8uUjw8Oe7zueu2z58iTPgrA7HXQGhgYzrVrt6f6hQeFI4OzyV13xgf/y/ul3Pzy87nkvvOD8OIySLM20Wr58eRAEjudmWcYEZ0SMMX2MNBporQ3arGj3Zgur52ZFYMAQdLPQEZIAuRTIGCmltdFGM74AU4gF+CtZlmUtDEIIQ0TGpCp3pZSOc9Y5Zw/29SujL3zJi09cc1Kj0Ziamrrslb9z1jlnZ0ZX6rX/9qG/+P0//APP83zfHx8f9x13y7atx6858evf/EapVBodHb3++uuF64Dgr3397y5asjhM4sUrlr3+yjcODg4qpV7xqsur1Wo3jZsD/Xfc+f12u51lmeM4Rbfaueeee+KJJw4NDRFCHMcIoLUGgGOlrajoSTzS7+LoVRQMGQTWW9ADGTACyYUjZFGGrLVWRoPgnAtaiMPQbFZkWZZ1lDLGGCIgyvNcMk5Ei5csQQAp5ZNPb2o2m9x1+oeHJqdbBoFzhow9tWlTuVxGxh57/PHVq1cLzienW5/9/Od+893vQX+/LJff+973MsH7Bvq5FNPdII5jZKzZ15dmWRzHff39xUj7qampsfFxRKzWapOTk1rrer1eFHRrYwhBKeU6kjEmhMiN3ufvcjTItbaLP+0JEhABFGsy9r5ZrGZtNCGiBsiNZoRExBljgqtsAS72YrMiy7Kso5Qxphh6VqzYqskYY9I0jaemVqxc2el0tmzbOjAwAJw50ovjONOq0qw7XGRZ1j84kObZ4xufXrp4yd997GPqox/Ns8xxHKVUs9l8bOOGgYGBJEv7hgeTMAqisK/e8CVXWqs8Nbkq1asqzdxy6dHHH1u6YjkaSvNsenpaCqGNcTzXGFNUFx1DrS9CCJsV7cXM6DMEPWe1aU6g8lQDMQDOORcCSGsyOjfHzAe/P2xWZFmWdZRCRGSMc661RkQhRLEUq+d5cZpkKvfKJcOwNd2RUjabTdAmCIIUUkRknKUqbw70cym6UVgqlYoSJRPHhqjRbDLOuSMJIDcaEHOjkbHc6DxLfc97+plnlixenOX5catPGBsfHxkenh7tjAwN5VnGhTBART6UZZnWmslj41KijDZks6LdK6YjIgQzZ9lpJCAA6TpcCAOAjBFDRDREyhiH8SP6lg+JY2NXtizLeg4yxgAREGmttdZFVuT6nuu6mzZtWnHcqqmpqTiOm80mEU1PT5PS/f39URSladpfr7fbbSFEJ+wW81AbY4QjmeBB2C15fjvo1JqN0dHRSqWyaNGisbExRKxWq5AkaZaddNJJExMTRUJWKpXGJyaazWYURUEQVCoVA5SqXJAjpZRSzlQXHfUYYwtx1NRBg70piwiBcPtSaEaZPM8zUHEcS/QAQAjBAEAdG5/7frFZkWVZ1lFKIDMIxVofRe0OCp5plUWqOdDf6XSKuYJUmgGAKyQKGYUhALiO0+12OedExBjLtGJSMIBMK2CIjKd55vhekiS1ahUAOu2257oAkKUpQ2RCtKenZTERERECeK6bpikDKFcrBECIjuPkec4ZM1ofK5kGEdExMlzuiKBeLB6zXyEBALkgfM8zBGAMEmiVc1yAE0HbrMiyLOvYdgBJyYGVhCzMQhJrjn32L86d83rhDUADu+KHZVmWZVlWwWZFlmVZlmVZADYrsizLsizLKtisyLIsy7IsC8BmRZZlWZZlWQWbFVmWZVmWZQHYrMiyLMuyLKtgsyLLsizLsiwAmxVZlmVZlmUVbFZkWZZlWZYFYLMiy7Isy7Ksgs2KLMuyLMuyAGxWZFmWZVmWVbBZkWVZlmVZFoDNiizLsizLsgo2K7Isy7IsywKwWZFlWZZlWVbBZkWWZVmWZVkANiuyLMuyLMsq2KzIsizLsiwLwGZFlmVZlmVZBZsVWZZlWZZlAdisyLIsy7Isq2CzIsuyLMuyLACbFVmWZVmWZRVsVmRZlmVZlgVgsyLLsizLsqyCzYosy7Isy7IAbFZkWZZlWZZVEIQAQAQAAKz4CgGKPwMDQACEnbMnm0tZ1r6Z4hAiBABugBPjCAZAIwMwzDAA4MQYATNYHFaMjOkdftbCwwgBAAgMAiEwAijOsAAz51VivWcCIyCyZ9s9MsW2RDAAjECzmSOn2LZkZp7W2+RAAAYN4e5/mgUAhgB6W2wWFdsTQBebEbc/4VBvTJzzfkzvpc0uTyveHgEYAP6sX1RoZjSCAA1ACAKBgBCAkTIoRZopkLx4HxyAIxGRsSdty5oHJMY5J0Muc4zOKihdhBCAJOeEOPMcLClmgDFiiAYBGe161FsLBCNWZD+md5EGMACADHWuBGNgjO/4OQASB4OcqHfTau1MMyAEDWDYzJXS9BIgrbWUgjOeaaUIkAMJnHkm2uNr99iOO9psRmIAuC+zJNUAKeRcSlAQRd1KrZrk2aF+P9g7WAjB4EziyxhDAgakjNIMgECB5sDFwXhdQQhU3NMi9V6dAxjkAgC4IzSAAciNkYxlSczcCmP27sWy5iXJc45EyBiAYAigHQAlUOcEYAiYIQAiQtJAhMRJAxIQ2rgA40zDIRlghMYQEBAgEZJRmkgxLjVRppUAMAy552kTH+ld+Gi3/eKN29uKEFEpxZCQiCNqbRQoBcYYY7OiPSJAgl1bfwggz/PcaAOQaeVohogIoLIcjDGHrrmIgBEgzXyyO3zEWjMCEJIj48gYAwac4OA0swvo3bvsxBhiDIvGKAPgMUYAruRtrTQ++zYqy1r4DABIZgAMM5TnmkCnUQ4wlUyXPB8ACIiQAEAjAZFBMARHxfXbxkOTFRlDAEBIBokADBIAAgJjDAxDR6g8i6I4AwjyWEiGDA7hVecYxwCQgBetbgTY69nhBI50VZYLQikcXzipBsm5C8zn0mZFe8H2kFYYY4TjMgBXSMmFEIIRMEAu5CF9M0jAet3Ns7kRAORpxhAFoTZktCJtMkg5SDwYHc4CYDe5IQAwhsYAMoCi3qjoUyQjJAhhgBigjTbauNcIwCQjIgZaEQgOOtMAIAQjUEXzMAEYEERgsOhYMUgGQAOBjQstApu5IJMmAMKib8wAAeOYG21IERhjNAHkJgfijNucaM8IOM20FRW5o+klRpTmJkkNMkJuBOg4FVIKABNnhDYr2iMNAL3S4rlRK+X5PkEOuVa5RseBTCmiQ9pxpAEY9cqJ5ny4AFByXSRwuVC5EYAExgMpDlINnsCZ3BCBEJBtb4LaXnM9kxKlSmultEoUqiN/vbHRxqM+IoDJCQwZUJwMl8xDLQBKkpPKAQCAGQQCMgCEDADQFhUtXAw0GgJgAIZwtvLXEAIagDQBYwSgdBwBUPNcIVhuVK8CzdoZJ3B7WVFxOaeZ/4ABKu44jCOBAwyBe0wKAJ9LmxXt065ZkTJQdX0HWM0rpUkiCDkTgEVP2iF8G7N2yoriIEQC4IIyxaXDETkAHqSBYNuLk3b85bb/cNNrKxLIVi1ZQkHXBWQAxkYbbdxrBADGmAGDhJxzQUSMp3nopxljrKggJGLFAT+3S7xoNLZxgUUAhkQznzuAISQkAAZoOLIMuKOBoXEYNyaVaQ4pyd2NuLEKnADNzOblvbrgghRCIpfEjNKSEQLjyhBoqbXdnntBe0hyyABTJklDYSDXhKDRGCEE6INSyTOvN8Zwe29yo1QBbQQwYtoXDhmDQGQUsINQb40PPPirNWvWcGSGDEMBRDND24gMEDKWG2IMi0x8rN2t1yt6d7mkjTbauFM0vQcByOILMh6yotKkOAKLczTNiXAUvHMbD0WEXiw+a4LtV3ExZx/gAE7vawSbFe1bsenmHkoaDAMmAXKde1wCQJKlvuMaO6Jvr/a0sxEQ67WVaNAMmAYtikHrh+uNzT1eEJBAM0BjlGQ8jeJqqUJAYvsRduD2llgxxghAa82YUJokx0X1ymw/rmVZe6cZqKJtn0AgkAGGTACkWeY57uz1EuyV7zljtprV7Hg90QYEA+hVEKdJ5roOAADCwTjPL0wEoPdwXwHAii3HcGa0tlDEHeD28rVnxfw7e9g+aMAAAAPGgRdfMAB+WPbO2Tc2970RIAeGTDJA4IIBJHEifP/Zv5wAYDMPAsDt9zTAZv7vSWEA3NmiP9xjI5tlWXNxAg47nrANAIDHJWjTazxgALBzTe3R0LJh40GPs7vB7Cfe+9wFzLm8E7jSsZnyPiEDweZUFO30twAAINnMlazse7CHZ1qFYkPtafvwHYt2ij8e6uHoZua1AHbzxopPFhmA73oA4B+MlAj23la0/cV3aLmyu5VlzdtO97AEMFPsWcTesUUAxHa47yIbF1yE3V155uZMO/2VtXcEQDP55Z6you1/RzOb2hav78nMHAe9s9I+Ixz6dky+y/Gxk50/5YPxhgQSQ2KztaEAO8ziNPvl9k1g7HFrWfODvcdsMrT92GE7P5MMIADt+H1rYcN9nfWtfSIA2F2us9MmxT1835qFgL11vuYTZxzi7YkIQHvOZQ/Bq8+3YBtn34Ed1mhZ84QzvdLbTyF7uZVBALBT9j337NiVZs0fm9t3YXOdZ49mEiOAecWZf3IY3tXcF9p7P9/BML+saM4bUvbEbVnzw3a+2DHYa1MwARhbTvKcwXb509zPnno7j2083JP5LgVqL1iHzqHetrueLvfWV3pw2CPOsg6h3liGma9hd4cwzrkDK4a/zn2+jQspztrtmXfuN+emRPO/fX+uxX2zKdHCdgg+315dEcDsIblD0dJMXta7hyEQdiezrHmaU0VUDEbbaeTRbmpKEAjYfMYz2Xgsxtlz6a7n0WIvmF16Eub88ci/76M27nQ0zTmOdn8gWseUmXKiPX1+vU+Zdv7Gs7L/E0Hqg/GylvWcstOJe/aETrs54NHGBRx3PW33doC5fzs79Gb77kE27iHu60pYPGt2zKe1wBz0lPf/AykETq74RpXcAAAAAElFTkSuQmCC)"
      ],
      "metadata": {
        "id": "UmGqQIWNqx_D"
      }
    },
    {
      "cell_type": "code",
      "source": [
        "#Ratings vs cost"
      ],
      "metadata": {
        "id": "jBgxfagGqynu"
      },
      "execution_count": null,
      "outputs": []
    },
    {
      "cell_type": "code",
      "source": [
        "'''\n",
        "Summary/Recommendations\n",
        "\n",
        "90% of observations belong to India.\n",
        "USA(4) has higher ratings than India(3.5) and a majority of Indian restaurants have 0 ratings. Either Zomato should nudge customers to rate or these are newly onboarded restaurants.\n",
        "US customers provide ratings more frequently and consistently than Indians.\n",
        "Popular Indian cuisine is North Indian owing to4 major North Indian cities and for the USA it’s all Americana food.\n",
        "India and US have moderate food prices as compared to the rest of the countries.\n",
        "Better affordability has led to restaurants offering in price range 1 but this could affect Zomato’s unit economics. The average price range 1 is Rs 284, except this, all the rest price ranges provide positive returns based on previous analysis on unit economics.\n",
        "Positive relation exists between ratings and the average cost for two, this could be because of the assumed notion that premium restaurants have good ambiance or better service, whereas regular restaurants cannot provide such an experience which could lead to lower ratings.\n",
        "Provide reservations and online delivery to receive valuable customer feedback and rating.\n",
        "Nudge price range 1 and 2 restaurant’s customers to vote more number of time.\n",
        "Dine-in without reservation is cheaper for price range 1,2,3 restaurants, as no commission is charged."
      ],
      "metadata": {
        "id": "iTTWY-3LrJiN"
      },
      "execution_count": null,
      "outputs": []
    }
  ]
}